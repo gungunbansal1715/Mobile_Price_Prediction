{
 "cells": [
  {
   "cell_type": "code",
   "execution_count": 1,
   "id": "e63d2c77",
   "metadata": {},
   "outputs": [],
   "source": [
    "import pandas as pd\n",
    "import numpy as np\n",
    "import warnings\n",
    "warnings.filterwarnings(\"ignore\")"
   ]
  },
  {
   "cell_type": "code",
   "execution_count": 2,
   "id": "173a0df3",
   "metadata": {},
   "outputs": [],
   "source": [
    "df = pd.read_csv('dataset.csv')"
   ]
  },
  {
   "cell_type": "code",
   "execution_count": 3,
   "id": "40f56ff2",
   "metadata": {},
   "outputs": [
    {
     "data": {
      "text/html": [
       "<div>\n",
       "<style scoped>\n",
       "    .dataframe tbody tr th:only-of-type {\n",
       "        vertical-align: middle;\n",
       "    }\n",
       "\n",
       "    .dataframe tbody tr th {\n",
       "        vertical-align: top;\n",
       "    }\n",
       "\n",
       "    .dataframe thead th {\n",
       "        text-align: right;\n",
       "    }\n",
       "</style>\n",
       "<table border=\"1\" class=\"dataframe\">\n",
       "  <thead>\n",
       "    <tr style=\"text-align: right;\">\n",
       "      <th></th>\n",
       "      <th>battery_power</th>\n",
       "      <th>blue</th>\n",
       "      <th>clock_speed</th>\n",
       "      <th>dual_sim</th>\n",
       "      <th>fc</th>\n",
       "      <th>four_g</th>\n",
       "      <th>int_memory</th>\n",
       "      <th>m_dep</th>\n",
       "      <th>mobile_wt</th>\n",
       "      <th>n_cores</th>\n",
       "      <th>...</th>\n",
       "      <th>px_height</th>\n",
       "      <th>px_width</th>\n",
       "      <th>ram</th>\n",
       "      <th>sc_h</th>\n",
       "      <th>sc_w</th>\n",
       "      <th>talk_time</th>\n",
       "      <th>three_g</th>\n",
       "      <th>touch_screen</th>\n",
       "      <th>wifi</th>\n",
       "      <th>price_range</th>\n",
       "    </tr>\n",
       "  </thead>\n",
       "  <tbody>\n",
       "    <tr>\n",
       "      <th>0</th>\n",
       "      <td>842</td>\n",
       "      <td>0</td>\n",
       "      <td>2.2</td>\n",
       "      <td>0</td>\n",
       "      <td>1</td>\n",
       "      <td>0</td>\n",
       "      <td>7</td>\n",
       "      <td>0.6</td>\n",
       "      <td>188</td>\n",
       "      <td>2</td>\n",
       "      <td>...</td>\n",
       "      <td>20</td>\n",
       "      <td>756</td>\n",
       "      <td>2549</td>\n",
       "      <td>9</td>\n",
       "      <td>7</td>\n",
       "      <td>19</td>\n",
       "      <td>0</td>\n",
       "      <td>0</td>\n",
       "      <td>1</td>\n",
       "      <td>1</td>\n",
       "    </tr>\n",
       "    <tr>\n",
       "      <th>1</th>\n",
       "      <td>1021</td>\n",
       "      <td>1</td>\n",
       "      <td>0.5</td>\n",
       "      <td>1</td>\n",
       "      <td>0</td>\n",
       "      <td>1</td>\n",
       "      <td>53</td>\n",
       "      <td>0.7</td>\n",
       "      <td>136</td>\n",
       "      <td>3</td>\n",
       "      <td>...</td>\n",
       "      <td>905</td>\n",
       "      <td>1988</td>\n",
       "      <td>2631</td>\n",
       "      <td>17</td>\n",
       "      <td>3</td>\n",
       "      <td>7</td>\n",
       "      <td>1</td>\n",
       "      <td>1</td>\n",
       "      <td>0</td>\n",
       "      <td>2</td>\n",
       "    </tr>\n",
       "    <tr>\n",
       "      <th>2</th>\n",
       "      <td>563</td>\n",
       "      <td>1</td>\n",
       "      <td>0.5</td>\n",
       "      <td>1</td>\n",
       "      <td>2</td>\n",
       "      <td>1</td>\n",
       "      <td>41</td>\n",
       "      <td>0.9</td>\n",
       "      <td>145</td>\n",
       "      <td>5</td>\n",
       "      <td>...</td>\n",
       "      <td>1263</td>\n",
       "      <td>1716</td>\n",
       "      <td>2603</td>\n",
       "      <td>11</td>\n",
       "      <td>2</td>\n",
       "      <td>9</td>\n",
       "      <td>1</td>\n",
       "      <td>1</td>\n",
       "      <td>0</td>\n",
       "      <td>2</td>\n",
       "    </tr>\n",
       "    <tr>\n",
       "      <th>3</th>\n",
       "      <td>615</td>\n",
       "      <td>1</td>\n",
       "      <td>2.5</td>\n",
       "      <td>0</td>\n",
       "      <td>0</td>\n",
       "      <td>0</td>\n",
       "      <td>10</td>\n",
       "      <td>0.8</td>\n",
       "      <td>131</td>\n",
       "      <td>6</td>\n",
       "      <td>...</td>\n",
       "      <td>1216</td>\n",
       "      <td>1786</td>\n",
       "      <td>2769</td>\n",
       "      <td>16</td>\n",
       "      <td>8</td>\n",
       "      <td>11</td>\n",
       "      <td>1</td>\n",
       "      <td>0</td>\n",
       "      <td>0</td>\n",
       "      <td>2</td>\n",
       "    </tr>\n",
       "    <tr>\n",
       "      <th>4</th>\n",
       "      <td>1821</td>\n",
       "      <td>1</td>\n",
       "      <td>1.2</td>\n",
       "      <td>0</td>\n",
       "      <td>13</td>\n",
       "      <td>1</td>\n",
       "      <td>44</td>\n",
       "      <td>0.6</td>\n",
       "      <td>141</td>\n",
       "      <td>2</td>\n",
       "      <td>...</td>\n",
       "      <td>1208</td>\n",
       "      <td>1212</td>\n",
       "      <td>1411</td>\n",
       "      <td>8</td>\n",
       "      <td>2</td>\n",
       "      <td>15</td>\n",
       "      <td>1</td>\n",
       "      <td>1</td>\n",
       "      <td>0</td>\n",
       "      <td>1</td>\n",
       "    </tr>\n",
       "  </tbody>\n",
       "</table>\n",
       "<p>5 rows × 21 columns</p>\n",
       "</div>"
      ],
      "text/plain": [
       "   battery_power  blue  clock_speed  dual_sim  fc  four_g  int_memory  m_dep  \\\n",
       "0            842     0          2.2         0   1       0           7    0.6   \n",
       "1           1021     1          0.5         1   0       1          53    0.7   \n",
       "2            563     1          0.5         1   2       1          41    0.9   \n",
       "3            615     1          2.5         0   0       0          10    0.8   \n",
       "4           1821     1          1.2         0  13       1          44    0.6   \n",
       "\n",
       "   mobile_wt  n_cores  ...  px_height  px_width   ram  sc_h  sc_w  talk_time  \\\n",
       "0        188        2  ...         20       756  2549     9     7         19   \n",
       "1        136        3  ...        905      1988  2631    17     3          7   \n",
       "2        145        5  ...       1263      1716  2603    11     2          9   \n",
       "3        131        6  ...       1216      1786  2769    16     8         11   \n",
       "4        141        2  ...       1208      1212  1411     8     2         15   \n",
       "\n",
       "   three_g  touch_screen  wifi  price_range  \n",
       "0        0             0     1            1  \n",
       "1        1             1     0            2  \n",
       "2        1             1     0            2  \n",
       "3        1             0     0            2  \n",
       "4        1             1     0            1  \n",
       "\n",
       "[5 rows x 21 columns]"
      ]
     },
     "execution_count": 3,
     "metadata": {},
     "output_type": "execute_result"
    }
   ],
   "source": [
    "df.head()"
   ]
  },
  {
   "cell_type": "code",
   "execution_count": 4,
   "id": "474dc8a2",
   "metadata": {},
   "outputs": [
    {
     "data": {
      "text/html": [
       "<div>\n",
       "<style scoped>\n",
       "    .dataframe tbody tr th:only-of-type {\n",
       "        vertical-align: middle;\n",
       "    }\n",
       "\n",
       "    .dataframe tbody tr th {\n",
       "        vertical-align: top;\n",
       "    }\n",
       "\n",
       "    .dataframe thead th {\n",
       "        text-align: right;\n",
       "    }\n",
       "</style>\n",
       "<table border=\"1\" class=\"dataframe\">\n",
       "  <thead>\n",
       "    <tr style=\"text-align: right;\">\n",
       "      <th></th>\n",
       "      <th>battery_power</th>\n",
       "      <th>blue</th>\n",
       "      <th>clock_speed</th>\n",
       "      <th>dual_sim</th>\n",
       "      <th>fc</th>\n",
       "      <th>four_g</th>\n",
       "      <th>int_memory</th>\n",
       "      <th>m_dep</th>\n",
       "      <th>mobile_wt</th>\n",
       "      <th>n_cores</th>\n",
       "      <th>...</th>\n",
       "      <th>px_height</th>\n",
       "      <th>px_width</th>\n",
       "      <th>ram</th>\n",
       "      <th>sc_h</th>\n",
       "      <th>sc_w</th>\n",
       "      <th>talk_time</th>\n",
       "      <th>three_g</th>\n",
       "      <th>touch_screen</th>\n",
       "      <th>wifi</th>\n",
       "      <th>price_range</th>\n",
       "    </tr>\n",
       "  </thead>\n",
       "  <tbody>\n",
       "    <tr>\n",
       "      <th>519</th>\n",
       "      <td>1928</td>\n",
       "      <td>1</td>\n",
       "      <td>1.8</td>\n",
       "      <td>0</td>\n",
       "      <td>9</td>\n",
       "      <td>1</td>\n",
       "      <td>19</td>\n",
       "      <td>1.0</td>\n",
       "      <td>187</td>\n",
       "      <td>3</td>\n",
       "      <td>...</td>\n",
       "      <td>691</td>\n",
       "      <td>1580</td>\n",
       "      <td>3777</td>\n",
       "      <td>7</td>\n",
       "      <td>2</td>\n",
       "      <td>13</td>\n",
       "      <td>1</td>\n",
       "      <td>1</td>\n",
       "      <td>1</td>\n",
       "      <td>3</td>\n",
       "    </tr>\n",
       "    <tr>\n",
       "      <th>889</th>\n",
       "      <td>1829</td>\n",
       "      <td>0</td>\n",
       "      <td>1.7</td>\n",
       "      <td>0</td>\n",
       "      <td>0</td>\n",
       "      <td>0</td>\n",
       "      <td>36</td>\n",
       "      <td>0.8</td>\n",
       "      <td>112</td>\n",
       "      <td>5</td>\n",
       "      <td>...</td>\n",
       "      <td>291</td>\n",
       "      <td>563</td>\n",
       "      <td>1475</td>\n",
       "      <td>11</td>\n",
       "      <td>4</td>\n",
       "      <td>7</td>\n",
       "      <td>0</td>\n",
       "      <td>0</td>\n",
       "      <td>0</td>\n",
       "      <td>1</td>\n",
       "    </tr>\n",
       "    <tr>\n",
       "      <th>673</th>\n",
       "      <td>710</td>\n",
       "      <td>1</td>\n",
       "      <td>0.5</td>\n",
       "      <td>0</td>\n",
       "      <td>6</td>\n",
       "      <td>0</td>\n",
       "      <td>32</td>\n",
       "      <td>0.8</td>\n",
       "      <td>151</td>\n",
       "      <td>5</td>\n",
       "      <td>...</td>\n",
       "      <td>485</td>\n",
       "      <td>857</td>\n",
       "      <td>1419</td>\n",
       "      <td>12</td>\n",
       "      <td>11</td>\n",
       "      <td>18</td>\n",
       "      <td>0</td>\n",
       "      <td>1</td>\n",
       "      <td>0</td>\n",
       "      <td>0</td>\n",
       "    </tr>\n",
       "    <tr>\n",
       "      <th>168</th>\n",
       "      <td>1572</td>\n",
       "      <td>0</td>\n",
       "      <td>0.6</td>\n",
       "      <td>0</td>\n",
       "      <td>0</td>\n",
       "      <td>1</td>\n",
       "      <td>58</td>\n",
       "      <td>0.2</td>\n",
       "      <td>157</td>\n",
       "      <td>7</td>\n",
       "      <td>...</td>\n",
       "      <td>1109</td>\n",
       "      <td>1937</td>\n",
       "      <td>2462</td>\n",
       "      <td>12</td>\n",
       "      <td>8</td>\n",
       "      <td>10</td>\n",
       "      <td>1</td>\n",
       "      <td>0</td>\n",
       "      <td>0</td>\n",
       "      <td>3</td>\n",
       "    </tr>\n",
       "    <tr>\n",
       "      <th>913</th>\n",
       "      <td>1763</td>\n",
       "      <td>0</td>\n",
       "      <td>2.9</td>\n",
       "      <td>1</td>\n",
       "      <td>1</td>\n",
       "      <td>1</td>\n",
       "      <td>53</td>\n",
       "      <td>0.2</td>\n",
       "      <td>101</td>\n",
       "      <td>4</td>\n",
       "      <td>...</td>\n",
       "      <td>138</td>\n",
       "      <td>806</td>\n",
       "      <td>2066</td>\n",
       "      <td>12</td>\n",
       "      <td>9</td>\n",
       "      <td>17</td>\n",
       "      <td>1</td>\n",
       "      <td>1</td>\n",
       "      <td>1</td>\n",
       "      <td>1</td>\n",
       "    </tr>\n",
       "  </tbody>\n",
       "</table>\n",
       "<p>5 rows × 21 columns</p>\n",
       "</div>"
      ],
      "text/plain": [
       "     battery_power  blue  clock_speed  dual_sim  fc  four_g  int_memory  \\\n",
       "519           1928     1          1.8         0   9       1          19   \n",
       "889           1829     0          1.7         0   0       0          36   \n",
       "673            710     1          0.5         0   6       0          32   \n",
       "168           1572     0          0.6         0   0       1          58   \n",
       "913           1763     0          2.9         1   1       1          53   \n",
       "\n",
       "     m_dep  mobile_wt  n_cores  ...  px_height  px_width   ram  sc_h  sc_w  \\\n",
       "519    1.0        187        3  ...        691      1580  3777     7     2   \n",
       "889    0.8        112        5  ...        291       563  1475    11     4   \n",
       "673    0.8        151        5  ...        485       857  1419    12    11   \n",
       "168    0.2        157        7  ...       1109      1937  2462    12     8   \n",
       "913    0.2        101        4  ...        138       806  2066    12     9   \n",
       "\n",
       "     talk_time  three_g  touch_screen  wifi  price_range  \n",
       "519         13        1             1     1            3  \n",
       "889          7        0             0     0            1  \n",
       "673         18        0             1     0            0  \n",
       "168         10        1             0     0            3  \n",
       "913         17        1             1     1            1  \n",
       "\n",
       "[5 rows x 21 columns]"
      ]
     },
     "execution_count": 4,
     "metadata": {},
     "output_type": "execute_result"
    }
   ],
   "source": [
    "df.sample(5)    "
   ]
  },
  {
   "cell_type": "code",
   "execution_count": 5,
   "id": "83d993ef",
   "metadata": {},
   "outputs": [
    {
     "name": "stdout",
     "output_type": "stream",
     "text": [
      "<class 'pandas.core.frame.DataFrame'>\n",
      "RangeIndex: 2000 entries, 0 to 1999\n",
      "Data columns (total 21 columns):\n",
      " #   Column         Non-Null Count  Dtype  \n",
      "---  ------         --------------  -----  \n",
      " 0   battery_power  2000 non-null   int64  \n",
      " 1   blue           2000 non-null   int64  \n",
      " 2   clock_speed    2000 non-null   float64\n",
      " 3   dual_sim       2000 non-null   int64  \n",
      " 4   fc             2000 non-null   int64  \n",
      " 5   four_g         2000 non-null   int64  \n",
      " 6   int_memory     2000 non-null   int64  \n",
      " 7   m_dep          2000 non-null   float64\n",
      " 8   mobile_wt      2000 non-null   int64  \n",
      " 9   n_cores        2000 non-null   int64  \n",
      " 10  pc             2000 non-null   int64  \n",
      " 11  px_height      2000 non-null   int64  \n",
      " 12  px_width       2000 non-null   int64  \n",
      " 13  ram            2000 non-null   int64  \n",
      " 14  sc_h           2000 non-null   int64  \n",
      " 15  sc_w           2000 non-null   int64  \n",
      " 16  talk_time      2000 non-null   int64  \n",
      " 17  three_g        2000 non-null   int64  \n",
      " 18  touch_screen   2000 non-null   int64  \n",
      " 19  wifi           2000 non-null   int64  \n",
      " 20  price_range    2000 non-null   int64  \n",
      "dtypes: float64(2), int64(19)\n",
      "memory usage: 328.3 KB\n"
     ]
    }
   ],
   "source": [
    "df.info()"
   ]
  },
  {
   "cell_type": "code",
   "execution_count": 6,
   "id": "bb53a00a",
   "metadata": {},
   "outputs": [
    {
     "data": {
      "text/html": [
       "<div>\n",
       "<style scoped>\n",
       "    .dataframe tbody tr th:only-of-type {\n",
       "        vertical-align: middle;\n",
       "    }\n",
       "\n",
       "    .dataframe tbody tr th {\n",
       "        vertical-align: top;\n",
       "    }\n",
       "\n",
       "    .dataframe thead th {\n",
       "        text-align: right;\n",
       "    }\n",
       "</style>\n",
       "<table border=\"1\" class=\"dataframe\">\n",
       "  <thead>\n",
       "    <tr style=\"text-align: right;\">\n",
       "      <th></th>\n",
       "      <th>battery_power</th>\n",
       "      <th>blue</th>\n",
       "      <th>clock_speed</th>\n",
       "      <th>dual_sim</th>\n",
       "      <th>fc</th>\n",
       "      <th>four_g</th>\n",
       "      <th>int_memory</th>\n",
       "      <th>m_dep</th>\n",
       "      <th>mobile_wt</th>\n",
       "      <th>n_cores</th>\n",
       "      <th>...</th>\n",
       "      <th>px_height</th>\n",
       "      <th>px_width</th>\n",
       "      <th>ram</th>\n",
       "      <th>sc_h</th>\n",
       "      <th>sc_w</th>\n",
       "      <th>talk_time</th>\n",
       "      <th>three_g</th>\n",
       "      <th>touch_screen</th>\n",
       "      <th>wifi</th>\n",
       "      <th>price_range</th>\n",
       "    </tr>\n",
       "  </thead>\n",
       "  <tbody>\n",
       "    <tr>\n",
       "      <th>count</th>\n",
       "      <td>2000.000000</td>\n",
       "      <td>2000.0000</td>\n",
       "      <td>2000.000000</td>\n",
       "      <td>2000.000000</td>\n",
       "      <td>2000.000000</td>\n",
       "      <td>2000.000000</td>\n",
       "      <td>2000.000000</td>\n",
       "      <td>2000.000000</td>\n",
       "      <td>2000.000000</td>\n",
       "      <td>2000.000000</td>\n",
       "      <td>...</td>\n",
       "      <td>2000.000000</td>\n",
       "      <td>2000.000000</td>\n",
       "      <td>2000.000000</td>\n",
       "      <td>2000.000000</td>\n",
       "      <td>2000.000000</td>\n",
       "      <td>2000.000000</td>\n",
       "      <td>2000.000000</td>\n",
       "      <td>2000.000000</td>\n",
       "      <td>2000.000000</td>\n",
       "      <td>2000.000000</td>\n",
       "    </tr>\n",
       "    <tr>\n",
       "      <th>mean</th>\n",
       "      <td>1238.518500</td>\n",
       "      <td>0.4950</td>\n",
       "      <td>1.522250</td>\n",
       "      <td>0.509500</td>\n",
       "      <td>4.309500</td>\n",
       "      <td>0.521500</td>\n",
       "      <td>32.046500</td>\n",
       "      <td>0.501750</td>\n",
       "      <td>140.249000</td>\n",
       "      <td>4.520500</td>\n",
       "      <td>...</td>\n",
       "      <td>645.108000</td>\n",
       "      <td>1251.515500</td>\n",
       "      <td>2124.213000</td>\n",
       "      <td>12.306500</td>\n",
       "      <td>5.767000</td>\n",
       "      <td>11.011000</td>\n",
       "      <td>0.761500</td>\n",
       "      <td>0.503000</td>\n",
       "      <td>0.507000</td>\n",
       "      <td>1.500000</td>\n",
       "    </tr>\n",
       "    <tr>\n",
       "      <th>std</th>\n",
       "      <td>439.418206</td>\n",
       "      <td>0.5001</td>\n",
       "      <td>0.816004</td>\n",
       "      <td>0.500035</td>\n",
       "      <td>4.341444</td>\n",
       "      <td>0.499662</td>\n",
       "      <td>18.145715</td>\n",
       "      <td>0.288416</td>\n",
       "      <td>35.399655</td>\n",
       "      <td>2.287837</td>\n",
       "      <td>...</td>\n",
       "      <td>443.780811</td>\n",
       "      <td>432.199447</td>\n",
       "      <td>1084.732044</td>\n",
       "      <td>4.213245</td>\n",
       "      <td>4.356398</td>\n",
       "      <td>5.463955</td>\n",
       "      <td>0.426273</td>\n",
       "      <td>0.500116</td>\n",
       "      <td>0.500076</td>\n",
       "      <td>1.118314</td>\n",
       "    </tr>\n",
       "    <tr>\n",
       "      <th>min</th>\n",
       "      <td>501.000000</td>\n",
       "      <td>0.0000</td>\n",
       "      <td>0.500000</td>\n",
       "      <td>0.000000</td>\n",
       "      <td>0.000000</td>\n",
       "      <td>0.000000</td>\n",
       "      <td>2.000000</td>\n",
       "      <td>0.100000</td>\n",
       "      <td>80.000000</td>\n",
       "      <td>1.000000</td>\n",
       "      <td>...</td>\n",
       "      <td>0.000000</td>\n",
       "      <td>500.000000</td>\n",
       "      <td>256.000000</td>\n",
       "      <td>5.000000</td>\n",
       "      <td>0.000000</td>\n",
       "      <td>2.000000</td>\n",
       "      <td>0.000000</td>\n",
       "      <td>0.000000</td>\n",
       "      <td>0.000000</td>\n",
       "      <td>0.000000</td>\n",
       "    </tr>\n",
       "    <tr>\n",
       "      <th>25%</th>\n",
       "      <td>851.750000</td>\n",
       "      <td>0.0000</td>\n",
       "      <td>0.700000</td>\n",
       "      <td>0.000000</td>\n",
       "      <td>1.000000</td>\n",
       "      <td>0.000000</td>\n",
       "      <td>16.000000</td>\n",
       "      <td>0.200000</td>\n",
       "      <td>109.000000</td>\n",
       "      <td>3.000000</td>\n",
       "      <td>...</td>\n",
       "      <td>282.750000</td>\n",
       "      <td>874.750000</td>\n",
       "      <td>1207.500000</td>\n",
       "      <td>9.000000</td>\n",
       "      <td>2.000000</td>\n",
       "      <td>6.000000</td>\n",
       "      <td>1.000000</td>\n",
       "      <td>0.000000</td>\n",
       "      <td>0.000000</td>\n",
       "      <td>0.750000</td>\n",
       "    </tr>\n",
       "    <tr>\n",
       "      <th>50%</th>\n",
       "      <td>1226.000000</td>\n",
       "      <td>0.0000</td>\n",
       "      <td>1.500000</td>\n",
       "      <td>1.000000</td>\n",
       "      <td>3.000000</td>\n",
       "      <td>1.000000</td>\n",
       "      <td>32.000000</td>\n",
       "      <td>0.500000</td>\n",
       "      <td>141.000000</td>\n",
       "      <td>4.000000</td>\n",
       "      <td>...</td>\n",
       "      <td>564.000000</td>\n",
       "      <td>1247.000000</td>\n",
       "      <td>2146.500000</td>\n",
       "      <td>12.000000</td>\n",
       "      <td>5.000000</td>\n",
       "      <td>11.000000</td>\n",
       "      <td>1.000000</td>\n",
       "      <td>1.000000</td>\n",
       "      <td>1.000000</td>\n",
       "      <td>1.500000</td>\n",
       "    </tr>\n",
       "    <tr>\n",
       "      <th>75%</th>\n",
       "      <td>1615.250000</td>\n",
       "      <td>1.0000</td>\n",
       "      <td>2.200000</td>\n",
       "      <td>1.000000</td>\n",
       "      <td>7.000000</td>\n",
       "      <td>1.000000</td>\n",
       "      <td>48.000000</td>\n",
       "      <td>0.800000</td>\n",
       "      <td>170.000000</td>\n",
       "      <td>7.000000</td>\n",
       "      <td>...</td>\n",
       "      <td>947.250000</td>\n",
       "      <td>1633.000000</td>\n",
       "      <td>3064.500000</td>\n",
       "      <td>16.000000</td>\n",
       "      <td>9.000000</td>\n",
       "      <td>16.000000</td>\n",
       "      <td>1.000000</td>\n",
       "      <td>1.000000</td>\n",
       "      <td>1.000000</td>\n",
       "      <td>2.250000</td>\n",
       "    </tr>\n",
       "    <tr>\n",
       "      <th>max</th>\n",
       "      <td>1998.000000</td>\n",
       "      <td>1.0000</td>\n",
       "      <td>3.000000</td>\n",
       "      <td>1.000000</td>\n",
       "      <td>19.000000</td>\n",
       "      <td>1.000000</td>\n",
       "      <td>64.000000</td>\n",
       "      <td>1.000000</td>\n",
       "      <td>200.000000</td>\n",
       "      <td>8.000000</td>\n",
       "      <td>...</td>\n",
       "      <td>1960.000000</td>\n",
       "      <td>1998.000000</td>\n",
       "      <td>3998.000000</td>\n",
       "      <td>19.000000</td>\n",
       "      <td>18.000000</td>\n",
       "      <td>20.000000</td>\n",
       "      <td>1.000000</td>\n",
       "      <td>1.000000</td>\n",
       "      <td>1.000000</td>\n",
       "      <td>3.000000</td>\n",
       "    </tr>\n",
       "  </tbody>\n",
       "</table>\n",
       "<p>8 rows × 21 columns</p>\n",
       "</div>"
      ],
      "text/plain": [
       "       battery_power       blue  clock_speed     dual_sim           fc  \\\n",
       "count    2000.000000  2000.0000  2000.000000  2000.000000  2000.000000   \n",
       "mean     1238.518500     0.4950     1.522250     0.509500     4.309500   \n",
       "std       439.418206     0.5001     0.816004     0.500035     4.341444   \n",
       "min       501.000000     0.0000     0.500000     0.000000     0.000000   \n",
       "25%       851.750000     0.0000     0.700000     0.000000     1.000000   \n",
       "50%      1226.000000     0.0000     1.500000     1.000000     3.000000   \n",
       "75%      1615.250000     1.0000     2.200000     1.000000     7.000000   \n",
       "max      1998.000000     1.0000     3.000000     1.000000    19.000000   \n",
       "\n",
       "            four_g   int_memory        m_dep    mobile_wt      n_cores  ...  \\\n",
       "count  2000.000000  2000.000000  2000.000000  2000.000000  2000.000000  ...   \n",
       "mean      0.521500    32.046500     0.501750   140.249000     4.520500  ...   \n",
       "std       0.499662    18.145715     0.288416    35.399655     2.287837  ...   \n",
       "min       0.000000     2.000000     0.100000    80.000000     1.000000  ...   \n",
       "25%       0.000000    16.000000     0.200000   109.000000     3.000000  ...   \n",
       "50%       1.000000    32.000000     0.500000   141.000000     4.000000  ...   \n",
       "75%       1.000000    48.000000     0.800000   170.000000     7.000000  ...   \n",
       "max       1.000000    64.000000     1.000000   200.000000     8.000000  ...   \n",
       "\n",
       "         px_height     px_width          ram         sc_h         sc_w  \\\n",
       "count  2000.000000  2000.000000  2000.000000  2000.000000  2000.000000   \n",
       "mean    645.108000  1251.515500  2124.213000    12.306500     5.767000   \n",
       "std     443.780811   432.199447  1084.732044     4.213245     4.356398   \n",
       "min       0.000000   500.000000   256.000000     5.000000     0.000000   \n",
       "25%     282.750000   874.750000  1207.500000     9.000000     2.000000   \n",
       "50%     564.000000  1247.000000  2146.500000    12.000000     5.000000   \n",
       "75%     947.250000  1633.000000  3064.500000    16.000000     9.000000   \n",
       "max    1960.000000  1998.000000  3998.000000    19.000000    18.000000   \n",
       "\n",
       "         talk_time      three_g  touch_screen         wifi  price_range  \n",
       "count  2000.000000  2000.000000   2000.000000  2000.000000  2000.000000  \n",
       "mean     11.011000     0.761500      0.503000     0.507000     1.500000  \n",
       "std       5.463955     0.426273      0.500116     0.500076     1.118314  \n",
       "min       2.000000     0.000000      0.000000     0.000000     0.000000  \n",
       "25%       6.000000     1.000000      0.000000     0.000000     0.750000  \n",
       "50%      11.000000     1.000000      1.000000     1.000000     1.500000  \n",
       "75%      16.000000     1.000000      1.000000     1.000000     2.250000  \n",
       "max      20.000000     1.000000      1.000000     1.000000     3.000000  \n",
       "\n",
       "[8 rows x 21 columns]"
      ]
     },
     "execution_count": 6,
     "metadata": {},
     "output_type": "execute_result"
    }
   ],
   "source": [
    "df.describe()"
   ]
  },
  {
   "cell_type": "code",
   "execution_count": 7,
   "id": "b3f800ad",
   "metadata": {},
   "outputs": [
    {
     "data": {
      "text/html": [
       "<div>\n",
       "<style scoped>\n",
       "    .dataframe tbody tr th:only-of-type {\n",
       "        vertical-align: middle;\n",
       "    }\n",
       "\n",
       "    .dataframe tbody tr th {\n",
       "        vertical-align: top;\n",
       "    }\n",
       "\n",
       "    .dataframe thead th {\n",
       "        text-align: right;\n",
       "    }\n",
       "</style>\n",
       "<table border=\"1\" class=\"dataframe\">\n",
       "  <thead>\n",
       "    <tr style=\"text-align: right;\">\n",
       "      <th></th>\n",
       "      <th>battery_power</th>\n",
       "      <th>blue</th>\n",
       "      <th>clock_speed</th>\n",
       "      <th>dual_sim</th>\n",
       "      <th>fc</th>\n",
       "      <th>four_g</th>\n",
       "      <th>int_memory</th>\n",
       "      <th>m_dep</th>\n",
       "      <th>mobile_wt</th>\n",
       "      <th>n_cores</th>\n",
       "      <th>...</th>\n",
       "      <th>px_height</th>\n",
       "      <th>px_width</th>\n",
       "      <th>ram</th>\n",
       "      <th>sc_h</th>\n",
       "      <th>sc_w</th>\n",
       "      <th>talk_time</th>\n",
       "      <th>three_g</th>\n",
       "      <th>touch_screen</th>\n",
       "      <th>wifi</th>\n",
       "      <th>price_range</th>\n",
       "    </tr>\n",
       "  </thead>\n",
       "  <tbody>\n",
       "    <tr>\n",
       "      <th>count</th>\n",
       "      <td>2000.000000</td>\n",
       "      <td>2000.0000</td>\n",
       "      <td>2000.000000</td>\n",
       "      <td>2000.000000</td>\n",
       "      <td>2000.000000</td>\n",
       "      <td>2000.000000</td>\n",
       "      <td>2000.000000</td>\n",
       "      <td>2000.000000</td>\n",
       "      <td>2000.000000</td>\n",
       "      <td>2000.000000</td>\n",
       "      <td>...</td>\n",
       "      <td>2000.000000</td>\n",
       "      <td>2000.000000</td>\n",
       "      <td>2000.000000</td>\n",
       "      <td>2000.000000</td>\n",
       "      <td>2000.000000</td>\n",
       "      <td>2000.000000</td>\n",
       "      <td>2000.000000</td>\n",
       "      <td>2000.000000</td>\n",
       "      <td>2000.000000</td>\n",
       "      <td>2000.000000</td>\n",
       "    </tr>\n",
       "    <tr>\n",
       "      <th>mean</th>\n",
       "      <td>1238.518500</td>\n",
       "      <td>0.4950</td>\n",
       "      <td>1.522250</td>\n",
       "      <td>0.509500</td>\n",
       "      <td>4.309500</td>\n",
       "      <td>0.521500</td>\n",
       "      <td>32.046500</td>\n",
       "      <td>0.501750</td>\n",
       "      <td>140.249000</td>\n",
       "      <td>4.520500</td>\n",
       "      <td>...</td>\n",
       "      <td>645.108000</td>\n",
       "      <td>1251.515500</td>\n",
       "      <td>2124.213000</td>\n",
       "      <td>12.306500</td>\n",
       "      <td>5.767000</td>\n",
       "      <td>11.011000</td>\n",
       "      <td>0.761500</td>\n",
       "      <td>0.503000</td>\n",
       "      <td>0.507000</td>\n",
       "      <td>1.500000</td>\n",
       "    </tr>\n",
       "    <tr>\n",
       "      <th>std</th>\n",
       "      <td>439.418206</td>\n",
       "      <td>0.5001</td>\n",
       "      <td>0.816004</td>\n",
       "      <td>0.500035</td>\n",
       "      <td>4.341444</td>\n",
       "      <td>0.499662</td>\n",
       "      <td>18.145715</td>\n",
       "      <td>0.288416</td>\n",
       "      <td>35.399655</td>\n",
       "      <td>2.287837</td>\n",
       "      <td>...</td>\n",
       "      <td>443.780811</td>\n",
       "      <td>432.199447</td>\n",
       "      <td>1084.732044</td>\n",
       "      <td>4.213245</td>\n",
       "      <td>4.356398</td>\n",
       "      <td>5.463955</td>\n",
       "      <td>0.426273</td>\n",
       "      <td>0.500116</td>\n",
       "      <td>0.500076</td>\n",
       "      <td>1.118314</td>\n",
       "    </tr>\n",
       "    <tr>\n",
       "      <th>min</th>\n",
       "      <td>501.000000</td>\n",
       "      <td>0.0000</td>\n",
       "      <td>0.500000</td>\n",
       "      <td>0.000000</td>\n",
       "      <td>0.000000</td>\n",
       "      <td>0.000000</td>\n",
       "      <td>2.000000</td>\n",
       "      <td>0.100000</td>\n",
       "      <td>80.000000</td>\n",
       "      <td>1.000000</td>\n",
       "      <td>...</td>\n",
       "      <td>0.000000</td>\n",
       "      <td>500.000000</td>\n",
       "      <td>256.000000</td>\n",
       "      <td>5.000000</td>\n",
       "      <td>0.000000</td>\n",
       "      <td>2.000000</td>\n",
       "      <td>0.000000</td>\n",
       "      <td>0.000000</td>\n",
       "      <td>0.000000</td>\n",
       "      <td>0.000000</td>\n",
       "    </tr>\n",
       "    <tr>\n",
       "      <th>25%</th>\n",
       "      <td>851.750000</td>\n",
       "      <td>0.0000</td>\n",
       "      <td>0.700000</td>\n",
       "      <td>0.000000</td>\n",
       "      <td>1.000000</td>\n",
       "      <td>0.000000</td>\n",
       "      <td>16.000000</td>\n",
       "      <td>0.200000</td>\n",
       "      <td>109.000000</td>\n",
       "      <td>3.000000</td>\n",
       "      <td>...</td>\n",
       "      <td>282.750000</td>\n",
       "      <td>874.750000</td>\n",
       "      <td>1207.500000</td>\n",
       "      <td>9.000000</td>\n",
       "      <td>2.000000</td>\n",
       "      <td>6.000000</td>\n",
       "      <td>1.000000</td>\n",
       "      <td>0.000000</td>\n",
       "      <td>0.000000</td>\n",
       "      <td>0.750000</td>\n",
       "    </tr>\n",
       "    <tr>\n",
       "      <th>50%</th>\n",
       "      <td>1226.000000</td>\n",
       "      <td>0.0000</td>\n",
       "      <td>1.500000</td>\n",
       "      <td>1.000000</td>\n",
       "      <td>3.000000</td>\n",
       "      <td>1.000000</td>\n",
       "      <td>32.000000</td>\n",
       "      <td>0.500000</td>\n",
       "      <td>141.000000</td>\n",
       "      <td>4.000000</td>\n",
       "      <td>...</td>\n",
       "      <td>564.000000</td>\n",
       "      <td>1247.000000</td>\n",
       "      <td>2146.500000</td>\n",
       "      <td>12.000000</td>\n",
       "      <td>5.000000</td>\n",
       "      <td>11.000000</td>\n",
       "      <td>1.000000</td>\n",
       "      <td>1.000000</td>\n",
       "      <td>1.000000</td>\n",
       "      <td>1.500000</td>\n",
       "    </tr>\n",
       "    <tr>\n",
       "      <th>75%</th>\n",
       "      <td>1615.250000</td>\n",
       "      <td>1.0000</td>\n",
       "      <td>2.200000</td>\n",
       "      <td>1.000000</td>\n",
       "      <td>7.000000</td>\n",
       "      <td>1.000000</td>\n",
       "      <td>48.000000</td>\n",
       "      <td>0.800000</td>\n",
       "      <td>170.000000</td>\n",
       "      <td>7.000000</td>\n",
       "      <td>...</td>\n",
       "      <td>947.250000</td>\n",
       "      <td>1633.000000</td>\n",
       "      <td>3064.500000</td>\n",
       "      <td>16.000000</td>\n",
       "      <td>9.000000</td>\n",
       "      <td>16.000000</td>\n",
       "      <td>1.000000</td>\n",
       "      <td>1.000000</td>\n",
       "      <td>1.000000</td>\n",
       "      <td>2.250000</td>\n",
       "    </tr>\n",
       "    <tr>\n",
       "      <th>max</th>\n",
       "      <td>1998.000000</td>\n",
       "      <td>1.0000</td>\n",
       "      <td>3.000000</td>\n",
       "      <td>1.000000</td>\n",
       "      <td>19.000000</td>\n",
       "      <td>1.000000</td>\n",
       "      <td>64.000000</td>\n",
       "      <td>1.000000</td>\n",
       "      <td>200.000000</td>\n",
       "      <td>8.000000</td>\n",
       "      <td>...</td>\n",
       "      <td>1960.000000</td>\n",
       "      <td>1998.000000</td>\n",
       "      <td>3998.000000</td>\n",
       "      <td>19.000000</td>\n",
       "      <td>18.000000</td>\n",
       "      <td>20.000000</td>\n",
       "      <td>1.000000</td>\n",
       "      <td>1.000000</td>\n",
       "      <td>1.000000</td>\n",
       "      <td>3.000000</td>\n",
       "    </tr>\n",
       "  </tbody>\n",
       "</table>\n",
       "<p>8 rows × 21 columns</p>\n",
       "</div>"
      ],
      "text/plain": [
       "       battery_power       blue  clock_speed     dual_sim           fc  \\\n",
       "count    2000.000000  2000.0000  2000.000000  2000.000000  2000.000000   \n",
       "mean     1238.518500     0.4950     1.522250     0.509500     4.309500   \n",
       "std       439.418206     0.5001     0.816004     0.500035     4.341444   \n",
       "min       501.000000     0.0000     0.500000     0.000000     0.000000   \n",
       "25%       851.750000     0.0000     0.700000     0.000000     1.000000   \n",
       "50%      1226.000000     0.0000     1.500000     1.000000     3.000000   \n",
       "75%      1615.250000     1.0000     2.200000     1.000000     7.000000   \n",
       "max      1998.000000     1.0000     3.000000     1.000000    19.000000   \n",
       "\n",
       "            four_g   int_memory        m_dep    mobile_wt      n_cores  ...  \\\n",
       "count  2000.000000  2000.000000  2000.000000  2000.000000  2000.000000  ...   \n",
       "mean      0.521500    32.046500     0.501750   140.249000     4.520500  ...   \n",
       "std       0.499662    18.145715     0.288416    35.399655     2.287837  ...   \n",
       "min       0.000000     2.000000     0.100000    80.000000     1.000000  ...   \n",
       "25%       0.000000    16.000000     0.200000   109.000000     3.000000  ...   \n",
       "50%       1.000000    32.000000     0.500000   141.000000     4.000000  ...   \n",
       "75%       1.000000    48.000000     0.800000   170.000000     7.000000  ...   \n",
       "max       1.000000    64.000000     1.000000   200.000000     8.000000  ...   \n",
       "\n",
       "         px_height     px_width          ram         sc_h         sc_w  \\\n",
       "count  2000.000000  2000.000000  2000.000000  2000.000000  2000.000000   \n",
       "mean    645.108000  1251.515500  2124.213000    12.306500     5.767000   \n",
       "std     443.780811   432.199447  1084.732044     4.213245     4.356398   \n",
       "min       0.000000   500.000000   256.000000     5.000000     0.000000   \n",
       "25%     282.750000   874.750000  1207.500000     9.000000     2.000000   \n",
       "50%     564.000000  1247.000000  2146.500000    12.000000     5.000000   \n",
       "75%     947.250000  1633.000000  3064.500000    16.000000     9.000000   \n",
       "max    1960.000000  1998.000000  3998.000000    19.000000    18.000000   \n",
       "\n",
       "         talk_time      three_g  touch_screen         wifi  price_range  \n",
       "count  2000.000000  2000.000000   2000.000000  2000.000000  2000.000000  \n",
       "mean     11.011000     0.761500      0.503000     0.507000     1.500000  \n",
       "std       5.463955     0.426273      0.500116     0.500076     1.118314  \n",
       "min       2.000000     0.000000      0.000000     0.000000     0.000000  \n",
       "25%       6.000000     1.000000      0.000000     0.000000     0.750000  \n",
       "50%      11.000000     1.000000      1.000000     1.000000     1.500000  \n",
       "75%      16.000000     1.000000      1.000000     1.000000     2.250000  \n",
       "max      20.000000     1.000000      1.000000     1.000000     3.000000  \n",
       "\n",
       "[8 rows x 21 columns]"
      ]
     },
     "execution_count": 7,
     "metadata": {},
     "output_type": "execute_result"
    }
   ],
   "source": [
    "df.describe(include='all')"
   ]
  },
  {
   "cell_type": "markdown",
   "id": "14e4b688",
   "metadata": {},
   "source": [
    "# DATA PREPROCESSING    "
   ]
  },
  {
   "cell_type": "markdown",
   "id": "ef1a637b",
   "metadata": {},
   "source": []
  },
  {
   "cell_type": "code",
   "execution_count": 8,
   "id": "48ca8081",
   "metadata": {},
   "outputs": [
    {
     "data": {
      "text/plain": [
       "battery_power    0\n",
       "blue             0\n",
       "clock_speed      0\n",
       "dual_sim         0\n",
       "fc               0\n",
       "four_g           0\n",
       "int_memory       0\n",
       "m_dep            0\n",
       "mobile_wt        0\n",
       "n_cores          0\n",
       "pc               0\n",
       "px_height        0\n",
       "px_width         0\n",
       "ram              0\n",
       "sc_h             0\n",
       "sc_w             0\n",
       "talk_time        0\n",
       "three_g          0\n",
       "touch_screen     0\n",
       "wifi             0\n",
       "price_range      0\n",
       "dtype: int64"
      ]
     },
     "execution_count": 8,
     "metadata": {},
     "output_type": "execute_result"
    }
   ],
   "source": [
    "df.isnull().sum()"
   ]
  },
  {
   "cell_type": "code",
   "execution_count": 9,
   "id": "5166987b",
   "metadata": {},
   "outputs": [
    {
     "data": {
      "text/plain": [
       "np.int64(0)"
      ]
     },
     "execution_count": 9,
     "metadata": {},
     "output_type": "execute_result"
    }
   ],
   "source": [
    "df.duplicated().sum()"
   ]
  },
  {
   "cell_type": "code",
   "execution_count": 10,
   "id": "6bd6a1e0",
   "metadata": {},
   "outputs": [
    {
     "data": {
      "text/plain": [
       "battery_power    1094\n",
       "blue                2\n",
       "clock_speed        26\n",
       "dual_sim            2\n",
       "fc                 20\n",
       "four_g              2\n",
       "int_memory         63\n",
       "m_dep              10\n",
       "mobile_wt         121\n",
       "n_cores             8\n",
       "pc                 21\n",
       "px_height        1137\n",
       "px_width         1109\n",
       "ram              1562\n",
       "sc_h               15\n",
       "sc_w               19\n",
       "talk_time          19\n",
       "three_g             2\n",
       "touch_screen        2\n",
       "wifi                2\n",
       "price_range         4\n",
       "dtype: int64"
      ]
     },
     "execution_count": 10,
     "metadata": {},
     "output_type": "execute_result"
    }
   ],
   "source": [
    "df.nunique()"
   ]
  },
  {
   "cell_type": "code",
   "execution_count": 11,
   "id": "3c9c07c7",
   "metadata": {},
   "outputs": [
    {
     "name": "stdout",
     "output_type": "stream",
     "text": [
      "No duplicate rows found.\n"
     ]
    }
   ],
   "source": [
    "duplicate_count = df.duplicated().sum()\n",
    "if duplicate_count > 0: \n",
    "    df = df.drop_duplicates()\n",
    "    print(f\"Removed {duplicate_count} duplicate rows.\")\n",
    "else:\n",
    "    print(\"No duplicate rows found.\")"
   ]
  },
  {
   "cell_type": "code",
   "execution_count": 12,
   "id": "dcff535d",
   "metadata": {},
   "outputs": [
    {
     "name": "stdout",
     "output_type": "stream",
     "text": [
      "No missing values found.\n"
     ]
    }
   ],
   "source": [
    "missing = df.isnull().sum()\n",
    "if missing.any():\n",
    "    df = df.dropna()\n",
    "    print(\"Removed rows with missing values.\")  \n",
    "else:\n",
    "    print(\"No missing values found.\")   "
   ]
  },
  {
   "cell_type": "markdown",
   "id": "4ae6a49a",
   "metadata": {},
   "source": [
    "# DATA VISUALIZATION"
   ]
  },
  {
   "cell_type": "code",
   "execution_count": 13,
   "id": "37b604ea",
   "metadata": {},
   "outputs": [
    {
     "name": "stdout",
     "output_type": "stream",
     "text": [
      "Requirement already satisfied: plotly in c:\\users\\bansa\\appdata\\roaming\\python\\python313\\site-packages (6.3.0)\n",
      "Requirement already satisfied: narwhals>=1.15.1 in c:\\programdata\\anaconda3\\lib\\site-packages (from plotly) (1.31.0)\n",
      "Requirement already satisfied: packaging in c:\\users\\bansa\\appdata\\roaming\\python\\python313\\site-packages (from plotly) (25.0)\n"
     ]
    }
   ],
   "source": [
    "import sys\n",
    "!{sys.executable} -m pip install plotly --user"
   ]
  },
  {
   "cell_type": "code",
   "execution_count": 14,
   "id": "0a45c66d",
   "metadata": {},
   "outputs": [],
   "source": [
    "import plotly.express as px"
   ]
  },
  {
   "cell_type": "code",
   "execution_count": 15,
   "id": "8f48aaea",
   "metadata": {},
   "outputs": [
    {
     "data": {
      "text/html": [
       "<div>\n",
       "<style scoped>\n",
       "    .dataframe tbody tr th:only-of-type {\n",
       "        vertical-align: middle;\n",
       "    }\n",
       "\n",
       "    .dataframe tbody tr th {\n",
       "        vertical-align: top;\n",
       "    }\n",
       "\n",
       "    .dataframe thead th {\n",
       "        text-align: right;\n",
       "    }\n",
       "</style>\n",
       "<table border=\"1\" class=\"dataframe\">\n",
       "  <thead>\n",
       "    <tr style=\"text-align: right;\">\n",
       "      <th></th>\n",
       "      <th>battery_power</th>\n",
       "      <th>blue</th>\n",
       "      <th>clock_speed</th>\n",
       "      <th>dual_sim</th>\n",
       "      <th>fc</th>\n",
       "      <th>four_g</th>\n",
       "      <th>int_memory</th>\n",
       "      <th>m_dep</th>\n",
       "      <th>mobile_wt</th>\n",
       "      <th>n_cores</th>\n",
       "      <th>...</th>\n",
       "      <th>px_height</th>\n",
       "      <th>px_width</th>\n",
       "      <th>ram</th>\n",
       "      <th>sc_h</th>\n",
       "      <th>sc_w</th>\n",
       "      <th>talk_time</th>\n",
       "      <th>three_g</th>\n",
       "      <th>touch_screen</th>\n",
       "      <th>wifi</th>\n",
       "      <th>price_range</th>\n",
       "    </tr>\n",
       "  </thead>\n",
       "  <tbody>\n",
       "    <tr>\n",
       "      <th>1244</th>\n",
       "      <td>718</td>\n",
       "      <td>0</td>\n",
       "      <td>2.8</td>\n",
       "      <td>0</td>\n",
       "      <td>10</td>\n",
       "      <td>0</td>\n",
       "      <td>59</td>\n",
       "      <td>0.8</td>\n",
       "      <td>113</td>\n",
       "      <td>6</td>\n",
       "      <td>...</td>\n",
       "      <td>1185</td>\n",
       "      <td>1387</td>\n",
       "      <td>1824</td>\n",
       "      <td>11</td>\n",
       "      <td>9</td>\n",
       "      <td>3</td>\n",
       "      <td>1</td>\n",
       "      <td>1</td>\n",
       "      <td>0</td>\n",
       "      <td>1</td>\n",
       "    </tr>\n",
       "  </tbody>\n",
       "</table>\n",
       "<p>1 rows × 21 columns</p>\n",
       "</div>"
      ],
      "text/plain": [
       "      battery_power  blue  clock_speed  dual_sim  fc  four_g  int_memory  \\\n",
       "1244            718     0          2.8         0  10       0          59   \n",
       "\n",
       "      m_dep  mobile_wt  n_cores  ...  px_height  px_width   ram  sc_h  sc_w  \\\n",
       "1244    0.8        113        6  ...       1185      1387  1824    11     9   \n",
       "\n",
       "      talk_time  three_g  touch_screen  wifi  price_range  \n",
       "1244          3        1             1     0            1  \n",
       "\n",
       "[1 rows x 21 columns]"
      ]
     },
     "execution_count": 15,
     "metadata": {},
     "output_type": "execute_result"
    }
   ],
   "source": [
    "df.sample()"
   ]
  },
  {
   "cell_type": "code",
   "execution_count": 16,
   "id": "d6f26ad5",
   "metadata": {},
   "outputs": [
    {
     "data": {
      "text/plain": [
       "battery_power    0.200723\n",
       "blue             0.020573\n",
       "clock_speed     -0.006606\n",
       "dual_sim         0.017444\n",
       "fc               0.021998\n",
       "four_g           0.014772\n",
       "int_memory       0.044435\n",
       "m_dep            0.000853\n",
       "mobile_wt       -0.030302\n",
       "n_cores          0.004399\n",
       "pc               0.033599\n",
       "px_height        0.148858\n",
       "px_width         0.165818\n",
       "ram              0.917046\n",
       "sc_h             0.022986\n",
       "sc_w             0.038711\n",
       "talk_time        0.021859\n",
       "three_g          0.023611\n",
       "touch_screen    -0.030411\n",
       "wifi             0.018785\n",
       "Name: price_range, dtype: float64"
      ]
     },
     "execution_count": 16,
     "metadata": {},
     "output_type": "execute_result"
    }
   ],
   "source": [
    "df.corr()['price_range'][:-1]"
   ]
  },
  {
   "cell_type": "code",
   "execution_count": 17,
   "id": "b899cd2f",
   "metadata": {},
   "outputs": [
    {
     "data": {
      "application/vnd.plotly.v1+json": {
       "config": {
        "plotlyServerURL": "https://plot.ly"
       },
       "data": [
        {
         "hovertemplate": "variable=price_range<br>index=%{x}<br>value=%{y}<extra></extra>",
         "legendgroup": "price_range",
         "line": {
          "color": "#636efa",
          "dash": "solid"
         },
         "marker": {
          "symbol": "circle"
         },
         "mode": "lines",
         "name": "price_range",
         "orientation": "v",
         "showlegend": true,
         "type": "scatter",
         "x": [
          "touch_screen",
          "mobile_wt",
          "clock_speed",
          "m_dep",
          "n_cores",
          "four_g",
          "dual_sim",
          "wifi",
          "blue",
          "talk_time",
          "fc",
          "sc_h",
          "three_g",
          "pc",
          "sc_w",
          "int_memory",
          "px_height",
          "px_width",
          "battery_power",
          "ram"
         ],
         "xaxis": "x",
         "y": {
          "bdata": "C+T0fBQkn7/KHCxLiAefv3VV36SRDnu/d0oh8snzSz9/kDxW+QRyPxVAi4uhQI4/Z01HL/fckT9llwZlUzyTPxJGhN0MEZU/u1oUAyxilj9FweO7soaWP8r4EUKpiZc/2DNG8YktmD/I2Ctv7TOhPxoxkrv20aM/Z+S/0i3Apj99oj6tww3DP3FkggWCOcU/RU9MT0exyT9QOMZMcFjtPw==",
          "dtype": "f8"
         },
         "yaxis": "y"
        }
       ],
       "layout": {
        "legend": {
         "title": {
          "text": "variable"
         },
         "tracegroupgap": 0
        },
        "margin": {
         "t": 60
        },
        "template": {
         "data": {
          "bar": [
           {
            "error_x": {
             "color": "#2a3f5f"
            },
            "error_y": {
             "color": "#2a3f5f"
            },
            "marker": {
             "line": {
              "color": "#E5ECF6",
              "width": 0.5
             },
             "pattern": {
              "fillmode": "overlay",
              "size": 10,
              "solidity": 0.2
             }
            },
            "type": "bar"
           }
          ],
          "barpolar": [
           {
            "marker": {
             "line": {
              "color": "#E5ECF6",
              "width": 0.5
             },
             "pattern": {
              "fillmode": "overlay",
              "size": 10,
              "solidity": 0.2
             }
            },
            "type": "barpolar"
           }
          ],
          "carpet": [
           {
            "aaxis": {
             "endlinecolor": "#2a3f5f",
             "gridcolor": "white",
             "linecolor": "white",
             "minorgridcolor": "white",
             "startlinecolor": "#2a3f5f"
            },
            "baxis": {
             "endlinecolor": "#2a3f5f",
             "gridcolor": "white",
             "linecolor": "white",
             "minorgridcolor": "white",
             "startlinecolor": "#2a3f5f"
            },
            "type": "carpet"
           }
          ],
          "choropleth": [
           {
            "colorbar": {
             "outlinewidth": 0,
             "ticks": ""
            },
            "type": "choropleth"
           }
          ],
          "contour": [
           {
            "colorbar": {
             "outlinewidth": 0,
             "ticks": ""
            },
            "colorscale": [
             [
              0,
              "#0d0887"
             ],
             [
              0.1111111111111111,
              "#46039f"
             ],
             [
              0.2222222222222222,
              "#7201a8"
             ],
             [
              0.3333333333333333,
              "#9c179e"
             ],
             [
              0.4444444444444444,
              "#bd3786"
             ],
             [
              0.5555555555555556,
              "#d8576b"
             ],
             [
              0.6666666666666666,
              "#ed7953"
             ],
             [
              0.7777777777777778,
              "#fb9f3a"
             ],
             [
              0.8888888888888888,
              "#fdca26"
             ],
             [
              1,
              "#f0f921"
             ]
            ],
            "type": "contour"
           }
          ],
          "contourcarpet": [
           {
            "colorbar": {
             "outlinewidth": 0,
             "ticks": ""
            },
            "type": "contourcarpet"
           }
          ],
          "heatmap": [
           {
            "colorbar": {
             "outlinewidth": 0,
             "ticks": ""
            },
            "colorscale": [
             [
              0,
              "#0d0887"
             ],
             [
              0.1111111111111111,
              "#46039f"
             ],
             [
              0.2222222222222222,
              "#7201a8"
             ],
             [
              0.3333333333333333,
              "#9c179e"
             ],
             [
              0.4444444444444444,
              "#bd3786"
             ],
             [
              0.5555555555555556,
              "#d8576b"
             ],
             [
              0.6666666666666666,
              "#ed7953"
             ],
             [
              0.7777777777777778,
              "#fb9f3a"
             ],
             [
              0.8888888888888888,
              "#fdca26"
             ],
             [
              1,
              "#f0f921"
             ]
            ],
            "type": "heatmap"
           }
          ],
          "histogram": [
           {
            "marker": {
             "pattern": {
              "fillmode": "overlay",
              "size": 10,
              "solidity": 0.2
             }
            },
            "type": "histogram"
           }
          ],
          "histogram2d": [
           {
            "colorbar": {
             "outlinewidth": 0,
             "ticks": ""
            },
            "colorscale": [
             [
              0,
              "#0d0887"
             ],
             [
              0.1111111111111111,
              "#46039f"
             ],
             [
              0.2222222222222222,
              "#7201a8"
             ],
             [
              0.3333333333333333,
              "#9c179e"
             ],
             [
              0.4444444444444444,
              "#bd3786"
             ],
             [
              0.5555555555555556,
              "#d8576b"
             ],
             [
              0.6666666666666666,
              "#ed7953"
             ],
             [
              0.7777777777777778,
              "#fb9f3a"
             ],
             [
              0.8888888888888888,
              "#fdca26"
             ],
             [
              1,
              "#f0f921"
             ]
            ],
            "type": "histogram2d"
           }
          ],
          "histogram2dcontour": [
           {
            "colorbar": {
             "outlinewidth": 0,
             "ticks": ""
            },
            "colorscale": [
             [
              0,
              "#0d0887"
             ],
             [
              0.1111111111111111,
              "#46039f"
             ],
             [
              0.2222222222222222,
              "#7201a8"
             ],
             [
              0.3333333333333333,
              "#9c179e"
             ],
             [
              0.4444444444444444,
              "#bd3786"
             ],
             [
              0.5555555555555556,
              "#d8576b"
             ],
             [
              0.6666666666666666,
              "#ed7953"
             ],
             [
              0.7777777777777778,
              "#fb9f3a"
             ],
             [
              0.8888888888888888,
              "#fdca26"
             ],
             [
              1,
              "#f0f921"
             ]
            ],
            "type": "histogram2dcontour"
           }
          ],
          "mesh3d": [
           {
            "colorbar": {
             "outlinewidth": 0,
             "ticks": ""
            },
            "type": "mesh3d"
           }
          ],
          "parcoords": [
           {
            "line": {
             "colorbar": {
              "outlinewidth": 0,
              "ticks": ""
             }
            },
            "type": "parcoords"
           }
          ],
          "pie": [
           {
            "automargin": true,
            "type": "pie"
           }
          ],
          "scatter": [
           {
            "fillpattern": {
             "fillmode": "overlay",
             "size": 10,
             "solidity": 0.2
            },
            "type": "scatter"
           }
          ],
          "scatter3d": [
           {
            "line": {
             "colorbar": {
              "outlinewidth": 0,
              "ticks": ""
             }
            },
            "marker": {
             "colorbar": {
              "outlinewidth": 0,
              "ticks": ""
             }
            },
            "type": "scatter3d"
           }
          ],
          "scattercarpet": [
           {
            "marker": {
             "colorbar": {
              "outlinewidth": 0,
              "ticks": ""
             }
            },
            "type": "scattercarpet"
           }
          ],
          "scattergeo": [
           {
            "marker": {
             "colorbar": {
              "outlinewidth": 0,
              "ticks": ""
             }
            },
            "type": "scattergeo"
           }
          ],
          "scattergl": [
           {
            "marker": {
             "colorbar": {
              "outlinewidth": 0,
              "ticks": ""
             }
            },
            "type": "scattergl"
           }
          ],
          "scattermap": [
           {
            "marker": {
             "colorbar": {
              "outlinewidth": 0,
              "ticks": ""
             }
            },
            "type": "scattermap"
           }
          ],
          "scattermapbox": [
           {
            "marker": {
             "colorbar": {
              "outlinewidth": 0,
              "ticks": ""
             }
            },
            "type": "scattermapbox"
           }
          ],
          "scatterpolar": [
           {
            "marker": {
             "colorbar": {
              "outlinewidth": 0,
              "ticks": ""
             }
            },
            "type": "scatterpolar"
           }
          ],
          "scatterpolargl": [
           {
            "marker": {
             "colorbar": {
              "outlinewidth": 0,
              "ticks": ""
             }
            },
            "type": "scatterpolargl"
           }
          ],
          "scatterternary": [
           {
            "marker": {
             "colorbar": {
              "outlinewidth": 0,
              "ticks": ""
             }
            },
            "type": "scatterternary"
           }
          ],
          "surface": [
           {
            "colorbar": {
             "outlinewidth": 0,
             "ticks": ""
            },
            "colorscale": [
             [
              0,
              "#0d0887"
             ],
             [
              0.1111111111111111,
              "#46039f"
             ],
             [
              0.2222222222222222,
              "#7201a8"
             ],
             [
              0.3333333333333333,
              "#9c179e"
             ],
             [
              0.4444444444444444,
              "#bd3786"
             ],
             [
              0.5555555555555556,
              "#d8576b"
             ],
             [
              0.6666666666666666,
              "#ed7953"
             ],
             [
              0.7777777777777778,
              "#fb9f3a"
             ],
             [
              0.8888888888888888,
              "#fdca26"
             ],
             [
              1,
              "#f0f921"
             ]
            ],
            "type": "surface"
           }
          ],
          "table": [
           {
            "cells": {
             "fill": {
              "color": "#EBF0F8"
             },
             "line": {
              "color": "white"
             }
            },
            "header": {
             "fill": {
              "color": "#C8D4E3"
             },
             "line": {
              "color": "white"
             }
            },
            "type": "table"
           }
          ]
         },
         "layout": {
          "annotationdefaults": {
           "arrowcolor": "#2a3f5f",
           "arrowhead": 0,
           "arrowwidth": 1
          },
          "autotypenumbers": "strict",
          "coloraxis": {
           "colorbar": {
            "outlinewidth": 0,
            "ticks": ""
           }
          },
          "colorscale": {
           "diverging": [
            [
             0,
             "#8e0152"
            ],
            [
             0.1,
             "#c51b7d"
            ],
            [
             0.2,
             "#de77ae"
            ],
            [
             0.3,
             "#f1b6da"
            ],
            [
             0.4,
             "#fde0ef"
            ],
            [
             0.5,
             "#f7f7f7"
            ],
            [
             0.6,
             "#e6f5d0"
            ],
            [
             0.7,
             "#b8e186"
            ],
            [
             0.8,
             "#7fbc41"
            ],
            [
             0.9,
             "#4d9221"
            ],
            [
             1,
             "#276419"
            ]
           ],
           "sequential": [
            [
             0,
             "#0d0887"
            ],
            [
             0.1111111111111111,
             "#46039f"
            ],
            [
             0.2222222222222222,
             "#7201a8"
            ],
            [
             0.3333333333333333,
             "#9c179e"
            ],
            [
             0.4444444444444444,
             "#bd3786"
            ],
            [
             0.5555555555555556,
             "#d8576b"
            ],
            [
             0.6666666666666666,
             "#ed7953"
            ],
            [
             0.7777777777777778,
             "#fb9f3a"
            ],
            [
             0.8888888888888888,
             "#fdca26"
            ],
            [
             1,
             "#f0f921"
            ]
           ],
           "sequentialminus": [
            [
             0,
             "#0d0887"
            ],
            [
             0.1111111111111111,
             "#46039f"
            ],
            [
             0.2222222222222222,
             "#7201a8"
            ],
            [
             0.3333333333333333,
             "#9c179e"
            ],
            [
             0.4444444444444444,
             "#bd3786"
            ],
            [
             0.5555555555555556,
             "#d8576b"
            ],
            [
             0.6666666666666666,
             "#ed7953"
            ],
            [
             0.7777777777777778,
             "#fb9f3a"
            ],
            [
             0.8888888888888888,
             "#fdca26"
            ],
            [
             1,
             "#f0f921"
            ]
           ]
          },
          "colorway": [
           "#636efa",
           "#EF553B",
           "#00cc96",
           "#ab63fa",
           "#FFA15A",
           "#19d3f3",
           "#FF6692",
           "#B6E880",
           "#FF97FF",
           "#FECB52"
          ],
          "font": {
           "color": "#2a3f5f"
          },
          "geo": {
           "bgcolor": "white",
           "lakecolor": "white",
           "landcolor": "#E5ECF6",
           "showlakes": true,
           "showland": true,
           "subunitcolor": "white"
          },
          "hoverlabel": {
           "align": "left"
          },
          "hovermode": "closest",
          "mapbox": {
           "style": "light"
          },
          "paper_bgcolor": "white",
          "plot_bgcolor": "#E5ECF6",
          "polar": {
           "angularaxis": {
            "gridcolor": "white",
            "linecolor": "white",
            "ticks": ""
           },
           "bgcolor": "#E5ECF6",
           "radialaxis": {
            "gridcolor": "white",
            "linecolor": "white",
            "ticks": ""
           }
          },
          "scene": {
           "xaxis": {
            "backgroundcolor": "#E5ECF6",
            "gridcolor": "white",
            "gridwidth": 2,
            "linecolor": "white",
            "showbackground": true,
            "ticks": "",
            "zerolinecolor": "white"
           },
           "yaxis": {
            "backgroundcolor": "#E5ECF6",
            "gridcolor": "white",
            "gridwidth": 2,
            "linecolor": "white",
            "showbackground": true,
            "ticks": "",
            "zerolinecolor": "white"
           },
           "zaxis": {
            "backgroundcolor": "#E5ECF6",
            "gridcolor": "white",
            "gridwidth": 2,
            "linecolor": "white",
            "showbackground": true,
            "ticks": "",
            "zerolinecolor": "white"
           }
          },
          "shapedefaults": {
           "line": {
            "color": "#2a3f5f"
           }
          },
          "ternary": {
           "aaxis": {
            "gridcolor": "white",
            "linecolor": "white",
            "ticks": ""
           },
           "baxis": {
            "gridcolor": "white",
            "linecolor": "white",
            "ticks": ""
           },
           "bgcolor": "#E5ECF6",
           "caxis": {
            "gridcolor": "white",
            "linecolor": "white",
            "ticks": ""
           }
          },
          "title": {
           "x": 0.05
          },
          "xaxis": {
           "automargin": true,
           "gridcolor": "white",
           "linecolor": "white",
           "ticks": "",
           "title": {
            "standoff": 15
           },
           "zerolinecolor": "white",
           "zerolinewidth": 2
          },
          "yaxis": {
           "automargin": true,
           "gridcolor": "white",
           "linecolor": "white",
           "ticks": "",
           "title": {
            "standoff": 15
           },
           "zerolinecolor": "white",
           "zerolinewidth": 2
          }
         }
        },
        "xaxis": {
         "anchor": "y",
         "domain": [
          0,
          1
         ],
         "title": {
          "text": "index"
         }
        },
        "yaxis": {
         "anchor": "x",
         "domain": [
          0,
          1
         ],
         "title": {
          "text": "value"
         }
        }
       }
      }
     },
     "metadata": {},
     "output_type": "display_data"
    }
   ],
   "source": [
    "px.line(df.corr()['price_range'][:-1].sort_values())"
   ]
  },
  {
   "cell_type": "code",
   "execution_count": 18,
   "id": "059fd9cd",
   "metadata": {},
   "outputs": [
    {
     "data": {
      "application/vnd.plotly.v1+json": {
       "config": {
        "plotlyServerURL": "https://plot.ly"
       },
       "data": [
        {
         "branchvalues": "total",
         "domain": {
          "x": [
           0,
           1
          ],
          "y": [
           0,
           1
          ]
         },
         "hovertemplate": "labels=%{label}<br>count=%{value}<br>parent=%{parent}<br>id=%{id}<extra></extra>",
         "ids": [
          "1/842",
          "2/1021",
          "2/563",
          "2/615",
          "1/1821",
          "1/1859",
          "3/1821",
          "0/1954",
          "0/1445",
          "0/509",
          "3/769",
          "3/1520",
          "1/1815",
          "2/803",
          "0/1866",
          "0/775",
          "3/838",
          "3/595",
          "1/1131",
          "1/682",
          "3/772",
          "3/1709",
          "1/1949",
          "0/1602",
          "1/503",
          "2/961",
          "3/519",
          "3/956",
          "2/1453",
          "0/851",
          "3/1579",
          "0/1568",
          "1/1319",
          "3/1310",
          "0/644",
          "1/725",
          "1/589",
          "3/1725",
          "2/790",
          "2/560",
          "2/1347",
          "3/1646",
          "1/1253",
          "1/1656",
          "0/1195",
          "1/1514",
          "3/1723",
          "1/1054",
          "0/578",
          "3/596",
          "2/1547",
          "2/1760",
          "3/1654",
          "1/1457",
          "2/1073",
          "2/1936",
          "0/823",
          "3/987",
          "1/1757",
          "2/1063",
          "1/1484",
          "0/799",
          "0/1156",
          "2/1720",
          "2/702",
          "3/616",
          "3/1358",
          "3/1866",
          "0/1242",
          "3/1166",
          "3/1448",
          "2/1407",
          "0/605",
          "3/1038",
          "0/797",
          "1/819",
          "0/1114",
          "0/1234",
          "3/1199",
          "1/1103",
          "3/1589",
          "2/999",
          "3/1510",
          "1/1008",
          "1/1127",
          "1/1412",
          "0/1496",
          "3/1083",
          "2/668",
          "2/1309",
          "3/1724",
          "2/1977",
          "0/885",
          "0/879",
          "1/1322",
          "3/1137",
          "0/1355",
          "2/1665",
          "0/657",
          "1/593",
          "3/1883",
          "1/1732",
          "1/543",
          "0/1939",
          "0/553",
          "1/832",
          "3/1661",
          "3/1657",
          "3/1135",
          "3/1775",
          "1/783",
          "1/617",
          "0/867",
          "2/1310",
          "3/1804",
          "3/1900",
          "2/909",
          "1/1084",
          "0/1308",
          "1/1778",
          "2/1701",
          "3/825",
          "3/1379",
          "2/1166",
          "3/1659",
          "2/826",
          "1/1564",
          "3/1957",
          "0/1571",
          "3/1414",
          "1/1790",
          "2/645",
          "1/668",
          "2/1652",
          "2/1213",
          "1/1272",
          "3/866",
          "0/536",
          "0/523",
          "2/1753",
          "0/1218",
          "3/1537",
          "2/786",
          "0/1678",
          "3/1814",
          "1/1101",
          "3/1461",
          "2/1216",
          "2/506",
          "1/843",
          "3/742",
          "1/1692",
          "2/1485",
          "0/1547",
          "0/637",
          "0/1224",
          "3/1356",
          "1/1840",
          "2/1481",
          "0/1296",
          "0/1193",
          "2/1441",
          "3/517",
          "1/748",
          "2/1126",
          "3/1572",
          "1/1569",
          "3/1270",
          "1/1854",
          "2/625",
          "2/1577",
          "3/534",
          "2/946",
          "0/685",
          "3/1949",
          "2/947",
          "1/801",
          "0/703",
          "0/1165",
          "2/1082",
          "3/959",
          "3/1502",
          "0/1380",
          "2/1266",
          "3/1934",
          "1/1905",
          "3/1831",
          "1/596",
          "2/1562",
          "3/1490",
          "3/1523",
          "2/640",
          "2/1526",
          "2/1989",
          "3/1308",
          "1/609",
          "0/1703",
          "1/1445",
          "0/1087",
          "2/671",
          "2/1472",
          "2/765",
          "2/1642",
          "1/1265",
          "3/664",
          "3/1277",
          "2/1395",
          "2/1539",
          "0/1049",
          "2/1827",
          "0/903",
          "3/1987",
          "0/1154",
          "1/1336",
          "1/1886",
          "3/1551",
          "0/850",
          "0/660",
          "3/1225",
          "2/1452",
          "3/1686",
          "3/1634",
          "3/1708",
          "2/1151",
          "2/1578",
          "3/1689",
          "3/1488",
          "3/1313",
          "0/1715",
          "1/1442",
          "2/528",
          "0/1523",
          "1/1133",
          "3/1718",
          "1/1330",
          "0/1799",
          "2/633",
          "2/724",
          "3/822",
          "2/1918",
          "3/1891",
          "3/1373",
          "0/862",
          "1/1273",
          "1/957",
          "0/1617",
          "2/893",
          "2/1210",
          "1/708",
          "0/835",
          "0/1450",
          "2/973",
          "0/601",
          "1/507",
          "0/564",
          "3/1559",
          "1/754",
          "1/728",
          "0/1431",
          "0/767",
          "3/1722",
          "1/1992",
          "3/1876",
          "2/1283",
          "1/1281",
          "0/1066",
          "0/730",
          "3/1053",
          "1/1611",
          "2/793",
          "2/1220",
          "3/1662",
          "0/538",
          "3/1733",
          "3/1429",
          "1/1839",
          "1/659",
          "2/1953",
          "1/1172",
          "3/612",
          "3/1563",
          "1/1191",
          "1/615",
          "3/1893",
          "2/1995",
          "3/1517",
          "0/832",
          "1/1162",
          "3/1595",
          "1/1329",
          "0/928",
          "3/1937",
          "0/977",
          "0/768",
          "3/1464",
          "0/1177",
          "1/1348",
          "1/1956",
          "2/1751",
          "0/1530",
          "2/1997",
          "2/1707",
          "3/894",
          "0/645",
          "2/1163",
          "3/1126",
          "1/1648",
          "0/1170",
          "0/508",
          "1/1097",
          "0/728",
          "3/1980",
          "3/1504",
          "0/1379",
          "0/1698",
          "0/920",
          "2/1144",
          "1/1995",
          "2/1430",
          "1/972",
          "1/662",
          "1/1867",
          "1/1730",
          "1/1723",
          "2/1882",
          "3/580",
          "0/668",
          "2/1391",
          "2/1560",
          "2/821",
          "1/811",
          "3/1034",
          "0/618",
          "1/654",
          "2/576",
          "2/667",
          "2/869",
          "2/635",
          "3/1557",
          "0/1604",
          "2/1182",
          "2/848",
          "1/1610",
          "2/1828",
          "0/880",
          "0/1394",
          "3/1960",
          "1/809",
          "0/899",
          "3/1976",
          "2/879",
          "0/916",
          "0/763",
          "2/508",
          "2/1864",
          "1/1725",
          "3/1108",
          "1/1011",
          "3/1703",
          "0/1067",
          "3/1334",
          "2/775",
          "0/1899",
          "1/930",
          "0/1058",
          "3/1187",
          "1/1874",
          "2/1482",
          "2/1809",
          "2/864",
          "3/1880",
          "3/1138",
          "1/560",
          "2/1117",
          "3/1712",
          "3/1836",
          "1/1036",
          "3/1860",
          "3/1375",
          "1/1945",
          "3/1896",
          "3/788",
          "1/1323",
          "3/1868",
          "3/1042",
          "3/1479",
          "2/1476",
          "2/1552",
          "3/1454",
          "3/1007",
          "0/652",
          "2/1504",
          "2/1726",
          "0/1029",
          "3/1582",
          "1/1478",
          "2/1178",
          "3/707",
          "2/755",
          "1/912",
          "1/651",
          "1/1483",
          "0/914",
          "1/1456",
          "2/1503",
          "0/1681",
          "2/715",
          "2/1876",
          "0/1190",
          "3/1755",
          "1/1197",
          "1/1048",
          "3/1887",
          "1/1772",
          "3/1421",
          "1/1464",
          "0/954",
          "3/685",
          "1/1472",
          "3/853",
          "0/1469",
          "0/1310",
          "1/1654",
          "3/902",
          "1/1448",
          "0/1631",
          "0/1608",
          "2/1991",
          "2/1349",
          "2/1589",
          "1/1844",
          "1/712",
          "3/1406",
          "0/1289",
          "3/932",
          "2/1747",
          "3/1128",
          "1/664",
          "0/513",
          "2/1742",
          "2/1512",
          "1/1986",
          "0/965",
          "3/1583",
          "3/1653",
          "0/1433",
          "0/765",
          "1/1845",
          "3/752",
          "3/1948",
          "1/1077",
          "0/932",
          "2/1968",
          "2/1122",
          "3/1588",
          "3/1615",
          "0/1417",
          "3/1697",
          "0/1330",
          "3/1476",
          "1/1579",
          "0/1277",
          "2/1089",
          "2/1663",
          "2/1138",
          "3/1889",
          "2/857",
          "0/1902",
          "1/1225",
          "2/1066",
          "3/1554",
          "1/1337",
          "2/1926",
          "3/869",
          "0/1278",
          "3/1773",
          "1/1661",
          "0/1438",
          "0/1661",
          "1/1846",
          "2/1260",
          "2/512",
          "2/581",
          "2/1872",
          "3/687",
          "3/1062",
          "1/1417",
          "1/1074",
          "2/1832",
          "1/1039",
          "3/1059",
          "3/1606",
          "3/1928",
          "3/1875",
          "1/1128",
          "3/1748",
          "3/1413",
          "2/535",
          "3/1780",
          "2/1671",
          "2/1821",
          "0/1076",
          "0/532",
          "3/777",
          "1/1217",
          "2/1656",
          "2/1185",
          "0/577",
          "2/737",
          "2/704",
          "1/525",
          "0/504",
          "3/793",
          "1/569",
          "1/1590",
          "1/707",
          "1/767",
          "1/1350",
          "2/641",
          "1/1002",
          "3/1408",
          "1/1900",
          "0/726",
          "1/1544",
          "0/1454",
          "0/1230",
          "2/1519",
          "2/723",
          "0/1191",
          "3/1168",
          "1/1229",
          "2/1758",
          "1/1290",
          "2/574",
          "0/1271",
          "1/1269",
          "3/1288",
          "3/1366",
          "3/1627",
          "3/1701",
          "0/1974",
          "2/1197",
          "2/587",
          "0/934",
          "3/1853",
          "3/1164",
          "3/1512",
          "0/1232",
          "0/1813",
          "3/946",
          "0/739",
          "0/704",
          "1/1663",
          "2/1966",
          "0/1219",
          "2/612",
          "3/1658",
          "1/1263",
          "3/1395",
          "2/621",
          "2/1175",
          "2/561",
          "0/1137",
          "0/1835",
          "1/1170",
          "0/1719",
          "1/1770",
          "1/1312",
          "2/1878",
          "2/1871",
          "0/922",
          "2/1975",
          "2/1212",
          "0/1430",
          "1/1958",
          "0/557",
          "2/539",
          "2/880",
          "3/1369",
          "1/1109",
          "3/843",
          "2/598",
          "2/972",
          "1/1944",
          "2/1225",
          "2/644",
          "1/1919",
          "1/501",
          "0/1620",
          "1/1227",
          "0/1359",
          "1/1914",
          "0/1645",
          "3/1063",
          "1/946",
          "1/1231",
          "3/1397",
          "1/701",
          "3/570",
          "2/1993",
          "1/955",
          "1/924",
          "0/600",
          "2/518",
          "0/1063",
          "2/920",
          "2/1841",
          "0/543",
          "1/1762",
          "3/1112",
          "1/709",
          "2/1315",
          "2/1762",
          "0/1462",
          "1/571",
          "0/666",
          "3/1994",
          "2/1583",
          "3/1926",
          "2/966",
          "0/568",
          "0/1897",
          "1/1695",
          "2/1623",
          "0/1721",
          "0/890",
          "2/600",
          "3/1677",
          "1/723",
          "2/638",
          "1/852",
          "0/1979",
          "0/710",
          "0/1034",
          "3/1027",
          "3/1793",
          "0/675",
          "3/658",
          "2/1694",
          "1/804",
          "2/1713",
          "1/706",
          "0/1362",
          "2/1527",
          "0/1314",
          "1/705",
          "3/1403",
          "0/1486",
          "3/781",
          "1/986",
          "1/1310",
          "3/1348",
          "2/1567",
          "2/1940",
          "0/561",
          "3/1717",
          "0/535",
          "3/1254",
          "3/1591",
          "3/977",
          "0/1640",
          "2/663",
          "1/1744",
          "2/1624",
          "0/1108",
          "3/1188",
          "1/817",
          "0/863",
          "1/1397",
          "1/1068",
          "3/1702",
          "3/808",
          "1/1156",
          "1/696",
          "1/1981",
          "2/614",
          "3/1945",
          "2/1807",
          "0/984",
          "3/720",
          "2/1536",
          "0/771",
          "0/503",
          "2/675",
          "1/1936",
          "2/1303",
          "3/1004",
          "3/1972",
          "2/1822",
          "1/1159",
          "2/1782",
          "2/894",
          "3/1884",
          "2/798",
          "3/802",
          "3/1276",
          "1/1331",
          "1/1620",
          "2/1996",
          "1/1092",
          "2/1018",
          "0/545",
          "2/554",
          "0/1264",
          "3/1030",
          "0/1432",
          "0/558",
          "0/829",
          "3/1741",
          "3/1849",
          "0/733",
          "2/1853",
          "3/1149",
          "1/891",
          "3/1911",
          "0/550",
          "1/576",
          "0/969",
          "0/1160",
          "0/827",
          "3/1786",
          "2/774",
          "0/819",
          "2/1042",
          "2/1368",
          "1/1592",
          "2/1892",
          "0/915",
          "3/774",
          "3/1848",
          "2/1501",
          "3/1614",
          "0/911",
          "2/1647",
          "3/1347",
          "2/967",
          "2/1442",
          "1/1204",
          "0/1320",
          "3/1800",
          "3/1567",
          "1/1439",
          "0/1422",
          "0/1591",
          "1/1929",
          "3/1511",
          "3/1312",
          "3/1852",
          "3/972",
          "0/691",
          "0/807",
          "0/1113",
          "1/721",
          "0/1188",
          "0/805",
          "1/918",
          "2/1320",
          "0/1236",
          "0/1387",
          "3/839",
          "1/1593",
          "3/1954",
          "2/1788",
          "3/1628",
          "3/1965",
          "1/833",
          "3/1808",
          "0/1860",
          "3/1368",
          "3/1161",
          "3/1224",
          "2/787",
          "2/854",
          "3/1184",
          "2/1973",
          "1/510",
          "3/966",
          "2/1438",
          "3/1986",
          "0/1907",
          "0/1489",
          "3/1843",
          "0/825",
          "0/1286",
          "3/840",
          "2/757",
          "1/814",
          "2/767",
          "2/994",
          "2/1550",
          "1/1878",
          "2/623",
          "2/1829",
          "0/525",
          "2/1065",
          "0/1425",
          "2/1296",
          "2/642",
          "2/1664",
          "3/1498",
          "0/981",
          "3/1673",
          "3/712",
          "0/603",
          "1/1332",
          "0/1413",
          "0/1064",
          "3/1444",
          "3/906",
          "0/1554",
          "2/1187",
          "2/1156",
          "1/1918",
          "2/841",
          "2/730",
          "2/878",
          "0/1059",
          "3/1578",
          "1/1829",
          "1/1132",
          "3/1652",
          "3/912",
          "1/1181",
          "2/1497",
          "3/1790",
          "2/1549",
          "0/1372",
          "3/1005",
          "0/783",
          "2/1698",
          "2/899",
          "0/1062",
          "3/989",
          "3/1983",
          "0/1800",
          "1/1254",
          "1/868",
          "0/1205",
          "1/1284",
          "2/626",
          "1/1763",
          "3/694",
          "0/816",
          "0/904",
          "3/979",
          "2/1531",
          "1/1624",
          "0/874",
          "1/1027",
          "1/1496",
          "2/959",
          "0/1689",
          "3/1558",
          "2/582",
          "3/1485",
          "1/1991",
          "2/553",
          "3/1231",
          "3/805",
          "2/764",
          "3/1456",
          "0/743",
          "0/1061",
          "1/1428",
          "0/674",
          "3/832",
          "0/1625",
          "0/907",
          "2/1631",
          "1/1584",
          "1/1382",
          "1/633",
          "0/852",
          "1/922",
          "3/1745",
          "3/862",
          "3/1754",
          "3/1569",
          "2/1596",
          "3/1807",
          "1/1660",
          "1/1861",
          "2/648",
          "0/1910",
          "0/1807",
          "1/1923",
          "1/1345",
          "1/904",
          "0/1239",
          "3/1330",
          "2/516",
          "0/672",
          "1/892",
          "3/1778",
          "0/1130",
          "3/1359",
          "1/1866",
          "0/1597",
          "3/1046",
          "3/1035",
          "1/1175",
          "0/1261",
          "0/1068",
          "0/1713",
          "3/1688",
          "1/559",
          "1/860",
          "1/1090",
          "0/686",
          "0/818",
          "3/1777",
          "2/594",
          "0/1524",
          "0/511",
          "0/1402",
          "2/965",
          "0/919",
          "1/1963",
          "3/1977",
          "1/1881",
          "2/683",
          "0/772",
          "0/1633",
          "2/1371",
          "0/551",
          "3/1221",
          "3/1000",
          "3/1119",
          "3/1699",
          "1/1099",
          "0/1576",
          "0/950",
          "0/1081",
          "0/606",
          "1/502",
          "2/1658",
          "2/1681",
          "2/1983",
          "1/1753",
          "2/1632",
          "0/1949",
          "0/1696",
          "3/688",
          "0/1104",
          "1/1122",
          "1/504",
          "3/1727",
          "2/1674",
          "0/1948",
          "1/1218",
          "2/531",
          "3/1057",
          "1/673",
          "1/718",
          "1/864",
          "1/547",
          "3/623",
          "1/1793",
          "1/1720",
          "2/812",
          "2/980",
          "1/643",
          "2/1925",
          "1/1522",
          "0/1959",
          "1/1872",
          "0/1043",
          "3/1809",
          "0/1095",
          "0/1414",
          "0/1659",
          "1/1540",
          "3/1342",
          "0/1189",
          "1/518",
          "1/1449",
          "0/516",
          "2/1893",
          "1/1076",
          "0/530",
          "1/1044",
          "2/1330",
          "2/1836",
          "2/1741",
          "1/1869",
          "0/1655",
          "1/605",
          "2/1245",
          "2/1709",
          "2/846",
          "0/1403",
          "0/688",
          "1/775",
          "3/1154",
          "1/1375",
          "3/1827",
          "0/1697",
          "0/741",
          "1/1672",
          "0/514",
          "1/989",
          "0/1510",
          "0/1266",
          "2/1396",
          "3/1542",
          "1/745",
          "3/1735",
          "3/586",
          "1/1341",
          "2/501",
          "2/1970",
          "2/618",
          "3/1018",
          "3/1545",
          "3/1871",
          "1/1729",
          "2/680",
          "2/1106",
          "1/635",
          "0/1671",
          "3/1975",
          "2/831",
          "2/1524",
          "1/1528",
          "0/1447",
          "1/1344",
          "1/564",
          "0/921",
          "2/1413",
          "0/831",
          "2/802",
          "2/1923",
          "2/1193",
          "2/904",
          "1/1285",
          "2/1635",
          "0/1851",
          "1/727",
          "1/1396",
          "2/877",
          "1/1009",
          "3/1526",
          "0/987",
          "1/1414",
          "3/1732",
          "0/1587",
          "2/1097",
          "2/1159",
          "2/1910",
          "2/865",
          "2/1930",
          "2/860",
          "0/1268",
          "0/999",
          "2/622",
          "1/1250",
          "2/763",
          "0/1100",
          "3/815",
          "1/618",
          "3/553",
          "2/673",
          "3/1590",
          "2/1031",
          "0/909",
          "1/1271",
          "0/709",
          "0/1744",
          "3/1314",
          "2/1136",
          "2/1039",
          "0/1300",
          "3/732",
          "2/511",
          "0/1092",
          "3/921",
          "2/1030",
          "1/1299",
          "2/1009",
          "2/1735",
          "1/1129",
          "0/708",
          "2/1487",
          "1/1524",
          "1/1093",
          "3/1816",
          "0/627",
          "1/1895",
          "2/805",
          "0/713",
          "3/864",
          "1/1177",
          "2/1898",
          "1/1158",
          "3/1451",
          "2/1820",
          "2/580",
          "2/1263",
          "2/1237",
          "3/514",
          "0/1515",
          "0/721",
          "3/603",
          "2/1426",
          "1/1820",
          "2/1215",
          "0/697",
          "0/717",
          "2/1348",
          "2/578",
          "0/1971",
          "0/1794",
          "0/1558",
          "2/1597",
          "3/1240",
          "0/1994",
          "2/1221",
          "2/989",
          "1/1180",
          "1/1670",
          "2/534",
          "1/1566",
          "0/1935",
          "2/504",
          "1/913",
          "3/1317",
          "3/917",
          "0/712",
          "0/1083",
          "3/1747",
          "3/1872",
          "1/1796",
          "0/1097",
          "3/1562",
          "3/1433",
          "0/740",
          "1/676",
          "3/503",
          "1/1020",
          "1/896",
          "2/1824",
          "0/1053",
          "3/1944",
          "0/1174",
          "1/627",
          "1/1602",
          "2/586",
          "0/1528",
          "0/875",
          "3/1602",
          "1/1426",
          "3/1370",
          "2/840",
          "2/991",
          "0/584",
          "3/860",
          "1/1541",
          "0/912",
          "3/1278",
          "0/1365",
          "2/1702",
          "0/589",
          "2/1644",
          "0/871",
          "0/1928",
          "3/888",
          "3/1077",
          "1/1023",
          "3/1496",
          "1/1433",
          "3/1095",
          "1/1142",
          "0/1901",
          "1/1510",
          "3/1924",
          "3/1825",
          "3/1275",
          "1/1538",
          "0/808",
          "1/1507",
          "1/769",
          "3/948",
          "1/1384",
          "2/1766",
          "1/1407",
          "1/614",
          "1/1972",
          "2/1811",
          "3/1988",
          "2/1469",
          "1/1423",
          "1/1974",
          "2/835",
          "1/1429",
          "3/1446",
          "2/1332",
          "0/1498",
          "3/1576",
          "3/1398",
          "1/1885",
          "3/1436",
          "2/1998",
          "1/1321",
          "1/1021",
          "2/1339",
          "1/1210",
          "0/882",
          "0/1549",
          "0/1991",
          "0/796",
          "2/1012",
          "1/1318",
          "1/1708",
          "0/541",
          "2/818",
          "2/601",
          "0/1616",
          "3/1263",
          "1/1604",
          "0/539",
          "3/1071",
          "0/826",
          "1/771",
          "3/1811",
          "3/1842",
          "0/1420",
          "0/1763",
          "1/1163",
          "1/1805",
          "3/610",
          "2/1533",
          "0/1801",
          "1/794",
          "0/1686",
          "0/1444",
          "0/1004",
          "3/539",
          "0/1540",
          "3/1325",
          "2/948",
          "2/1328",
          "1/1973",
          "1/1731",
          "2/1617",
          "0/1791",
          "1/856",
          "1/714",
          "0/951",
          "2/1759",
          "0/1448",
          "1/1987",
          "3/908",
          "0/820",
          "2/1109",
          "3/1333",
          "1/1352",
          "1/1600",
          "1/1454",
          "1/1489",
          "2/1823",
          "1/1581",
          "3/1283",
          "0/630",
          "3/659",
          "0/1811",
          "1/688",
          "0/1933",
          "0/1006",
          "3/1134",
          "2/599",
          "1/973",
          "0/1180",
          "0/1142",
          "0/1002",
          "1/1392",
          "2/602",
          "0/1249",
          "1/531",
          "1/1450",
          "2/1342",
          "1/867",
          "1/1404",
          "1/1368",
          "3/1927",
          "3/1714",
          "0/1201",
          "3/1796",
          "2/1147",
          "0/776",
          "2/1045",
          "3/1497",
          "3/1425",
          "1/1576",
          "1/1595",
          "1/541",
          "3/1617",
          "1/1154",
          "2/1638",
          "0/1150",
          "2/1254",
          "3/1806",
          "1/603",
          "3/1834",
          "1/520",
          "1/565",
          "2/1689",
          "0/742",
          "1/1143",
          "2/761",
          "1/1015",
          "3/1824",
          "0/1183",
          "0/574",
          "0/1472",
          "0/1868",
          "1/881",
          "1/1186",
          "3/1731",
          "1/848",
          "2/1575",
          "2/1554",
          "1/827",
          "1/1063",
          "3/1695",
          "0/1343",
          "1/834",
          "0/595",
          "1/1081",
          "3/911",
          "3/844",
          "3/1335",
          "1/826",
          "0/1650",
          "2/1517",
          "2/963",
          "3/1837",
          "1/1028",
          "1/1831",
          "0/571",
          "3/1770",
          "3/970",
          "0/642",
          "2/733",
          "2/1070",
          "2/1994",
          "3/823",
          "3/1908",
          "3/790",
          "2/1660",
          "3/1776",
          "2/1611",
          "2/1410",
          "1/1280",
          "1/1712",
          "0/891",
          "1/1957",
          "0/1110",
          "3/875",
          "2/1211",
          "0/769",
          "2/1076",
          "2/1325",
          "1/911",
          "0/1273",
          "0/1317",
          "1/940",
          "2/729",
          "1/1494",
          "0/1546",
          "3/1253",
          "2/895",
          "0/793",
          "1/999",
          "2/1856",
          "1/1715",
          "0/1202",
          "0/1171",
          "2/964",
          "0/1973",
          "3/1992",
          "1/546",
          "2/1880",
          "3/1765",
          "3/1640",
          "2/1830",
          "1/586",
          "2/1206",
          "0/848",
          "2/1851",
          "1/1776",
          "0/1254",
          "3/1494",
          "1/984",
          "0/1179",
          "2/513",
          "1/557",
          "2/744",
          "2/1148",
          "3/1604",
          "2/1676",
          "3/1001",
          "3/1086",
          "3/634",
          "2/502",
          "2/1641",
          "3/962",
          "1/1057",
          "1/1862",
          "1/555",
          "0/1000",
          "0/841",
          "3/865",
          "1/1232",
          "0/1194",
          "3/1362",
          "1/1469",
          "0/986",
          "2/1561",
          "3/1768",
          "2/1269",
          "3/936",
          "1/1713",
          "1/1940",
          "1/855",
          "1/1307",
          "1/1509",
          "0/626",
          "3/1190",
          "0/1727",
          "3/1670",
          "1/1150",
          "1/1208",
          "3/1812",
          "3/770",
          "1/1559",
          "1/1902",
          "1/1751",
          "3/1416",
          "2/1288",
          "1/1003",
          "3/1715",
          "1/1967",
          "1/962",
          "0/1146",
          "1/1379",
          "1/1504",
          "2/1630",
          "1/1125",
          "3/1470",
          "2/1826",
          "1/807",
          "1/1996",
          "1/1083",
          "3/1521",
          "3/673",
          "2/1219",
          "1/1603",
          "3/1958",
          "2/695",
          "1/1441",
          "2/1470",
          "3/1890",
          "3/1152",
          "0/1619",
          "2/1306",
          "2/1424",
          "0/942",
          "2/1934",
          "0/1290",
          "2/930",
          "1/1699",
          "3/1922",
          "0/548",
          "1/916",
          "2/1783",
          "0/1969",
          "2/1337",
          "2/637",
          "0/833",
          "2/1248",
          "2/1831",
          "2/1010",
          "1/1117",
          "2/990",
          "3/1564",
          "1/1065",
          "3/1982",
          "0/1607",
          "2/681",
          "3/1285",
          "3/753",
          "1/1779",
          "2/987",
          "1/511",
          "3/1855",
          "0/946",
          "2/1673",
          "1/731",
          "0/926",
          "1/1261",
          "1/936",
          "0/1339",
          "1/508",
          "3/1938",
          "0/995",
          "2/1086",
          "3/1322",
          "3/1864",
          "2/1944",
          "0/581",
          "3/1020",
          "0/993",
          "3/1136",
          "3/719",
          "3/1946",
          "2/1230",
          "3/1577",
          "0/1514",
          "2/579",
          "2/1072",
          "3/1492",
          "2/1436",
          "0/1251",
          "2/636",
          "1/1354",
          "3/1830",
          "1/1424",
          "1/583",
          "3/648",
          "0/1203",
          "1/1777",
          "0/527",
          "1/793",
          "0/873",
          "1/722",
          "2/1250",
          "0/1358",
          "1/1035",
          "3/1289",
          "3/1445",
          "1/1702",
          "1/628",
          "0/1207",
          "1/683",
          "0/594",
          "1/537",
          "0/1565",
          "0/1052",
          "1/713",
          "3/1766",
          "3/584",
          "0/837",
          "2/935",
          "0/665",
          "3/680",
          "1/877",
          "2/1493",
          "2/925",
          "3/1692",
          "0/1065",
          "0/958",
          "1/623",
          "2/897",
          "2/1110",
          "2/616",
          "1/1680",
          "2/1715",
          "1/983",
          "0/720",
          "0/592",
          "3/1546",
          "0/689",
          "0/1685",
          "3/1792",
          "0/1944",
          "0/648",
          "0/1702",
          "0/856",
          "3/914",
          "2/1615",
          "0/649",
          "0/1646",
          "3/1920",
          "0/1220",
          "2/1748",
          "3/907",
          "2/1234",
          "3/1961",
          "1/1745",
          "0/1442",
          "2/1083",
          "0/868",
          "0/864",
          "1/608",
          "2/1802",
          "0/591",
          "1/1082",
          "2/1719",
          "0/1544",
          "3/1090",
          "0/1367",
          "3/721",
          "1/1349",
          "3/1075",
          "3/684",
          "0/1837",
          "1/1619",
          "2/1361",
          "0/1027",
          "1/1807",
          "3/709",
          "3/689",
          "0/1259",
          "1/695",
          "0/759",
          "2/936",
          "1/1176",
          "0/1802",
          "2/772",
          "0/1318",
          "3/591",
          "0/764",
          "2/1056",
          "1/1982",
          "3/1023",
          "0/1283",
          "2/1602",
          "1/897",
          "2/1405",
          "1/798",
          "2/1749",
          "2/1588",
          "2/1600",
          "3/1522",
          "1/1279",
          "0/719",
          "0/544",
          "0/1007",
          "0/590",
          "1/1561",
          "0/1327",
          "1/797",
          "3/727",
          "3/1515",
          "0/555",
          "1/1884",
          "1/1906",
          "0/659",
          "1/1783",
          "0/1667",
          "2/1913",
          "1/538",
          "3/816",
          "1/915",
          "3/1157",
          "2/1379",
          "1/1614",
          "2/1784",
          "2/1262",
          "3/1829",
          "1/1139",
          "1/1547",
          "3/1882",
          "3/1467",
          "3/858",
          "0/794",
          "2/1965",
          "0/1512",
          "3/510",
          "1",
          "2",
          "3",
          "0"
         ],
         "labels": [
          "842",
          "1021",
          "563",
          "615",
          "1821",
          "1859",
          "1821",
          "1954",
          "1445",
          "509",
          "769",
          "1520",
          "1815",
          "803",
          "1866",
          "775",
          "838",
          "595",
          "1131",
          "682",
          "772",
          "1709",
          "1949",
          "1602",
          "503",
          "961",
          "519",
          "956",
          "1453",
          "851",
          "1579",
          "1568",
          "1319",
          "1310",
          "644",
          "725",
          "589",
          "1725",
          "790",
          "560",
          "1347",
          "1646",
          "1253",
          "1656",
          "1195",
          "1514",
          "1723",
          "1054",
          "578",
          "596",
          "1547",
          "1760",
          "1654",
          "1457",
          "1073",
          "1936",
          "823",
          "987",
          "1757",
          "1063",
          "1484",
          "799",
          "1156",
          "1720",
          "702",
          "616",
          "1358",
          "1866",
          "1242",
          "1166",
          "1448",
          "1407",
          "605",
          "1038",
          "797",
          "819",
          "1114",
          "1234",
          "1199",
          "1103",
          "1589",
          "999",
          "1510",
          "1008",
          "1127",
          "1412",
          "1496",
          "1083",
          "668",
          "1309",
          "1724",
          "1977",
          "885",
          "879",
          "1322",
          "1137",
          "1355",
          "1665",
          "657",
          "593",
          "1883",
          "1732",
          "543",
          "1939",
          "553",
          "832",
          "1661",
          "1657",
          "1135",
          "1775",
          "783",
          "617",
          "867",
          "1310",
          "1804",
          "1900",
          "909",
          "1084",
          "1308",
          "1778",
          "1701",
          "825",
          "1379",
          "1166",
          "1659",
          "826",
          "1564",
          "1957",
          "1571",
          "1414",
          "1790",
          "645",
          "668",
          "1652",
          "1213",
          "1272",
          "866",
          "536",
          "523",
          "1753",
          "1218",
          "1537",
          "786",
          "1678",
          "1814",
          "1101",
          "1461",
          "1216",
          "506",
          "843",
          "742",
          "1692",
          "1485",
          "1547",
          "637",
          "1224",
          "1356",
          "1840",
          "1481",
          "1296",
          "1193",
          "1441",
          "517",
          "748",
          "1126",
          "1572",
          "1569",
          "1270",
          "1854",
          "625",
          "1577",
          "534",
          "946",
          "685",
          "1949",
          "947",
          "801",
          "703",
          "1165",
          "1082",
          "959",
          "1502",
          "1380",
          "1266",
          "1934",
          "1905",
          "1831",
          "596",
          "1562",
          "1490",
          "1523",
          "640",
          "1526",
          "1989",
          "1308",
          "609",
          "1703",
          "1445",
          "1087",
          "671",
          "1472",
          "765",
          "1642",
          "1265",
          "664",
          "1277",
          "1395",
          "1539",
          "1049",
          "1827",
          "903",
          "1987",
          "1154",
          "1336",
          "1886",
          "1551",
          "850",
          "660",
          "1225",
          "1452",
          "1686",
          "1634",
          "1708",
          "1151",
          "1578",
          "1689",
          "1488",
          "1313",
          "1715",
          "1442",
          "528",
          "1523",
          "1133",
          "1718",
          "1330",
          "1799",
          "633",
          "724",
          "822",
          "1918",
          "1891",
          "1373",
          "862",
          "1273",
          "957",
          "1617",
          "893",
          "1210",
          "708",
          "835",
          "1450",
          "973",
          "601",
          "507",
          "564",
          "1559",
          "754",
          "728",
          "1431",
          "767",
          "1722",
          "1992",
          "1876",
          "1283",
          "1281",
          "1066",
          "730",
          "1053",
          "1611",
          "793",
          "1220",
          "1662",
          "538",
          "1733",
          "1429",
          "1839",
          "659",
          "1953",
          "1172",
          "612",
          "1563",
          "1191",
          "615",
          "1893",
          "1995",
          "1517",
          "832",
          "1162",
          "1595",
          "1329",
          "928",
          "1937",
          "977",
          "768",
          "1464",
          "1177",
          "1348",
          "1956",
          "1751",
          "1530",
          "1997",
          "1707",
          "894",
          "645",
          "1163",
          "1126",
          "1648",
          "1170",
          "508",
          "1097",
          "728",
          "1980",
          "1504",
          "1379",
          "1698",
          "920",
          "1144",
          "1995",
          "1430",
          "972",
          "662",
          "1867",
          "1730",
          "1723",
          "1882",
          "580",
          "668",
          "1391",
          "1560",
          "821",
          "811",
          "1034",
          "618",
          "654",
          "576",
          "667",
          "869",
          "635",
          "1557",
          "1604",
          "1182",
          "848",
          "1610",
          "1828",
          "880",
          "1394",
          "1960",
          "809",
          "899",
          "1976",
          "879",
          "916",
          "763",
          "508",
          "1864",
          "1725",
          "1108",
          "1011",
          "1703",
          "1067",
          "1334",
          "775",
          "1899",
          "930",
          "1058",
          "1187",
          "1874",
          "1482",
          "1809",
          "864",
          "1880",
          "1138",
          "560",
          "1117",
          "1712",
          "1836",
          "1036",
          "1860",
          "1375",
          "1945",
          "1896",
          "788",
          "1323",
          "1868",
          "1042",
          "1479",
          "1476",
          "1552",
          "1454",
          "1007",
          "652",
          "1504",
          "1726",
          "1029",
          "1582",
          "1478",
          "1178",
          "707",
          "755",
          "912",
          "651",
          "1483",
          "914",
          "1456",
          "1503",
          "1681",
          "715",
          "1876",
          "1190",
          "1755",
          "1197",
          "1048",
          "1887",
          "1772",
          "1421",
          "1464",
          "954",
          "685",
          "1472",
          "853",
          "1469",
          "1310",
          "1654",
          "902",
          "1448",
          "1631",
          "1608",
          "1991",
          "1349",
          "1589",
          "1844",
          "712",
          "1406",
          "1289",
          "932",
          "1747",
          "1128",
          "664",
          "513",
          "1742",
          "1512",
          "1986",
          "965",
          "1583",
          "1653",
          "1433",
          "765",
          "1845",
          "752",
          "1948",
          "1077",
          "932",
          "1968",
          "1122",
          "1588",
          "1615",
          "1417",
          "1697",
          "1330",
          "1476",
          "1579",
          "1277",
          "1089",
          "1663",
          "1138",
          "1889",
          "857",
          "1902",
          "1225",
          "1066",
          "1554",
          "1337",
          "1926",
          "869",
          "1278",
          "1773",
          "1661",
          "1438",
          "1661",
          "1846",
          "1260",
          "512",
          "581",
          "1872",
          "687",
          "1062",
          "1417",
          "1074",
          "1832",
          "1039",
          "1059",
          "1606",
          "1928",
          "1875",
          "1128",
          "1748",
          "1413",
          "535",
          "1780",
          "1671",
          "1821",
          "1076",
          "532",
          "777",
          "1217",
          "1656",
          "1185",
          "577",
          "737",
          "704",
          "525",
          "504",
          "793",
          "569",
          "1590",
          "707",
          "767",
          "1350",
          "641",
          "1002",
          "1408",
          "1900",
          "726",
          "1544",
          "1454",
          "1230",
          "1519",
          "723",
          "1191",
          "1168",
          "1229",
          "1758",
          "1290",
          "574",
          "1271",
          "1269",
          "1288",
          "1366",
          "1627",
          "1701",
          "1974",
          "1197",
          "587",
          "934",
          "1853",
          "1164",
          "1512",
          "1232",
          "1813",
          "946",
          "739",
          "704",
          "1663",
          "1966",
          "1219",
          "612",
          "1658",
          "1263",
          "1395",
          "621",
          "1175",
          "561",
          "1137",
          "1835",
          "1170",
          "1719",
          "1770",
          "1312",
          "1878",
          "1871",
          "922",
          "1975",
          "1212",
          "1430",
          "1958",
          "557",
          "539",
          "880",
          "1369",
          "1109",
          "843",
          "598",
          "972",
          "1944",
          "1225",
          "644",
          "1919",
          "501",
          "1620",
          "1227",
          "1359",
          "1914",
          "1645",
          "1063",
          "946",
          "1231",
          "1397",
          "701",
          "570",
          "1993",
          "955",
          "924",
          "600",
          "518",
          "1063",
          "920",
          "1841",
          "543",
          "1762",
          "1112",
          "709",
          "1315",
          "1762",
          "1462",
          "571",
          "666",
          "1994",
          "1583",
          "1926",
          "966",
          "568",
          "1897",
          "1695",
          "1623",
          "1721",
          "890",
          "600",
          "1677",
          "723",
          "638",
          "852",
          "1979",
          "710",
          "1034",
          "1027",
          "1793",
          "675",
          "658",
          "1694",
          "804",
          "1713",
          "706",
          "1362",
          "1527",
          "1314",
          "705",
          "1403",
          "1486",
          "781",
          "986",
          "1310",
          "1348",
          "1567",
          "1940",
          "561",
          "1717",
          "535",
          "1254",
          "1591",
          "977",
          "1640",
          "663",
          "1744",
          "1624",
          "1108",
          "1188",
          "817",
          "863",
          "1397",
          "1068",
          "1702",
          "808",
          "1156",
          "696",
          "1981",
          "614",
          "1945",
          "1807",
          "984",
          "720",
          "1536",
          "771",
          "503",
          "675",
          "1936",
          "1303",
          "1004",
          "1972",
          "1822",
          "1159",
          "1782",
          "894",
          "1884",
          "798",
          "802",
          "1276",
          "1331",
          "1620",
          "1996",
          "1092",
          "1018",
          "545",
          "554",
          "1264",
          "1030",
          "1432",
          "558",
          "829",
          "1741",
          "1849",
          "733",
          "1853",
          "1149",
          "891",
          "1911",
          "550",
          "576",
          "969",
          "1160",
          "827",
          "1786",
          "774",
          "819",
          "1042",
          "1368",
          "1592",
          "1892",
          "915",
          "774",
          "1848",
          "1501",
          "1614",
          "911",
          "1647",
          "1347",
          "967",
          "1442",
          "1204",
          "1320",
          "1800",
          "1567",
          "1439",
          "1422",
          "1591",
          "1929",
          "1511",
          "1312",
          "1852",
          "972",
          "691",
          "807",
          "1113",
          "721",
          "1188",
          "805",
          "918",
          "1320",
          "1236",
          "1387",
          "839",
          "1593",
          "1954",
          "1788",
          "1628",
          "1965",
          "833",
          "1808",
          "1860",
          "1368",
          "1161",
          "1224",
          "787",
          "854",
          "1184",
          "1973",
          "510",
          "966",
          "1438",
          "1986",
          "1907",
          "1489",
          "1843",
          "825",
          "1286",
          "840",
          "757",
          "814",
          "767",
          "994",
          "1550",
          "1878",
          "623",
          "1829",
          "525",
          "1065",
          "1425",
          "1296",
          "642",
          "1664",
          "1498",
          "981",
          "1673",
          "712",
          "603",
          "1332",
          "1413",
          "1064",
          "1444",
          "906",
          "1554",
          "1187",
          "1156",
          "1918",
          "841",
          "730",
          "878",
          "1059",
          "1578",
          "1829",
          "1132",
          "1652",
          "912",
          "1181",
          "1497",
          "1790",
          "1549",
          "1372",
          "1005",
          "783",
          "1698",
          "899",
          "1062",
          "989",
          "1983",
          "1800",
          "1254",
          "868",
          "1205",
          "1284",
          "626",
          "1763",
          "694",
          "816",
          "904",
          "979",
          "1531",
          "1624",
          "874",
          "1027",
          "1496",
          "959",
          "1689",
          "1558",
          "582",
          "1485",
          "1991",
          "553",
          "1231",
          "805",
          "764",
          "1456",
          "743",
          "1061",
          "1428",
          "674",
          "832",
          "1625",
          "907",
          "1631",
          "1584",
          "1382",
          "633",
          "852",
          "922",
          "1745",
          "862",
          "1754",
          "1569",
          "1596",
          "1807",
          "1660",
          "1861",
          "648",
          "1910",
          "1807",
          "1923",
          "1345",
          "904",
          "1239",
          "1330",
          "516",
          "672",
          "892",
          "1778",
          "1130",
          "1359",
          "1866",
          "1597",
          "1046",
          "1035",
          "1175",
          "1261",
          "1068",
          "1713",
          "1688",
          "559",
          "860",
          "1090",
          "686",
          "818",
          "1777",
          "594",
          "1524",
          "511",
          "1402",
          "965",
          "919",
          "1963",
          "1977",
          "1881",
          "683",
          "772",
          "1633",
          "1371",
          "551",
          "1221",
          "1000",
          "1119",
          "1699",
          "1099",
          "1576",
          "950",
          "1081",
          "606",
          "502",
          "1658",
          "1681",
          "1983",
          "1753",
          "1632",
          "1949",
          "1696",
          "688",
          "1104",
          "1122",
          "504",
          "1727",
          "1674",
          "1948",
          "1218",
          "531",
          "1057",
          "673",
          "718",
          "864",
          "547",
          "623",
          "1793",
          "1720",
          "812",
          "980",
          "643",
          "1925",
          "1522",
          "1959",
          "1872",
          "1043",
          "1809",
          "1095",
          "1414",
          "1659",
          "1540",
          "1342",
          "1189",
          "518",
          "1449",
          "516",
          "1893",
          "1076",
          "530",
          "1044",
          "1330",
          "1836",
          "1741",
          "1869",
          "1655",
          "605",
          "1245",
          "1709",
          "846",
          "1403",
          "688",
          "775",
          "1154",
          "1375",
          "1827",
          "1697",
          "741",
          "1672",
          "514",
          "989",
          "1510",
          "1266",
          "1396",
          "1542",
          "745",
          "1735",
          "586",
          "1341",
          "501",
          "1970",
          "618",
          "1018",
          "1545",
          "1871",
          "1729",
          "680",
          "1106",
          "635",
          "1671",
          "1975",
          "831",
          "1524",
          "1528",
          "1447",
          "1344",
          "564",
          "921",
          "1413",
          "831",
          "802",
          "1923",
          "1193",
          "904",
          "1285",
          "1635",
          "1851",
          "727",
          "1396",
          "877",
          "1009",
          "1526",
          "987",
          "1414",
          "1732",
          "1587",
          "1097",
          "1159",
          "1910",
          "865",
          "1930",
          "860",
          "1268",
          "999",
          "622",
          "1250",
          "763",
          "1100",
          "815",
          "618",
          "553",
          "673",
          "1590",
          "1031",
          "909",
          "1271",
          "709",
          "1744",
          "1314",
          "1136",
          "1039",
          "1300",
          "732",
          "511",
          "1092",
          "921",
          "1030",
          "1299",
          "1009",
          "1735",
          "1129",
          "708",
          "1487",
          "1524",
          "1093",
          "1816",
          "627",
          "1895",
          "805",
          "713",
          "864",
          "1177",
          "1898",
          "1158",
          "1451",
          "1820",
          "580",
          "1263",
          "1237",
          "514",
          "1515",
          "721",
          "603",
          "1426",
          "1820",
          "1215",
          "697",
          "717",
          "1348",
          "578",
          "1971",
          "1794",
          "1558",
          "1597",
          "1240",
          "1994",
          "1221",
          "989",
          "1180",
          "1670",
          "534",
          "1566",
          "1935",
          "504",
          "913",
          "1317",
          "917",
          "712",
          "1083",
          "1747",
          "1872",
          "1796",
          "1097",
          "1562",
          "1433",
          "740",
          "676",
          "503",
          "1020",
          "896",
          "1824",
          "1053",
          "1944",
          "1174",
          "627",
          "1602",
          "586",
          "1528",
          "875",
          "1602",
          "1426",
          "1370",
          "840",
          "991",
          "584",
          "860",
          "1541",
          "912",
          "1278",
          "1365",
          "1702",
          "589",
          "1644",
          "871",
          "1928",
          "888",
          "1077",
          "1023",
          "1496",
          "1433",
          "1095",
          "1142",
          "1901",
          "1510",
          "1924",
          "1825",
          "1275",
          "1538",
          "808",
          "1507",
          "769",
          "948",
          "1384",
          "1766",
          "1407",
          "614",
          "1972",
          "1811",
          "1988",
          "1469",
          "1423",
          "1974",
          "835",
          "1429",
          "1446",
          "1332",
          "1498",
          "1576",
          "1398",
          "1885",
          "1436",
          "1998",
          "1321",
          "1021",
          "1339",
          "1210",
          "882",
          "1549",
          "1991",
          "796",
          "1012",
          "1318",
          "1708",
          "541",
          "818",
          "601",
          "1616",
          "1263",
          "1604",
          "539",
          "1071",
          "826",
          "771",
          "1811",
          "1842",
          "1420",
          "1763",
          "1163",
          "1805",
          "610",
          "1533",
          "1801",
          "794",
          "1686",
          "1444",
          "1004",
          "539",
          "1540",
          "1325",
          "948",
          "1328",
          "1973",
          "1731",
          "1617",
          "1791",
          "856",
          "714",
          "951",
          "1759",
          "1448",
          "1987",
          "908",
          "820",
          "1109",
          "1333",
          "1352",
          "1600",
          "1454",
          "1489",
          "1823",
          "1581",
          "1283",
          "630",
          "659",
          "1811",
          "688",
          "1933",
          "1006",
          "1134",
          "599",
          "973",
          "1180",
          "1142",
          "1002",
          "1392",
          "602",
          "1249",
          "531",
          "1450",
          "1342",
          "867",
          "1404",
          "1368",
          "1927",
          "1714",
          "1201",
          "1796",
          "1147",
          "776",
          "1045",
          "1497",
          "1425",
          "1576",
          "1595",
          "541",
          "1617",
          "1154",
          "1638",
          "1150",
          "1254",
          "1806",
          "603",
          "1834",
          "520",
          "565",
          "1689",
          "742",
          "1143",
          "761",
          "1015",
          "1824",
          "1183",
          "574",
          "1472",
          "1868",
          "881",
          "1186",
          "1731",
          "848",
          "1575",
          "1554",
          "827",
          "1063",
          "1695",
          "1343",
          "834",
          "595",
          "1081",
          "911",
          "844",
          "1335",
          "826",
          "1650",
          "1517",
          "963",
          "1837",
          "1028",
          "1831",
          "571",
          "1770",
          "970",
          "642",
          "733",
          "1070",
          "1994",
          "823",
          "1908",
          "790",
          "1660",
          "1776",
          "1611",
          "1410",
          "1280",
          "1712",
          "891",
          "1957",
          "1110",
          "875",
          "1211",
          "769",
          "1076",
          "1325",
          "911",
          "1273",
          "1317",
          "940",
          "729",
          "1494",
          "1546",
          "1253",
          "895",
          "793",
          "999",
          "1856",
          "1715",
          "1202",
          "1171",
          "964",
          "1973",
          "1992",
          "546",
          "1880",
          "1765",
          "1640",
          "1830",
          "586",
          "1206",
          "848",
          "1851",
          "1776",
          "1254",
          "1494",
          "984",
          "1179",
          "513",
          "557",
          "744",
          "1148",
          "1604",
          "1676",
          "1001",
          "1086",
          "634",
          "502",
          "1641",
          "962",
          "1057",
          "1862",
          "555",
          "1000",
          "841",
          "865",
          "1232",
          "1194",
          "1362",
          "1469",
          "986",
          "1561",
          "1768",
          "1269",
          "936",
          "1713",
          "1940",
          "855",
          "1307",
          "1509",
          "626",
          "1190",
          "1727",
          "1670",
          "1150",
          "1208",
          "1812",
          "770",
          "1559",
          "1902",
          "1751",
          "1416",
          "1288",
          "1003",
          "1715",
          "1967",
          "962",
          "1146",
          "1379",
          "1504",
          "1630",
          "1125",
          "1470",
          "1826",
          "807",
          "1996",
          "1083",
          "1521",
          "673",
          "1219",
          "1603",
          "1958",
          "695",
          "1441",
          "1470",
          "1890",
          "1152",
          "1619",
          "1306",
          "1424",
          "942",
          "1934",
          "1290",
          "930",
          "1699",
          "1922",
          "548",
          "916",
          "1783",
          "1969",
          "1337",
          "637",
          "833",
          "1248",
          "1831",
          "1010",
          "1117",
          "990",
          "1564",
          "1065",
          "1982",
          "1607",
          "681",
          "1285",
          "753",
          "1779",
          "987",
          "511",
          "1855",
          "946",
          "1673",
          "731",
          "926",
          "1261",
          "936",
          "1339",
          "508",
          "1938",
          "995",
          "1086",
          "1322",
          "1864",
          "1944",
          "581",
          "1020",
          "993",
          "1136",
          "719",
          "1946",
          "1230",
          "1577",
          "1514",
          "579",
          "1072",
          "1492",
          "1436",
          "1251",
          "636",
          "1354",
          "1830",
          "1424",
          "583",
          "648",
          "1203",
          "1777",
          "527",
          "793",
          "873",
          "722",
          "1250",
          "1358",
          "1035",
          "1289",
          "1445",
          "1702",
          "628",
          "1207",
          "683",
          "594",
          "537",
          "1565",
          "1052",
          "713",
          "1766",
          "584",
          "837",
          "935",
          "665",
          "680",
          "877",
          "1493",
          "925",
          "1692",
          "1065",
          "958",
          "623",
          "897",
          "1110",
          "616",
          "1680",
          "1715",
          "983",
          "720",
          "592",
          "1546",
          "689",
          "1685",
          "1792",
          "1944",
          "648",
          "1702",
          "856",
          "914",
          "1615",
          "649",
          "1646",
          "1920",
          "1220",
          "1748",
          "907",
          "1234",
          "1961",
          "1745",
          "1442",
          "1083",
          "868",
          "864",
          "608",
          "1802",
          "591",
          "1082",
          "1719",
          "1544",
          "1090",
          "1367",
          "721",
          "1349",
          "1075",
          "684",
          "1837",
          "1619",
          "1361",
          "1027",
          "1807",
          "709",
          "689",
          "1259",
          "695",
          "759",
          "936",
          "1176",
          "1802",
          "772",
          "1318",
          "591",
          "764",
          "1056",
          "1982",
          "1023",
          "1283",
          "1602",
          "897",
          "1405",
          "798",
          "1749",
          "1588",
          "1600",
          "1522",
          "1279",
          "719",
          "544",
          "1007",
          "590",
          "1561",
          "1327",
          "797",
          "727",
          "1515",
          "555",
          "1884",
          "1906",
          "659",
          "1783",
          "1667",
          "1913",
          "538",
          "816",
          "915",
          "1157",
          "1379",
          "1614",
          "1784",
          "1262",
          "1829",
          "1139",
          "1547",
          "1882",
          "1467",
          "858",
          "794",
          "1965",
          "1512",
          "510",
          "1",
          "2",
          "3",
          "0"
         ],
         "name": "",
         "parents": [
          "1",
          "2",
          "2",
          "2",
          "1",
          "1",
          "3",
          "0",
          "0",
          "0",
          "3",
          "3",
          "1",
          "2",
          "0",
          "0",
          "3",
          "3",
          "1",
          "1",
          "3",
          "3",
          "1",
          "0",
          "1",
          "2",
          "3",
          "3",
          "2",
          "0",
          "3",
          "0",
          "1",
          "3",
          "0",
          "1",
          "1",
          "3",
          "2",
          "2",
          "2",
          "3",
          "1",
          "1",
          "0",
          "1",
          "3",
          "1",
          "0",
          "3",
          "2",
          "2",
          "3",
          "1",
          "2",
          "2",
          "0",
          "3",
          "1",
          "2",
          "1",
          "0",
          "0",
          "2",
          "2",
          "3",
          "3",
          "3",
          "0",
          "3",
          "3",
          "2",
          "0",
          "3",
          "0",
          "1",
          "0",
          "0",
          "3",
          "1",
          "3",
          "2",
          "3",
          "1",
          "1",
          "1",
          "0",
          "3",
          "2",
          "2",
          "3",
          "2",
          "0",
          "0",
          "1",
          "3",
          "0",
          "2",
          "0",
          "1",
          "3",
          "1",
          "1",
          "0",
          "0",
          "1",
          "3",
          "3",
          "3",
          "3",
          "1",
          "1",
          "0",
          "2",
          "3",
          "3",
          "2",
          "1",
          "0",
          "1",
          "2",
          "3",
          "3",
          "2",
          "3",
          "2",
          "1",
          "3",
          "0",
          "3",
          "1",
          "2",
          "1",
          "2",
          "2",
          "1",
          "3",
          "0",
          "0",
          "2",
          "0",
          "3",
          "2",
          "0",
          "3",
          "1",
          "3",
          "2",
          "2",
          "1",
          "3",
          "1",
          "2",
          "0",
          "0",
          "0",
          "3",
          "1",
          "2",
          "0",
          "0",
          "2",
          "3",
          "1",
          "2",
          "3",
          "1",
          "3",
          "1",
          "2",
          "2",
          "3",
          "2",
          "0",
          "3",
          "2",
          "1",
          "0",
          "0",
          "2",
          "3",
          "3",
          "0",
          "2",
          "3",
          "1",
          "3",
          "1",
          "2",
          "3",
          "3",
          "2",
          "2",
          "2",
          "3",
          "1",
          "0",
          "1",
          "0",
          "2",
          "2",
          "2",
          "2",
          "1",
          "3",
          "3",
          "2",
          "2",
          "0",
          "2",
          "0",
          "3",
          "0",
          "1",
          "1",
          "3",
          "0",
          "0",
          "3",
          "2",
          "3",
          "3",
          "3",
          "2",
          "2",
          "3",
          "3",
          "3",
          "0",
          "1",
          "2",
          "0",
          "1",
          "3",
          "1",
          "0",
          "2",
          "2",
          "3",
          "2",
          "3",
          "3",
          "0",
          "1",
          "1",
          "0",
          "2",
          "2",
          "1",
          "0",
          "0",
          "2",
          "0",
          "1",
          "0",
          "3",
          "1",
          "1",
          "0",
          "0",
          "3",
          "1",
          "3",
          "2",
          "1",
          "0",
          "0",
          "3",
          "1",
          "2",
          "2",
          "3",
          "0",
          "3",
          "3",
          "1",
          "1",
          "2",
          "1",
          "3",
          "3",
          "1",
          "1",
          "3",
          "2",
          "3",
          "0",
          "1",
          "3",
          "1",
          "0",
          "3",
          "0",
          "0",
          "3",
          "0",
          "1",
          "1",
          "2",
          "0",
          "2",
          "2",
          "3",
          "0",
          "2",
          "3",
          "1",
          "0",
          "0",
          "1",
          "0",
          "3",
          "3",
          "0",
          "0",
          "0",
          "2",
          "1",
          "2",
          "1",
          "1",
          "1",
          "1",
          "1",
          "2",
          "3",
          "0",
          "2",
          "2",
          "2",
          "1",
          "3",
          "0",
          "1",
          "2",
          "2",
          "2",
          "2",
          "3",
          "0",
          "2",
          "2",
          "1",
          "2",
          "0",
          "0",
          "3",
          "1",
          "0",
          "3",
          "2",
          "0",
          "0",
          "2",
          "2",
          "1",
          "3",
          "1",
          "3",
          "0",
          "3",
          "2",
          "0",
          "1",
          "0",
          "3",
          "1",
          "2",
          "2",
          "2",
          "3",
          "3",
          "1",
          "2",
          "3",
          "3",
          "1",
          "3",
          "3",
          "1",
          "3",
          "3",
          "1",
          "3",
          "3",
          "3",
          "2",
          "2",
          "3",
          "3",
          "0",
          "2",
          "2",
          "0",
          "3",
          "1",
          "2",
          "3",
          "2",
          "1",
          "1",
          "1",
          "0",
          "1",
          "2",
          "0",
          "2",
          "2",
          "0",
          "3",
          "1",
          "1",
          "3",
          "1",
          "3",
          "1",
          "0",
          "3",
          "1",
          "3",
          "0",
          "0",
          "1",
          "3",
          "1",
          "0",
          "0",
          "2",
          "2",
          "2",
          "1",
          "1",
          "3",
          "0",
          "3",
          "2",
          "3",
          "1",
          "0",
          "2",
          "2",
          "1",
          "0",
          "3",
          "3",
          "0",
          "0",
          "1",
          "3",
          "3",
          "1",
          "0",
          "2",
          "2",
          "3",
          "3",
          "0",
          "3",
          "0",
          "3",
          "1",
          "0",
          "2",
          "2",
          "2",
          "3",
          "2",
          "0",
          "1",
          "2",
          "3",
          "1",
          "2",
          "3",
          "0",
          "3",
          "1",
          "0",
          "0",
          "1",
          "2",
          "2",
          "2",
          "2",
          "3",
          "3",
          "1",
          "1",
          "2",
          "1",
          "3",
          "3",
          "3",
          "3",
          "1",
          "3",
          "3",
          "2",
          "3",
          "2",
          "2",
          "0",
          "0",
          "3",
          "1",
          "2",
          "2",
          "0",
          "2",
          "2",
          "1",
          "0",
          "3",
          "1",
          "1",
          "1",
          "1",
          "1",
          "2",
          "1",
          "3",
          "1",
          "0",
          "1",
          "0",
          "0",
          "2",
          "2",
          "0",
          "3",
          "1",
          "2",
          "1",
          "2",
          "0",
          "1",
          "3",
          "3",
          "3",
          "3",
          "0",
          "2",
          "2",
          "0",
          "3",
          "3",
          "3",
          "0",
          "0",
          "3",
          "0",
          "0",
          "1",
          "2",
          "0",
          "2",
          "3",
          "1",
          "3",
          "2",
          "2",
          "2",
          "0",
          "0",
          "1",
          "0",
          "1",
          "1",
          "2",
          "2",
          "0",
          "2",
          "2",
          "0",
          "1",
          "0",
          "2",
          "2",
          "3",
          "1",
          "3",
          "2",
          "2",
          "1",
          "2",
          "2",
          "1",
          "1",
          "0",
          "1",
          "0",
          "1",
          "0",
          "3",
          "1",
          "1",
          "3",
          "1",
          "3",
          "2",
          "1",
          "1",
          "0",
          "2",
          "0",
          "2",
          "2",
          "0",
          "1",
          "3",
          "1",
          "2",
          "2",
          "0",
          "1",
          "0",
          "3",
          "2",
          "3",
          "2",
          "0",
          "0",
          "1",
          "2",
          "0",
          "0",
          "2",
          "3",
          "1",
          "2",
          "1",
          "0",
          "0",
          "0",
          "3",
          "3",
          "0",
          "3",
          "2",
          "1",
          "2",
          "1",
          "0",
          "2",
          "0",
          "1",
          "3",
          "0",
          "3",
          "1",
          "1",
          "3",
          "2",
          "2",
          "0",
          "3",
          "0",
          "3",
          "3",
          "3",
          "0",
          "2",
          "1",
          "2",
          "0",
          "3",
          "1",
          "0",
          "1",
          "1",
          "3",
          "3",
          "1",
          "1",
          "1",
          "2",
          "3",
          "2",
          "0",
          "3",
          "2",
          "0",
          "0",
          "2",
          "1",
          "2",
          "3",
          "3",
          "2",
          "1",
          "2",
          "2",
          "3",
          "2",
          "3",
          "3",
          "1",
          "1",
          "2",
          "1",
          "2",
          "0",
          "2",
          "0",
          "3",
          "0",
          "0",
          "0",
          "3",
          "3",
          "0",
          "2",
          "3",
          "1",
          "3",
          "0",
          "1",
          "0",
          "0",
          "0",
          "3",
          "2",
          "0",
          "2",
          "2",
          "1",
          "2",
          "0",
          "3",
          "3",
          "2",
          "3",
          "0",
          "2",
          "3",
          "2",
          "2",
          "1",
          "0",
          "3",
          "3",
          "1",
          "0",
          "0",
          "1",
          "3",
          "3",
          "3",
          "3",
          "0",
          "0",
          "0",
          "1",
          "0",
          "0",
          "1",
          "2",
          "0",
          "0",
          "3",
          "1",
          "3",
          "2",
          "3",
          "3",
          "1",
          "3",
          "0",
          "3",
          "3",
          "3",
          "2",
          "2",
          "3",
          "2",
          "1",
          "3",
          "2",
          "3",
          "0",
          "0",
          "3",
          "0",
          "0",
          "3",
          "2",
          "1",
          "2",
          "2",
          "2",
          "1",
          "2",
          "2",
          "0",
          "2",
          "0",
          "2",
          "2",
          "2",
          "3",
          "0",
          "3",
          "3",
          "0",
          "1",
          "0",
          "0",
          "3",
          "3",
          "0",
          "2",
          "2",
          "1",
          "2",
          "2",
          "2",
          "0",
          "3",
          "1",
          "1",
          "3",
          "3",
          "1",
          "2",
          "3",
          "2",
          "0",
          "3",
          "0",
          "2",
          "2",
          "0",
          "3",
          "3",
          "0",
          "1",
          "1",
          "0",
          "1",
          "2",
          "1",
          "3",
          "0",
          "0",
          "3",
          "2",
          "1",
          "0",
          "1",
          "1",
          "2",
          "0",
          "3",
          "2",
          "3",
          "1",
          "2",
          "3",
          "3",
          "2",
          "3",
          "0",
          "0",
          "1",
          "0",
          "3",
          "0",
          "0",
          "2",
          "1",
          "1",
          "1",
          "0",
          "1",
          "3",
          "3",
          "3",
          "3",
          "2",
          "3",
          "1",
          "1",
          "2",
          "0",
          "0",
          "1",
          "1",
          "1",
          "0",
          "3",
          "2",
          "0",
          "1",
          "3",
          "0",
          "3",
          "1",
          "0",
          "3",
          "3",
          "1",
          "0",
          "0",
          "0",
          "3",
          "1",
          "1",
          "1",
          "0",
          "0",
          "3",
          "2",
          "0",
          "0",
          "0",
          "2",
          "0",
          "1",
          "3",
          "1",
          "2",
          "0",
          "0",
          "2",
          "0",
          "3",
          "3",
          "3",
          "3",
          "1",
          "0",
          "0",
          "0",
          "0",
          "1",
          "2",
          "2",
          "2",
          "1",
          "2",
          "0",
          "0",
          "3",
          "0",
          "1",
          "1",
          "3",
          "2",
          "0",
          "1",
          "2",
          "3",
          "1",
          "1",
          "1",
          "1",
          "3",
          "1",
          "1",
          "2",
          "2",
          "1",
          "2",
          "1",
          "0",
          "1",
          "0",
          "3",
          "0",
          "0",
          "0",
          "1",
          "3",
          "0",
          "1",
          "1",
          "0",
          "2",
          "1",
          "0",
          "1",
          "2",
          "2",
          "2",
          "1",
          "0",
          "1",
          "2",
          "2",
          "2",
          "0",
          "0",
          "1",
          "3",
          "1",
          "3",
          "0",
          "0",
          "1",
          "0",
          "1",
          "0",
          "0",
          "2",
          "3",
          "1",
          "3",
          "3",
          "1",
          "2",
          "2",
          "2",
          "3",
          "3",
          "3",
          "1",
          "2",
          "2",
          "1",
          "0",
          "3",
          "2",
          "2",
          "1",
          "0",
          "1",
          "1",
          "0",
          "2",
          "0",
          "2",
          "2",
          "2",
          "2",
          "1",
          "2",
          "0",
          "1",
          "1",
          "2",
          "1",
          "3",
          "0",
          "1",
          "3",
          "0",
          "2",
          "2",
          "2",
          "2",
          "2",
          "2",
          "0",
          "0",
          "2",
          "1",
          "2",
          "0",
          "3",
          "1",
          "3",
          "2",
          "3",
          "2",
          "0",
          "1",
          "0",
          "0",
          "3",
          "2",
          "2",
          "0",
          "3",
          "2",
          "0",
          "3",
          "2",
          "1",
          "2",
          "2",
          "1",
          "0",
          "2",
          "1",
          "1",
          "3",
          "0",
          "1",
          "2",
          "0",
          "3",
          "1",
          "2",
          "1",
          "3",
          "2",
          "2",
          "2",
          "2",
          "3",
          "0",
          "0",
          "3",
          "2",
          "1",
          "2",
          "0",
          "0",
          "2",
          "2",
          "0",
          "0",
          "0",
          "2",
          "3",
          "0",
          "2",
          "2",
          "1",
          "1",
          "2",
          "1",
          "0",
          "2",
          "1",
          "3",
          "3",
          "0",
          "0",
          "3",
          "3",
          "1",
          "0",
          "3",
          "3",
          "0",
          "1",
          "3",
          "1",
          "1",
          "2",
          "0",
          "3",
          "0",
          "1",
          "1",
          "2",
          "0",
          "0",
          "3",
          "1",
          "3",
          "2",
          "2",
          "0",
          "3",
          "1",
          "0",
          "3",
          "0",
          "2",
          "0",
          "2",
          "0",
          "0",
          "3",
          "3",
          "1",
          "3",
          "1",
          "3",
          "1",
          "0",
          "1",
          "3",
          "3",
          "3",
          "1",
          "0",
          "1",
          "1",
          "3",
          "1",
          "2",
          "1",
          "1",
          "1",
          "2",
          "3",
          "2",
          "1",
          "1",
          "2",
          "1",
          "3",
          "2",
          "0",
          "3",
          "3",
          "1",
          "3",
          "2",
          "1",
          "1",
          "2",
          "1",
          "0",
          "0",
          "0",
          "0",
          "2",
          "1",
          "1",
          "0",
          "2",
          "2",
          "0",
          "3",
          "1",
          "0",
          "3",
          "0",
          "1",
          "3",
          "3",
          "0",
          "0",
          "1",
          "1",
          "3",
          "2",
          "0",
          "1",
          "0",
          "0",
          "0",
          "3",
          "0",
          "3",
          "2",
          "2",
          "1",
          "1",
          "2",
          "0",
          "1",
          "1",
          "0",
          "2",
          "0",
          "1",
          "3",
          "0",
          "2",
          "3",
          "1",
          "1",
          "1",
          "1",
          "2",
          "1",
          "3",
          "0",
          "3",
          "0",
          "1",
          "0",
          "0",
          "3",
          "2",
          "1",
          "0",
          "0",
          "0",
          "1",
          "2",
          "0",
          "1",
          "1",
          "2",
          "1",
          "1",
          "1",
          "3",
          "3",
          "0",
          "3",
          "2",
          "0",
          "2",
          "3",
          "3",
          "1",
          "1",
          "1",
          "3",
          "1",
          "2",
          "0",
          "2",
          "3",
          "1",
          "3",
          "1",
          "1",
          "2",
          "0",
          "1",
          "2",
          "1",
          "3",
          "0",
          "0",
          "0",
          "0",
          "1",
          "1",
          "3",
          "1",
          "2",
          "2",
          "1",
          "1",
          "3",
          "0",
          "1",
          "0",
          "1",
          "3",
          "3",
          "3",
          "1",
          "0",
          "2",
          "2",
          "3",
          "1",
          "1",
          "0",
          "3",
          "3",
          "0",
          "2",
          "2",
          "2",
          "3",
          "3",
          "3",
          "2",
          "3",
          "2",
          "2",
          "1",
          "1",
          "0",
          "1",
          "0",
          "3",
          "2",
          "0",
          "2",
          "2",
          "1",
          "0",
          "0",
          "1",
          "2",
          "1",
          "0",
          "3",
          "2",
          "0",
          "1",
          "2",
          "1",
          "0",
          "0",
          "2",
          "0",
          "3",
          "1",
          "2",
          "3",
          "3",
          "2",
          "1",
          "2",
          "0",
          "2",
          "1",
          "0",
          "3",
          "1",
          "0",
          "2",
          "1",
          "2",
          "2",
          "3",
          "2",
          "3",
          "3",
          "3",
          "2",
          "2",
          "3",
          "1",
          "1",
          "1",
          "0",
          "0",
          "3",
          "1",
          "0",
          "3",
          "1",
          "0",
          "2",
          "3",
          "2",
          "3",
          "1",
          "1",
          "1",
          "1",
          "1",
          "0",
          "3",
          "0",
          "3",
          "1",
          "1",
          "3",
          "3",
          "1",
          "1",
          "1",
          "3",
          "2",
          "1",
          "3",
          "1",
          "1",
          "0",
          "1",
          "1",
          "2",
          "1",
          "3",
          "2",
          "1",
          "1",
          "1",
          "3",
          "3",
          "2",
          "1",
          "3",
          "2",
          "1",
          "2",
          "3",
          "3",
          "0",
          "2",
          "2",
          "0",
          "2",
          "0",
          "2",
          "1",
          "3",
          "0",
          "1",
          "2",
          "0",
          "2",
          "2",
          "0",
          "2",
          "2",
          "2",
          "1",
          "2",
          "3",
          "1",
          "3",
          "0",
          "2",
          "3",
          "3",
          "1",
          "2",
          "1",
          "3",
          "0",
          "2",
          "1",
          "0",
          "1",
          "1",
          "0",
          "1",
          "3",
          "0",
          "2",
          "3",
          "3",
          "2",
          "0",
          "3",
          "0",
          "3",
          "3",
          "3",
          "2",
          "3",
          "0",
          "2",
          "2",
          "3",
          "2",
          "0",
          "2",
          "1",
          "3",
          "1",
          "1",
          "3",
          "0",
          "1",
          "0",
          "1",
          "0",
          "1",
          "2",
          "0",
          "1",
          "3",
          "3",
          "1",
          "1",
          "0",
          "1",
          "0",
          "1",
          "0",
          "0",
          "1",
          "3",
          "3",
          "0",
          "2",
          "0",
          "3",
          "1",
          "2",
          "2",
          "3",
          "0",
          "0",
          "1",
          "2",
          "2",
          "2",
          "1",
          "2",
          "1",
          "0",
          "0",
          "3",
          "0",
          "0",
          "3",
          "0",
          "0",
          "0",
          "0",
          "3",
          "2",
          "0",
          "0",
          "3",
          "0",
          "2",
          "3",
          "2",
          "3",
          "1",
          "0",
          "2",
          "0",
          "0",
          "1",
          "2",
          "0",
          "1",
          "2",
          "0",
          "3",
          "0",
          "3",
          "1",
          "3",
          "3",
          "0",
          "1",
          "2",
          "0",
          "1",
          "3",
          "3",
          "0",
          "1",
          "0",
          "2",
          "1",
          "0",
          "2",
          "0",
          "3",
          "0",
          "2",
          "1",
          "3",
          "0",
          "2",
          "1",
          "2",
          "1",
          "2",
          "2",
          "2",
          "3",
          "1",
          "0",
          "0",
          "0",
          "0",
          "1",
          "0",
          "1",
          "3",
          "3",
          "0",
          "1",
          "1",
          "0",
          "1",
          "0",
          "2",
          "1",
          "3",
          "1",
          "3",
          "2",
          "1",
          "2",
          "2",
          "3",
          "1",
          "1",
          "3",
          "3",
          "3",
          "0",
          "2",
          "0",
          "3",
          "",
          "",
          "",
          ""
         ],
         "type": "sunburst",
         "values": {
          "bdata": "AgABAAIAAQABAAEAAQABAAEAAQABAAIAAQACAAEAAQABAAEAAQABAAIAAQADAAEAAQACAAEAAgABAAIAAQABAAEAAQABAAEAAQABAAEAAQACAAEAAQACAAMAAQABAAIAAQABAAEAAgABAAEAAQABAAIAAgABAAIAAQABAAEAAgABAAEAAgABAAIAAgABAAEAAQABAAEAAQABAAEAAQABAAQAAgABAAIAAQACAAEAAQABAAEAAgABAAEAAQABAAEAAQABAAIAAQADAAEAAQABAAEAAgABAAEAAgABAAEAAQABAAIAAQACAAEAAQABAAIAAQADAAIAAQABAAEAAQABAAIAAgABAAIAAQABAAEAAQABAAIAAQABAAEAAgABAAIAAQABAAEAAQABAAIAAQACAAEAAQABAAIAAgABAAIAAQABAAEAAQACAAEAAgABAAIAAgADAAEAAQABAAIAAQACAAEAAQABAAEAAgABAAEAAgABAAIAAQABAAMAAQABAAIAAQACAAEAAwACAAEAAQACAAEAAgACAAIAAgABAAEAAQACAAEAAQABAAIAAQABAAEAAQABAAEAAQABAAEAAQABAAEAAQABAAEAAgABAAEAAQABAAEAAQACAAEAAQABAAEAAQACAAEAAQACAAIAAQABAAEAAQABAAEAAgACAAEAAQABAAEAAQABAAIAAQACAAEAAgACAAEAAQABAAEAAQABAAEAAgABAAEAAgABAAIAAgACAAEAAgABAAEAAQABAAIAAgACAAEAAQABAAIAAQABAAEAAQABAAEAAQABAAEAAQACAAEAAgACAAEAAQACAAEAAQABAAEAAQABAAEAAQACAAEAAQABAAEAAQABAAEAAQABAAEAAQABAAIAAQACAAMAAgACAAEAAQABAAEAAQABAAIAAQACAAEAAQACAAEAAQABAAEAAgABAAIAAQABAAMAAQABAAEAAgABAAEAAgABAAEAAQACAAEAAgACAAEAAgABAAEAAwABAAEAAQABAAEAAQACAAEAAgABAAEAAgABAAIAAQABAAEAAgABAAEAAQABAAMAAgABAAEAAQABAAEAAQABAAEAAgABAAIAAQABAAEAAQABAAEAAQABAAEAAgABAAEAAQABAAIAAgABAAIAAQABAAEAAQABAAEAAQADAAIAAgABAAEAAQABAAEAAQABAAEAAQABAAEAAQABAAEAAQABAAEAAQABAAEAAgABAAEAAQABAAEAAQABAAEAAQABAAEAAQABAAEAAQABAAEAAgABAAEAAwABAAEAAQABAAEAAgABAAIAAQABAAIAAQADAAEAAQABAAEAAQABAAEAAQABAAEAAQABAAEAAQADAAEAAwACAAEAAQABAAEAAQACAAEAAgABAAEAAQACAAEAAgABAAEAAQABAAEAAgABAAEAAgABAAEAAQABAAIAAgABAAIAAgABAAEAAQABAAEAAQACAAEAAQABAAEAAQABAAEAAgABAAEAAQABAAEAAQABAAEAAQABAAEAAQABAAEAAQACAAIAAQABAAIAAQABAAIAAQABAAEAAQABAAEAAQABAAEAAQABAAEAAQABAAEAAgABAAEAAQABAAEAAQABAAIAAgABAAEAAgABAAIAAQABAAIAAQABAAEAAgACAAEAAQABAAMAAQABAAEAAQACAAEAAQABAAIAAQABAAIAAQABAAEAAQABAAEAAQABAAEAAgABAAEAAQABAAEAAQABAAIAAQABAAEAAQABAAEAAQABAAEAAQABAAEAAwABAAIAAQACAAEAAgACAAEAAgABAAEAAgABAAEAAgACAAEAAgABAAEAAQADAAEAAgABAAEAAgABAAEAAQABAAEAAQABAAEAAQABAAEAAQACAAIAAQABAAEAAgABAAEAAgABAAEAAwACAAEAAQABAAEAAQACAAEAAgABAAEAAQABAAEAAQABAAEAAQABAAEAAQABAAEAAQABAAIAAQABAAEAAQABAAEAAQABAAEAAQACAAEAAQABAAEAAgACAAIAAQABAAEAAQABAAEAAQACAAEAAQACAAEAAQACAAEAAQACAAEAAQABAAIAAQABAAIAAgABAAIAAQABAAEAAQABAAEAAQABAAEAAQABAAEAAQABAAEAAgABAAEAAQABAAEAAQADAAEAAQABAAEAAQABAAEAAQABAAEAAQABAAEAAQACAAEAAgABAAEAAQABAAEAAgABAAEAAQABAAEAAgABAAEAAQABAAEAAQABAAEAAQACAAIAAgABAAEAAQABAAIAAQABAAEAAgACAAEAAQABAAEAAQABAAIAAQABAAEAAQADAAEAAgABAAEAAQABAAEAAQABAAEAAQABAAEAAwABAAEAAwABAAEAAQABAAMAAgABAAIAAQABAAEAAQABAAIAAQABAAEAAQABAAEAAgABAAEAAQABAAEAAgABAAEAAQABAAEAAQABAAEAAQACAAEAAQABAAEAAQABAAIAAQABAAEAAQABAAIAAQABAAEAAgABAAEAAQABAAMAAQABAAEAAQABAAEAAQACAAEAAQABAAEAAgABAAEAAgABAAEAAQACAAEAAgABAAEAAQACAAIAAgABAAEAAQABAAEAAQABAAEAAQABAAEAAQABAAEAAQABAAIAAgACAAEAAQACAAEAAQABAAEAAQABAAIAAwABAAEAAQABAAEAAQABAAEAAQABAAEAAQACAAEAAQABAAEAAgABAAIAAgABAAEAAQABAAEAAQABAAEAAQABAAEAAQABAAEAAgABAAEAAQABAAEAAQACAAEAAQABAAEAAQABAAEAAQABAAIAAQABAAEAAgABAAIAAQACAAIAAQABAAEAAgABAAEAAgABAAIAAQACAAEAAQABAAEAAwABAAEAAQABAAEAAQABAAEAAgABAAEAAQABAAEAAQABAAEAAgABAAEAAQABAAEAAQABAAEAAQABAAEAAQACAAEAAQABAAEAAQABAAEAAgABAAIAAQABAAEAAQABAAEAAQABAAEAAQABAAEAAgABAAEAAQABAAIAAQACAAEAAgABAAEAAQACAAIAAgABAAEAAQABAAEAAQABAAIAAQABAAEAAQACAAEAAQACAAEAAQABAAIAAQABAAEAAQABAAEAAQABAAIAAQABAAEAAQABAAEAAQABAAEAAgABAAEAAQABAAEAAQABAAEAAQACAAEAAQABAAEAAQABAAEAAQABAAEAAQABAAEAAQABAAEAAQABAAEAAQABAAEAAQABAAEAAQABAAEAAQABAAEAAQABAAEAAQABAAEAAQACAAEAAQABAAEAAQABAAIAAQABAAEAAgABAAEAAQABAAEAAQABAAEAAQABAAEAAQABAAEAAQADAAEAAQABAAEAAQABAAEAAQABAAEAAQACAAEAAQABAAEAAQABAAEAAQABAAEAAQABAAEAAQABAAEAAQABAAEAAQACAAEAAQABAAEAAQACAAEAAQABAAEAAQABAAEAAQABAAEAAQABAAEAAQABAAEAAQABAAIAAQABAAEAAQABAAEAAQABAAEAAQABAAEAAQABAAEAAQACAAEAAQABAAEAAQABAAEAAgABAAEAAQABAAEAAQABAAEAAQABAAEAAQABAAEAAQABAAEAAQABAAEAAQABAAEAAQABAAEAAQACAAIAAQABAAEAAQABAAMAAQACAAEAAQABAAEAAQABAAEAAQABAAEAAQABAAEAAQABAAEAAQABAAEAAQABAAEAAQABAAEAAQABAAEAAQABAAEAAQABAAEAAQABAAEAAQABAAEAAQABAAEAAQABAAEAAQABAAEAAQABAAEAAQABAAEAAQABAAEAAQABAAEAAQABAAEAAQABAAEAAQABAAEAAQABAAEAAQABAAIAAQABAAEAAQABAAIAAQABAAEAAQABAAEAAQABAAIAAQABAAEAAQABAAEAAQABAAEAAQABAAEAAQABAAEAAQABAAEAAQABAAEAAQABAAEAAQABAAEAAQABAAEAAQABAAEAAQABAAEAAQABAAEAAQABAAEAAQABAAEAAQABAAEAAQABAAEAAQABAAEAAQABAAEAAQABAAEAAQABAAEAAQACAAEAAQABAAEAAQABAAEAAQABAAEAAQABAAEAAQABAAEAAQACAAEAAQABAAEAAQABAAEAAQABAAEAAQABAAEAAQABAAEAAQABAAEAAQABAAEAAQABAAEAAQABAAEAAQABAAEAAQABAAEAAQABAAEAAQABAAEAAQABAAEAAQABAAEAAQABAAEAAQABAAEAAQABAAEAAQABAAEAAQABAAEAAQABAAEAAQABAAEAAQABAAEAAQABAAEAAgABAAEAAQABAAEAAQABAAEAAQABAAEAAQABAAEAAQABAAEAAQABAAEAAQABAAEAAQABAAEAAQD0AfQB9AH0AQ==",
          "dtype": "i2"
         }
        }
       ],
       "layout": {
        "legend": {
         "tracegroupgap": 0
        },
        "margin": {
         "t": 60
        },
        "template": {
         "data": {
          "bar": [
           {
            "error_x": {
             "color": "#2a3f5f"
            },
            "error_y": {
             "color": "#2a3f5f"
            },
            "marker": {
             "line": {
              "color": "#E5ECF6",
              "width": 0.5
             },
             "pattern": {
              "fillmode": "overlay",
              "size": 10,
              "solidity": 0.2
             }
            },
            "type": "bar"
           }
          ],
          "barpolar": [
           {
            "marker": {
             "line": {
              "color": "#E5ECF6",
              "width": 0.5
             },
             "pattern": {
              "fillmode": "overlay",
              "size": 10,
              "solidity": 0.2
             }
            },
            "type": "barpolar"
           }
          ],
          "carpet": [
           {
            "aaxis": {
             "endlinecolor": "#2a3f5f",
             "gridcolor": "white",
             "linecolor": "white",
             "minorgridcolor": "white",
             "startlinecolor": "#2a3f5f"
            },
            "baxis": {
             "endlinecolor": "#2a3f5f",
             "gridcolor": "white",
             "linecolor": "white",
             "minorgridcolor": "white",
             "startlinecolor": "#2a3f5f"
            },
            "type": "carpet"
           }
          ],
          "choropleth": [
           {
            "colorbar": {
             "outlinewidth": 0,
             "ticks": ""
            },
            "type": "choropleth"
           }
          ],
          "contour": [
           {
            "colorbar": {
             "outlinewidth": 0,
             "ticks": ""
            },
            "colorscale": [
             [
              0,
              "#0d0887"
             ],
             [
              0.1111111111111111,
              "#46039f"
             ],
             [
              0.2222222222222222,
              "#7201a8"
             ],
             [
              0.3333333333333333,
              "#9c179e"
             ],
             [
              0.4444444444444444,
              "#bd3786"
             ],
             [
              0.5555555555555556,
              "#d8576b"
             ],
             [
              0.6666666666666666,
              "#ed7953"
             ],
             [
              0.7777777777777778,
              "#fb9f3a"
             ],
             [
              0.8888888888888888,
              "#fdca26"
             ],
             [
              1,
              "#f0f921"
             ]
            ],
            "type": "contour"
           }
          ],
          "contourcarpet": [
           {
            "colorbar": {
             "outlinewidth": 0,
             "ticks": ""
            },
            "type": "contourcarpet"
           }
          ],
          "heatmap": [
           {
            "colorbar": {
             "outlinewidth": 0,
             "ticks": ""
            },
            "colorscale": [
             [
              0,
              "#0d0887"
             ],
             [
              0.1111111111111111,
              "#46039f"
             ],
             [
              0.2222222222222222,
              "#7201a8"
             ],
             [
              0.3333333333333333,
              "#9c179e"
             ],
             [
              0.4444444444444444,
              "#bd3786"
             ],
             [
              0.5555555555555556,
              "#d8576b"
             ],
             [
              0.6666666666666666,
              "#ed7953"
             ],
             [
              0.7777777777777778,
              "#fb9f3a"
             ],
             [
              0.8888888888888888,
              "#fdca26"
             ],
             [
              1,
              "#f0f921"
             ]
            ],
            "type": "heatmap"
           }
          ],
          "histogram": [
           {
            "marker": {
             "pattern": {
              "fillmode": "overlay",
              "size": 10,
              "solidity": 0.2
             }
            },
            "type": "histogram"
           }
          ],
          "histogram2d": [
           {
            "colorbar": {
             "outlinewidth": 0,
             "ticks": ""
            },
            "colorscale": [
             [
              0,
              "#0d0887"
             ],
             [
              0.1111111111111111,
              "#46039f"
             ],
             [
              0.2222222222222222,
              "#7201a8"
             ],
             [
              0.3333333333333333,
              "#9c179e"
             ],
             [
              0.4444444444444444,
              "#bd3786"
             ],
             [
              0.5555555555555556,
              "#d8576b"
             ],
             [
              0.6666666666666666,
              "#ed7953"
             ],
             [
              0.7777777777777778,
              "#fb9f3a"
             ],
             [
              0.8888888888888888,
              "#fdca26"
             ],
             [
              1,
              "#f0f921"
             ]
            ],
            "type": "histogram2d"
           }
          ],
          "histogram2dcontour": [
           {
            "colorbar": {
             "outlinewidth": 0,
             "ticks": ""
            },
            "colorscale": [
             [
              0,
              "#0d0887"
             ],
             [
              0.1111111111111111,
              "#46039f"
             ],
             [
              0.2222222222222222,
              "#7201a8"
             ],
             [
              0.3333333333333333,
              "#9c179e"
             ],
             [
              0.4444444444444444,
              "#bd3786"
             ],
             [
              0.5555555555555556,
              "#d8576b"
             ],
             [
              0.6666666666666666,
              "#ed7953"
             ],
             [
              0.7777777777777778,
              "#fb9f3a"
             ],
             [
              0.8888888888888888,
              "#fdca26"
             ],
             [
              1,
              "#f0f921"
             ]
            ],
            "type": "histogram2dcontour"
           }
          ],
          "mesh3d": [
           {
            "colorbar": {
             "outlinewidth": 0,
             "ticks": ""
            },
            "type": "mesh3d"
           }
          ],
          "parcoords": [
           {
            "line": {
             "colorbar": {
              "outlinewidth": 0,
              "ticks": ""
             }
            },
            "type": "parcoords"
           }
          ],
          "pie": [
           {
            "automargin": true,
            "type": "pie"
           }
          ],
          "scatter": [
           {
            "fillpattern": {
             "fillmode": "overlay",
             "size": 10,
             "solidity": 0.2
            },
            "type": "scatter"
           }
          ],
          "scatter3d": [
           {
            "line": {
             "colorbar": {
              "outlinewidth": 0,
              "ticks": ""
             }
            },
            "marker": {
             "colorbar": {
              "outlinewidth": 0,
              "ticks": ""
             }
            },
            "type": "scatter3d"
           }
          ],
          "scattercarpet": [
           {
            "marker": {
             "colorbar": {
              "outlinewidth": 0,
              "ticks": ""
             }
            },
            "type": "scattercarpet"
           }
          ],
          "scattergeo": [
           {
            "marker": {
             "colorbar": {
              "outlinewidth": 0,
              "ticks": ""
             }
            },
            "type": "scattergeo"
           }
          ],
          "scattergl": [
           {
            "marker": {
             "colorbar": {
              "outlinewidth": 0,
              "ticks": ""
             }
            },
            "type": "scattergl"
           }
          ],
          "scattermap": [
           {
            "marker": {
             "colorbar": {
              "outlinewidth": 0,
              "ticks": ""
             }
            },
            "type": "scattermap"
           }
          ],
          "scattermapbox": [
           {
            "marker": {
             "colorbar": {
              "outlinewidth": 0,
              "ticks": ""
             }
            },
            "type": "scattermapbox"
           }
          ],
          "scatterpolar": [
           {
            "marker": {
             "colorbar": {
              "outlinewidth": 0,
              "ticks": ""
             }
            },
            "type": "scatterpolar"
           }
          ],
          "scatterpolargl": [
           {
            "marker": {
             "colorbar": {
              "outlinewidth": 0,
              "ticks": ""
             }
            },
            "type": "scatterpolargl"
           }
          ],
          "scatterternary": [
           {
            "marker": {
             "colorbar": {
              "outlinewidth": 0,
              "ticks": ""
             }
            },
            "type": "scatterternary"
           }
          ],
          "surface": [
           {
            "colorbar": {
             "outlinewidth": 0,
             "ticks": ""
            },
            "colorscale": [
             [
              0,
              "#0d0887"
             ],
             [
              0.1111111111111111,
              "#46039f"
             ],
             [
              0.2222222222222222,
              "#7201a8"
             ],
             [
              0.3333333333333333,
              "#9c179e"
             ],
             [
              0.4444444444444444,
              "#bd3786"
             ],
             [
              0.5555555555555556,
              "#d8576b"
             ],
             [
              0.6666666666666666,
              "#ed7953"
             ],
             [
              0.7777777777777778,
              "#fb9f3a"
             ],
             [
              0.8888888888888888,
              "#fdca26"
             ],
             [
              1,
              "#f0f921"
             ]
            ],
            "type": "surface"
           }
          ],
          "table": [
           {
            "cells": {
             "fill": {
              "color": "#EBF0F8"
             },
             "line": {
              "color": "white"
             }
            },
            "header": {
             "fill": {
              "color": "#C8D4E3"
             },
             "line": {
              "color": "white"
             }
            },
            "type": "table"
           }
          ]
         },
         "layout": {
          "annotationdefaults": {
           "arrowcolor": "#2a3f5f",
           "arrowhead": 0,
           "arrowwidth": 1
          },
          "autotypenumbers": "strict",
          "coloraxis": {
           "colorbar": {
            "outlinewidth": 0,
            "ticks": ""
           }
          },
          "colorscale": {
           "diverging": [
            [
             0,
             "#8e0152"
            ],
            [
             0.1,
             "#c51b7d"
            ],
            [
             0.2,
             "#de77ae"
            ],
            [
             0.3,
             "#f1b6da"
            ],
            [
             0.4,
             "#fde0ef"
            ],
            [
             0.5,
             "#f7f7f7"
            ],
            [
             0.6,
             "#e6f5d0"
            ],
            [
             0.7,
             "#b8e186"
            ],
            [
             0.8,
             "#7fbc41"
            ],
            [
             0.9,
             "#4d9221"
            ],
            [
             1,
             "#276419"
            ]
           ],
           "sequential": [
            [
             0,
             "#0d0887"
            ],
            [
             0.1111111111111111,
             "#46039f"
            ],
            [
             0.2222222222222222,
             "#7201a8"
            ],
            [
             0.3333333333333333,
             "#9c179e"
            ],
            [
             0.4444444444444444,
             "#bd3786"
            ],
            [
             0.5555555555555556,
             "#d8576b"
            ],
            [
             0.6666666666666666,
             "#ed7953"
            ],
            [
             0.7777777777777778,
             "#fb9f3a"
            ],
            [
             0.8888888888888888,
             "#fdca26"
            ],
            [
             1,
             "#f0f921"
            ]
           ],
           "sequentialminus": [
            [
             0,
             "#0d0887"
            ],
            [
             0.1111111111111111,
             "#46039f"
            ],
            [
             0.2222222222222222,
             "#7201a8"
            ],
            [
             0.3333333333333333,
             "#9c179e"
            ],
            [
             0.4444444444444444,
             "#bd3786"
            ],
            [
             0.5555555555555556,
             "#d8576b"
            ],
            [
             0.6666666666666666,
             "#ed7953"
            ],
            [
             0.7777777777777778,
             "#fb9f3a"
            ],
            [
             0.8888888888888888,
             "#fdca26"
            ],
            [
             1,
             "#f0f921"
            ]
           ]
          },
          "colorway": [
           "#636efa",
           "#EF553B",
           "#00cc96",
           "#ab63fa",
           "#FFA15A",
           "#19d3f3",
           "#FF6692",
           "#B6E880",
           "#FF97FF",
           "#FECB52"
          ],
          "font": {
           "color": "#2a3f5f"
          },
          "geo": {
           "bgcolor": "white",
           "lakecolor": "white",
           "landcolor": "#E5ECF6",
           "showlakes": true,
           "showland": true,
           "subunitcolor": "white"
          },
          "hoverlabel": {
           "align": "left"
          },
          "hovermode": "closest",
          "mapbox": {
           "style": "light"
          },
          "paper_bgcolor": "white",
          "plot_bgcolor": "#E5ECF6",
          "polar": {
           "angularaxis": {
            "gridcolor": "white",
            "linecolor": "white",
            "ticks": ""
           },
           "bgcolor": "#E5ECF6",
           "radialaxis": {
            "gridcolor": "white",
            "linecolor": "white",
            "ticks": ""
           }
          },
          "scene": {
           "xaxis": {
            "backgroundcolor": "#E5ECF6",
            "gridcolor": "white",
            "gridwidth": 2,
            "linecolor": "white",
            "showbackground": true,
            "ticks": "",
            "zerolinecolor": "white"
           },
           "yaxis": {
            "backgroundcolor": "#E5ECF6",
            "gridcolor": "white",
            "gridwidth": 2,
            "linecolor": "white",
            "showbackground": true,
            "ticks": "",
            "zerolinecolor": "white"
           },
           "zaxis": {
            "backgroundcolor": "#E5ECF6",
            "gridcolor": "white",
            "gridwidth": 2,
            "linecolor": "white",
            "showbackground": true,
            "ticks": "",
            "zerolinecolor": "white"
           }
          },
          "shapedefaults": {
           "line": {
            "color": "#2a3f5f"
           }
          },
          "ternary": {
           "aaxis": {
            "gridcolor": "white",
            "linecolor": "white",
            "ticks": ""
           },
           "baxis": {
            "gridcolor": "white",
            "linecolor": "white",
            "ticks": ""
           },
           "bgcolor": "#E5ECF6",
           "caxis": {
            "gridcolor": "white",
            "linecolor": "white",
            "ticks": ""
           }
          },
          "title": {
           "x": 0.05
          },
          "xaxis": {
           "automargin": true,
           "gridcolor": "white",
           "linecolor": "white",
           "ticks": "",
           "title": {
            "standoff": 15
           },
           "zerolinecolor": "white",
           "zerolinewidth": 2
          },
          "yaxis": {
           "automargin": true,
           "gridcolor": "white",
           "linecolor": "white",
           "ticks": "",
           "title": {
            "standoff": 15
           },
           "zerolinecolor": "white",
           "zerolinewidth": 2
          }
         }
        }
       }
      }
     },
     "metadata": {},
     "output_type": "display_data"
    }
   ],
   "source": [
    "px.sunburst(df , path = ['price_range' , 'battery_power'])"
   ]
  },
  {
   "cell_type": "code",
   "execution_count": 19,
   "id": "560a407c",
   "metadata": {},
   "outputs": [
    {
     "data": {
      "application/vnd.plotly.v1+json": {
       "config": {
        "plotlyServerURL": "https://plot.ly"
       },
       "data": [
        {
         "bingroup": "x",
         "hovertemplate": "price_range=1<br>blue=%{x}<br>count=%{y}<extra></extra>",
         "legendgroup": "1",
         "marker": {
          "color": "#636efa",
          "pattern": {
           "shape": ""
          }
         },
         "name": "1",
         "orientation": "v",
         "showlegend": true,
         "type": "histogram",
         "x": {
          "bdata": "AAEAAAEBAAABAAEBAAABAAAAAAAAAQEAAAEAAAABAQAAAAABAAEBAAABAAABAQAAAAEAAAAAAAAAAQEBAAABAAEBAQEAAAABAAEBAAAAAAEBAAAAAQEBAQEAAAABAQABAAEBAQEAAQABAQAAAAABAQEBAAABAAEAAQABAQEAAAEBAQAAAAABAAEAAAABAQAAAAABAQEAAAEAAAABAAABAQAAAAAAAQABAQABAQAAAAAAAQABAQEBAAAAAAABAAEBAAEBAAABAAEBAAAAAAAAAAEAAAEBAQEBAQEBAQEAAAEAAQABAQEBAQEAAQAAAAABAAABAQEAAAAAAQABAAABAAABAAAAAQABAQEBAQEBAAAAAQABAQEBAQAAAQAAAAEAAAABAQABAQABAAAAAAEAAAEBAQEBAQEBAQABAAEBAQEAAAAAAAAAAAEAAQEAAAEAAQEAAQEAAQEAAAAAAQEBAAAAAQABAQAAAAEBAAAAAAAAAAEAAQABAQAAAQEBAAEBAAEBAQABAAAAAAEAAAEBAQABAQABAAABAQEBAQAAAQABAAABAAABAAEBAQEBAAEBAQABAAABAAEBAAEAAQABAAEBAAEBAQEBAAEAAQEBAAABAQAAAAEBAAEAAQEBAAABAQABAAEBAAEAAAABAQABAAABAQA=",
          "dtype": "i1"
         },
         "xaxis": "x",
         "yaxis": "y"
        },
        {
         "bingroup": "x",
         "hovertemplate": "price_range=2<br>blue=%{x}<br>count=%{y}<extra></extra>",
         "legendgroup": "2",
         "marker": {
          "color": "#EF553B",
          "pattern": {
           "shape": ""
          }
         },
         "name": "2",
         "orientation": "v",
         "showlegend": true,
         "type": "histogram",
         "x": {
          "bdata": "AQEBAQEAAAAAAQABAAAAAAEAAAABAQEBAQABAAEBAAAAAAABAQABAQAAAAAAAQAAAAABAAAAAQABAQAAAQAAAAABAQAAAQEAAQAAAQABAAAAAAEBAQEBAAEBAAAAAQABAQEAAAEBAAEBAQABAAABAAABAAEAAAEBAAEAAQEBAAEAAQAAAQABAAEBAAABAQABAQEBAQABAAEBAAEAAAEAAQEAAQEBAQEBAQAAAAABAAAAAQAAAAABAAAAAAEAAAABAQEAAAEAAAEAAAEAAAEBAAEBAAABAAABAQABAQAAAQABAQEBAQEBAAEAAAABAQAAAQAAAAAAAQAAAQAAAAEBAQEAAAAAAQABAQAAAQEBAQABAAEBAQABAQEBAAABAQAAAAAAAAABAQABAQABAAEAAQEAAAEAAQAAAQEBAAEAAQEBAAEBAQABAAAAAAAAAAEBAQEAAAABAAEBAQABAAEBAQEAAQABAQEAAAABAQAAAAABAAEBAQEAAQAAAAABAQABAQEAAAEBAQAAAAABAAAAAAEAAAAAAAAAAAAAAAAAAAABAQAAAAEBAAEAAAABAQEAAQAAAQEAAQEBAAEBAQABAQABAQEBAQEAAQEAAQAAAQAAAQAAAQEBAAEAAQEBAAEAAAEBAAABAQEAAAEAAQAAAQAAAAE=",
          "dtype": "i1"
         },
         "xaxis": "x",
         "yaxis": "y"
        },
        {
         "bingroup": "x",
         "hovertemplate": "price_range=3<br>blue=%{x}<br>count=%{y}<extra></extra>",
         "legendgroup": "3",
         "marker": {
          "color": "#00cc96",
          "pattern": {
           "shape": ""
          }
         },
         "name": "3",
         "orientation": "v",
         "showlegend": true,
         "type": "histogram",
         "x": {
          "bdata": "AAEBAAAAAQEAAQEBAQEAAQAAAQAAAQABAQEBAAEBAAEBAQABAQEAAAAAAAEAAAAAAAABAAABAQEAAQEAAQEBAAEBAQEAAAEBAQABAQAAAQABAAEAAQAAAQEBAQAAAAABAQABAQABAQEBAQAAAQEBAAAAAAABAAAAAQEAAAEBAAABAQAAAAAAAQEAAAEAAQEBAAABAQAAAAEBAQABAAABAQABAQEAAQEBAQEBAQABAAEBAAEAAAABAAAAAQAAAAEBAQABAAABAQEAAAEBAAEBAQEAAQEAAAABAAAAAAEBAAEAAAABAQABAQAAAAEAAQABAAEAAAAAAQAAAQEBAAEAAAAAAAEAAAEAAQAAAAABAAABAAEBAQAAAQAAAAAAAQEBAAAAAQABAQAAAQABAAAAAAEAAAABAAABAQEBAQABAQEBAAABAAEAAQEAAQEAAAEBAQAAAAEBAQAAAQEBAAABAQEAAAEAAAEBAAABAAABAAEAAAEBAQEBAAEBAAEBAAAAAQAAAQEAAAAAAQABAQAAAQEAAAAAAAEBAQABAQABAAABAQEBAQEAAQABAQEBAAABAQAAAAABAAEBAAABAQEAAAEBAAEBAAAAAQEBAAEAAQEBAAEAAQABAQEBAQEBAAEAAAABAQEBAQABAQABAAEBAAEAAAE=",
          "dtype": "i1"
         },
         "xaxis": "x",
         "yaxis": "y"
        },
        {
         "bingroup": "x",
         "hovertemplate": "price_range=0<br>blue=%{x}<br>count=%{y}<extra></extra>",
         "legendgroup": "0",
         "marker": {
          "color": "#ab63fa",
          "pattern": {
           "shape": ""
          }
         },
         "name": "0",
         "orientation": "v",
         "showlegend": true,
         "type": "histogram",
         "x": {
          "bdata": "AAEBAAABAAEBAQEBAQEAAAEAAQEAAQAAAQAAAAAAAAAAAAAAAAAAAQEBAQABAAABAAABAQEBAAEBAAEAAAAAAQABAQEAAAABAAABAAAAAAEAAQABAAEBAAEBAQEBAQABAAEAAAABAQEAAAEAAQEAAAABAAEBAQEAAQABAQABAQAAAAABAQEAAAABAQABAQEBAQABAAEBAQAAAQEBAQEAAAAAAAABAQABAQAAAAEBAAAAAQEAAAEAAAABAAABAAABAQAAAQEAAAAAAAEBAQAAAQEBAAAAAAEBAAEAAQAAAAEAAQEBAAEBAAABAQABAAABAAAAAQEAAAEAAQABAQABAAAAAAABAQEAAQEAAQEBAQAAAQEAAQABAAABAAEAAQEBAQAAAQEAAAAAAQAAAAABAQEBAQAAAAAAAAAAAAEBAAEAAAABAAABAAEAAAEAAQAAAAAAAQEAAQAAAAAAAQAAAAAAAAEBAAAAAQEAAQEBAAEBAQEBAQABAAAAAAEBAQAAAAEAAAEBAAEBAQEBAQEAAAABAQABAQAAAQEBAAEAAQABAQAAAAEBAQEAAAEBAQEBAQABAAEAAAABAQAAAQABAQAAAQAAAAEBAAEBAAEAAQABAAABAAAAAQEAAAEAAAAAAQABAAEBAQABAQEAAAABAQEBAQA=",
          "dtype": "i1"
         },
         "xaxis": "x",
         "yaxis": "y"
        }
       ],
       "layout": {
        "barmode": "relative",
        "legend": {
         "title": {
          "text": "price_range"
         },
         "tracegroupgap": 0
        },
        "margin": {
         "t": 60
        },
        "template": {
         "data": {
          "bar": [
           {
            "error_x": {
             "color": "#2a3f5f"
            },
            "error_y": {
             "color": "#2a3f5f"
            },
            "marker": {
             "line": {
              "color": "#E5ECF6",
              "width": 0.5
             },
             "pattern": {
              "fillmode": "overlay",
              "size": 10,
              "solidity": 0.2
             }
            },
            "type": "bar"
           }
          ],
          "barpolar": [
           {
            "marker": {
             "line": {
              "color": "#E5ECF6",
              "width": 0.5
             },
             "pattern": {
              "fillmode": "overlay",
              "size": 10,
              "solidity": 0.2
             }
            },
            "type": "barpolar"
           }
          ],
          "carpet": [
           {
            "aaxis": {
             "endlinecolor": "#2a3f5f",
             "gridcolor": "white",
             "linecolor": "white",
             "minorgridcolor": "white",
             "startlinecolor": "#2a3f5f"
            },
            "baxis": {
             "endlinecolor": "#2a3f5f",
             "gridcolor": "white",
             "linecolor": "white",
             "minorgridcolor": "white",
             "startlinecolor": "#2a3f5f"
            },
            "type": "carpet"
           }
          ],
          "choropleth": [
           {
            "colorbar": {
             "outlinewidth": 0,
             "ticks": ""
            },
            "type": "choropleth"
           }
          ],
          "contour": [
           {
            "colorbar": {
             "outlinewidth": 0,
             "ticks": ""
            },
            "colorscale": [
             [
              0,
              "#0d0887"
             ],
             [
              0.1111111111111111,
              "#46039f"
             ],
             [
              0.2222222222222222,
              "#7201a8"
             ],
             [
              0.3333333333333333,
              "#9c179e"
             ],
             [
              0.4444444444444444,
              "#bd3786"
             ],
             [
              0.5555555555555556,
              "#d8576b"
             ],
             [
              0.6666666666666666,
              "#ed7953"
             ],
             [
              0.7777777777777778,
              "#fb9f3a"
             ],
             [
              0.8888888888888888,
              "#fdca26"
             ],
             [
              1,
              "#f0f921"
             ]
            ],
            "type": "contour"
           }
          ],
          "contourcarpet": [
           {
            "colorbar": {
             "outlinewidth": 0,
             "ticks": ""
            },
            "type": "contourcarpet"
           }
          ],
          "heatmap": [
           {
            "colorbar": {
             "outlinewidth": 0,
             "ticks": ""
            },
            "colorscale": [
             [
              0,
              "#0d0887"
             ],
             [
              0.1111111111111111,
              "#46039f"
             ],
             [
              0.2222222222222222,
              "#7201a8"
             ],
             [
              0.3333333333333333,
              "#9c179e"
             ],
             [
              0.4444444444444444,
              "#bd3786"
             ],
             [
              0.5555555555555556,
              "#d8576b"
             ],
             [
              0.6666666666666666,
              "#ed7953"
             ],
             [
              0.7777777777777778,
              "#fb9f3a"
             ],
             [
              0.8888888888888888,
              "#fdca26"
             ],
             [
              1,
              "#f0f921"
             ]
            ],
            "type": "heatmap"
           }
          ],
          "histogram": [
           {
            "marker": {
             "pattern": {
              "fillmode": "overlay",
              "size": 10,
              "solidity": 0.2
             }
            },
            "type": "histogram"
           }
          ],
          "histogram2d": [
           {
            "colorbar": {
             "outlinewidth": 0,
             "ticks": ""
            },
            "colorscale": [
             [
              0,
              "#0d0887"
             ],
             [
              0.1111111111111111,
              "#46039f"
             ],
             [
              0.2222222222222222,
              "#7201a8"
             ],
             [
              0.3333333333333333,
              "#9c179e"
             ],
             [
              0.4444444444444444,
              "#bd3786"
             ],
             [
              0.5555555555555556,
              "#d8576b"
             ],
             [
              0.6666666666666666,
              "#ed7953"
             ],
             [
              0.7777777777777778,
              "#fb9f3a"
             ],
             [
              0.8888888888888888,
              "#fdca26"
             ],
             [
              1,
              "#f0f921"
             ]
            ],
            "type": "histogram2d"
           }
          ],
          "histogram2dcontour": [
           {
            "colorbar": {
             "outlinewidth": 0,
             "ticks": ""
            },
            "colorscale": [
             [
              0,
              "#0d0887"
             ],
             [
              0.1111111111111111,
              "#46039f"
             ],
             [
              0.2222222222222222,
              "#7201a8"
             ],
             [
              0.3333333333333333,
              "#9c179e"
             ],
             [
              0.4444444444444444,
              "#bd3786"
             ],
             [
              0.5555555555555556,
              "#d8576b"
             ],
             [
              0.6666666666666666,
              "#ed7953"
             ],
             [
              0.7777777777777778,
              "#fb9f3a"
             ],
             [
              0.8888888888888888,
              "#fdca26"
             ],
             [
              1,
              "#f0f921"
             ]
            ],
            "type": "histogram2dcontour"
           }
          ],
          "mesh3d": [
           {
            "colorbar": {
             "outlinewidth": 0,
             "ticks": ""
            },
            "type": "mesh3d"
           }
          ],
          "parcoords": [
           {
            "line": {
             "colorbar": {
              "outlinewidth": 0,
              "ticks": ""
             }
            },
            "type": "parcoords"
           }
          ],
          "pie": [
           {
            "automargin": true,
            "type": "pie"
           }
          ],
          "scatter": [
           {
            "fillpattern": {
             "fillmode": "overlay",
             "size": 10,
             "solidity": 0.2
            },
            "type": "scatter"
           }
          ],
          "scatter3d": [
           {
            "line": {
             "colorbar": {
              "outlinewidth": 0,
              "ticks": ""
             }
            },
            "marker": {
             "colorbar": {
              "outlinewidth": 0,
              "ticks": ""
             }
            },
            "type": "scatter3d"
           }
          ],
          "scattercarpet": [
           {
            "marker": {
             "colorbar": {
              "outlinewidth": 0,
              "ticks": ""
             }
            },
            "type": "scattercarpet"
           }
          ],
          "scattergeo": [
           {
            "marker": {
             "colorbar": {
              "outlinewidth": 0,
              "ticks": ""
             }
            },
            "type": "scattergeo"
           }
          ],
          "scattergl": [
           {
            "marker": {
             "colorbar": {
              "outlinewidth": 0,
              "ticks": ""
             }
            },
            "type": "scattergl"
           }
          ],
          "scattermap": [
           {
            "marker": {
             "colorbar": {
              "outlinewidth": 0,
              "ticks": ""
             }
            },
            "type": "scattermap"
           }
          ],
          "scattermapbox": [
           {
            "marker": {
             "colorbar": {
              "outlinewidth": 0,
              "ticks": ""
             }
            },
            "type": "scattermapbox"
           }
          ],
          "scatterpolar": [
           {
            "marker": {
             "colorbar": {
              "outlinewidth": 0,
              "ticks": ""
             }
            },
            "type": "scatterpolar"
           }
          ],
          "scatterpolargl": [
           {
            "marker": {
             "colorbar": {
              "outlinewidth": 0,
              "ticks": ""
             }
            },
            "type": "scatterpolargl"
           }
          ],
          "scatterternary": [
           {
            "marker": {
             "colorbar": {
              "outlinewidth": 0,
              "ticks": ""
             }
            },
            "type": "scatterternary"
           }
          ],
          "surface": [
           {
            "colorbar": {
             "outlinewidth": 0,
             "ticks": ""
            },
            "colorscale": [
             [
              0,
              "#0d0887"
             ],
             [
              0.1111111111111111,
              "#46039f"
             ],
             [
              0.2222222222222222,
              "#7201a8"
             ],
             [
              0.3333333333333333,
              "#9c179e"
             ],
             [
              0.4444444444444444,
              "#bd3786"
             ],
             [
              0.5555555555555556,
              "#d8576b"
             ],
             [
              0.6666666666666666,
              "#ed7953"
             ],
             [
              0.7777777777777778,
              "#fb9f3a"
             ],
             [
              0.8888888888888888,
              "#fdca26"
             ],
             [
              1,
              "#f0f921"
             ]
            ],
            "type": "surface"
           }
          ],
          "table": [
           {
            "cells": {
             "fill": {
              "color": "#EBF0F8"
             },
             "line": {
              "color": "white"
             }
            },
            "header": {
             "fill": {
              "color": "#C8D4E3"
             },
             "line": {
              "color": "white"
             }
            },
            "type": "table"
           }
          ]
         },
         "layout": {
          "annotationdefaults": {
           "arrowcolor": "#2a3f5f",
           "arrowhead": 0,
           "arrowwidth": 1
          },
          "autotypenumbers": "strict",
          "coloraxis": {
           "colorbar": {
            "outlinewidth": 0,
            "ticks": ""
           }
          },
          "colorscale": {
           "diverging": [
            [
             0,
             "#8e0152"
            ],
            [
             0.1,
             "#c51b7d"
            ],
            [
             0.2,
             "#de77ae"
            ],
            [
             0.3,
             "#f1b6da"
            ],
            [
             0.4,
             "#fde0ef"
            ],
            [
             0.5,
             "#f7f7f7"
            ],
            [
             0.6,
             "#e6f5d0"
            ],
            [
             0.7,
             "#b8e186"
            ],
            [
             0.8,
             "#7fbc41"
            ],
            [
             0.9,
             "#4d9221"
            ],
            [
             1,
             "#276419"
            ]
           ],
           "sequential": [
            [
             0,
             "#0d0887"
            ],
            [
             0.1111111111111111,
             "#46039f"
            ],
            [
             0.2222222222222222,
             "#7201a8"
            ],
            [
             0.3333333333333333,
             "#9c179e"
            ],
            [
             0.4444444444444444,
             "#bd3786"
            ],
            [
             0.5555555555555556,
             "#d8576b"
            ],
            [
             0.6666666666666666,
             "#ed7953"
            ],
            [
             0.7777777777777778,
             "#fb9f3a"
            ],
            [
             0.8888888888888888,
             "#fdca26"
            ],
            [
             1,
             "#f0f921"
            ]
           ],
           "sequentialminus": [
            [
             0,
             "#0d0887"
            ],
            [
             0.1111111111111111,
             "#46039f"
            ],
            [
             0.2222222222222222,
             "#7201a8"
            ],
            [
             0.3333333333333333,
             "#9c179e"
            ],
            [
             0.4444444444444444,
             "#bd3786"
            ],
            [
             0.5555555555555556,
             "#d8576b"
            ],
            [
             0.6666666666666666,
             "#ed7953"
            ],
            [
             0.7777777777777778,
             "#fb9f3a"
            ],
            [
             0.8888888888888888,
             "#fdca26"
            ],
            [
             1,
             "#f0f921"
            ]
           ]
          },
          "colorway": [
           "#636efa",
           "#EF553B",
           "#00cc96",
           "#ab63fa",
           "#FFA15A",
           "#19d3f3",
           "#FF6692",
           "#B6E880",
           "#FF97FF",
           "#FECB52"
          ],
          "font": {
           "color": "#2a3f5f"
          },
          "geo": {
           "bgcolor": "white",
           "lakecolor": "white",
           "landcolor": "#E5ECF6",
           "showlakes": true,
           "showland": true,
           "subunitcolor": "white"
          },
          "hoverlabel": {
           "align": "left"
          },
          "hovermode": "closest",
          "mapbox": {
           "style": "light"
          },
          "paper_bgcolor": "white",
          "plot_bgcolor": "#E5ECF6",
          "polar": {
           "angularaxis": {
            "gridcolor": "white",
            "linecolor": "white",
            "ticks": ""
           },
           "bgcolor": "#E5ECF6",
           "radialaxis": {
            "gridcolor": "white",
            "linecolor": "white",
            "ticks": ""
           }
          },
          "scene": {
           "xaxis": {
            "backgroundcolor": "#E5ECF6",
            "gridcolor": "white",
            "gridwidth": 2,
            "linecolor": "white",
            "showbackground": true,
            "ticks": "",
            "zerolinecolor": "white"
           },
           "yaxis": {
            "backgroundcolor": "#E5ECF6",
            "gridcolor": "white",
            "gridwidth": 2,
            "linecolor": "white",
            "showbackground": true,
            "ticks": "",
            "zerolinecolor": "white"
           },
           "zaxis": {
            "backgroundcolor": "#E5ECF6",
            "gridcolor": "white",
            "gridwidth": 2,
            "linecolor": "white",
            "showbackground": true,
            "ticks": "",
            "zerolinecolor": "white"
           }
          },
          "shapedefaults": {
           "line": {
            "color": "#2a3f5f"
           }
          },
          "ternary": {
           "aaxis": {
            "gridcolor": "white",
            "linecolor": "white",
            "ticks": ""
           },
           "baxis": {
            "gridcolor": "white",
            "linecolor": "white",
            "ticks": ""
           },
           "bgcolor": "#E5ECF6",
           "caxis": {
            "gridcolor": "white",
            "linecolor": "white",
            "ticks": ""
           }
          },
          "title": {
           "x": 0.05
          },
          "xaxis": {
           "automargin": true,
           "gridcolor": "white",
           "linecolor": "white",
           "ticks": "",
           "title": {
            "standoff": 15
           },
           "zerolinecolor": "white",
           "zerolinewidth": 2
          },
          "yaxis": {
           "automargin": true,
           "gridcolor": "white",
           "linecolor": "white",
           "ticks": "",
           "title": {
            "standoff": 15
           },
           "zerolinecolor": "white",
           "zerolinewidth": 2
          }
         }
        },
        "xaxis": {
         "anchor": "y",
         "domain": [
          0,
          1
         ],
         "title": {
          "text": "blue"
         }
        },
        "yaxis": {
         "anchor": "x",
         "domain": [
          0,
          1
         ],
         "title": {
          "text": "count"
         }
        }
       }
      }
     },
     "metadata": {},
     "output_type": "display_data"
    }
   ],
   "source": [
    "px.histogram(df , x = 'blue' , color = 'price_range')"
   ]
  },
  {
   "cell_type": "code",
   "execution_count": 20,
   "id": "971f02dc",
   "metadata": {},
   "outputs": [
    {
     "data": {
      "application/vnd.plotly.v1+json": {
       "config": {
        "plotlyServerURL": "https://plot.ly"
       },
       "data": [
        {
         "alignmentgroup": "True",
         "box": {
          "visible": false
         },
         "hovertemplate": "price_range=%{x}<br>clock_speed=%{y}<extra></extra>",
         "legendgroup": "1",
         "marker": {
          "color": "#636efa"
         },
         "name": "1",
         "offsetgroup": "1",
         "orientation": "v",
         "scalegroup": "True",
         "showlegend": true,
         "type": "violin",
         "x": {
          "bdata": "AQEBAQEBAQEBAQEBAQEBAQEBAQEBAQEBAQEBAQEBAQEBAQEBAQEBAQEBAQEBAQEBAQEBAQEBAQEBAQEBAQEBAQEBAQEBAQEBAQEBAQEBAQEBAQEBAQEBAQEBAQEBAQEBAQEBAQEBAQEBAQEBAQEBAQEBAQEBAQEBAQEBAQEBAQEBAQEBAQEBAQEBAQEBAQEBAQEBAQEBAQEBAQEBAQEBAQEBAQEBAQEBAQEBAQEBAQEBAQEBAQEBAQEBAQEBAQEBAQEBAQEBAQEBAQEBAQEBAQEBAQEBAQEBAQEBAQEBAQEBAQEBAQEBAQEBAQEBAQEBAQEBAQEBAQEBAQEBAQEBAQEBAQEBAQEBAQEBAQEBAQEBAQEBAQEBAQEBAQEBAQEBAQEBAQEBAQEBAQEBAQEBAQEBAQEBAQEBAQEBAQEBAQEBAQEBAQEBAQEBAQEBAQEBAQEBAQEBAQEBAQEBAQEBAQEBAQEBAQEBAQEBAQEBAQEBAQEBAQEBAQEBAQEBAQEBAQEBAQEBAQEBAQEBAQEBAQEBAQEBAQEBAQEBAQEBAQEBAQEBAQEBAQEBAQEBAQEBAQEBAQEBAQEBAQEBAQEBAQEBAQEBAQEBAQEBAQEBAQEBAQEBAQEBAQEBAQEBAQEBAQEBAQEBAQEBAQEBAQEBAQEBAQE=",
          "dtype": "i1"
         },
         "x0": " ",
         "xaxis": "x",
         "y": {
          "bdata": "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",
          "dtype": "f8"
         },
         "y0": " ",
         "yaxis": "y"
        },
        {
         "alignmentgroup": "True",
         "box": {
          "visible": false
         },
         "hovertemplate": "price_range=%{x}<br>clock_speed=%{y}<extra></extra>",
         "legendgroup": "2",
         "marker": {
          "color": "#EF553B"
         },
         "name": "2",
         "offsetgroup": "2",
         "orientation": "v",
         "scalegroup": "True",
         "showlegend": true,
         "type": "violin",
         "x": {
          "bdata": "AgICAgICAgICAgICAgICAgICAgICAgICAgICAgICAgICAgICAgICAgICAgICAgICAgICAgICAgICAgICAgICAgICAgICAgICAgICAgICAgICAgICAgICAgICAgICAgICAgICAgICAgICAgICAgICAgICAgICAgICAgICAgICAgICAgICAgICAgICAgICAgICAgICAgICAgICAgICAgICAgICAgICAgICAgICAgICAgICAgICAgICAgICAgICAgICAgICAgICAgICAgICAgICAgICAgICAgICAgICAgICAgICAgICAgICAgICAgICAgICAgICAgICAgICAgICAgICAgICAgICAgICAgICAgICAgICAgICAgICAgICAgICAgICAgICAgICAgICAgICAgICAgICAgICAgICAgICAgICAgICAgICAgICAgICAgICAgICAgICAgICAgICAgICAgICAgICAgICAgICAgICAgICAgICAgICAgICAgICAgICAgICAgICAgICAgICAgICAgICAgICAgICAgICAgICAgICAgICAgICAgICAgICAgICAgICAgICAgICAgICAgICAgICAgICAgICAgICAgICAgICAgICAgICAgICAgICAgICAgICAgICAgICAgICAgICAgICAgICAgI=",
          "dtype": "i1"
         },
         "x0": " ",
         "xaxis": "x",
         "y": {
          "bdata": "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",
          "dtype": "f8"
         },
         "y0": " ",
         "yaxis": "y"
        },
        {
         "alignmentgroup": "True",
         "box": {
          "visible": false
         },
         "hovertemplate": "price_range=%{x}<br>clock_speed=%{y}<extra></extra>",
         "legendgroup": "3",
         "marker": {
          "color": "#00cc96"
         },
         "name": "3",
         "offsetgroup": "3",
         "orientation": "v",
         "scalegroup": "True",
         "showlegend": true,
         "type": "violin",
         "x": {
          "bdata": "AwMDAwMDAwMDAwMDAwMDAwMDAwMDAwMDAwMDAwMDAwMDAwMDAwMDAwMDAwMDAwMDAwMDAwMDAwMDAwMDAwMDAwMDAwMDAwMDAwMDAwMDAwMDAwMDAwMDAwMDAwMDAwMDAwMDAwMDAwMDAwMDAwMDAwMDAwMDAwMDAwMDAwMDAwMDAwMDAwMDAwMDAwMDAwMDAwMDAwMDAwMDAwMDAwMDAwMDAwMDAwMDAwMDAwMDAwMDAwMDAwMDAwMDAwMDAwMDAwMDAwMDAwMDAwMDAwMDAwMDAwMDAwMDAwMDAwMDAwMDAwMDAwMDAwMDAwMDAwMDAwMDAwMDAwMDAwMDAwMDAwMDAwMDAwMDAwMDAwMDAwMDAwMDAwMDAwMDAwMDAwMDAwMDAwMDAwMDAwMDAwMDAwMDAwMDAwMDAwMDAwMDAwMDAwMDAwMDAwMDAwMDAwMDAwMDAwMDAwMDAwMDAwMDAwMDAwMDAwMDAwMDAwMDAwMDAwMDAwMDAwMDAwMDAwMDAwMDAwMDAwMDAwMDAwMDAwMDAwMDAwMDAwMDAwMDAwMDAwMDAwMDAwMDAwMDAwMDAwMDAwMDAwMDAwMDAwMDAwMDAwMDAwMDAwMDAwMDAwMDAwMDAwMDAwMDAwMDAwMDAwMDAwMDAwMDAwMDAwMDAwMDAwM=",
          "dtype": "i1"
         },
         "x0": " ",
         "xaxis": "x",
         "y": {
          "bdata": "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",
          "dtype": "f8"
         },
         "y0": " ",
         "yaxis": "y"
        },
        {
         "alignmentgroup": "True",
         "box": {
          "visible": false
         },
         "hovertemplate": "price_range=%{x}<br>clock_speed=%{y}<extra></extra>",
         "legendgroup": "0",
         "marker": {
          "color": "#ab63fa"
         },
         "name": "0",
         "offsetgroup": "0",
         "orientation": "v",
         "scalegroup": "True",
         "showlegend": true,
         "type": "violin",
         "x": {
          "bdata": "AAAAAAAAAAAAAAAAAAAAAAAAAAAAAAAAAAAAAAAAAAAAAAAAAAAAAAAAAAAAAAAAAAAAAAAAAAAAAAAAAAAAAAAAAAAAAAAAAAAAAAAAAAAAAAAAAAAAAAAAAAAAAAAAAAAAAAAAAAAAAAAAAAAAAAAAAAAAAAAAAAAAAAAAAAAAAAAAAAAAAAAAAAAAAAAAAAAAAAAAAAAAAAAAAAAAAAAAAAAAAAAAAAAAAAAAAAAAAAAAAAAAAAAAAAAAAAAAAAAAAAAAAAAAAAAAAAAAAAAAAAAAAAAAAAAAAAAAAAAAAAAAAAAAAAAAAAAAAAAAAAAAAAAAAAAAAAAAAAAAAAAAAAAAAAAAAAAAAAAAAAAAAAAAAAAAAAAAAAAAAAAAAAAAAAAAAAAAAAAAAAAAAAAAAAAAAAAAAAAAAAAAAAAAAAAAAAAAAAAAAAAAAAAAAAAAAAAAAAAAAAAAAAAAAAAAAAAAAAAAAAAAAAAAAAAAAAAAAAAAAAAAAAAAAAAAAAAAAAAAAAAAAAAAAAAAAAAAAAAAAAAAAAAAAAAAAAAAAAAAAAAAAAAAAAAAAAAAAAAAAAAAAAAAAAAAAAAAAAAAAAAAAAAAAAAAAAAAAAAAAAAAAAAAAAAAAAAAAAAAAAAAAAAAAAAAAAAAAAAAAAAAAAA=",
          "dtype": "i1"
         },
         "x0": " ",
         "xaxis": "x",
         "y": {
          "bdata": "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",
          "dtype": "f8"
         },
         "y0": " ",
         "yaxis": "y"
        }
       ],
       "layout": {
        "legend": {
         "title": {
          "text": "price_range"
         },
         "tracegroupgap": 0
        },
        "margin": {
         "t": 60
        },
        "template": {
         "data": {
          "bar": [
           {
            "error_x": {
             "color": "#2a3f5f"
            },
            "error_y": {
             "color": "#2a3f5f"
            },
            "marker": {
             "line": {
              "color": "#E5ECF6",
              "width": 0.5
             },
             "pattern": {
              "fillmode": "overlay",
              "size": 10,
              "solidity": 0.2
             }
            },
            "type": "bar"
           }
          ],
          "barpolar": [
           {
            "marker": {
             "line": {
              "color": "#E5ECF6",
              "width": 0.5
             },
             "pattern": {
              "fillmode": "overlay",
              "size": 10,
              "solidity": 0.2
             }
            },
            "type": "barpolar"
           }
          ],
          "carpet": [
           {
            "aaxis": {
             "endlinecolor": "#2a3f5f",
             "gridcolor": "white",
             "linecolor": "white",
             "minorgridcolor": "white",
             "startlinecolor": "#2a3f5f"
            },
            "baxis": {
             "endlinecolor": "#2a3f5f",
             "gridcolor": "white",
             "linecolor": "white",
             "minorgridcolor": "white",
             "startlinecolor": "#2a3f5f"
            },
            "type": "carpet"
           }
          ],
          "choropleth": [
           {
            "colorbar": {
             "outlinewidth": 0,
             "ticks": ""
            },
            "type": "choropleth"
           }
          ],
          "contour": [
           {
            "colorbar": {
             "outlinewidth": 0,
             "ticks": ""
            },
            "colorscale": [
             [
              0,
              "#0d0887"
             ],
             [
              0.1111111111111111,
              "#46039f"
             ],
             [
              0.2222222222222222,
              "#7201a8"
             ],
             [
              0.3333333333333333,
              "#9c179e"
             ],
             [
              0.4444444444444444,
              "#bd3786"
             ],
             [
              0.5555555555555556,
              "#d8576b"
             ],
             [
              0.6666666666666666,
              "#ed7953"
             ],
             [
              0.7777777777777778,
              "#fb9f3a"
             ],
             [
              0.8888888888888888,
              "#fdca26"
             ],
             [
              1,
              "#f0f921"
             ]
            ],
            "type": "contour"
           }
          ],
          "contourcarpet": [
           {
            "colorbar": {
             "outlinewidth": 0,
             "ticks": ""
            },
            "type": "contourcarpet"
           }
          ],
          "heatmap": [
           {
            "colorbar": {
             "outlinewidth": 0,
             "ticks": ""
            },
            "colorscale": [
             [
              0,
              "#0d0887"
             ],
             [
              0.1111111111111111,
              "#46039f"
             ],
             [
              0.2222222222222222,
              "#7201a8"
             ],
             [
              0.3333333333333333,
              "#9c179e"
             ],
             [
              0.4444444444444444,
              "#bd3786"
             ],
             [
              0.5555555555555556,
              "#d8576b"
             ],
             [
              0.6666666666666666,
              "#ed7953"
             ],
             [
              0.7777777777777778,
              "#fb9f3a"
             ],
             [
              0.8888888888888888,
              "#fdca26"
             ],
             [
              1,
              "#f0f921"
             ]
            ],
            "type": "heatmap"
           }
          ],
          "histogram": [
           {
            "marker": {
             "pattern": {
              "fillmode": "overlay",
              "size": 10,
              "solidity": 0.2
             }
            },
            "type": "histogram"
           }
          ],
          "histogram2d": [
           {
            "colorbar": {
             "outlinewidth": 0,
             "ticks": ""
            },
            "colorscale": [
             [
              0,
              "#0d0887"
             ],
             [
              0.1111111111111111,
              "#46039f"
             ],
             [
              0.2222222222222222,
              "#7201a8"
             ],
             [
              0.3333333333333333,
              "#9c179e"
             ],
             [
              0.4444444444444444,
              "#bd3786"
             ],
             [
              0.5555555555555556,
              "#d8576b"
             ],
             [
              0.6666666666666666,
              "#ed7953"
             ],
             [
              0.7777777777777778,
              "#fb9f3a"
             ],
             [
              0.8888888888888888,
              "#fdca26"
             ],
             [
              1,
              "#f0f921"
             ]
            ],
            "type": "histogram2d"
           }
          ],
          "histogram2dcontour": [
           {
            "colorbar": {
             "outlinewidth": 0,
             "ticks": ""
            },
            "colorscale": [
             [
              0,
              "#0d0887"
             ],
             [
              0.1111111111111111,
              "#46039f"
             ],
             [
              0.2222222222222222,
              "#7201a8"
             ],
             [
              0.3333333333333333,
              "#9c179e"
             ],
             [
              0.4444444444444444,
              "#bd3786"
             ],
             [
              0.5555555555555556,
              "#d8576b"
             ],
             [
              0.6666666666666666,
              "#ed7953"
             ],
             [
              0.7777777777777778,
              "#fb9f3a"
             ],
             [
              0.8888888888888888,
              "#fdca26"
             ],
             [
              1,
              "#f0f921"
             ]
            ],
            "type": "histogram2dcontour"
           }
          ],
          "mesh3d": [
           {
            "colorbar": {
             "outlinewidth": 0,
             "ticks": ""
            },
            "type": "mesh3d"
           }
          ],
          "parcoords": [
           {
            "line": {
             "colorbar": {
              "outlinewidth": 0,
              "ticks": ""
             }
            },
            "type": "parcoords"
           }
          ],
          "pie": [
           {
            "automargin": true,
            "type": "pie"
           }
          ],
          "scatter": [
           {
            "fillpattern": {
             "fillmode": "overlay",
             "size": 10,
             "solidity": 0.2
            },
            "type": "scatter"
           }
          ],
          "scatter3d": [
           {
            "line": {
             "colorbar": {
              "outlinewidth": 0,
              "ticks": ""
             }
            },
            "marker": {
             "colorbar": {
              "outlinewidth": 0,
              "ticks": ""
             }
            },
            "type": "scatter3d"
           }
          ],
          "scattercarpet": [
           {
            "marker": {
             "colorbar": {
              "outlinewidth": 0,
              "ticks": ""
             }
            },
            "type": "scattercarpet"
           }
          ],
          "scattergeo": [
           {
            "marker": {
             "colorbar": {
              "outlinewidth": 0,
              "ticks": ""
             }
            },
            "type": "scattergeo"
           }
          ],
          "scattergl": [
           {
            "marker": {
             "colorbar": {
              "outlinewidth": 0,
              "ticks": ""
             }
            },
            "type": "scattergl"
           }
          ],
          "scattermap": [
           {
            "marker": {
             "colorbar": {
              "outlinewidth": 0,
              "ticks": ""
             }
            },
            "type": "scattermap"
           }
          ],
          "scattermapbox": [
           {
            "marker": {
             "colorbar": {
              "outlinewidth": 0,
              "ticks": ""
             }
            },
            "type": "scattermapbox"
           }
          ],
          "scatterpolar": [
           {
            "marker": {
             "colorbar": {
              "outlinewidth": 0,
              "ticks": ""
             }
            },
            "type": "scatterpolar"
           }
          ],
          "scatterpolargl": [
           {
            "marker": {
             "colorbar": {
              "outlinewidth": 0,
              "ticks": ""
             }
            },
            "type": "scatterpolargl"
           }
          ],
          "scatterternary": [
           {
            "marker": {
             "colorbar": {
              "outlinewidth": 0,
              "ticks": ""
             }
            },
            "type": "scatterternary"
           }
          ],
          "surface": [
           {
            "colorbar": {
             "outlinewidth": 0,
             "ticks": ""
            },
            "colorscale": [
             [
              0,
              "#0d0887"
             ],
             [
              0.1111111111111111,
              "#46039f"
             ],
             [
              0.2222222222222222,
              "#7201a8"
             ],
             [
              0.3333333333333333,
              "#9c179e"
             ],
             [
              0.4444444444444444,
              "#bd3786"
             ],
             [
              0.5555555555555556,
              "#d8576b"
             ],
             [
              0.6666666666666666,
              "#ed7953"
             ],
             [
              0.7777777777777778,
              "#fb9f3a"
             ],
             [
              0.8888888888888888,
              "#fdca26"
             ],
             [
              1,
              "#f0f921"
             ]
            ],
            "type": "surface"
           }
          ],
          "table": [
           {
            "cells": {
             "fill": {
              "color": "#EBF0F8"
             },
             "line": {
              "color": "white"
             }
            },
            "header": {
             "fill": {
              "color": "#C8D4E3"
             },
             "line": {
              "color": "white"
             }
            },
            "type": "table"
           }
          ]
         },
         "layout": {
          "annotationdefaults": {
           "arrowcolor": "#2a3f5f",
           "arrowhead": 0,
           "arrowwidth": 1
          },
          "autotypenumbers": "strict",
          "coloraxis": {
           "colorbar": {
            "outlinewidth": 0,
            "ticks": ""
           }
          },
          "colorscale": {
           "diverging": [
            [
             0,
             "#8e0152"
            ],
            [
             0.1,
             "#c51b7d"
            ],
            [
             0.2,
             "#de77ae"
            ],
            [
             0.3,
             "#f1b6da"
            ],
            [
             0.4,
             "#fde0ef"
            ],
            [
             0.5,
             "#f7f7f7"
            ],
            [
             0.6,
             "#e6f5d0"
            ],
            [
             0.7,
             "#b8e186"
            ],
            [
             0.8,
             "#7fbc41"
            ],
            [
             0.9,
             "#4d9221"
            ],
            [
             1,
             "#276419"
            ]
           ],
           "sequential": [
            [
             0,
             "#0d0887"
            ],
            [
             0.1111111111111111,
             "#46039f"
            ],
            [
             0.2222222222222222,
             "#7201a8"
            ],
            [
             0.3333333333333333,
             "#9c179e"
            ],
            [
             0.4444444444444444,
             "#bd3786"
            ],
            [
             0.5555555555555556,
             "#d8576b"
            ],
            [
             0.6666666666666666,
             "#ed7953"
            ],
            [
             0.7777777777777778,
             "#fb9f3a"
            ],
            [
             0.8888888888888888,
             "#fdca26"
            ],
            [
             1,
             "#f0f921"
            ]
           ],
           "sequentialminus": [
            [
             0,
             "#0d0887"
            ],
            [
             0.1111111111111111,
             "#46039f"
            ],
            [
             0.2222222222222222,
             "#7201a8"
            ],
            [
             0.3333333333333333,
             "#9c179e"
            ],
            [
             0.4444444444444444,
             "#bd3786"
            ],
            [
             0.5555555555555556,
             "#d8576b"
            ],
            [
             0.6666666666666666,
             "#ed7953"
            ],
            [
             0.7777777777777778,
             "#fb9f3a"
            ],
            [
             0.8888888888888888,
             "#fdca26"
            ],
            [
             1,
             "#f0f921"
            ]
           ]
          },
          "colorway": [
           "#636efa",
           "#EF553B",
           "#00cc96",
           "#ab63fa",
           "#FFA15A",
           "#19d3f3",
           "#FF6692",
           "#B6E880",
           "#FF97FF",
           "#FECB52"
          ],
          "font": {
           "color": "#2a3f5f"
          },
          "geo": {
           "bgcolor": "white",
           "lakecolor": "white",
           "landcolor": "#E5ECF6",
           "showlakes": true,
           "showland": true,
           "subunitcolor": "white"
          },
          "hoverlabel": {
           "align": "left"
          },
          "hovermode": "closest",
          "mapbox": {
           "style": "light"
          },
          "paper_bgcolor": "white",
          "plot_bgcolor": "#E5ECF6",
          "polar": {
           "angularaxis": {
            "gridcolor": "white",
            "linecolor": "white",
            "ticks": ""
           },
           "bgcolor": "#E5ECF6",
           "radialaxis": {
            "gridcolor": "white",
            "linecolor": "white",
            "ticks": ""
           }
          },
          "scene": {
           "xaxis": {
            "backgroundcolor": "#E5ECF6",
            "gridcolor": "white",
            "gridwidth": 2,
            "linecolor": "white",
            "showbackground": true,
            "ticks": "",
            "zerolinecolor": "white"
           },
           "yaxis": {
            "backgroundcolor": "#E5ECF6",
            "gridcolor": "white",
            "gridwidth": 2,
            "linecolor": "white",
            "showbackground": true,
            "ticks": "",
            "zerolinecolor": "white"
           },
           "zaxis": {
            "backgroundcolor": "#E5ECF6",
            "gridcolor": "white",
            "gridwidth": 2,
            "linecolor": "white",
            "showbackground": true,
            "ticks": "",
            "zerolinecolor": "white"
           }
          },
          "shapedefaults": {
           "line": {
            "color": "#2a3f5f"
           }
          },
          "ternary": {
           "aaxis": {
            "gridcolor": "white",
            "linecolor": "white",
            "ticks": ""
           },
           "baxis": {
            "gridcolor": "white",
            "linecolor": "white",
            "ticks": ""
           },
           "bgcolor": "#E5ECF6",
           "caxis": {
            "gridcolor": "white",
            "linecolor": "white",
            "ticks": ""
           }
          },
          "title": {
           "x": 0.05
          },
          "xaxis": {
           "automargin": true,
           "gridcolor": "white",
           "linecolor": "white",
           "ticks": "",
           "title": {
            "standoff": 15
           },
           "zerolinecolor": "white",
           "zerolinewidth": 2
          },
          "yaxis": {
           "automargin": true,
           "gridcolor": "white",
           "linecolor": "white",
           "ticks": "",
           "title": {
            "standoff": 15
           },
           "zerolinecolor": "white",
           "zerolinewidth": 2
          }
         }
        },
        "violinmode": "overlay",
        "xaxis": {
         "anchor": "y",
         "categoryarray": [
          1,
          2,
          3,
          0
         ],
         "categoryorder": "array",
         "domain": [
          0,
          1
         ],
         "title": {
          "text": "price_range"
         }
        },
        "yaxis": {
         "anchor": "x",
         "domain": [
          0,
          1
         ],
         "title": {
          "text": "clock_speed"
         }
        }
       }
      }
     },
     "metadata": {},
     "output_type": "display_data"
    }
   ],
   "source": [
    "px.violin(df , y = 'clock_speed' , x = 'price_range' , color = 'price_range')"
   ]
  },
  {
   "cell_type": "code",
   "execution_count": 21,
   "id": "ea2518d2",
   "metadata": {},
   "outputs": [
    {
     "data": {
      "application/vnd.plotly.v1+json": {
       "config": {
        "plotlyServerURL": "https://plot.ly"
       },
       "data": [
        {
         "bingroup": "x",
         "hovertemplate": "price_range=1<br>dual_sim=%{x}<br>count=%{y}<extra></extra>",
         "legendgroup": "1",
         "marker": {
          "color": "#636efa",
          "pattern": {
           "shape": ""
          }
         },
         "name": "1",
         "orientation": "v",
         "showlegend": true,
         "type": "histogram",
         "x": {
          "bdata": "AAABAAEAAQEAAQEBAAABAQAAAQEAAQABAAAAAQEAAAAAAQEBAAAAAQEAAQABAAAAAQEAAAABAAAAAAEBAQEAAQEBAQAAAAEBAAABAAAAAQABAAABAAEAAAAAAQABAQAAAQEBAAEAAQAAAQEBAAEBAQABAQEBAQAAAAABAAABAAAAAQEBAAABAQEAAQAAAAABAQEBAQAAAAEAAAEAAQEBAQEBAQABAQAAAAABAAABAQAAAQEBAAAAAQEBAAAAAAEBAQAAAAEBAAABAQAAAAAAAAEBAQEAAAEAAAAAAAAAAQABAAEAAQAAAQEBAAABAAEAAAABAQEBAAEBAQABAQEAAQABAAAAAQEBAQEBAQEBAAEAAAEAAQEAAQEBAQEBAQAAAAEBAAABAQEBAQAAAQEAAAABAQABAAABAAEAAAEAAQEBAQABAAEAAQAAAQEBAAEAAAABAQEBAAAAAQEBAAEAAQEAAQAAAAAAAAABAQABAAABAQAAAQABAQAAAQEBAAABAAAAAQEBAAAAAQEAAAABAQEBAAABAAEBAAEBAAABAQABAAAAAAEAAQABAQABAQAAAQEBAQABAAAAAAABAQEBAQEBAAEBAAAAAAEBAQABAQAAAQABAAEAAQAAAAEAAAEBAAEAAAEBAQEAAQEBAAABAAEBAAA=",
          "dtype": "i1"
         },
         "xaxis": "x",
         "yaxis": "y"
        },
        {
         "bingroup": "x",
         "hovertemplate": "price_range=2<br>dual_sim=%{x}<br>count=%{y}<extra></extra>",
         "legendgroup": "2",
         "marker": {
          "color": "#EF553B",
          "pattern": {
           "shape": ""
          }
         },
         "name": "2",
         "orientation": "v",
         "showlegend": true,
         "type": "histogram",
         "x": {
          "bdata": "AQEAAAEBAQEAAQEBAQEAAQABAQEBAAEAAQABAAEAAQEAAAABAQEAAQEBAQAAAQAAAQEAAQEBAAABAQEAAAEAAQAAAQEAAQABAQABAQEBAQAAAQEAAAABAAEBAQEAAAAAAQAAAQEAAAEAAAEAAQEAAQAAAQAAAAEBAAEAAQEBAAAAAQEAAQABAQEAAAAAAAEBAQEAAQAAAQAAAAEBAQEBAQABAAEAAAEAAAABAQAAAQABAQABAQEAAAABAAEBAAABAAEBAAEAAQAAAQAAAAEAAQEAAAEAAQABAAAAAAEAAQABAQEAAAAAAAABAAEAAQEBAQAAAAEBAQEAAAAAAAEBAQABAAABAAEAAQABAAAAAAEBAQEBAAABAAEAAQAAAQEBAQAAAAEAAQAAAQEBAAABAAEBAAEAAQABAAEAAAAAAQAAAAEAAQAAAQEAAAEAAQEAAQAAAAEAAQEAAQEBAQEBAQABAAAAAAABAAEAAAAAAQEBAAAAAAEBAQEBAAABAAAAAAEAAQEAAAAAAQAAAQEBAAAAAAEAAAEBAQAAAAEBAQEBAQABAAEAAAEBAAEBAQABAAAAAQEAAAEBAQEAAAABAAEAAAAAAQEAAQABAQEAAAEAAAAAAAEAAQEAAQEAAAAAAQEAAQAAAQAAAAEAAAEBAAEAAQE=",
          "dtype": "i1"
         },
         "xaxis": "x",
         "yaxis": "y"
        },
        {
         "bingroup": "x",
         "hovertemplate": "price_range=3<br>dual_sim=%{x}<br>count=%{y}<extra></extra>",
         "legendgroup": "3",
         "marker": {
          "color": "#00cc96",
          "pattern": {
           "shape": ""
          }
         },
         "name": "3",
         "orientation": "v",
         "showlegend": true,
         "type": "histogram",
         "x": {
          "bdata": "AAEAAAEBAAEAAQEBAAEBAQEBAAABAQABAQEBAQAAAQABAAAAAQEAAAEBAQABAQEAAQABAQEBAAEBAQAAAQEAAAEBAAEAAAEBAAABAQAAAQAAAQEAAQEAAAABAQEAAQEBAQEBAQEAAQAAAAAAAQAAAQEBAQABAAABAAEAAQAAAQAAAAEBAQAAAQAAAAEBAAABAAAAAQEBAQAAAAEBAAEBAQEAAQAAAAEAAAEBAQEAAQEBAQABAAEAAAAAAAEBAQABAQAAAQABAQEBAQEBAQAAAAAAAAEAAAEAAQEAAAABAQABAAABAQEAAQEAAAEAAAEAAAEBAAEBAQAAAAEBAQAAAQABAAABAAEBAQEAAAABAQABAQEAAAEAAAEBAQAAAAAAAAABAQAAAQAAAQEBAAABAAEBAAEBAQABAAEBAQAAAAEBAAEAAAEBAAEBAQEAAAABAAEAAQEBAQABAQAAAAEAAQEBAQEAAAEBAAAAAAABAAABAQABAAABAAEBAAEAAQEBAAABAAEBAAEAAQABAQABAQABAAABAAEAAQABAAAAAQEAAQEBAQEAAQEAAQABAAABAAAAAAEAAAEBAQEBAAEBAQAAAQABAAEBAQEAAAABAQEAAAAAAAEBAQAAAQABAQEAAQAAAQAAAAABAQABAQAAAAAAAQE=",
          "dtype": "i1"
         },
         "xaxis": "x",
         "yaxis": "y"
        },
        {
         "bingroup": "x",
         "hovertemplate": "price_range=0<br>dual_sim=%{x}<br>count=%{y}<extra></extra>",
         "legendgroup": "0",
         "marker": {
          "color": "#ab63fa",
          "pattern": {
           "shape": ""
          }
         },
         "name": "0",
         "orientation": "v",
         "showlegend": true,
         "type": "histogram",
         "x": {
          "bdata": "AQABAAABAAAAAAEBAAEBAAEAAQEBAAAAAQEBAQABAQEAAQAAAQAAAAABAAAAAQEBAAEAAAEBAQEAAQAAAAEAAAEBAQAAAAAAAAEBAAEAAAABAQEAAQEAAAEBAQAAAQEAAAEBAQAAAQEAAAAAAAEAAAEBAAABAAEAAQAAAQEAAAAAAQEBAQABAQAAAAEAAAEBAAAAAAEBAQAAAAEBAQABAAABAQABAQAAAQEBAQAAAAABAQAAAAAAAAEBAQAAAQABAQABAQABAAEAAQAAAQEAAQABAAEBAQABAAABAAABAAEBAAEBAQEAAQEBAAABAQEAAAEBAQEBAQABAAAAAQAAAAAAAQEAAAAAAAABAAEBAAAAAAEAAQEBAQABAQABAAEAAQAAAAEBAAAAAAEAAQEBAQEAAQABAAAAAAEAAAABAAAAAAEAAAABAQEBAAAAAQEBAQEBAQEBAAEBAAAAAQEAAQEBAAEBAQABAAEBAAAAAAAAAQEBAQAAAQEAAAEAAQEAAQAAAAEBAAABAQEAAAAAAAAAAQEBAQAAAAAAAQEBAQEBAAEBAQABAAEBAAEBAQAAAQEBAQEAAQAAAAABAAEAAQEBAAEAAQABAAEAAAAAAAEAAQEAAQAAAAEAAAABAQABAAEBAAEBAQABAQEBAQAAAAABAQA=",
          "dtype": "i1"
         },
         "xaxis": "x",
         "yaxis": "y"
        }
       ],
       "layout": {
        "barmode": "relative",
        "legend": {
         "title": {
          "text": "price_range"
         },
         "tracegroupgap": 0
        },
        "margin": {
         "t": 60
        },
        "template": {
         "data": {
          "bar": [
           {
            "error_x": {
             "color": "#2a3f5f"
            },
            "error_y": {
             "color": "#2a3f5f"
            },
            "marker": {
             "line": {
              "color": "#E5ECF6",
              "width": 0.5
             },
             "pattern": {
              "fillmode": "overlay",
              "size": 10,
              "solidity": 0.2
             }
            },
            "type": "bar"
           }
          ],
          "barpolar": [
           {
            "marker": {
             "line": {
              "color": "#E5ECF6",
              "width": 0.5
             },
             "pattern": {
              "fillmode": "overlay",
              "size": 10,
              "solidity": 0.2
             }
            },
            "type": "barpolar"
           }
          ],
          "carpet": [
           {
            "aaxis": {
             "endlinecolor": "#2a3f5f",
             "gridcolor": "white",
             "linecolor": "white",
             "minorgridcolor": "white",
             "startlinecolor": "#2a3f5f"
            },
            "baxis": {
             "endlinecolor": "#2a3f5f",
             "gridcolor": "white",
             "linecolor": "white",
             "minorgridcolor": "white",
             "startlinecolor": "#2a3f5f"
            },
            "type": "carpet"
           }
          ],
          "choropleth": [
           {
            "colorbar": {
             "outlinewidth": 0,
             "ticks": ""
            },
            "type": "choropleth"
           }
          ],
          "contour": [
           {
            "colorbar": {
             "outlinewidth": 0,
             "ticks": ""
            },
            "colorscale": [
             [
              0,
              "#0d0887"
             ],
             [
              0.1111111111111111,
              "#46039f"
             ],
             [
              0.2222222222222222,
              "#7201a8"
             ],
             [
              0.3333333333333333,
              "#9c179e"
             ],
             [
              0.4444444444444444,
              "#bd3786"
             ],
             [
              0.5555555555555556,
              "#d8576b"
             ],
             [
              0.6666666666666666,
              "#ed7953"
             ],
             [
              0.7777777777777778,
              "#fb9f3a"
             ],
             [
              0.8888888888888888,
              "#fdca26"
             ],
             [
              1,
              "#f0f921"
             ]
            ],
            "type": "contour"
           }
          ],
          "contourcarpet": [
           {
            "colorbar": {
             "outlinewidth": 0,
             "ticks": ""
            },
            "type": "contourcarpet"
           }
          ],
          "heatmap": [
           {
            "colorbar": {
             "outlinewidth": 0,
             "ticks": ""
            },
            "colorscale": [
             [
              0,
              "#0d0887"
             ],
             [
              0.1111111111111111,
              "#46039f"
             ],
             [
              0.2222222222222222,
              "#7201a8"
             ],
             [
              0.3333333333333333,
              "#9c179e"
             ],
             [
              0.4444444444444444,
              "#bd3786"
             ],
             [
              0.5555555555555556,
              "#d8576b"
             ],
             [
              0.6666666666666666,
              "#ed7953"
             ],
             [
              0.7777777777777778,
              "#fb9f3a"
             ],
             [
              0.8888888888888888,
              "#fdca26"
             ],
             [
              1,
              "#f0f921"
             ]
            ],
            "type": "heatmap"
           }
          ],
          "histogram": [
           {
            "marker": {
             "pattern": {
              "fillmode": "overlay",
              "size": 10,
              "solidity": 0.2
             }
            },
            "type": "histogram"
           }
          ],
          "histogram2d": [
           {
            "colorbar": {
             "outlinewidth": 0,
             "ticks": ""
            },
            "colorscale": [
             [
              0,
              "#0d0887"
             ],
             [
              0.1111111111111111,
              "#46039f"
             ],
             [
              0.2222222222222222,
              "#7201a8"
             ],
             [
              0.3333333333333333,
              "#9c179e"
             ],
             [
              0.4444444444444444,
              "#bd3786"
             ],
             [
              0.5555555555555556,
              "#d8576b"
             ],
             [
              0.6666666666666666,
              "#ed7953"
             ],
             [
              0.7777777777777778,
              "#fb9f3a"
             ],
             [
              0.8888888888888888,
              "#fdca26"
             ],
             [
              1,
              "#f0f921"
             ]
            ],
            "type": "histogram2d"
           }
          ],
          "histogram2dcontour": [
           {
            "colorbar": {
             "outlinewidth": 0,
             "ticks": ""
            },
            "colorscale": [
             [
              0,
              "#0d0887"
             ],
             [
              0.1111111111111111,
              "#46039f"
             ],
             [
              0.2222222222222222,
              "#7201a8"
             ],
             [
              0.3333333333333333,
              "#9c179e"
             ],
             [
              0.4444444444444444,
              "#bd3786"
             ],
             [
              0.5555555555555556,
              "#d8576b"
             ],
             [
              0.6666666666666666,
              "#ed7953"
             ],
             [
              0.7777777777777778,
              "#fb9f3a"
             ],
             [
              0.8888888888888888,
              "#fdca26"
             ],
             [
              1,
              "#f0f921"
             ]
            ],
            "type": "histogram2dcontour"
           }
          ],
          "mesh3d": [
           {
            "colorbar": {
             "outlinewidth": 0,
             "ticks": ""
            },
            "type": "mesh3d"
           }
          ],
          "parcoords": [
           {
            "line": {
             "colorbar": {
              "outlinewidth": 0,
              "ticks": ""
             }
            },
            "type": "parcoords"
           }
          ],
          "pie": [
           {
            "automargin": true,
            "type": "pie"
           }
          ],
          "scatter": [
           {
            "fillpattern": {
             "fillmode": "overlay",
             "size": 10,
             "solidity": 0.2
            },
            "type": "scatter"
           }
          ],
          "scatter3d": [
           {
            "line": {
             "colorbar": {
              "outlinewidth": 0,
              "ticks": ""
             }
            },
            "marker": {
             "colorbar": {
              "outlinewidth": 0,
              "ticks": ""
             }
            },
            "type": "scatter3d"
           }
          ],
          "scattercarpet": [
           {
            "marker": {
             "colorbar": {
              "outlinewidth": 0,
              "ticks": ""
             }
            },
            "type": "scattercarpet"
           }
          ],
          "scattergeo": [
           {
            "marker": {
             "colorbar": {
              "outlinewidth": 0,
              "ticks": ""
             }
            },
            "type": "scattergeo"
           }
          ],
          "scattergl": [
           {
            "marker": {
             "colorbar": {
              "outlinewidth": 0,
              "ticks": ""
             }
            },
            "type": "scattergl"
           }
          ],
          "scattermap": [
           {
            "marker": {
             "colorbar": {
              "outlinewidth": 0,
              "ticks": ""
             }
            },
            "type": "scattermap"
           }
          ],
          "scattermapbox": [
           {
            "marker": {
             "colorbar": {
              "outlinewidth": 0,
              "ticks": ""
             }
            },
            "type": "scattermapbox"
           }
          ],
          "scatterpolar": [
           {
            "marker": {
             "colorbar": {
              "outlinewidth": 0,
              "ticks": ""
             }
            },
            "type": "scatterpolar"
           }
          ],
          "scatterpolargl": [
           {
            "marker": {
             "colorbar": {
              "outlinewidth": 0,
              "ticks": ""
             }
            },
            "type": "scatterpolargl"
           }
          ],
          "scatterternary": [
           {
            "marker": {
             "colorbar": {
              "outlinewidth": 0,
              "ticks": ""
             }
            },
            "type": "scatterternary"
           }
          ],
          "surface": [
           {
            "colorbar": {
             "outlinewidth": 0,
             "ticks": ""
            },
            "colorscale": [
             [
              0,
              "#0d0887"
             ],
             [
              0.1111111111111111,
              "#46039f"
             ],
             [
              0.2222222222222222,
              "#7201a8"
             ],
             [
              0.3333333333333333,
              "#9c179e"
             ],
             [
              0.4444444444444444,
              "#bd3786"
             ],
             [
              0.5555555555555556,
              "#d8576b"
             ],
             [
              0.6666666666666666,
              "#ed7953"
             ],
             [
              0.7777777777777778,
              "#fb9f3a"
             ],
             [
              0.8888888888888888,
              "#fdca26"
             ],
             [
              1,
              "#f0f921"
             ]
            ],
            "type": "surface"
           }
          ],
          "table": [
           {
            "cells": {
             "fill": {
              "color": "#EBF0F8"
             },
             "line": {
              "color": "white"
             }
            },
            "header": {
             "fill": {
              "color": "#C8D4E3"
             },
             "line": {
              "color": "white"
             }
            },
            "type": "table"
           }
          ]
         },
         "layout": {
          "annotationdefaults": {
           "arrowcolor": "#2a3f5f",
           "arrowhead": 0,
           "arrowwidth": 1
          },
          "autotypenumbers": "strict",
          "coloraxis": {
           "colorbar": {
            "outlinewidth": 0,
            "ticks": ""
           }
          },
          "colorscale": {
           "diverging": [
            [
             0,
             "#8e0152"
            ],
            [
             0.1,
             "#c51b7d"
            ],
            [
             0.2,
             "#de77ae"
            ],
            [
             0.3,
             "#f1b6da"
            ],
            [
             0.4,
             "#fde0ef"
            ],
            [
             0.5,
             "#f7f7f7"
            ],
            [
             0.6,
             "#e6f5d0"
            ],
            [
             0.7,
             "#b8e186"
            ],
            [
             0.8,
             "#7fbc41"
            ],
            [
             0.9,
             "#4d9221"
            ],
            [
             1,
             "#276419"
            ]
           ],
           "sequential": [
            [
             0,
             "#0d0887"
            ],
            [
             0.1111111111111111,
             "#46039f"
            ],
            [
             0.2222222222222222,
             "#7201a8"
            ],
            [
             0.3333333333333333,
             "#9c179e"
            ],
            [
             0.4444444444444444,
             "#bd3786"
            ],
            [
             0.5555555555555556,
             "#d8576b"
            ],
            [
             0.6666666666666666,
             "#ed7953"
            ],
            [
             0.7777777777777778,
             "#fb9f3a"
            ],
            [
             0.8888888888888888,
             "#fdca26"
            ],
            [
             1,
             "#f0f921"
            ]
           ],
           "sequentialminus": [
            [
             0,
             "#0d0887"
            ],
            [
             0.1111111111111111,
             "#46039f"
            ],
            [
             0.2222222222222222,
             "#7201a8"
            ],
            [
             0.3333333333333333,
             "#9c179e"
            ],
            [
             0.4444444444444444,
             "#bd3786"
            ],
            [
             0.5555555555555556,
             "#d8576b"
            ],
            [
             0.6666666666666666,
             "#ed7953"
            ],
            [
             0.7777777777777778,
             "#fb9f3a"
            ],
            [
             0.8888888888888888,
             "#fdca26"
            ],
            [
             1,
             "#f0f921"
            ]
           ]
          },
          "colorway": [
           "#636efa",
           "#EF553B",
           "#00cc96",
           "#ab63fa",
           "#FFA15A",
           "#19d3f3",
           "#FF6692",
           "#B6E880",
           "#FF97FF",
           "#FECB52"
          ],
          "font": {
           "color": "#2a3f5f"
          },
          "geo": {
           "bgcolor": "white",
           "lakecolor": "white",
           "landcolor": "#E5ECF6",
           "showlakes": true,
           "showland": true,
           "subunitcolor": "white"
          },
          "hoverlabel": {
           "align": "left"
          },
          "hovermode": "closest",
          "mapbox": {
           "style": "light"
          },
          "paper_bgcolor": "white",
          "plot_bgcolor": "#E5ECF6",
          "polar": {
           "angularaxis": {
            "gridcolor": "white",
            "linecolor": "white",
            "ticks": ""
           },
           "bgcolor": "#E5ECF6",
           "radialaxis": {
            "gridcolor": "white",
            "linecolor": "white",
            "ticks": ""
           }
          },
          "scene": {
           "xaxis": {
            "backgroundcolor": "#E5ECF6",
            "gridcolor": "white",
            "gridwidth": 2,
            "linecolor": "white",
            "showbackground": true,
            "ticks": "",
            "zerolinecolor": "white"
           },
           "yaxis": {
            "backgroundcolor": "#E5ECF6",
            "gridcolor": "white",
            "gridwidth": 2,
            "linecolor": "white",
            "showbackground": true,
            "ticks": "",
            "zerolinecolor": "white"
           },
           "zaxis": {
            "backgroundcolor": "#E5ECF6",
            "gridcolor": "white",
            "gridwidth": 2,
            "linecolor": "white",
            "showbackground": true,
            "ticks": "",
            "zerolinecolor": "white"
           }
          },
          "shapedefaults": {
           "line": {
            "color": "#2a3f5f"
           }
          },
          "ternary": {
           "aaxis": {
            "gridcolor": "white",
            "linecolor": "white",
            "ticks": ""
           },
           "baxis": {
            "gridcolor": "white",
            "linecolor": "white",
            "ticks": ""
           },
           "bgcolor": "#E5ECF6",
           "caxis": {
            "gridcolor": "white",
            "linecolor": "white",
            "ticks": ""
           }
          },
          "title": {
           "x": 0.05
          },
          "xaxis": {
           "automargin": true,
           "gridcolor": "white",
           "linecolor": "white",
           "ticks": "",
           "title": {
            "standoff": 15
           },
           "zerolinecolor": "white",
           "zerolinewidth": 2
          },
          "yaxis": {
           "automargin": true,
           "gridcolor": "white",
           "linecolor": "white",
           "ticks": "",
           "title": {
            "standoff": 15
           },
           "zerolinecolor": "white",
           "zerolinewidth": 2
          }
         }
        },
        "xaxis": {
         "anchor": "y",
         "domain": [
          0,
          1
         ],
         "title": {
          "text": "dual_sim"
         }
        },
        "yaxis": {
         "anchor": "x",
         "domain": [
          0,
          1
         ],
         "title": {
          "text": "count"
         }
        }
       }
      }
     },
     "metadata": {},
     "output_type": "display_data"
    }
   ],
   "source": [
    "px.histogram(df , x = 'dual_sim' , color = 'price_range')"
   ]
  },
  {
   "cell_type": "code",
   "execution_count": 22,
   "id": "06826e36",
   "metadata": {},
   "outputs": [
    {
     "data": {
      "application/vnd.plotly.v1+json": {
       "config": {
        "plotlyServerURL": "https://plot.ly"
       },
       "data": [
        {
         "customdata": {
          "bdata": "AQICAgEBAwAAAAMDAQIAAAMDAQEDAwEAAQIDAwIAAwABAwABAQMCAgIDAQEAAQMBAAMCAgMBAgIAAwECAQAAAgIDAwMAAwMCAAMAAQAAAwEDAgMBAQEAAwICAwIAAAEDAAIAAQMBAQAAAQMDAwMBAQACAwMCAQABAgMDAwIDAgEDAAMBAgECAgEDAAACAAMCAAMBAwICAQMBAgABAAADAQICAAACAwECAwEDAQICAwIAAwIBAAACAwMAAgMBAwECAwMCAgIDAQEAAQACAgICAQMDAgIAAgADAAEBAwAAAwIDAwMCAgMDAwABAgABAwEAAgIDAgMDAAEBAAICAQAAAgABAAMBAQAAAwEDAQIBAAADAQICAwEAAAMDAQECAQMDAQEDAwIDAAEDAQABAwAAAwABAQIAAgMCAwACAwEAAAEAAwMAAAACAQIBAQEBAQICAwACAgIBAgMAAQICAgIBAwACAgECAAADAQADAgAAAgMCAQMBAwADAgABAAMBAgICAgMDAQIDAwEDAwEDAwABAwIDAwICAwMAAgIAAwECAwIBAQEAAQICAAICAAMBAQMBAwEAAAMBAwAAAQMBAAACAgIBAQEDAAMCAQMBAAICAQAAAwMAAAEDAwEAAgIDAAMDAAMAAwEAAgIBAgADAgABAgMBAgMAAwEAAAECAgICAwMAAQECAQMDAwMBAwMDAwIDAgIAAAMBAgIAAgIBAAMBAQEBAQICAQMBAAEAAAICAgADAQIBAgAAAQMDAwMDAwACAgAAAwMDAAADAAABAgACAwEDAgACAgAAAQMAAQECAgACAgABAwACAgMBAwICAQICAQEAAQABAAMBAQMBAwIBAQACAAIAAgABAwECAgABAAMCAQMCAAABAgAAAAIDAQIBAAAAAgMCAwADAgECAQACAAABAwADAQEBAwICAAADAAMDAgMDAwACAQIAAwEAAQMBAwMBAAEBAgEDAwACAAMCAAACAQIDAwIBAgIDAQIDAwEBAgECAAIAAwAAAAMDAAICAwEDAAECAAAAAwIAAgIBAAIAAwMCAwADAgMCAgEAAwMBAAACAQIDAwMDAAAAAQACAAECAAADAwEDAwIDAwEBAwADAwMDAgIDAgEDAgMAAAMAAAMCAQACAQICAQICAAIAAgICAwAAAwMBAAEAAAMDAwACAgECAgIAAwEBAwMBAgMCAgADAwACAgADAwABAQABAgEDAQAAAwIAAQABAgEBAgIAAwIDAQIDAwICAgMAAAEAAwAAAgEBAQMAAQMDAwEDAgMBAQIDAAABAQEAAwIAAQMAAwEAAwMBAAAAAwMBAQEBAAADAgADAwIAAAACAwABAwECAAACAAIAAwMBAwMBAAAAAAEBAgICAQIAAAMAAQEAAwIAAQIDAgMBAQEBAwEBAgIBAgMBAgABAAMAAAAAAQMAAQEAAwMCAQABAgICAQEAAQICAgAAAQMBAwAAAQADAQAAAgMDAQMDAQMCAAICAwMDAwECAgECAAIDAgIBAAEBAAIAAgICAgECAgABAQIBAQMAAQMAAgACAgICAgAAAgECAAMBAwICAwIAAwMBAAADAgIAAwIAAwIAAQICAQACAAIBAgEBAwABAQIAAwECAgEDAgACAgIDAAADAgECAAACAwIAAAACAwACAgEBAQIBAAIBAwMAAAIDAQMBAAMDAAEDAQECAwADAAEBAwIAAAMBAwECAgMAAwEBAAMAAgACAgMCAAMBAAMDAQEAAwEDAQECAAEDAwMDAQMAAQEAAQMBAQIBAQEBAgICAwMCAQECAQIDAgADAwECAwIBAQIBAQAAAAACAQECAAIAAgIAAwEAAwABAwMAAAEBAwIDAAIBAAAAAAMAAAADAAICAAEBAgAAAQEAAgICAAEDAAACAgMBAQEBAgEBAwADAAEAAAAAAwIBAAIBAAABAgABAQIBAQECAQMDAAMCAAECAwMAAQEBAQMBAgACAwEDAQECAAECAwABAwAAAAAAAwECAgIBAQMAAQICAwEBAwABAAEDAwMDAQEAAQICAwEBAAMDAAICAQICAAIDAwMCAgMCAgEBAQIAAQADAgACAgICAQAAAAECAQADAgADAgABAgEAAAACAAMBAQIDAwIBAgECAwACAwEAAwEAAgECAQIDAgMCAwMDAwICAgMBAQEAAAMCAQADAwEAAwIBAgMCAgMBAQEBAAIBAAEAAwADAQEDAwEBAQMCAQMBAQIDAAEBAwIBAgIDAgEBAQMDAwADAgMBAwIBAgMDAAAAAgIAAgACAQMDAAECAAIAAgICAAIAAgACAQIDAQMAAAICAwMBAgEBAwAAAgEAAQIBAwABAwACAwMCAAMBAQACAgIAAwMAAwIDAAIAAgEDAwADAgACAQIDAQEDAAEBAwABAAECAAEDAwECAQAAAQABAAABAwMBAAIAAwECAgECAwMAAAECAgIBAgEAAgMAAAMAAwAAAwMAAwAAAAADAwIAAAAAAwACAwIDAwIDAQACAAABAQECAgAAAwABAgADAQAAAwABAAMDAAECAgIDAAEDAwEDAAEAAAIBAAIAAwEAAgECAQMAAgMBAQECAQMCAgICAwEAAAAAAgECAQABAwADAAMDAQIAAgEBAAIBAAICAQADAQMAAgEBAQECAgEDAQABAQADAAMDAAIDAAM=",
          "dtype": "i1",
          "shape": "2000, 1"
         },
         "domain": {
          "x": [
           0,
           1
          ],
          "y": [
           0,
           1
          ]
         },
         "hovertemplate": "fc=%{label}<br>price_range=%{customdata[0]}<extra></extra>",
         "labels": {
          "bdata": "AQACAA0DBAAAAgAFAgcNAwEHCwQMAQQEBQAHAQwDABADAAAQAQYQDwUIBQUBAAEDAgkCBQABAAoNAAgCAwEADwINCwAAAAYBCAMECAQBDwYACwILBQUEAQAAAgcACwYSCgMABgMEAAABAgUDAAMAAAANCQEAAwgAAwEHBQMFAAQLAAIJAQcBAAAFDAEAAQQAAwEAAwQGAQQDAgYEAxAADAQKAAsLAwACABECAgUAAAgCAAACDAsADwABAAADAggBBAUAAQAAAwkABwAKBgAQBwEAAAAJBAADAAUABAYFCAEDARIAAhEBBAQADAYDDgAAAAAAAgcCAwMEAwAAAAIJBQQBAAYHAAAECAUKCgQAAgAHCwUDAAMMAAMACQYHAAYAEAAICgYGAQAHAQsIEQIQCwESAAYLAQUAAQYAAwYGBwYAAgEOBQUABgEFBQAAAQgAAAICAAUFCAYCAAIGBwIPEAIHCgcAAQoBCg0EAAAIAAAICAoEEQAFAAABAgAKAgMADAQMDgEBAwAPAwAIBAAKAAAQCAAGAQAJDAIFAgwAAgUBAgECBwYKAgQDCQADCgYDAAAEAAgBCgAGAQMNAgcFDwUBAwACCgEGBAwABgkMAwUDBQIHAAoBCAABAAkABA4CAgEOAAAADA0ABQcFAwYABQsNAQMBEAEAAAECBwAGCQYLCgICAAgDCQsJBgUAAwgGBwkDAwMDAAAIBwQFBQECAwAQAAAAAAoBAAwGBgoABAIJDwsAEAwEDg8ABwkNAAQJBAcBAgQIAQARAggAAgAGAAwAAAEKAAYEAgAAAAAFBwEGAQMAAAAJAQYBAAcBBQAHBQwAAAEBAQAABQ0HAgoEAAAAAAIEBgQNAQAHCgEIBwILAw0JAQEGBgAEBAEEAAsEAAYCCAIFCgoAAAwBDQMKAAgFAgcCAQAGAAMEAAcBAQQAAgIDAgoAAQgOAAAFBQMBDAAGAgYNAAAECQgCDQAMAwMBDQAAAAAFBhAHAQUBAgAGBQgHAAACAwYBAAAHBQABBAkHEAABAAECCQIADwoGCwUGBwIMCAABAwgEAAAAAgMMDwQCAAADBQQIBAkACgABAAEHAgAGAAAHCA8FBgQBAQIEAAkADwIBBQMIAwcNCA0LCgAFAgIHBgAGCQIACwAJAwMJAwAGBwYKAAIAAQIFBwMAAQEIBg0ACAAABAAMBQMDBAcAAAkKAwMEBgUAAAMAAgEPBAQDAAACAAUADwINDwUAAAMDCwICAQEFCQkAAwAAAAIDAgYHAAkGAAQJAQMDBwIEBAQBAAAHBwUFBgEAAAAEBAMLAAICAAkFAAQKDQ0FCw4FAgABAwIFDAMPAAsQAgQFBwAAAwQAAQwDAAENBwkNAQcAAAYDCAAHAQABAAIMAgAFAwoEAQEDAAMBAQsAAQAJAAMEEAUDBwYFBAECAQANAAMACAABAwEHCwABAAgGCQIIAAMAAQYCBAABDQQCBAsBAAMBBQABAAEOAgsACwgPBAEJBAEIDQACAgADAgEBAQIKAwMKCgEABQMAAAkLAgIBAAIACgANAAgLCAkAAAgJDAQCAAIDDAIJAAAACwAAAAsFBwEKDAQAAgcQAAACAQAABgsCAAINAgAHCgEIAwEFBQMAAAIHAAYDAgAEBQQFAAkABQIEAAIHCwUKAAEAAAIBAgEBBgUEAA4FAAEIAQEBDQMEAQcAAQMEBAoCAgwEBQQFAgAAAQoHBgoABwEKAAEKAgUBBQIBBQIHAAIAAwADBQEADQMJBgQHBgADAg4ADwEFAwkIBQQDBwADDAkCCAEABQAACAwHAAgABwAJAgkAAQIEAAgIBAIAAwIDAQABAAACAAcBDAYACRIDBgEPBAAACAYCAAcABgYFAwMSAQEHAAEGBgIKEgABAgQEAQMFAQgACwkBAAkAAAkFAQgEAgAFAAcHBhAACQMAAQEFABAGCgMHAQQLAAADBAAAAAUBAA4CBgAAAggHAAELAAEJAAcFCQEDAAQCAgEFBgACBwQFBAAHAAkHAQUCAA0DAQMJBg4AAAIBBQEEBQAFAAwJCQcJAQUJCQcBAgIEABEAAgABEgEBAAwHBQACAQEDBgAABgIABgALAgIGAAkCAAIABgsFAQsDAQADABAKAQEABwoCBAABCAMACQAMAwECAQAHBQcGAAMDAQUBBgULDAYBAAsNAQoCAwAQBg4JAQACAAoCBAUDAAoOBAUEBgoKAQADEAEADgUEBQYHAwAKBAUGBQAAAw4FDQUNBQABBhIABAQAAwEAAgAICBMAEAEPAAAIAgoFAAACAAYHAwcCAgMFAAwGBgwABAsCBA8EBQkCAgAGAwsFAAoBBQEAAQIBBQMCBQMEAwMADwAACAAAAwMBBgEFAAcJAwoIAwMHEAEJAAAAAgQBBgwOAAgDAgwEBQQABwEBAAEEAQEGAQMADQANAwQJBAgECQYBBAMGAAAMAgEBAgAIAwMOAwsJDQEIAQ4GAQMEAwUDAwELBwcBBwgKAAEBBQAAAAASCBIFAwALABIBAwQHAQADAQIDCQIBCQEDBwABAgIFAAEJAwECAAABAQAJCAIFAAIIAAUAAQMABgEABwwBBAUHAgUAAAAEAQoEAAAEAgAGAwANCQMEAgACAAUAAAYCCQcCAQMBBAgEDAAIBgkCAggLAQABAAABBAU=",
          "dtype": "i1"
         },
         "legendgroup": "",
         "marker": {
          "colors": [
           "#636efa",
           "#EF553B",
           "#EF553B",
           "#EF553B",
           "#636efa",
           "#636efa",
           "#00cc96",
           "#ab63fa",
           "#ab63fa",
           "#ab63fa",
           "#00cc96",
           "#00cc96",
           "#636efa",
           "#EF553B",
           "#ab63fa",
           "#ab63fa",
           "#00cc96",
           "#00cc96",
           "#636efa",
           "#636efa",
           "#00cc96",
           "#00cc96",
           "#636efa",
           "#ab63fa",
           "#636efa",
           "#EF553B",
           "#00cc96",
           "#00cc96",
           "#EF553B",
           "#ab63fa",
           "#00cc96",
           "#ab63fa",
           "#636efa",
           "#00cc96",
           "#ab63fa",
           "#636efa",
           "#636efa",
           "#00cc96",
           "#EF553B",
           "#EF553B",
           "#EF553B",
           "#00cc96",
           "#636efa",
           "#636efa",
           "#ab63fa",
           "#636efa",
           "#00cc96",
           "#636efa",
           "#ab63fa",
           "#00cc96",
           "#EF553B",
           "#EF553B",
           "#00cc96",
           "#636efa",
           "#EF553B",
           "#EF553B",
           "#ab63fa",
           "#00cc96",
           "#636efa",
           "#EF553B",
           "#636efa",
           "#ab63fa",
           "#ab63fa",
           "#EF553B",
           "#EF553B",
           "#00cc96",
           "#00cc96",
           "#00cc96",
           "#ab63fa",
           "#00cc96",
           "#00cc96",
           "#EF553B",
           "#ab63fa",
           "#00cc96",
           "#ab63fa",
           "#636efa",
           "#ab63fa",
           "#ab63fa",
           "#00cc96",
           "#636efa",
           "#00cc96",
           "#EF553B",
           "#00cc96",
           "#636efa",
           "#636efa",
           "#636efa",
           "#ab63fa",
           "#00cc96",
           "#EF553B",
           "#EF553B",
           "#00cc96",
           "#EF553B",
           "#ab63fa",
           "#ab63fa",
           "#636efa",
           "#00cc96",
           "#ab63fa",
           "#EF553B",
           "#ab63fa",
           "#636efa",
           "#00cc96",
           "#636efa",
           "#636efa",
           "#ab63fa",
           "#ab63fa",
           "#636efa",
           "#00cc96",
           "#00cc96",
           "#00cc96",
           "#00cc96",
           "#636efa",
           "#636efa",
           "#ab63fa",
           "#EF553B",
           "#00cc96",
           "#00cc96",
           "#EF553B",
           "#636efa",
           "#ab63fa",
           "#636efa",
           "#EF553B",
           "#00cc96",
           "#00cc96",
           "#00cc96",
           "#EF553B",
           "#00cc96",
           "#EF553B",
           "#636efa",
           "#00cc96",
           "#ab63fa",
           "#00cc96",
           "#636efa",
           "#EF553B",
           "#636efa",
           "#EF553B",
           "#EF553B",
           "#636efa",
           "#00cc96",
           "#ab63fa",
           "#ab63fa",
           "#EF553B",
           "#ab63fa",
           "#00cc96",
           "#EF553B",
           "#ab63fa",
           "#00cc96",
           "#636efa",
           "#00cc96",
           "#EF553B",
           "#EF553B",
           "#636efa",
           "#00cc96",
           "#636efa",
           "#EF553B",
           "#ab63fa",
           "#636efa",
           "#ab63fa",
           "#ab63fa",
           "#00cc96",
           "#636efa",
           "#EF553B",
           "#EF553B",
           "#ab63fa",
           "#ab63fa",
           "#EF553B",
           "#00cc96",
           "#636efa",
           "#EF553B",
           "#00cc96",
           "#636efa",
           "#00cc96",
           "#636efa",
           "#EF553B",
           "#EF553B",
           "#00cc96",
           "#EF553B",
           "#ab63fa",
           "#00cc96",
           "#EF553B",
           "#636efa",
           "#ab63fa",
           "#ab63fa",
           "#EF553B",
           "#00cc96",
           "#00cc96",
           "#ab63fa",
           "#EF553B",
           "#00cc96",
           "#636efa",
           "#00cc96",
           "#636efa",
           "#EF553B",
           "#00cc96",
           "#00cc96",
           "#EF553B",
           "#EF553B",
           "#EF553B",
           "#00cc96",
           "#636efa",
           "#636efa",
           "#ab63fa",
           "#636efa",
           "#ab63fa",
           "#EF553B",
           "#EF553B",
           "#EF553B",
           "#EF553B",
           "#636efa",
           "#00cc96",
           "#00cc96",
           "#EF553B",
           "#EF553B",
           "#ab63fa",
           "#EF553B",
           "#ab63fa",
           "#00cc96",
           "#ab63fa",
           "#636efa",
           "#636efa",
           "#00cc96",
           "#ab63fa",
           "#ab63fa",
           "#00cc96",
           "#EF553B",
           "#00cc96",
           "#00cc96",
           "#00cc96",
           "#EF553B",
           "#EF553B",
           "#00cc96",
           "#00cc96",
           "#00cc96",
           "#ab63fa",
           "#636efa",
           "#EF553B",
           "#ab63fa",
           "#636efa",
           "#00cc96",
           "#636efa",
           "#ab63fa",
           "#EF553B",
           "#EF553B",
           "#00cc96",
           "#EF553B",
           "#00cc96",
           "#00cc96",
           "#ab63fa",
           "#636efa",
           "#636efa",
           "#ab63fa",
           "#EF553B",
           "#EF553B",
           "#636efa",
           "#ab63fa",
           "#ab63fa",
           "#EF553B",
           "#ab63fa",
           "#636efa",
           "#ab63fa",
           "#00cc96",
           "#636efa",
           "#636efa",
           "#ab63fa",
           "#ab63fa",
           "#00cc96",
           "#636efa",
           "#00cc96",
           "#636efa",
           "#EF553B",
           "#636efa",
           "#ab63fa",
           "#ab63fa",
           "#00cc96",
           "#636efa",
           "#EF553B",
           "#EF553B",
           "#00cc96",
           "#636efa",
           "#ab63fa",
           "#ab63fa",
           "#00cc96",
           "#00cc96",
           "#636efa",
           "#636efa",
           "#EF553B",
           "#636efa",
           "#00cc96",
           "#00cc96",
           "#636efa",
           "#636efa",
           "#00cc96",
           "#00cc96",
           "#EF553B",
           "#00cc96",
           "#ab63fa",
           "#636efa",
           "#00cc96",
           "#636efa",
           "#ab63fa",
           "#636efa",
           "#00cc96",
           "#ab63fa",
           "#ab63fa",
           "#00cc96",
           "#ab63fa",
           "#636efa",
           "#636efa",
           "#EF553B",
           "#ab63fa",
           "#EF553B",
           "#00cc96",
           "#EF553B",
           "#00cc96",
           "#ab63fa",
           "#EF553B",
           "#00cc96",
           "#636efa",
           "#ab63fa",
           "#ab63fa",
           "#636efa",
           "#ab63fa",
           "#00cc96",
           "#00cc96",
           "#ab63fa",
           "#ab63fa",
           "#ab63fa",
           "#EF553B",
           "#636efa",
           "#EF553B",
           "#636efa",
           "#636efa",
           "#636efa",
           "#636efa",
           "#636efa",
           "#EF553B",
           "#EF553B",
           "#00cc96",
           "#ab63fa",
           "#EF553B",
           "#EF553B",
           "#EF553B",
           "#636efa",
           "#EF553B",
           "#00cc96",
           "#ab63fa",
           "#636efa",
           "#EF553B",
           "#EF553B",
           "#EF553B",
           "#EF553B",
           "#636efa",
           "#00cc96",
           "#ab63fa",
           "#EF553B",
           "#EF553B",
           "#636efa",
           "#EF553B",
           "#ab63fa",
           "#ab63fa",
           "#00cc96",
           "#636efa",
           "#ab63fa",
           "#00cc96",
           "#EF553B",
           "#ab63fa",
           "#ab63fa",
           "#EF553B",
           "#00cc96",
           "#EF553B",
           "#636efa",
           "#00cc96",
           "#636efa",
           "#00cc96",
           "#ab63fa",
           "#00cc96",
           "#EF553B",
           "#ab63fa",
           "#636efa",
           "#ab63fa",
           "#00cc96",
           "#636efa",
           "#EF553B",
           "#EF553B",
           "#EF553B",
           "#EF553B",
           "#00cc96",
           "#00cc96",
           "#636efa",
           "#EF553B",
           "#00cc96",
           "#00cc96",
           "#636efa",
           "#00cc96",
           "#00cc96",
           "#636efa",
           "#00cc96",
           "#00cc96",
           "#ab63fa",
           "#636efa",
           "#00cc96",
           "#EF553B",
           "#00cc96",
           "#00cc96",
           "#EF553B",
           "#EF553B",
           "#00cc96",
           "#00cc96",
           "#ab63fa",
           "#EF553B",
           "#EF553B",
           "#ab63fa",
           "#00cc96",
           "#636efa",
           "#EF553B",
           "#00cc96",
           "#EF553B",
           "#636efa",
           "#636efa",
           "#636efa",
           "#ab63fa",
           "#636efa",
           "#EF553B",
           "#EF553B",
           "#ab63fa",
           "#EF553B",
           "#EF553B",
           "#ab63fa",
           "#00cc96",
           "#636efa",
           "#636efa",
           "#00cc96",
           "#636efa",
           "#00cc96",
           "#636efa",
           "#ab63fa",
           "#ab63fa",
           "#00cc96",
           "#636efa",
           "#00cc96",
           "#ab63fa",
           "#ab63fa",
           "#636efa",
           "#00cc96",
           "#636efa",
           "#ab63fa",
           "#ab63fa",
           "#EF553B",
           "#EF553B",
           "#EF553B",
           "#636efa",
           "#636efa",
           "#636efa",
           "#00cc96",
           "#ab63fa",
           "#00cc96",
           "#EF553B",
           "#636efa",
           "#00cc96",
           "#636efa",
           "#ab63fa",
           "#EF553B",
           "#EF553B",
           "#636efa",
           "#ab63fa",
           "#ab63fa",
           "#00cc96",
           "#00cc96",
           "#ab63fa",
           "#ab63fa",
           "#636efa",
           "#00cc96",
           "#00cc96",
           "#636efa",
           "#ab63fa",
           "#EF553B",
           "#EF553B",
           "#00cc96",
           "#ab63fa",
           "#00cc96",
           "#00cc96",
           "#ab63fa",
           "#00cc96",
           "#ab63fa",
           "#00cc96",
           "#636efa",
           "#ab63fa",
           "#EF553B",
           "#EF553B",
           "#636efa",
           "#EF553B",
           "#ab63fa",
           "#00cc96",
           "#EF553B",
           "#ab63fa",
           "#636efa",
           "#EF553B",
           "#00cc96",
           "#636efa",
           "#EF553B",
           "#00cc96",
           "#ab63fa",
           "#00cc96",
           "#636efa",
           "#ab63fa",
           "#ab63fa",
           "#636efa",
           "#EF553B",
           "#EF553B",
           "#EF553B",
           "#EF553B",
           "#00cc96",
           "#00cc96",
           "#ab63fa",
           "#636efa",
           "#636efa",
           "#EF553B",
           "#636efa",
           "#00cc96",
           "#00cc96",
           "#00cc96",
           "#00cc96",
           "#636efa",
           "#00cc96",
           "#00cc96",
           "#00cc96",
           "#00cc96",
           "#EF553B",
           "#00cc96",
           "#EF553B",
           "#EF553B",
           "#ab63fa",
           "#ab63fa",
           "#00cc96",
           "#636efa",
           "#EF553B",
           "#EF553B",
           "#ab63fa",
           "#EF553B",
           "#EF553B",
           "#636efa",
           "#ab63fa",
           "#00cc96",
           "#636efa",
           "#636efa",
           "#636efa",
           "#636efa",
           "#636efa",
           "#EF553B",
           "#EF553B",
           "#636efa",
           "#00cc96",
           "#636efa",
           "#ab63fa",
           "#636efa",
           "#ab63fa",
           "#ab63fa",
           "#EF553B",
           "#EF553B",
           "#EF553B",
           "#ab63fa",
           "#00cc96",
           "#636efa",
           "#EF553B",
           "#636efa",
           "#EF553B",
           "#ab63fa",
           "#ab63fa",
           "#636efa",
           "#00cc96",
           "#00cc96",
           "#00cc96",
           "#00cc96",
           "#00cc96",
           "#00cc96",
           "#ab63fa",
           "#EF553B",
           "#EF553B",
           "#ab63fa",
           "#ab63fa",
           "#00cc96",
           "#00cc96",
           "#00cc96",
           "#ab63fa",
           "#ab63fa",
           "#00cc96",
           "#ab63fa",
           "#ab63fa",
           "#636efa",
           "#EF553B",
           "#ab63fa",
           "#EF553B",
           "#00cc96",
           "#636efa",
           "#00cc96",
           "#EF553B",
           "#ab63fa",
           "#EF553B",
           "#EF553B",
           "#ab63fa",
           "#ab63fa",
           "#636efa",
           "#00cc96",
           "#ab63fa",
           "#636efa",
           "#636efa",
           "#EF553B",
           "#EF553B",
           "#ab63fa",
           "#EF553B",
           "#EF553B",
           "#ab63fa",
           "#636efa",
           "#00cc96",
           "#ab63fa",
           "#EF553B",
           "#EF553B",
           "#00cc96",
           "#636efa",
           "#00cc96",
           "#EF553B",
           "#EF553B",
           "#636efa",
           "#EF553B",
           "#EF553B",
           "#636efa",
           "#636efa",
           "#ab63fa",
           "#636efa",
           "#ab63fa",
           "#636efa",
           "#ab63fa",
           "#00cc96",
           "#636efa",
           "#636efa",
           "#00cc96",
           "#636efa",
           "#00cc96",
           "#EF553B",
           "#636efa",
           "#636efa",
           "#ab63fa",
           "#EF553B",
           "#ab63fa",
           "#EF553B",
           "#ab63fa",
           "#EF553B",
           "#ab63fa",
           "#636efa",
           "#00cc96",
           "#636efa",
           "#EF553B",
           "#EF553B",
           "#ab63fa",
           "#636efa",
           "#ab63fa",
           "#00cc96",
           "#EF553B",
           "#636efa",
           "#00cc96",
           "#EF553B",
           "#ab63fa",
           "#ab63fa",
           "#636efa",
           "#EF553B",
           "#ab63fa",
           "#ab63fa",
           "#ab63fa",
           "#EF553B",
           "#00cc96",
           "#636efa",
           "#EF553B",
           "#636efa",
           "#ab63fa",
           "#ab63fa",
           "#ab63fa",
           "#EF553B",
           "#00cc96",
           "#EF553B",
           "#00cc96",
           "#ab63fa",
           "#00cc96",
           "#EF553B",
           "#636efa",
           "#EF553B",
           "#636efa",
           "#ab63fa",
           "#EF553B",
           "#ab63fa",
           "#ab63fa",
           "#636efa",
           "#00cc96",
           "#ab63fa",
           "#00cc96",
           "#636efa",
           "#636efa",
           "#636efa",
           "#00cc96",
           "#EF553B",
           "#EF553B",
           "#ab63fa",
           "#ab63fa",
           "#00cc96",
           "#ab63fa",
           "#00cc96",
           "#00cc96",
           "#EF553B",
           "#00cc96",
           "#00cc96",
           "#00cc96",
           "#ab63fa",
           "#EF553B",
           "#636efa",
           "#EF553B",
           "#ab63fa",
           "#00cc96",
           "#636efa",
           "#ab63fa",
           "#636efa",
           "#00cc96",
           "#636efa",
           "#00cc96",
           "#00cc96",
           "#636efa",
           "#ab63fa",
           "#636efa",
           "#636efa",
           "#EF553B",
           "#636efa",
           "#00cc96",
           "#00cc96",
           "#ab63fa",
           "#EF553B",
           "#ab63fa",
           "#00cc96",
           "#EF553B",
           "#ab63fa",
           "#ab63fa",
           "#EF553B",
           "#636efa",
           "#EF553B",
           "#00cc96",
           "#00cc96",
           "#EF553B",
           "#636efa",
           "#EF553B",
           "#EF553B",
           "#00cc96",
           "#636efa",
           "#EF553B",
           "#00cc96",
           "#00cc96",
           "#636efa",
           "#636efa",
           "#EF553B",
           "#636efa",
           "#EF553B",
           "#ab63fa",
           "#EF553B",
           "#ab63fa",
           "#00cc96",
           "#ab63fa",
           "#ab63fa",
           "#ab63fa",
           "#00cc96",
           "#00cc96",
           "#ab63fa",
           "#EF553B",
           "#EF553B",
           "#00cc96",
           "#636efa",
           "#00cc96",
           "#ab63fa",
           "#636efa",
           "#EF553B",
           "#ab63fa",
           "#ab63fa",
           "#ab63fa",
           "#00cc96",
           "#EF553B",
           "#ab63fa",
           "#EF553B",
           "#EF553B",
           "#636efa",
           "#ab63fa",
           "#EF553B",
           "#ab63fa",
           "#00cc96",
           "#00cc96",
           "#EF553B",
           "#00cc96",
           "#ab63fa",
           "#00cc96",
           "#EF553B",
           "#00cc96",
           "#EF553B",
           "#EF553B",
           "#636efa",
           "#ab63fa",
           "#00cc96",
           "#00cc96",
           "#636efa",
           "#ab63fa",
           "#ab63fa",
           "#EF553B",
           "#636efa",
           "#EF553B",
           "#00cc96",
           "#00cc96",
           "#00cc96",
           "#00cc96",
           "#ab63fa",
           "#ab63fa",
           "#ab63fa",
           "#636efa",
           "#ab63fa",
           "#EF553B",
           "#ab63fa",
           "#636efa",
           "#EF553B",
           "#ab63fa",
           "#ab63fa",
           "#00cc96",
           "#00cc96",
           "#636efa",
           "#00cc96",
           "#00cc96",
           "#EF553B",
           "#00cc96",
           "#00cc96",
           "#636efa",
           "#636efa",
           "#00cc96",
           "#ab63fa",
           "#00cc96",
           "#00cc96",
           "#00cc96",
           "#00cc96",
           "#EF553B",
           "#EF553B",
           "#00cc96",
           "#EF553B",
           "#636efa",
           "#00cc96",
           "#EF553B",
           "#00cc96",
           "#ab63fa",
           "#ab63fa",
           "#00cc96",
           "#ab63fa",
           "#ab63fa",
           "#00cc96",
           "#EF553B",
           "#636efa",
           "#ab63fa",
           "#EF553B",
           "#636efa",
           "#EF553B",
           "#EF553B",
           "#636efa",
           "#EF553B",
           "#EF553B",
           "#ab63fa",
           "#EF553B",
           "#ab63fa",
           "#EF553B",
           "#EF553B",
           "#EF553B",
           "#00cc96",
           "#ab63fa",
           "#ab63fa",
           "#00cc96",
           "#00cc96",
           "#636efa",
           "#ab63fa",
           "#636efa",
           "#ab63fa",
           "#ab63fa",
           "#00cc96",
           "#00cc96",
           "#00cc96",
           "#ab63fa",
           "#EF553B",
           "#EF553B",
           "#636efa",
           "#EF553B",
           "#EF553B",
           "#EF553B",
           "#ab63fa",
           "#00cc96",
           "#636efa",
           "#636efa",
           "#00cc96",
           "#00cc96",
           "#636efa",
           "#EF553B",
           "#00cc96",
           "#EF553B",
           "#EF553B",
           "#ab63fa",
           "#00cc96",
           "#00cc96",
           "#ab63fa",
           "#EF553B",
           "#EF553B",
           "#ab63fa",
           "#00cc96",
           "#00cc96",
           "#ab63fa",
           "#636efa",
           "#636efa",
           "#ab63fa",
           "#636efa",
           "#EF553B",
           "#636efa",
           "#00cc96",
           "#636efa",
           "#ab63fa",
           "#ab63fa",
           "#00cc96",
           "#EF553B",
           "#ab63fa",
           "#636efa",
           "#ab63fa",
           "#636efa",
           "#EF553B",
           "#636efa",
           "#636efa",
           "#EF553B",
           "#EF553B",
           "#ab63fa",
           "#00cc96",
           "#EF553B",
           "#00cc96",
           "#636efa",
           "#EF553B",
           "#00cc96",
           "#00cc96",
           "#EF553B",
           "#EF553B",
           "#EF553B",
           "#00cc96",
           "#ab63fa",
           "#ab63fa",
           "#636efa",
           "#ab63fa",
           "#00cc96",
           "#ab63fa",
           "#ab63fa",
           "#EF553B",
           "#636efa",
           "#636efa",
           "#636efa",
           "#00cc96",
           "#ab63fa",
           "#636efa",
           "#00cc96",
           "#00cc96",
           "#00cc96",
           "#636efa",
           "#00cc96",
           "#EF553B",
           "#00cc96",
           "#636efa",
           "#636efa",
           "#EF553B",
           "#00cc96",
           "#ab63fa",
           "#ab63fa",
           "#636efa",
           "#636efa",
           "#636efa",
           "#ab63fa",
           "#00cc96",
           "#EF553B",
           "#ab63fa",
           "#636efa",
           "#00cc96",
           "#ab63fa",
           "#00cc96",
           "#636efa",
           "#ab63fa",
           "#00cc96",
           "#00cc96",
           "#636efa",
           "#ab63fa",
           "#ab63fa",
           "#ab63fa",
           "#00cc96",
           "#00cc96",
           "#636efa",
           "#636efa",
           "#636efa",
           "#636efa",
           "#ab63fa",
           "#ab63fa",
           "#00cc96",
           "#EF553B",
           "#ab63fa",
           "#00cc96",
           "#00cc96",
           "#EF553B",
           "#ab63fa",
           "#ab63fa",
           "#ab63fa",
           "#EF553B",
           "#00cc96",
           "#ab63fa",
           "#636efa",
           "#00cc96",
           "#636efa",
           "#EF553B",
           "#ab63fa",
           "#ab63fa",
           "#EF553B",
           "#ab63fa",
           "#EF553B",
           "#ab63fa",
           "#00cc96",
           "#00cc96",
           "#636efa",
           "#00cc96",
           "#00cc96",
           "#636efa",
           "#ab63fa",
           "#ab63fa",
           "#ab63fa",
           "#ab63fa",
           "#636efa",
           "#636efa",
           "#EF553B",
           "#EF553B",
           "#EF553B",
           "#636efa",
           "#EF553B",
           "#ab63fa",
           "#ab63fa",
           "#00cc96",
           "#ab63fa",
           "#636efa",
           "#636efa",
           "#ab63fa",
           "#00cc96",
           "#EF553B",
           "#ab63fa",
           "#636efa",
           "#EF553B",
           "#00cc96",
           "#EF553B",
           "#00cc96",
           "#636efa",
           "#636efa",
           "#636efa",
           "#636efa",
           "#00cc96",
           "#636efa",
           "#636efa",
           "#EF553B",
           "#EF553B",
           "#636efa",
           "#EF553B",
           "#00cc96",
           "#636efa",
           "#EF553B",
           "#ab63fa",
           "#636efa",
           "#ab63fa",
           "#00cc96",
           "#ab63fa",
           "#ab63fa",
           "#ab63fa",
           "#ab63fa",
           "#636efa",
           "#00cc96",
           "#ab63fa",
           "#636efa",
           "#636efa",
           "#ab63fa",
           "#00cc96",
           "#00cc96",
           "#EF553B",
           "#636efa",
           "#ab63fa",
           "#636efa",
           "#EF553B",
           "#EF553B",
           "#EF553B",
           "#636efa",
           "#636efa",
           "#ab63fa",
           "#636efa",
           "#EF553B",
           "#EF553B",
           "#EF553B",
           "#ab63fa",
           "#ab63fa",
           "#636efa",
           "#00cc96",
           "#636efa",
           "#00cc96",
           "#ab63fa",
           "#ab63fa",
           "#636efa",
           "#ab63fa",
           "#00cc96",
           "#636efa",
           "#ab63fa",
           "#ab63fa",
           "#EF553B",
           "#00cc96",
           "#00cc96",
           "#636efa",
           "#00cc96",
           "#00cc96",
           "#636efa",
           "#00cc96",
           "#EF553B",
           "#ab63fa",
           "#EF553B",
           "#EF553B",
           "#00cc96",
           "#00cc96",
           "#00cc96",
           "#00cc96",
           "#636efa",
           "#EF553B",
           "#EF553B",
           "#636efa",
           "#EF553B",
           "#ab63fa",
           "#EF553B",
           "#00cc96",
           "#EF553B",
           "#EF553B",
           "#636efa",
           "#ab63fa",
           "#636efa",
           "#636efa",
           "#ab63fa",
           "#EF553B",
           "#ab63fa",
           "#EF553B",
           "#EF553B",
           "#EF553B",
           "#EF553B",
           "#636efa",
           "#EF553B",
           "#EF553B",
           "#ab63fa",
           "#636efa",
           "#636efa",
           "#EF553B",
           "#636efa",
           "#636efa",
           "#00cc96",
           "#ab63fa",
           "#636efa",
           "#00cc96",
           "#ab63fa",
           "#EF553B",
           "#ab63fa",
           "#EF553B",
           "#EF553B",
           "#EF553B",
           "#EF553B",
           "#EF553B",
           "#ab63fa",
           "#ab63fa",
           "#EF553B",
           "#636efa",
           "#EF553B",
           "#ab63fa",
           "#00cc96",
           "#636efa",
           "#00cc96",
           "#EF553B",
           "#EF553B",
           "#00cc96",
           "#EF553B",
           "#ab63fa",
           "#00cc96",
           "#00cc96",
           "#636efa",
           "#ab63fa",
           "#ab63fa",
           "#00cc96",
           "#EF553B",
           "#EF553B",
           "#ab63fa",
           "#00cc96",
           "#EF553B",
           "#ab63fa",
           "#00cc96",
           "#EF553B",
           "#ab63fa",
           "#636efa",
           "#EF553B",
           "#EF553B",
           "#636efa",
           "#ab63fa",
           "#EF553B",
           "#ab63fa",
           "#EF553B",
           "#636efa",
           "#EF553B",
           "#636efa",
           "#636efa",
           "#00cc96",
           "#ab63fa",
           "#636efa",
           "#636efa",
           "#EF553B",
           "#ab63fa",
           "#00cc96",
           "#636efa",
           "#EF553B",
           "#EF553B",
           "#636efa",
           "#00cc96",
           "#EF553B",
           "#ab63fa",
           "#EF553B",
           "#EF553B",
           "#EF553B",
           "#00cc96",
           "#ab63fa",
           "#ab63fa",
           "#00cc96",
           "#EF553B",
           "#636efa",
           "#EF553B",
           "#ab63fa",
           "#ab63fa",
           "#EF553B",
           "#00cc96",
           "#EF553B",
           "#ab63fa",
           "#ab63fa",
           "#ab63fa",
           "#EF553B",
           "#00cc96",
           "#ab63fa",
           "#EF553B",
           "#EF553B",
           "#636efa",
           "#636efa",
           "#636efa",
           "#EF553B",
           "#636efa",
           "#ab63fa",
           "#EF553B",
           "#636efa",
           "#00cc96",
           "#00cc96",
           "#ab63fa",
           "#ab63fa",
           "#EF553B",
           "#00cc96",
           "#636efa",
           "#00cc96",
           "#636efa",
           "#ab63fa",
           "#00cc96",
           "#00cc96",
           "#ab63fa",
           "#636efa",
           "#00cc96",
           "#636efa",
           "#636efa",
           "#EF553B",
           "#00cc96",
           "#ab63fa",
           "#00cc96",
           "#ab63fa",
           "#636efa",
           "#636efa",
           "#00cc96",
           "#EF553B",
           "#ab63fa",
           "#ab63fa",
           "#00cc96",
           "#636efa",
           "#00cc96",
           "#636efa",
           "#EF553B",
           "#EF553B",
           "#00cc96",
           "#ab63fa",
           "#00cc96",
           "#636efa",
           "#636efa",
           "#ab63fa",
           "#00cc96",
           "#ab63fa",
           "#EF553B",
           "#ab63fa",
           "#EF553B",
           "#EF553B",
           "#00cc96",
           "#EF553B",
           "#ab63fa",
           "#00cc96",
           "#636efa",
           "#ab63fa",
           "#00cc96",
           "#00cc96",
           "#636efa",
           "#636efa",
           "#ab63fa",
           "#00cc96",
           "#636efa",
           "#00cc96",
           "#636efa",
           "#636efa",
           "#EF553B",
           "#ab63fa",
           "#636efa",
           "#00cc96",
           "#00cc96",
           "#00cc96",
           "#00cc96",
           "#636efa",
           "#00cc96",
           "#ab63fa",
           "#636efa",
           "#636efa",
           "#ab63fa",
           "#636efa",
           "#00cc96",
           "#636efa",
           "#636efa",
           "#EF553B",
           "#636efa",
           "#636efa",
           "#636efa",
           "#636efa",
           "#EF553B",
           "#EF553B",
           "#EF553B",
           "#00cc96",
           "#00cc96",
           "#EF553B",
           "#636efa",
           "#636efa",
           "#EF553B",
           "#636efa",
           "#EF553B",
           "#00cc96",
           "#EF553B",
           "#ab63fa",
           "#00cc96",
           "#00cc96",
           "#636efa",
           "#EF553B",
           "#00cc96",
           "#EF553B",
           "#636efa",
           "#636efa",
           "#EF553B",
           "#636efa",
           "#636efa",
           "#ab63fa",
           "#ab63fa",
           "#ab63fa",
           "#ab63fa",
           "#EF553B",
           "#636efa",
           "#636efa",
           "#EF553B",
           "#ab63fa",
           "#EF553B",
           "#ab63fa",
           "#EF553B",
           "#EF553B",
           "#ab63fa",
           "#00cc96",
           "#636efa",
           "#ab63fa",
           "#00cc96",
           "#ab63fa",
           "#636efa",
           "#00cc96",
           "#00cc96",
           "#ab63fa",
           "#ab63fa",
           "#636efa",
           "#636efa",
           "#00cc96",
           "#EF553B",
           "#00cc96",
           "#ab63fa",
           "#EF553B",
           "#636efa",
           "#ab63fa",
           "#ab63fa",
           "#ab63fa",
           "#ab63fa",
           "#00cc96",
           "#ab63fa",
           "#ab63fa",
           "#ab63fa",
           "#00cc96",
           "#ab63fa",
           "#EF553B",
           "#EF553B",
           "#ab63fa",
           "#636efa",
           "#636efa",
           "#EF553B",
           "#ab63fa",
           "#ab63fa",
           "#636efa",
           "#636efa",
           "#ab63fa",
           "#EF553B",
           "#EF553B",
           "#EF553B",
           "#ab63fa",
           "#636efa",
           "#00cc96",
           "#ab63fa",
           "#ab63fa",
           "#EF553B",
           "#EF553B",
           "#00cc96",
           "#636efa",
           "#636efa",
           "#636efa",
           "#636efa",
           "#EF553B",
           "#636efa",
           "#636efa",
           "#00cc96",
           "#ab63fa",
           "#00cc96",
           "#ab63fa",
           "#636efa",
           "#ab63fa",
           "#ab63fa",
           "#ab63fa",
           "#ab63fa",
           "#00cc96",
           "#EF553B",
           "#636efa",
           "#ab63fa",
           "#EF553B",
           "#636efa",
           "#ab63fa",
           "#ab63fa",
           "#636efa",
           "#EF553B",
           "#ab63fa",
           "#636efa",
           "#636efa",
           "#EF553B",
           "#636efa",
           "#636efa",
           "#636efa",
           "#EF553B",
           "#636efa",
           "#00cc96",
           "#00cc96",
           "#ab63fa",
           "#00cc96",
           "#EF553B",
           "#ab63fa",
           "#636efa",
           "#EF553B",
           "#00cc96",
           "#00cc96",
           "#ab63fa",
           "#636efa",
           "#636efa",
           "#636efa",
           "#636efa",
           "#00cc96",
           "#636efa",
           "#EF553B",
           "#ab63fa",
           "#EF553B",
           "#00cc96",
           "#636efa",
           "#00cc96",
           "#636efa",
           "#636efa",
           "#EF553B",
           "#ab63fa",
           "#636efa",
           "#EF553B",
           "#00cc96",
           "#ab63fa",
           "#636efa",
           "#00cc96",
           "#ab63fa",
           "#ab63fa",
           "#ab63fa",
           "#ab63fa",
           "#ab63fa",
           "#00cc96",
           "#636efa",
           "#EF553B",
           "#EF553B",
           "#EF553B",
           "#636efa",
           "#636efa",
           "#00cc96",
           "#ab63fa",
           "#636efa",
           "#EF553B",
           "#EF553B",
           "#00cc96",
           "#636efa",
           "#636efa",
           "#00cc96",
           "#ab63fa",
           "#636efa",
           "#ab63fa",
           "#636efa",
           "#00cc96",
           "#00cc96",
           "#00cc96",
           "#00cc96",
           "#636efa",
           "#636efa",
           "#ab63fa",
           "#636efa",
           "#EF553B",
           "#EF553B",
           "#00cc96",
           "#636efa",
           "#636efa",
           "#ab63fa",
           "#00cc96",
           "#00cc96",
           "#ab63fa",
           "#EF553B",
           "#EF553B",
           "#636efa",
           "#EF553B",
           "#EF553B",
           "#ab63fa",
           "#EF553B",
           "#00cc96",
           "#00cc96",
           "#00cc96",
           "#EF553B",
           "#EF553B",
           "#00cc96",
           "#EF553B",
           "#EF553B",
           "#636efa",
           "#636efa",
           "#636efa",
           "#EF553B",
           "#ab63fa",
           "#636efa",
           "#ab63fa",
           "#00cc96",
           "#EF553B",
           "#ab63fa",
           "#EF553B",
           "#EF553B",
           "#EF553B",
           "#EF553B",
           "#636efa",
           "#ab63fa",
           "#ab63fa",
           "#ab63fa",
           "#636efa",
           "#EF553B",
           "#636efa",
           "#ab63fa",
           "#00cc96",
           "#EF553B",
           "#ab63fa",
           "#00cc96",
           "#EF553B",
           "#ab63fa",
           "#636efa",
           "#EF553B",
           "#636efa",
           "#ab63fa",
           "#ab63fa",
           "#ab63fa",
           "#EF553B",
           "#ab63fa",
           "#00cc96",
           "#636efa",
           "#636efa",
           "#EF553B",
           "#00cc96",
           "#00cc96",
           "#EF553B",
           "#636efa",
           "#EF553B",
           "#636efa",
           "#EF553B",
           "#00cc96",
           "#ab63fa",
           "#EF553B",
           "#00cc96",
           "#636efa",
           "#ab63fa",
           "#00cc96",
           "#636efa",
           "#ab63fa",
           "#EF553B",
           "#636efa",
           "#EF553B",
           "#636efa",
           "#EF553B",
           "#00cc96",
           "#EF553B",
           "#00cc96",
           "#EF553B",
           "#00cc96",
           "#00cc96",
           "#00cc96",
           "#00cc96",
           "#EF553B",
           "#EF553B",
           "#EF553B",
           "#00cc96",
           "#636efa",
           "#636efa",
           "#636efa",
           "#ab63fa",
           "#ab63fa",
           "#00cc96",
           "#EF553B",
           "#636efa",
           "#ab63fa",
           "#00cc96",
           "#00cc96",
           "#636efa",
           "#ab63fa",
           "#00cc96",
           "#EF553B",
           "#636efa",
           "#EF553B",
           "#00cc96",
           "#EF553B",
           "#EF553B",
           "#00cc96",
           "#636efa",
           "#636efa",
           "#636efa",
           "#636efa",
           "#ab63fa",
           "#EF553B",
           "#636efa",
           "#ab63fa",
           "#636efa",
           "#ab63fa",
           "#00cc96",
           "#ab63fa",
           "#00cc96",
           "#636efa",
           "#636efa",
           "#00cc96",
           "#00cc96",
           "#636efa",
           "#636efa",
           "#636efa",
           "#00cc96",
           "#EF553B",
           "#636efa",
           "#00cc96",
           "#636efa",
           "#636efa",
           "#EF553B",
           "#00cc96",
           "#ab63fa",
           "#636efa",
           "#636efa",
           "#00cc96",
           "#EF553B",
           "#636efa",
           "#EF553B",
           "#EF553B",
           "#00cc96",
           "#EF553B",
           "#636efa",
           "#636efa",
           "#636efa",
           "#00cc96",
           "#00cc96",
           "#00cc96",
           "#ab63fa",
           "#00cc96",
           "#EF553B",
           "#00cc96",
           "#636efa",
           "#00cc96",
           "#EF553B",
           "#636efa",
           "#EF553B",
           "#00cc96",
           "#00cc96",
           "#ab63fa",
           "#ab63fa",
           "#ab63fa",
           "#EF553B",
           "#EF553B",
           "#ab63fa",
           "#EF553B",
           "#ab63fa",
           "#EF553B",
           "#636efa",
           "#00cc96",
           "#00cc96",
           "#ab63fa",
           "#636efa",
           "#EF553B",
           "#ab63fa",
           "#EF553B",
           "#ab63fa",
           "#EF553B",
           "#EF553B",
           "#EF553B",
           "#ab63fa",
           "#EF553B",
           "#ab63fa",
           "#EF553B",
           "#ab63fa",
           "#EF553B",
           "#636efa",
           "#EF553B",
           "#00cc96",
           "#636efa",
           "#00cc96",
           "#ab63fa",
           "#ab63fa",
           "#EF553B",
           "#EF553B",
           "#00cc96",
           "#00cc96",
           "#636efa",
           "#EF553B",
           "#636efa",
           "#636efa",
           "#00cc96",
           "#ab63fa",
           "#ab63fa",
           "#EF553B",
           "#636efa",
           "#ab63fa",
           "#636efa",
           "#EF553B",
           "#636efa",
           "#00cc96",
           "#ab63fa",
           "#636efa",
           "#00cc96",
           "#ab63fa",
           "#EF553B",
           "#00cc96",
           "#00cc96",
           "#EF553B",
           "#ab63fa",
           "#00cc96",
           "#636efa",
           "#636efa",
           "#ab63fa",
           "#EF553B",
           "#EF553B",
           "#EF553B",
           "#ab63fa",
           "#00cc96",
           "#00cc96",
           "#ab63fa",
           "#00cc96",
           "#EF553B",
           "#00cc96",
           "#ab63fa",
           "#EF553B",
           "#ab63fa",
           "#EF553B",
           "#636efa",
           "#00cc96",
           "#00cc96",
           "#ab63fa",
           "#00cc96",
           "#EF553B",
           "#ab63fa",
           "#EF553B",
           "#636efa",
           "#EF553B",
           "#00cc96",
           "#636efa",
           "#636efa",
           "#00cc96",
           "#ab63fa",
           "#636efa",
           "#636efa",
           "#00cc96",
           "#ab63fa",
           "#636efa",
           "#ab63fa",
           "#636efa",
           "#EF553B",
           "#ab63fa",
           "#636efa",
           "#00cc96",
           "#00cc96",
           "#636efa",
           "#EF553B",
           "#636efa",
           "#ab63fa",
           "#ab63fa",
           "#636efa",
           "#ab63fa",
           "#636efa",
           "#ab63fa",
           "#ab63fa",
           "#636efa",
           "#00cc96",
           "#00cc96",
           "#636efa",
           "#ab63fa",
           "#EF553B",
           "#ab63fa",
           "#00cc96",
           "#636efa",
           "#EF553B",
           "#EF553B",
           "#636efa",
           "#EF553B",
           "#00cc96",
           "#00cc96",
           "#ab63fa",
           "#ab63fa",
           "#636efa",
           "#EF553B",
           "#EF553B",
           "#EF553B",
           "#636efa",
           "#EF553B",
           "#636efa",
           "#ab63fa",
           "#EF553B",
           "#00cc96",
           "#ab63fa",
           "#ab63fa",
           "#00cc96",
           "#ab63fa",
           "#00cc96",
           "#ab63fa",
           "#ab63fa",
           "#00cc96",
           "#00cc96",
           "#ab63fa",
           "#00cc96",
           "#ab63fa",
           "#ab63fa",
           "#ab63fa",
           "#ab63fa",
           "#00cc96",
           "#00cc96",
           "#EF553B",
           "#ab63fa",
           "#ab63fa",
           "#ab63fa",
           "#ab63fa",
           "#00cc96",
           "#ab63fa",
           "#EF553B",
           "#00cc96",
           "#EF553B",
           "#00cc96",
           "#00cc96",
           "#EF553B",
           "#00cc96",
           "#636efa",
           "#ab63fa",
           "#EF553B",
           "#ab63fa",
           "#ab63fa",
           "#636efa",
           "#636efa",
           "#636efa",
           "#EF553B",
           "#EF553B",
           "#ab63fa",
           "#ab63fa",
           "#00cc96",
           "#ab63fa",
           "#636efa",
           "#EF553B",
           "#ab63fa",
           "#00cc96",
           "#636efa",
           "#ab63fa",
           "#ab63fa",
           "#00cc96",
           "#ab63fa",
           "#636efa",
           "#ab63fa",
           "#00cc96",
           "#00cc96",
           "#ab63fa",
           "#636efa",
           "#EF553B",
           "#EF553B",
           "#EF553B",
           "#00cc96",
           "#ab63fa",
           "#636efa",
           "#00cc96",
           "#00cc96",
           "#636efa",
           "#00cc96",
           "#ab63fa",
           "#636efa",
           "#ab63fa",
           "#ab63fa",
           "#EF553B",
           "#636efa",
           "#ab63fa",
           "#EF553B",
           "#ab63fa",
           "#00cc96",
           "#636efa",
           "#ab63fa",
           "#EF553B",
           "#636efa",
           "#EF553B",
           "#636efa",
           "#00cc96",
           "#ab63fa",
           "#EF553B",
           "#00cc96",
           "#636efa",
           "#636efa",
           "#636efa",
           "#EF553B",
           "#636efa",
           "#00cc96",
           "#EF553B",
           "#EF553B",
           "#EF553B",
           "#EF553B",
           "#00cc96",
           "#636efa",
           "#ab63fa",
           "#ab63fa",
           "#ab63fa",
           "#ab63fa",
           "#EF553B",
           "#636efa",
           "#EF553B",
           "#636efa",
           "#ab63fa",
           "#636efa",
           "#00cc96",
           "#ab63fa",
           "#00cc96",
           "#ab63fa",
           "#00cc96",
           "#00cc96",
           "#636efa",
           "#EF553B",
           "#ab63fa",
           "#EF553B",
           "#636efa",
           "#636efa",
           "#ab63fa",
           "#EF553B",
           "#636efa",
           "#ab63fa",
           "#EF553B",
           "#EF553B",
           "#636efa",
           "#ab63fa",
           "#00cc96",
           "#636efa",
           "#00cc96",
           "#ab63fa",
           "#EF553B",
           "#636efa",
           "#636efa",
           "#636efa",
           "#636efa",
           "#EF553B",
           "#EF553B",
           "#636efa",
           "#00cc96",
           "#636efa",
           "#ab63fa",
           "#636efa",
           "#636efa",
           "#ab63fa",
           "#00cc96",
           "#ab63fa",
           "#00cc96",
           "#00cc96",
           "#ab63fa",
           "#EF553B",
           "#00cc96",
           "#ab63fa",
           "#00cc96"
          ]
         },
         "name": "",
         "showlegend": true,
         "type": "pie"
        }
       ],
       "layout": {
        "legend": {
         "tracegroupgap": 0
        },
        "margin": {
         "t": 60
        },
        "template": {
         "data": {
          "bar": [
           {
            "error_x": {
             "color": "#2a3f5f"
            },
            "error_y": {
             "color": "#2a3f5f"
            },
            "marker": {
             "line": {
              "color": "#E5ECF6",
              "width": 0.5
             },
             "pattern": {
              "fillmode": "overlay",
              "size": 10,
              "solidity": 0.2
             }
            },
            "type": "bar"
           }
          ],
          "barpolar": [
           {
            "marker": {
             "line": {
              "color": "#E5ECF6",
              "width": 0.5
             },
             "pattern": {
              "fillmode": "overlay",
              "size": 10,
              "solidity": 0.2
             }
            },
            "type": "barpolar"
           }
          ],
          "carpet": [
           {
            "aaxis": {
             "endlinecolor": "#2a3f5f",
             "gridcolor": "white",
             "linecolor": "white",
             "minorgridcolor": "white",
             "startlinecolor": "#2a3f5f"
            },
            "baxis": {
             "endlinecolor": "#2a3f5f",
             "gridcolor": "white",
             "linecolor": "white",
             "minorgridcolor": "white",
             "startlinecolor": "#2a3f5f"
            },
            "type": "carpet"
           }
          ],
          "choropleth": [
           {
            "colorbar": {
             "outlinewidth": 0,
             "ticks": ""
            },
            "type": "choropleth"
           }
          ],
          "contour": [
           {
            "colorbar": {
             "outlinewidth": 0,
             "ticks": ""
            },
            "colorscale": [
             [
              0,
              "#0d0887"
             ],
             [
              0.1111111111111111,
              "#46039f"
             ],
             [
              0.2222222222222222,
              "#7201a8"
             ],
             [
              0.3333333333333333,
              "#9c179e"
             ],
             [
              0.4444444444444444,
              "#bd3786"
             ],
             [
              0.5555555555555556,
              "#d8576b"
             ],
             [
              0.6666666666666666,
              "#ed7953"
             ],
             [
              0.7777777777777778,
              "#fb9f3a"
             ],
             [
              0.8888888888888888,
              "#fdca26"
             ],
             [
              1,
              "#f0f921"
             ]
            ],
            "type": "contour"
           }
          ],
          "contourcarpet": [
           {
            "colorbar": {
             "outlinewidth": 0,
             "ticks": ""
            },
            "type": "contourcarpet"
           }
          ],
          "heatmap": [
           {
            "colorbar": {
             "outlinewidth": 0,
             "ticks": ""
            },
            "colorscale": [
             [
              0,
              "#0d0887"
             ],
             [
              0.1111111111111111,
              "#46039f"
             ],
             [
              0.2222222222222222,
              "#7201a8"
             ],
             [
              0.3333333333333333,
              "#9c179e"
             ],
             [
              0.4444444444444444,
              "#bd3786"
             ],
             [
              0.5555555555555556,
              "#d8576b"
             ],
             [
              0.6666666666666666,
              "#ed7953"
             ],
             [
              0.7777777777777778,
              "#fb9f3a"
             ],
             [
              0.8888888888888888,
              "#fdca26"
             ],
             [
              1,
              "#f0f921"
             ]
            ],
            "type": "heatmap"
           }
          ],
          "histogram": [
           {
            "marker": {
             "pattern": {
              "fillmode": "overlay",
              "size": 10,
              "solidity": 0.2
             }
            },
            "type": "histogram"
           }
          ],
          "histogram2d": [
           {
            "colorbar": {
             "outlinewidth": 0,
             "ticks": ""
            },
            "colorscale": [
             [
              0,
              "#0d0887"
             ],
             [
              0.1111111111111111,
              "#46039f"
             ],
             [
              0.2222222222222222,
              "#7201a8"
             ],
             [
              0.3333333333333333,
              "#9c179e"
             ],
             [
              0.4444444444444444,
              "#bd3786"
             ],
             [
              0.5555555555555556,
              "#d8576b"
             ],
             [
              0.6666666666666666,
              "#ed7953"
             ],
             [
              0.7777777777777778,
              "#fb9f3a"
             ],
             [
              0.8888888888888888,
              "#fdca26"
             ],
             [
              1,
              "#f0f921"
             ]
            ],
            "type": "histogram2d"
           }
          ],
          "histogram2dcontour": [
           {
            "colorbar": {
             "outlinewidth": 0,
             "ticks": ""
            },
            "colorscale": [
             [
              0,
              "#0d0887"
             ],
             [
              0.1111111111111111,
              "#46039f"
             ],
             [
              0.2222222222222222,
              "#7201a8"
             ],
             [
              0.3333333333333333,
              "#9c179e"
             ],
             [
              0.4444444444444444,
              "#bd3786"
             ],
             [
              0.5555555555555556,
              "#d8576b"
             ],
             [
              0.6666666666666666,
              "#ed7953"
             ],
             [
              0.7777777777777778,
              "#fb9f3a"
             ],
             [
              0.8888888888888888,
              "#fdca26"
             ],
             [
              1,
              "#f0f921"
             ]
            ],
            "type": "histogram2dcontour"
           }
          ],
          "mesh3d": [
           {
            "colorbar": {
             "outlinewidth": 0,
             "ticks": ""
            },
            "type": "mesh3d"
           }
          ],
          "parcoords": [
           {
            "line": {
             "colorbar": {
              "outlinewidth": 0,
              "ticks": ""
             }
            },
            "type": "parcoords"
           }
          ],
          "pie": [
           {
            "automargin": true,
            "type": "pie"
           }
          ],
          "scatter": [
           {
            "fillpattern": {
             "fillmode": "overlay",
             "size": 10,
             "solidity": 0.2
            },
            "type": "scatter"
           }
          ],
          "scatter3d": [
           {
            "line": {
             "colorbar": {
              "outlinewidth": 0,
              "ticks": ""
             }
            },
            "marker": {
             "colorbar": {
              "outlinewidth": 0,
              "ticks": ""
             }
            },
            "type": "scatter3d"
           }
          ],
          "scattercarpet": [
           {
            "marker": {
             "colorbar": {
              "outlinewidth": 0,
              "ticks": ""
             }
            },
            "type": "scattercarpet"
           }
          ],
          "scattergeo": [
           {
            "marker": {
             "colorbar": {
              "outlinewidth": 0,
              "ticks": ""
             }
            },
            "type": "scattergeo"
           }
          ],
          "scattergl": [
           {
            "marker": {
             "colorbar": {
              "outlinewidth": 0,
              "ticks": ""
             }
            },
            "type": "scattergl"
           }
          ],
          "scattermap": [
           {
            "marker": {
             "colorbar": {
              "outlinewidth": 0,
              "ticks": ""
             }
            },
            "type": "scattermap"
           }
          ],
          "scattermapbox": [
           {
            "marker": {
             "colorbar": {
              "outlinewidth": 0,
              "ticks": ""
             }
            },
            "type": "scattermapbox"
           }
          ],
          "scatterpolar": [
           {
            "marker": {
             "colorbar": {
              "outlinewidth": 0,
              "ticks": ""
             }
            },
            "type": "scatterpolar"
           }
          ],
          "scatterpolargl": [
           {
            "marker": {
             "colorbar": {
              "outlinewidth": 0,
              "ticks": ""
             }
            },
            "type": "scatterpolargl"
           }
          ],
          "scatterternary": [
           {
            "marker": {
             "colorbar": {
              "outlinewidth": 0,
              "ticks": ""
             }
            },
            "type": "scatterternary"
           }
          ],
          "surface": [
           {
            "colorbar": {
             "outlinewidth": 0,
             "ticks": ""
            },
            "colorscale": [
             [
              0,
              "#0d0887"
             ],
             [
              0.1111111111111111,
              "#46039f"
             ],
             [
              0.2222222222222222,
              "#7201a8"
             ],
             [
              0.3333333333333333,
              "#9c179e"
             ],
             [
              0.4444444444444444,
              "#bd3786"
             ],
             [
              0.5555555555555556,
              "#d8576b"
             ],
             [
              0.6666666666666666,
              "#ed7953"
             ],
             [
              0.7777777777777778,
              "#fb9f3a"
             ],
             [
              0.8888888888888888,
              "#fdca26"
             ],
             [
              1,
              "#f0f921"
             ]
            ],
            "type": "surface"
           }
          ],
          "table": [
           {
            "cells": {
             "fill": {
              "color": "#EBF0F8"
             },
             "line": {
              "color": "white"
             }
            },
            "header": {
             "fill": {
              "color": "#C8D4E3"
             },
             "line": {
              "color": "white"
             }
            },
            "type": "table"
           }
          ]
         },
         "layout": {
          "annotationdefaults": {
           "arrowcolor": "#2a3f5f",
           "arrowhead": 0,
           "arrowwidth": 1
          },
          "autotypenumbers": "strict",
          "coloraxis": {
           "colorbar": {
            "outlinewidth": 0,
            "ticks": ""
           }
          },
          "colorscale": {
           "diverging": [
            [
             0,
             "#8e0152"
            ],
            [
             0.1,
             "#c51b7d"
            ],
            [
             0.2,
             "#de77ae"
            ],
            [
             0.3,
             "#f1b6da"
            ],
            [
             0.4,
             "#fde0ef"
            ],
            [
             0.5,
             "#f7f7f7"
            ],
            [
             0.6,
             "#e6f5d0"
            ],
            [
             0.7,
             "#b8e186"
            ],
            [
             0.8,
             "#7fbc41"
            ],
            [
             0.9,
             "#4d9221"
            ],
            [
             1,
             "#276419"
            ]
           ],
           "sequential": [
            [
             0,
             "#0d0887"
            ],
            [
             0.1111111111111111,
             "#46039f"
            ],
            [
             0.2222222222222222,
             "#7201a8"
            ],
            [
             0.3333333333333333,
             "#9c179e"
            ],
            [
             0.4444444444444444,
             "#bd3786"
            ],
            [
             0.5555555555555556,
             "#d8576b"
            ],
            [
             0.6666666666666666,
             "#ed7953"
            ],
            [
             0.7777777777777778,
             "#fb9f3a"
            ],
            [
             0.8888888888888888,
             "#fdca26"
            ],
            [
             1,
             "#f0f921"
            ]
           ],
           "sequentialminus": [
            [
             0,
             "#0d0887"
            ],
            [
             0.1111111111111111,
             "#46039f"
            ],
            [
             0.2222222222222222,
             "#7201a8"
            ],
            [
             0.3333333333333333,
             "#9c179e"
            ],
            [
             0.4444444444444444,
             "#bd3786"
            ],
            [
             0.5555555555555556,
             "#d8576b"
            ],
            [
             0.6666666666666666,
             "#ed7953"
            ],
            [
             0.7777777777777778,
             "#fb9f3a"
            ],
            [
             0.8888888888888888,
             "#fdca26"
            ],
            [
             1,
             "#f0f921"
            ]
           ]
          },
          "colorway": [
           "#636efa",
           "#EF553B",
           "#00cc96",
           "#ab63fa",
           "#FFA15A",
           "#19d3f3",
           "#FF6692",
           "#B6E880",
           "#FF97FF",
           "#FECB52"
          ],
          "font": {
           "color": "#2a3f5f"
          },
          "geo": {
           "bgcolor": "white",
           "lakecolor": "white",
           "landcolor": "#E5ECF6",
           "showlakes": true,
           "showland": true,
           "subunitcolor": "white"
          },
          "hoverlabel": {
           "align": "left"
          },
          "hovermode": "closest",
          "mapbox": {
           "style": "light"
          },
          "paper_bgcolor": "white",
          "plot_bgcolor": "#E5ECF6",
          "polar": {
           "angularaxis": {
            "gridcolor": "white",
            "linecolor": "white",
            "ticks": ""
           },
           "bgcolor": "#E5ECF6",
           "radialaxis": {
            "gridcolor": "white",
            "linecolor": "white",
            "ticks": ""
           }
          },
          "scene": {
           "xaxis": {
            "backgroundcolor": "#E5ECF6",
            "gridcolor": "white",
            "gridwidth": 2,
            "linecolor": "white",
            "showbackground": true,
            "ticks": "",
            "zerolinecolor": "white"
           },
           "yaxis": {
            "backgroundcolor": "#E5ECF6",
            "gridcolor": "white",
            "gridwidth": 2,
            "linecolor": "white",
            "showbackground": true,
            "ticks": "",
            "zerolinecolor": "white"
           },
           "zaxis": {
            "backgroundcolor": "#E5ECF6",
            "gridcolor": "white",
            "gridwidth": 2,
            "linecolor": "white",
            "showbackground": true,
            "ticks": "",
            "zerolinecolor": "white"
           }
          },
          "shapedefaults": {
           "line": {
            "color": "#2a3f5f"
           }
          },
          "ternary": {
           "aaxis": {
            "gridcolor": "white",
            "linecolor": "white",
            "ticks": ""
           },
           "baxis": {
            "gridcolor": "white",
            "linecolor": "white",
            "ticks": ""
           },
           "bgcolor": "#E5ECF6",
           "caxis": {
            "gridcolor": "white",
            "linecolor": "white",
            "ticks": ""
           }
          },
          "title": {
           "x": 0.05
          },
          "xaxis": {
           "automargin": true,
           "gridcolor": "white",
           "linecolor": "white",
           "ticks": "",
           "title": {
            "standoff": 15
           },
           "zerolinecolor": "white",
           "zerolinewidth": 2
          },
          "yaxis": {
           "automargin": true,
           "gridcolor": "white",
           "linecolor": "white",
           "ticks": "",
           "title": {
            "standoff": 15
           },
           "zerolinecolor": "white",
           "zerolinewidth": 2
          }
         }
        }
       }
      }
     },
     "metadata": {},
     "output_type": "display_data"
    }
   ],
   "source": [
    "px.pie(df , names = 'fc' , color = 'price_range')"
   ]
  },
  {
   "cell_type": "code",
   "execution_count": 23,
   "id": "6f595cee",
   "metadata": {},
   "outputs": [
    {
     "data": {
      "application/vnd.plotly.v1+json": {
       "config": {
        "plotlyServerURL": "https://plot.ly"
       },
       "data": [
        {
         "bingroup": "x",
         "hovertemplate": "price_range=1<br>four_g=%{x}<br>count=%{y}<extra></extra>",
         "legendgroup": "1",
         "marker": {
          "color": "#636efa",
          "pattern": {
           "shape": ""
          }
         },
         "name": "1",
         "orientation": "v",
         "showlegend": true,
         "type": "histogram",
         "x": {
          "bdata": "AAEAAAAAAAEBAAABAQABAQAAAQAAAQAAAAEAAQEAAQABAAAAAAEBAQABAAEAAQAAAQEAAQEAAAABAAEAAQABAQAAAQEBAQEAAQABAAEBAAAAAAEBAQEBAQEAAQEBAAAAAQEAAAEBAAEBAAEAAAAAAQEAAAEAAQAAAAABAAEBAQEAAAABAQEBAQABAAAAAAAAAAEAAAEBAQAAAQAAAAEBAAABAQEBAQEBAQABAQABAQAAAAABAQEAAAABAQEAAQEAAAEAAQAAAQABAAAAAAEBAAABAQAAAQAAAAABAQEAAAEAAQEBAQAAAAAAAQABAQABAQABAAEBAQAAAAEAAAABAQAAAQABAQEBAQAAAAEBAAABAQEBAAEAAQAAAAEBAQEBAAEBAQAAAAEAAAEBAQEBAQEBAAABAQEBAQABAAEAAQABAQAAAAAAAQEAAAEBAQEAAAAAAAABAAABAAAAAAEAAAEBAQABAQABAAEBAAEBAAEAAQAAAAABAQABAQABAAEAAAEBAAEBAAEAAQABAAEAAQABAQABAAEBAQEBAQAAAQEBAAABAQABAQAAAQABAQABAAEAAQEBAQEAAAEAAQEAAAABAAABAAABAQEBAAEBAQEAAAEAAQABAQABAQABAQEBAQEBAAEAAAAAAAEBAQEBAAABAAA=",
          "dtype": "i1"
         },
         "xaxis": "x",
         "yaxis": "y"
        },
        {
         "bingroup": "x",
         "hovertemplate": "price_range=2<br>four_g=%{x}<br>count=%{y}<extra></extra>",
         "legendgroup": "2",
         "marker": {
          "color": "#EF553B",
          "pattern": {
           "shape": ""
          }
         },
         "name": "2",
         "orientation": "v",
         "showlegend": true,
         "type": "histogram",
         "x": {
          "bdata": "AQEAAAEBAQAAAQAAAQEBAQEBAAABAQAAAAEBAAAAAQAAAQEBAAEBAQEBAQABAQABAQAAAQEAAAEBAAEBAQAAAAABAAEAAAAAAAAAAAAAAAEBAAABAQEAAQEAAQABAAABAQEAAQEBAQAAAQABAAEBAAEBAQAAAAEBAQAAAQEAAAAAAQEBAAAAAAABAQAAAQAAAAAAAAAAAQEBAQAAAAABAQEAAAAAAQABAQAAAQEBAAEAAAAAAAEAAAABAAEAAAEAAAAAAQEBAAABAQABAAAAAAEAAAEAAQEAAAABAQAAAQEBAAABAAAAAQEBAQEAAAABAAEAAQAAAAEBAAAAAAEAAAABAAAAAQEBAAAAAQABAQAAAQEBAAABAQAAAAAAAQEBAQEBAAAAAQEBAAABAQABAQEAAQABAQABAAAAAAEAAAEBAQEBAAEBAQEBAAABAAEAAQEAAQEBAQAAAAABAQEBAQEAAQEBAAEBAAABAAAAAAABAAEAAAEAAQEAAQEAAQAAAAABAQEAAAEBAQAAAAABAQAAAQEAAAEBAAAAAAEBAQAAAAEBAQEBAQEAAQEBAAEAAAEAAAABAQEAAQEBAAEBAQABAAEAAAEBAQEAAQABAAABAQEBAAEAAAEBAAAAAAAAAQEAAQAAAQEBAQAAAAABAAEAAAA=",
          "dtype": "i1"
         },
         "xaxis": "x",
         "yaxis": "y"
        },
        {
         "bingroup": "x",
         "hovertemplate": "price_range=3<br>four_g=%{x}<br>count=%{y}<extra></extra>",
         "legendgroup": "3",
         "marker": {
          "color": "#00cc96",
          "pattern": {
           "shape": ""
          }
         },
         "name": "3",
         "orientation": "v",
         "showlegend": true,
         "type": "histogram",
         "x": {
          "bdata": "AQABAQEAAAEBAAEBAQAAAQEBAQABAQABAQABAQABAAAAAAEBAQABAAAAAQEBAQAAAQEBAQAAAAEAAQEBAQEBAAAAAQEAAAABAQEAAQABAQEBAQABAAABAAAAAAEAAQAAAAABAAAAAQEBAQEAAAABAQEBAQAAAAEAAQEBAQEAAQAAAQEAAAEAAAEBAQAAAQEAAAABAQEAAQEAAAEAAAABAQEBAQABAQABAQEBAAABAAAAAQEAAQABAQAAAAEAAAEAAQABAAAAAQAAAQAAAQABAAEBAQEBAQEBAAABAQABAAAAAQEAAAEAAAEBAAEBAQABAAEAAAEAAQEAAAEAAQEBAAABAQABAQEAAQABAQABAQEBAAEAAAABAAEAAAEAAAEAAAEAAAEAAAAAAQAAAQABAQABAAABAQEBAQEBAAEBAQAAAAABAAABAQEBAQEAAQEBAQABAQABAQEBAQABAAABAQEBAQEAAAAAAQEBAAEBAQEAAAABAQABAQABAAEAAAABAAABAAABAQEAAQEAAAABAQABAQAAAQEAAAABAAEBAQAAAQAAAQEAAAEBAQEBAQEBAAEBAAEBAAEAAQABAAEAAQAAAQEBAQEAAAEBAQAAAAEBAAEAAQEAAQEAAAEBAAEBAAAAAQEBAAABAQAAAAAAAQAAAQE=",
          "dtype": "i1"
         },
         "xaxis": "x",
         "yaxis": "y"
        },
        {
         "bingroup": "x",
         "hovertemplate": "price_range=0<br>four_g=%{x}<br>count=%{y}<extra></extra>",
         "legendgroup": "0",
         "marker": {
          "color": "#ab63fa",
          "pattern": {
           "shape": ""
          }
         },
         "name": "0",
         "orientation": "v",
         "showlegend": true,
         "type": "histogram",
         "x": {
          "bdata": "AAABAQABAAAAAQEAAQEAAQABAAABAQEAAQEBAAEBAAEBAAEBAQAAAQABAQEAAQEBAQEBAAABAAABAQEAAQEBAAEAAAEBAAEBAQEBAQABAAABAQEAAQAAAAABAQAAAAAAAAABAAEBAAEAAQEAAQABAAAAAQAAAQABAAABAAAAAAAAAQEBAQEAAAEBAAEAAAEBAAABAQEAAQABAQEAAAABAAAAAQABAQEBAQEAAQEAAAEBAQEAAQEAAQEBAAAAAQABAQAAAAABAQEAAAABAQABAAEBAQEBAAABAAAAAAEAAAEBAQEBAAEAAQEAAQABAAEAAAEAAAAAAAEBAQAAAAEAAAEBAQAAAQAAAAABAAEAAAEAAAAAAQAAAAABAAAAAQEAAAEBAAAAAAAAAQEBAQEAAAEBAQEAAAAAAAEAAAEBAQEAAAEBAAABAQEBAAABAAABAAAAAAABAAEBAQEAAQEBAAAAAQAAAAEBAQABAQEBAQAAAQEBAQEBAQEBAQEBAAEAAQABAAEBAQEAAAAAAQABAQEBAQABAAEAAAABAAEBAQEBAAABAQAAAQEAAQAAAAEBAAEBAAAAAAAAAAAAAQEBAQABAAEAAQEAAAEBAQAAAAAAAQEAAAEAAQABAAAAAAEBAQEBAAEBAAAAAAABAQEAAQEAAQE=",
          "dtype": "i1"
         },
         "xaxis": "x",
         "yaxis": "y"
        }
       ],
       "layout": {
        "barmode": "relative",
        "legend": {
         "title": {
          "text": "price_range"
         },
         "tracegroupgap": 0
        },
        "margin": {
         "t": 60
        },
        "template": {
         "data": {
          "bar": [
           {
            "error_x": {
             "color": "#2a3f5f"
            },
            "error_y": {
             "color": "#2a3f5f"
            },
            "marker": {
             "line": {
              "color": "#E5ECF6",
              "width": 0.5
             },
             "pattern": {
              "fillmode": "overlay",
              "size": 10,
              "solidity": 0.2
             }
            },
            "type": "bar"
           }
          ],
          "barpolar": [
           {
            "marker": {
             "line": {
              "color": "#E5ECF6",
              "width": 0.5
             },
             "pattern": {
              "fillmode": "overlay",
              "size": 10,
              "solidity": 0.2
             }
            },
            "type": "barpolar"
           }
          ],
          "carpet": [
           {
            "aaxis": {
             "endlinecolor": "#2a3f5f",
             "gridcolor": "white",
             "linecolor": "white",
             "minorgridcolor": "white",
             "startlinecolor": "#2a3f5f"
            },
            "baxis": {
             "endlinecolor": "#2a3f5f",
             "gridcolor": "white",
             "linecolor": "white",
             "minorgridcolor": "white",
             "startlinecolor": "#2a3f5f"
            },
            "type": "carpet"
           }
          ],
          "choropleth": [
           {
            "colorbar": {
             "outlinewidth": 0,
             "ticks": ""
            },
            "type": "choropleth"
           }
          ],
          "contour": [
           {
            "colorbar": {
             "outlinewidth": 0,
             "ticks": ""
            },
            "colorscale": [
             [
              0,
              "#0d0887"
             ],
             [
              0.1111111111111111,
              "#46039f"
             ],
             [
              0.2222222222222222,
              "#7201a8"
             ],
             [
              0.3333333333333333,
              "#9c179e"
             ],
             [
              0.4444444444444444,
              "#bd3786"
             ],
             [
              0.5555555555555556,
              "#d8576b"
             ],
             [
              0.6666666666666666,
              "#ed7953"
             ],
             [
              0.7777777777777778,
              "#fb9f3a"
             ],
             [
              0.8888888888888888,
              "#fdca26"
             ],
             [
              1,
              "#f0f921"
             ]
            ],
            "type": "contour"
           }
          ],
          "contourcarpet": [
           {
            "colorbar": {
             "outlinewidth": 0,
             "ticks": ""
            },
            "type": "contourcarpet"
           }
          ],
          "heatmap": [
           {
            "colorbar": {
             "outlinewidth": 0,
             "ticks": ""
            },
            "colorscale": [
             [
              0,
              "#0d0887"
             ],
             [
              0.1111111111111111,
              "#46039f"
             ],
             [
              0.2222222222222222,
              "#7201a8"
             ],
             [
              0.3333333333333333,
              "#9c179e"
             ],
             [
              0.4444444444444444,
              "#bd3786"
             ],
             [
              0.5555555555555556,
              "#d8576b"
             ],
             [
              0.6666666666666666,
              "#ed7953"
             ],
             [
              0.7777777777777778,
              "#fb9f3a"
             ],
             [
              0.8888888888888888,
              "#fdca26"
             ],
             [
              1,
              "#f0f921"
             ]
            ],
            "type": "heatmap"
           }
          ],
          "histogram": [
           {
            "marker": {
             "pattern": {
              "fillmode": "overlay",
              "size": 10,
              "solidity": 0.2
             }
            },
            "type": "histogram"
           }
          ],
          "histogram2d": [
           {
            "colorbar": {
             "outlinewidth": 0,
             "ticks": ""
            },
            "colorscale": [
             [
              0,
              "#0d0887"
             ],
             [
              0.1111111111111111,
              "#46039f"
             ],
             [
              0.2222222222222222,
              "#7201a8"
             ],
             [
              0.3333333333333333,
              "#9c179e"
             ],
             [
              0.4444444444444444,
              "#bd3786"
             ],
             [
              0.5555555555555556,
              "#d8576b"
             ],
             [
              0.6666666666666666,
              "#ed7953"
             ],
             [
              0.7777777777777778,
              "#fb9f3a"
             ],
             [
              0.8888888888888888,
              "#fdca26"
             ],
             [
              1,
              "#f0f921"
             ]
            ],
            "type": "histogram2d"
           }
          ],
          "histogram2dcontour": [
           {
            "colorbar": {
             "outlinewidth": 0,
             "ticks": ""
            },
            "colorscale": [
             [
              0,
              "#0d0887"
             ],
             [
              0.1111111111111111,
              "#46039f"
             ],
             [
              0.2222222222222222,
              "#7201a8"
             ],
             [
              0.3333333333333333,
              "#9c179e"
             ],
             [
              0.4444444444444444,
              "#bd3786"
             ],
             [
              0.5555555555555556,
              "#d8576b"
             ],
             [
              0.6666666666666666,
              "#ed7953"
             ],
             [
              0.7777777777777778,
              "#fb9f3a"
             ],
             [
              0.8888888888888888,
              "#fdca26"
             ],
             [
              1,
              "#f0f921"
             ]
            ],
            "type": "histogram2dcontour"
           }
          ],
          "mesh3d": [
           {
            "colorbar": {
             "outlinewidth": 0,
             "ticks": ""
            },
            "type": "mesh3d"
           }
          ],
          "parcoords": [
           {
            "line": {
             "colorbar": {
              "outlinewidth": 0,
              "ticks": ""
             }
            },
            "type": "parcoords"
           }
          ],
          "pie": [
           {
            "automargin": true,
            "type": "pie"
           }
          ],
          "scatter": [
           {
            "fillpattern": {
             "fillmode": "overlay",
             "size": 10,
             "solidity": 0.2
            },
            "type": "scatter"
           }
          ],
          "scatter3d": [
           {
            "line": {
             "colorbar": {
              "outlinewidth": 0,
              "ticks": ""
             }
            },
            "marker": {
             "colorbar": {
              "outlinewidth": 0,
              "ticks": ""
             }
            },
            "type": "scatter3d"
           }
          ],
          "scattercarpet": [
           {
            "marker": {
             "colorbar": {
              "outlinewidth": 0,
              "ticks": ""
             }
            },
            "type": "scattercarpet"
           }
          ],
          "scattergeo": [
           {
            "marker": {
             "colorbar": {
              "outlinewidth": 0,
              "ticks": ""
             }
            },
            "type": "scattergeo"
           }
          ],
          "scattergl": [
           {
            "marker": {
             "colorbar": {
              "outlinewidth": 0,
              "ticks": ""
             }
            },
            "type": "scattergl"
           }
          ],
          "scattermap": [
           {
            "marker": {
             "colorbar": {
              "outlinewidth": 0,
              "ticks": ""
             }
            },
            "type": "scattermap"
           }
          ],
          "scattermapbox": [
           {
            "marker": {
             "colorbar": {
              "outlinewidth": 0,
              "ticks": ""
             }
            },
            "type": "scattermapbox"
           }
          ],
          "scatterpolar": [
           {
            "marker": {
             "colorbar": {
              "outlinewidth": 0,
              "ticks": ""
             }
            },
            "type": "scatterpolar"
           }
          ],
          "scatterpolargl": [
           {
            "marker": {
             "colorbar": {
              "outlinewidth": 0,
              "ticks": ""
             }
            },
            "type": "scatterpolargl"
           }
          ],
          "scatterternary": [
           {
            "marker": {
             "colorbar": {
              "outlinewidth": 0,
              "ticks": ""
             }
            },
            "type": "scatterternary"
           }
          ],
          "surface": [
           {
            "colorbar": {
             "outlinewidth": 0,
             "ticks": ""
            },
            "colorscale": [
             [
              0,
              "#0d0887"
             ],
             [
              0.1111111111111111,
              "#46039f"
             ],
             [
              0.2222222222222222,
              "#7201a8"
             ],
             [
              0.3333333333333333,
              "#9c179e"
             ],
             [
              0.4444444444444444,
              "#bd3786"
             ],
             [
              0.5555555555555556,
              "#d8576b"
             ],
             [
              0.6666666666666666,
              "#ed7953"
             ],
             [
              0.7777777777777778,
              "#fb9f3a"
             ],
             [
              0.8888888888888888,
              "#fdca26"
             ],
             [
              1,
              "#f0f921"
             ]
            ],
            "type": "surface"
           }
          ],
          "table": [
           {
            "cells": {
             "fill": {
              "color": "#EBF0F8"
             },
             "line": {
              "color": "white"
             }
            },
            "header": {
             "fill": {
              "color": "#C8D4E3"
             },
             "line": {
              "color": "white"
             }
            },
            "type": "table"
           }
          ]
         },
         "layout": {
          "annotationdefaults": {
           "arrowcolor": "#2a3f5f",
           "arrowhead": 0,
           "arrowwidth": 1
          },
          "autotypenumbers": "strict",
          "coloraxis": {
           "colorbar": {
            "outlinewidth": 0,
            "ticks": ""
           }
          },
          "colorscale": {
           "diverging": [
            [
             0,
             "#8e0152"
            ],
            [
             0.1,
             "#c51b7d"
            ],
            [
             0.2,
             "#de77ae"
            ],
            [
             0.3,
             "#f1b6da"
            ],
            [
             0.4,
             "#fde0ef"
            ],
            [
             0.5,
             "#f7f7f7"
            ],
            [
             0.6,
             "#e6f5d0"
            ],
            [
             0.7,
             "#b8e186"
            ],
            [
             0.8,
             "#7fbc41"
            ],
            [
             0.9,
             "#4d9221"
            ],
            [
             1,
             "#276419"
            ]
           ],
           "sequential": [
            [
             0,
             "#0d0887"
            ],
            [
             0.1111111111111111,
             "#46039f"
            ],
            [
             0.2222222222222222,
             "#7201a8"
            ],
            [
             0.3333333333333333,
             "#9c179e"
            ],
            [
             0.4444444444444444,
             "#bd3786"
            ],
            [
             0.5555555555555556,
             "#d8576b"
            ],
            [
             0.6666666666666666,
             "#ed7953"
            ],
            [
             0.7777777777777778,
             "#fb9f3a"
            ],
            [
             0.8888888888888888,
             "#fdca26"
            ],
            [
             1,
             "#f0f921"
            ]
           ],
           "sequentialminus": [
            [
             0,
             "#0d0887"
            ],
            [
             0.1111111111111111,
             "#46039f"
            ],
            [
             0.2222222222222222,
             "#7201a8"
            ],
            [
             0.3333333333333333,
             "#9c179e"
            ],
            [
             0.4444444444444444,
             "#bd3786"
            ],
            [
             0.5555555555555556,
             "#d8576b"
            ],
            [
             0.6666666666666666,
             "#ed7953"
            ],
            [
             0.7777777777777778,
             "#fb9f3a"
            ],
            [
             0.8888888888888888,
             "#fdca26"
            ],
            [
             1,
             "#f0f921"
            ]
           ]
          },
          "colorway": [
           "#636efa",
           "#EF553B",
           "#00cc96",
           "#ab63fa",
           "#FFA15A",
           "#19d3f3",
           "#FF6692",
           "#B6E880",
           "#FF97FF",
           "#FECB52"
          ],
          "font": {
           "color": "#2a3f5f"
          },
          "geo": {
           "bgcolor": "white",
           "lakecolor": "white",
           "landcolor": "#E5ECF6",
           "showlakes": true,
           "showland": true,
           "subunitcolor": "white"
          },
          "hoverlabel": {
           "align": "left"
          },
          "hovermode": "closest",
          "mapbox": {
           "style": "light"
          },
          "paper_bgcolor": "white",
          "plot_bgcolor": "#E5ECF6",
          "polar": {
           "angularaxis": {
            "gridcolor": "white",
            "linecolor": "white",
            "ticks": ""
           },
           "bgcolor": "#E5ECF6",
           "radialaxis": {
            "gridcolor": "white",
            "linecolor": "white",
            "ticks": ""
           }
          },
          "scene": {
           "xaxis": {
            "backgroundcolor": "#E5ECF6",
            "gridcolor": "white",
            "gridwidth": 2,
            "linecolor": "white",
            "showbackground": true,
            "ticks": "",
            "zerolinecolor": "white"
           },
           "yaxis": {
            "backgroundcolor": "#E5ECF6",
            "gridcolor": "white",
            "gridwidth": 2,
            "linecolor": "white",
            "showbackground": true,
            "ticks": "",
            "zerolinecolor": "white"
           },
           "zaxis": {
            "backgroundcolor": "#E5ECF6",
            "gridcolor": "white",
            "gridwidth": 2,
            "linecolor": "white",
            "showbackground": true,
            "ticks": "",
            "zerolinecolor": "white"
           }
          },
          "shapedefaults": {
           "line": {
            "color": "#2a3f5f"
           }
          },
          "ternary": {
           "aaxis": {
            "gridcolor": "white",
            "linecolor": "white",
            "ticks": ""
           },
           "baxis": {
            "gridcolor": "white",
            "linecolor": "white",
            "ticks": ""
           },
           "bgcolor": "#E5ECF6",
           "caxis": {
            "gridcolor": "white",
            "linecolor": "white",
            "ticks": ""
           }
          },
          "title": {
           "x": 0.05
          },
          "xaxis": {
           "automargin": true,
           "gridcolor": "white",
           "linecolor": "white",
           "ticks": "",
           "title": {
            "standoff": 15
           },
           "zerolinecolor": "white",
           "zerolinewidth": 2
          },
          "yaxis": {
           "automargin": true,
           "gridcolor": "white",
           "linecolor": "white",
           "ticks": "",
           "title": {
            "standoff": 15
           },
           "zerolinecolor": "white",
           "zerolinewidth": 2
          }
         }
        },
        "xaxis": {
         "anchor": "y",
         "domain": [
          0,
          1
         ],
         "title": {
          "text": "four_g"
         }
        },
        "yaxis": {
         "anchor": "x",
         "domain": [
          0,
          1
         ],
         "title": {
          "text": "count"
         }
        }
       }
      }
     },
     "metadata": {},
     "output_type": "display_data"
    }
   ],
   "source": [
    "px.histogram(df , x = 'four_g' , color = 'price_range')"
   ]
  },
  {
   "cell_type": "code",
   "execution_count": 24,
   "id": "de8752e1",
   "metadata": {},
   "outputs": [
    {
     "data": {
      "application/vnd.plotly.v1+json": {
       "config": {
        "plotlyServerURL": "https://plot.ly"
       },
       "data": [
        {
         "branchvalues": "total",
         "domain": {
          "x": [
           0,
           1
          ],
          "y": [
           0,
           1
          ]
         },
         "hovertemplate": "labels=%{label}<br>count=%{value}<br>parent=%{parent}<br>id=%{id}<extra></extra>",
         "ids": [
          "1/7",
          "2/53",
          "2/41",
          "2/10",
          "1/44",
          "1/22",
          "3/10",
          "0/24",
          "0/53",
          "0/9",
          "3/9",
          "3/33",
          "1/33",
          "2/17",
          "0/52",
          "0/46",
          "3/13",
          "3/23",
          "1/49",
          "1/19",
          "3/39",
          "1/47",
          "0/38",
          "1/8",
          "2/57",
          "3/51",
          "3/41",
          "2/52",
          "0/21",
          "3/5",
          "0/33",
          "1/41",
          "0/22",
          "1/60",
          "1/61",
          "3/6",
          "2/11",
          "2/50",
          "2/44",
          "1/5",
          "1/34",
          "0/20",
          "1/27",
          "3/42",
          "1/40",
          "0/57",
          "3/64",
          "2/14",
          "2/63",
          "3/43",
          "1/16",
          "2/51",
          "2/46",
          "0/60",
          "3/61",
          "2/48",
          "1/12",
          "0/63",
          "0/50",
          "2/55",
          "2/9",
          "3/44",
          "3/36",
          "3/30",
          "0/10",
          "3/45",
          "2/22",
          "1/42",
          "3/16",
          "1/29",
          "3/58",
          "2/64",
          "1/57",
          "1/25",
          "0/42",
          "2/3",
          "2/33",
          "3/57",
          "2/54",
          "0/15",
          "0/14",
          "3/7",
          "0/23",
          "2/60",
          "0/37",
          "1/31",
          "0/55",
          "0/8",
          "1/39",
          "3/46",
          "1/43",
          "1/32",
          "0/4",
          "2/7",
          "3/22",
          "3/18",
          "1/15",
          "3/52",
          "2/25",
          "2/58",
          "3/31",
          "0/19",
          "3/54",
          "1/2",
          "1/30",
          "2/36",
          "2/16",
          "0/3",
          "2/31",
          "0/64",
          "3/40",
          "2/47",
          "1/56",
          "3/56",
          "2/32",
          "0/45",
          "1/46",
          "0/6",
          "3/29",
          "2/37",
          "0/26",
          "3/32",
          "2/42",
          "0/29",
          "1/63",
          "0/30",
          "0/41",
          "2/38",
          "3/20",
          "2/5",
          "1/6",
          "2/20",
          "2/23",
          "1/26",
          "1/36",
          "1/20",
          "0/16",
          "2/30",
          "2/61",
          "2/8",
          "3/35",
          "2/39",
          "3/53",
          "0/49",
          "1/17",
          "1/24",
          "0/40",
          "3/38",
          "3/17",
          "3/49",
          "3/24",
          "0/31",
          "2/6",
          "0/11",
          "1/38",
          "2/49",
          "3/37",
          "3/50",
          "1/48",
          "0/7",
          "0/51",
          "1/59",
          "0/56",
          "0/28",
          "1/28",
          "1/3",
          "2/62",
          "0/2",
          "0/39",
          "1/54",
          "2/56",
          "3/63",
          "3/48",
          "0/34",
          "3/12",
          "1/52",
          "1/37",
          "2/40",
          "1/64",
          "0/5",
          "0/18",
          "0/25",
          "2/21",
          "2/27",
          "1/13",
          "1/9",
          "2/18",
          "3/47",
          "0/48",
          "3/2",
          "2/19",
          "0/62",
          "1/21",
          "0/36",
          "3/34",
          "3/55",
          "0/58",
          "1/14",
          "2/59",
          "1/23",
          "2/12",
          "3/26",
          "3/19",
          "2/13",
          "0/17",
          "2/34",
          "3/25",
          "2/43",
          "0/47",
          "3/3",
          "1/11",
          "1/51",
          "1/35",
          "0/44",
          "0/13",
          "1/45",
          "2/2",
          "3/15",
          "0/54",
          "0/32",
          "2/15",
          "3/14",
          "3/27",
          "1/50",
          "0/43",
          "3/8",
          "2/35",
          "0/12",
          "0/35",
          "1/4",
          "3/11",
          "1/62",
          "3/62",
          "2/28",
          "3/21",
          "1/18",
          "2/4",
          "1/10",
          "0/61",
          "3/4",
          "0/27",
          "2/26",
          "1/53",
          "1/58",
          "1/55",
          "3/59",
          "3/28",
          "2/24",
          "2/29",
          "3/60",
          "0/59",
          "2/45",
          "1",
          "2",
          "3",
          "0"
         ],
         "labels": [
          "7",
          "53",
          "41",
          "10",
          "44",
          "22",
          "10",
          "24",
          "53",
          "9",
          "9",
          "33",
          "33",
          "17",
          "52",
          "46",
          "13",
          "23",
          "49",
          "19",
          "39",
          "47",
          "38",
          "8",
          "57",
          "51",
          "41",
          "52",
          "21",
          "5",
          "33",
          "41",
          "22",
          "60",
          "61",
          "6",
          "11",
          "50",
          "44",
          "5",
          "34",
          "20",
          "27",
          "42",
          "40",
          "57",
          "64",
          "14",
          "63",
          "43",
          "16",
          "51",
          "46",
          "60",
          "61",
          "48",
          "12",
          "63",
          "50",
          "55",
          "9",
          "44",
          "36",
          "30",
          "10",
          "45",
          "22",
          "42",
          "16",
          "29",
          "58",
          "64",
          "57",
          "25",
          "42",
          "3",
          "33",
          "57",
          "54",
          "15",
          "14",
          "7",
          "23",
          "60",
          "37",
          "31",
          "55",
          "8",
          "39",
          "46",
          "43",
          "32",
          "4",
          "7",
          "22",
          "18",
          "15",
          "52",
          "25",
          "58",
          "31",
          "19",
          "54",
          "2",
          "30",
          "36",
          "16",
          "3",
          "31",
          "64",
          "40",
          "47",
          "56",
          "56",
          "32",
          "45",
          "46",
          "6",
          "29",
          "37",
          "26",
          "32",
          "42",
          "29",
          "63",
          "30",
          "41",
          "38",
          "20",
          "5",
          "6",
          "20",
          "23",
          "26",
          "36",
          "20",
          "16",
          "30",
          "61",
          "8",
          "35",
          "39",
          "53",
          "49",
          "17",
          "24",
          "40",
          "38",
          "17",
          "49",
          "24",
          "31",
          "6",
          "11",
          "38",
          "49",
          "37",
          "50",
          "48",
          "7",
          "51",
          "59",
          "56",
          "28",
          "28",
          "3",
          "62",
          "2",
          "39",
          "54",
          "56",
          "63",
          "48",
          "34",
          "12",
          "52",
          "37",
          "40",
          "64",
          "5",
          "18",
          "25",
          "21",
          "27",
          "13",
          "9",
          "18",
          "47",
          "48",
          "2",
          "19",
          "62",
          "21",
          "36",
          "34",
          "55",
          "58",
          "14",
          "59",
          "23",
          "12",
          "26",
          "19",
          "13",
          "17",
          "34",
          "25",
          "43",
          "47",
          "3",
          "11",
          "51",
          "35",
          "44",
          "13",
          "45",
          "2",
          "15",
          "54",
          "32",
          "15",
          "14",
          "27",
          "50",
          "43",
          "8",
          "35",
          "12",
          "35",
          "4",
          "11",
          "62",
          "62",
          "28",
          "21",
          "18",
          "4",
          "10",
          "61",
          "4",
          "27",
          "26",
          "53",
          "58",
          "55",
          "59",
          "28",
          "24",
          "29",
          "60",
          "59",
          "45",
          "1",
          "2",
          "3",
          "0"
         ],
         "name": "",
         "parents": [
          "1",
          "2",
          "2",
          "2",
          "1",
          "1",
          "3",
          "0",
          "0",
          "0",
          "3",
          "3",
          "1",
          "2",
          "0",
          "0",
          "3",
          "3",
          "1",
          "1",
          "3",
          "1",
          "0",
          "1",
          "2",
          "3",
          "3",
          "2",
          "0",
          "3",
          "0",
          "1",
          "0",
          "1",
          "1",
          "3",
          "2",
          "2",
          "2",
          "1",
          "1",
          "0",
          "1",
          "3",
          "1",
          "0",
          "3",
          "2",
          "2",
          "3",
          "1",
          "2",
          "2",
          "0",
          "3",
          "2",
          "1",
          "0",
          "0",
          "2",
          "2",
          "3",
          "3",
          "3",
          "0",
          "3",
          "2",
          "1",
          "3",
          "1",
          "3",
          "2",
          "1",
          "1",
          "0",
          "2",
          "2",
          "3",
          "2",
          "0",
          "0",
          "3",
          "0",
          "2",
          "0",
          "1",
          "0",
          "0",
          "1",
          "3",
          "1",
          "1",
          "0",
          "2",
          "3",
          "3",
          "1",
          "3",
          "2",
          "2",
          "3",
          "0",
          "3",
          "1",
          "1",
          "2",
          "2",
          "0",
          "2",
          "0",
          "3",
          "2",
          "1",
          "3",
          "2",
          "0",
          "1",
          "0",
          "3",
          "2",
          "0",
          "3",
          "2",
          "0",
          "1",
          "0",
          "0",
          "2",
          "3",
          "2",
          "1",
          "2",
          "2",
          "1",
          "1",
          "1",
          "0",
          "2",
          "2",
          "2",
          "3",
          "2",
          "3",
          "0",
          "1",
          "1",
          "0",
          "3",
          "3",
          "3",
          "3",
          "0",
          "2",
          "0",
          "1",
          "2",
          "3",
          "3",
          "1",
          "0",
          "0",
          "1",
          "0",
          "0",
          "1",
          "1",
          "2",
          "0",
          "0",
          "1",
          "2",
          "3",
          "3",
          "0",
          "3",
          "1",
          "1",
          "2",
          "1",
          "0",
          "0",
          "0",
          "2",
          "2",
          "1",
          "1",
          "2",
          "3",
          "0",
          "3",
          "2",
          "0",
          "1",
          "0",
          "3",
          "3",
          "0",
          "1",
          "2",
          "1",
          "2",
          "3",
          "3",
          "2",
          "0",
          "2",
          "3",
          "2",
          "0",
          "3",
          "1",
          "1",
          "1",
          "0",
          "0",
          "1",
          "2",
          "3",
          "0",
          "0",
          "2",
          "3",
          "3",
          "1",
          "0",
          "3",
          "2",
          "0",
          "0",
          "1",
          "3",
          "1",
          "3",
          "2",
          "3",
          "1",
          "2",
          "1",
          "0",
          "3",
          "0",
          "2",
          "1",
          "1",
          "1",
          "3",
          "3",
          "2",
          "2",
          "3",
          "0",
          "2",
          "",
          "",
          "",
          ""
         ],
         "type": "sunburst",
         "values": {
          "bdata": "DgAKAAoADAALAAcACAAHAAcABQANAAkABwAKAAoACQAIAAoABwAKAAgACgAHAAcABgAIAAUACQALAAoACwANAAMABwAHAAoACAAHAAgACgAFAAsADQALAAcADAALAAsABwAMAAkACwAHAAwADgAKAA0ABgAKAAcACgAQAAcABgAIAA0ACQAKAA8ABQALAAYADgAIAAsABgAJAAoACQAEABAABwAJAAUAAwAIAAgADAAJAAgAAwAFAAcACgAFAAoABwAHAAYADAAJAAwABgAKAAkABQAOAAgABwADAAkABwACAAMABgAIAAoACQAGAAcACQAJAAgACgAIAAwABwAEAAgABwAGAAYACgAHAAkACQAHAAwABAAMAAoABwAGAAYACQAEAAgABQAGAAsADgAFAAwACwAHAAgABgAJAAQACQAEAAMACwAGAAoABwAFAAsABgAGAAsACQAHAAcACAAJAAgACAALAAkACQAIAAkADgAEAAcABQAEAAQABQAGAAUACwAGAAwABwAKAAoAAwAHAAYACQAGAAkABAAIAAIABgAFAAQACAAIAAwABAAKAAsAEAADAAsACwANAAgABwAJAAMABgAFAAkABgAGAAcABgAFAAcABQAEAAUACAACAAIADQAEAAUAAwAHAAkAAwAFAAMAAwADAAEA9AH0AfQB9AE=",
          "dtype": "i2"
         }
        }
       ],
       "layout": {
        "legend": {
         "tracegroupgap": 0
        },
        "margin": {
         "t": 60
        },
        "template": {
         "data": {
          "bar": [
           {
            "error_x": {
             "color": "#2a3f5f"
            },
            "error_y": {
             "color": "#2a3f5f"
            },
            "marker": {
             "line": {
              "color": "#E5ECF6",
              "width": 0.5
             },
             "pattern": {
              "fillmode": "overlay",
              "size": 10,
              "solidity": 0.2
             }
            },
            "type": "bar"
           }
          ],
          "barpolar": [
           {
            "marker": {
             "line": {
              "color": "#E5ECF6",
              "width": 0.5
             },
             "pattern": {
              "fillmode": "overlay",
              "size": 10,
              "solidity": 0.2
             }
            },
            "type": "barpolar"
           }
          ],
          "carpet": [
           {
            "aaxis": {
             "endlinecolor": "#2a3f5f",
             "gridcolor": "white",
             "linecolor": "white",
             "minorgridcolor": "white",
             "startlinecolor": "#2a3f5f"
            },
            "baxis": {
             "endlinecolor": "#2a3f5f",
             "gridcolor": "white",
             "linecolor": "white",
             "minorgridcolor": "white",
             "startlinecolor": "#2a3f5f"
            },
            "type": "carpet"
           }
          ],
          "choropleth": [
           {
            "colorbar": {
             "outlinewidth": 0,
             "ticks": ""
            },
            "type": "choropleth"
           }
          ],
          "contour": [
           {
            "colorbar": {
             "outlinewidth": 0,
             "ticks": ""
            },
            "colorscale": [
             [
              0,
              "#0d0887"
             ],
             [
              0.1111111111111111,
              "#46039f"
             ],
             [
              0.2222222222222222,
              "#7201a8"
             ],
             [
              0.3333333333333333,
              "#9c179e"
             ],
             [
              0.4444444444444444,
              "#bd3786"
             ],
             [
              0.5555555555555556,
              "#d8576b"
             ],
             [
              0.6666666666666666,
              "#ed7953"
             ],
             [
              0.7777777777777778,
              "#fb9f3a"
             ],
             [
              0.8888888888888888,
              "#fdca26"
             ],
             [
              1,
              "#f0f921"
             ]
            ],
            "type": "contour"
           }
          ],
          "contourcarpet": [
           {
            "colorbar": {
             "outlinewidth": 0,
             "ticks": ""
            },
            "type": "contourcarpet"
           }
          ],
          "heatmap": [
           {
            "colorbar": {
             "outlinewidth": 0,
             "ticks": ""
            },
            "colorscale": [
             [
              0,
              "#0d0887"
             ],
             [
              0.1111111111111111,
              "#46039f"
             ],
             [
              0.2222222222222222,
              "#7201a8"
             ],
             [
              0.3333333333333333,
              "#9c179e"
             ],
             [
              0.4444444444444444,
              "#bd3786"
             ],
             [
              0.5555555555555556,
              "#d8576b"
             ],
             [
              0.6666666666666666,
              "#ed7953"
             ],
             [
              0.7777777777777778,
              "#fb9f3a"
             ],
             [
              0.8888888888888888,
              "#fdca26"
             ],
             [
              1,
              "#f0f921"
             ]
            ],
            "type": "heatmap"
           }
          ],
          "histogram": [
           {
            "marker": {
             "pattern": {
              "fillmode": "overlay",
              "size": 10,
              "solidity": 0.2
             }
            },
            "type": "histogram"
           }
          ],
          "histogram2d": [
           {
            "colorbar": {
             "outlinewidth": 0,
             "ticks": ""
            },
            "colorscale": [
             [
              0,
              "#0d0887"
             ],
             [
              0.1111111111111111,
              "#46039f"
             ],
             [
              0.2222222222222222,
              "#7201a8"
             ],
             [
              0.3333333333333333,
              "#9c179e"
             ],
             [
              0.4444444444444444,
              "#bd3786"
             ],
             [
              0.5555555555555556,
              "#d8576b"
             ],
             [
              0.6666666666666666,
              "#ed7953"
             ],
             [
              0.7777777777777778,
              "#fb9f3a"
             ],
             [
              0.8888888888888888,
              "#fdca26"
             ],
             [
              1,
              "#f0f921"
             ]
            ],
            "type": "histogram2d"
           }
          ],
          "histogram2dcontour": [
           {
            "colorbar": {
             "outlinewidth": 0,
             "ticks": ""
            },
            "colorscale": [
             [
              0,
              "#0d0887"
             ],
             [
              0.1111111111111111,
              "#46039f"
             ],
             [
              0.2222222222222222,
              "#7201a8"
             ],
             [
              0.3333333333333333,
              "#9c179e"
             ],
             [
              0.4444444444444444,
              "#bd3786"
             ],
             [
              0.5555555555555556,
              "#d8576b"
             ],
             [
              0.6666666666666666,
              "#ed7953"
             ],
             [
              0.7777777777777778,
              "#fb9f3a"
             ],
             [
              0.8888888888888888,
              "#fdca26"
             ],
             [
              1,
              "#f0f921"
             ]
            ],
            "type": "histogram2dcontour"
           }
          ],
          "mesh3d": [
           {
            "colorbar": {
             "outlinewidth": 0,
             "ticks": ""
            },
            "type": "mesh3d"
           }
          ],
          "parcoords": [
           {
            "line": {
             "colorbar": {
              "outlinewidth": 0,
              "ticks": ""
             }
            },
            "type": "parcoords"
           }
          ],
          "pie": [
           {
            "automargin": true,
            "type": "pie"
           }
          ],
          "scatter": [
           {
            "fillpattern": {
             "fillmode": "overlay",
             "size": 10,
             "solidity": 0.2
            },
            "type": "scatter"
           }
          ],
          "scatter3d": [
           {
            "line": {
             "colorbar": {
              "outlinewidth": 0,
              "ticks": ""
             }
            },
            "marker": {
             "colorbar": {
              "outlinewidth": 0,
              "ticks": ""
             }
            },
            "type": "scatter3d"
           }
          ],
          "scattercarpet": [
           {
            "marker": {
             "colorbar": {
              "outlinewidth": 0,
              "ticks": ""
             }
            },
            "type": "scattercarpet"
           }
          ],
          "scattergeo": [
           {
            "marker": {
             "colorbar": {
              "outlinewidth": 0,
              "ticks": ""
             }
            },
            "type": "scattergeo"
           }
          ],
          "scattergl": [
           {
            "marker": {
             "colorbar": {
              "outlinewidth": 0,
              "ticks": ""
             }
            },
            "type": "scattergl"
           }
          ],
          "scattermap": [
           {
            "marker": {
             "colorbar": {
              "outlinewidth": 0,
              "ticks": ""
             }
            },
            "type": "scattermap"
           }
          ],
          "scattermapbox": [
           {
            "marker": {
             "colorbar": {
              "outlinewidth": 0,
              "ticks": ""
             }
            },
            "type": "scattermapbox"
           }
          ],
          "scatterpolar": [
           {
            "marker": {
             "colorbar": {
              "outlinewidth": 0,
              "ticks": ""
             }
            },
            "type": "scatterpolar"
           }
          ],
          "scatterpolargl": [
           {
            "marker": {
             "colorbar": {
              "outlinewidth": 0,
              "ticks": ""
             }
            },
            "type": "scatterpolargl"
           }
          ],
          "scatterternary": [
           {
            "marker": {
             "colorbar": {
              "outlinewidth": 0,
              "ticks": ""
             }
            },
            "type": "scatterternary"
           }
          ],
          "surface": [
           {
            "colorbar": {
             "outlinewidth": 0,
             "ticks": ""
            },
            "colorscale": [
             [
              0,
              "#0d0887"
             ],
             [
              0.1111111111111111,
              "#46039f"
             ],
             [
              0.2222222222222222,
              "#7201a8"
             ],
             [
              0.3333333333333333,
              "#9c179e"
             ],
             [
              0.4444444444444444,
              "#bd3786"
             ],
             [
              0.5555555555555556,
              "#d8576b"
             ],
             [
              0.6666666666666666,
              "#ed7953"
             ],
             [
              0.7777777777777778,
              "#fb9f3a"
             ],
             [
              0.8888888888888888,
              "#fdca26"
             ],
             [
              1,
              "#f0f921"
             ]
            ],
            "type": "surface"
           }
          ],
          "table": [
           {
            "cells": {
             "fill": {
              "color": "#EBF0F8"
             },
             "line": {
              "color": "white"
             }
            },
            "header": {
             "fill": {
              "color": "#C8D4E3"
             },
             "line": {
              "color": "white"
             }
            },
            "type": "table"
           }
          ]
         },
         "layout": {
          "annotationdefaults": {
           "arrowcolor": "#2a3f5f",
           "arrowhead": 0,
           "arrowwidth": 1
          },
          "autotypenumbers": "strict",
          "coloraxis": {
           "colorbar": {
            "outlinewidth": 0,
            "ticks": ""
           }
          },
          "colorscale": {
           "diverging": [
            [
             0,
             "#8e0152"
            ],
            [
             0.1,
             "#c51b7d"
            ],
            [
             0.2,
             "#de77ae"
            ],
            [
             0.3,
             "#f1b6da"
            ],
            [
             0.4,
             "#fde0ef"
            ],
            [
             0.5,
             "#f7f7f7"
            ],
            [
             0.6,
             "#e6f5d0"
            ],
            [
             0.7,
             "#b8e186"
            ],
            [
             0.8,
             "#7fbc41"
            ],
            [
             0.9,
             "#4d9221"
            ],
            [
             1,
             "#276419"
            ]
           ],
           "sequential": [
            [
             0,
             "#0d0887"
            ],
            [
             0.1111111111111111,
             "#46039f"
            ],
            [
             0.2222222222222222,
             "#7201a8"
            ],
            [
             0.3333333333333333,
             "#9c179e"
            ],
            [
             0.4444444444444444,
             "#bd3786"
            ],
            [
             0.5555555555555556,
             "#d8576b"
            ],
            [
             0.6666666666666666,
             "#ed7953"
            ],
            [
             0.7777777777777778,
             "#fb9f3a"
            ],
            [
             0.8888888888888888,
             "#fdca26"
            ],
            [
             1,
             "#f0f921"
            ]
           ],
           "sequentialminus": [
            [
             0,
             "#0d0887"
            ],
            [
             0.1111111111111111,
             "#46039f"
            ],
            [
             0.2222222222222222,
             "#7201a8"
            ],
            [
             0.3333333333333333,
             "#9c179e"
            ],
            [
             0.4444444444444444,
             "#bd3786"
            ],
            [
             0.5555555555555556,
             "#d8576b"
            ],
            [
             0.6666666666666666,
             "#ed7953"
            ],
            [
             0.7777777777777778,
             "#fb9f3a"
            ],
            [
             0.8888888888888888,
             "#fdca26"
            ],
            [
             1,
             "#f0f921"
            ]
           ]
          },
          "colorway": [
           "#636efa",
           "#EF553B",
           "#00cc96",
           "#ab63fa",
           "#FFA15A",
           "#19d3f3",
           "#FF6692",
           "#B6E880",
           "#FF97FF",
           "#FECB52"
          ],
          "font": {
           "color": "#2a3f5f"
          },
          "geo": {
           "bgcolor": "white",
           "lakecolor": "white",
           "landcolor": "#E5ECF6",
           "showlakes": true,
           "showland": true,
           "subunitcolor": "white"
          },
          "hoverlabel": {
           "align": "left"
          },
          "hovermode": "closest",
          "mapbox": {
           "style": "light"
          },
          "paper_bgcolor": "white",
          "plot_bgcolor": "#E5ECF6",
          "polar": {
           "angularaxis": {
            "gridcolor": "white",
            "linecolor": "white",
            "ticks": ""
           },
           "bgcolor": "#E5ECF6",
           "radialaxis": {
            "gridcolor": "white",
            "linecolor": "white",
            "ticks": ""
           }
          },
          "scene": {
           "xaxis": {
            "backgroundcolor": "#E5ECF6",
            "gridcolor": "white",
            "gridwidth": 2,
            "linecolor": "white",
            "showbackground": true,
            "ticks": "",
            "zerolinecolor": "white"
           },
           "yaxis": {
            "backgroundcolor": "#E5ECF6",
            "gridcolor": "white",
            "gridwidth": 2,
            "linecolor": "white",
            "showbackground": true,
            "ticks": "",
            "zerolinecolor": "white"
           },
           "zaxis": {
            "backgroundcolor": "#E5ECF6",
            "gridcolor": "white",
            "gridwidth": 2,
            "linecolor": "white",
            "showbackground": true,
            "ticks": "",
            "zerolinecolor": "white"
           }
          },
          "shapedefaults": {
           "line": {
            "color": "#2a3f5f"
           }
          },
          "ternary": {
           "aaxis": {
            "gridcolor": "white",
            "linecolor": "white",
            "ticks": ""
           },
           "baxis": {
            "gridcolor": "white",
            "linecolor": "white",
            "ticks": ""
           },
           "bgcolor": "#E5ECF6",
           "caxis": {
            "gridcolor": "white",
            "linecolor": "white",
            "ticks": ""
           }
          },
          "title": {
           "x": 0.05
          },
          "xaxis": {
           "automargin": true,
           "gridcolor": "white",
           "linecolor": "white",
           "ticks": "",
           "title": {
            "standoff": 15
           },
           "zerolinecolor": "white",
           "zerolinewidth": 2
          },
          "yaxis": {
           "automargin": true,
           "gridcolor": "white",
           "linecolor": "white",
           "ticks": "",
           "title": {
            "standoff": 15
           },
           "zerolinecolor": "white",
           "zerolinewidth": 2
          }
         }
        }
       }
      }
     },
     "metadata": {},
     "output_type": "display_data"
    }
   ],
   "source": [
    "px.sunburst(df , path = ['price_range' , 'int_memory'])"
   ]
  },
  {
   "cell_type": "code",
   "execution_count": 25,
   "id": "bb737b7a",
   "metadata": {},
   "outputs": [
    {
     "data": {
      "application/vnd.plotly.v1+json": {
       "config": {
        "plotlyServerURL": "https://plot.ly"
       },
       "data": [
        {
         "branchvalues": "total",
         "domain": {
          "x": [
           0,
           1
          ],
          "y": [
           0,
           1
          ]
         },
         "hovertemplate": "labels=%{label}<br>count=%{value}<br>parent=%{parent}<br>id=%{id}<extra></extra>",
         "ids": [
          "1/0.6",
          "2/0.7",
          "2/0.9",
          "2/0.8",
          "1/0.7",
          "3/0.8",
          "0/0.8",
          "0/0.7",
          "0/0.1",
          "3/0.1",
          "3/0.5",
          "2/1.0",
          "1/1.0",
          "3/1.0",
          "1/0.3",
          "1/0.4",
          "2/0.6",
          "3/0.3",
          "2/0.3",
          "0/0.4",
          "3/0.2",
          "0/1.0",
          "1/0.9",
          "3/0.6",
          "1/0.2",
          "1/0.1",
          "1/0.8",
          "0/0.2",
          "2/0.5",
          "0/0.5",
          "3/0.4",
          "1/0.5",
          "0/0.6",
          "3/0.7",
          "3/0.9",
          "2/0.2",
          "2/0.1",
          "0/0.9",
          "0/0.3",
          "2/0.4",
          "1",
          "2",
          "3",
          "0"
         ],
         "labels": [
          "0.6",
          "0.7",
          "0.9",
          "0.8",
          "0.7",
          "0.8",
          "0.8",
          "0.7",
          "0.1",
          "0.1",
          "0.5",
          "1.0",
          "1.0",
          "1.0",
          "0.3",
          "0.4",
          "0.6",
          "0.3",
          "0.3",
          "0.4",
          "0.2",
          "1.0",
          "0.9",
          "0.6",
          "0.2",
          "0.1",
          "0.8",
          "0.2",
          "0.5",
          "0.5",
          "0.4",
          "0.5",
          "0.6",
          "0.7",
          "0.9",
          "0.2",
          "0.1",
          "0.9",
          "0.3",
          "0.4",
          "1",
          "2",
          "3",
          "0"
         ],
         "name": "",
         "parents": [
          "1",
          "2",
          "2",
          "2",
          "1",
          "3",
          "0",
          "0",
          "0",
          "3",
          "3",
          "2",
          "1",
          "3",
          "1",
          "1",
          "2",
          "3",
          "2",
          "0",
          "3",
          "0",
          "1",
          "3",
          "1",
          "1",
          "1",
          "0",
          "2",
          "0",
          "3",
          "1",
          "0",
          "3",
          "3",
          "2",
          "2",
          "0",
          "0",
          "2",
          "",
          "",
          "",
          ""
         ],
         "type": "sunburst",
         "values": {
          "bdata": "NQAzACkAMwAuADgAMQA2AFcAWgA0ABoAJAAYAC4AJgAzACUAOAAqADEAFAAxACwAPQA9ADQAMAAuADEALwA6ACYAMQA0ADcAUgA1ADwAKQD0AfQB9AH0AQ==",
          "dtype": "i2"
         }
        }
       ],
       "layout": {
        "legend": {
         "tracegroupgap": 0
        },
        "margin": {
         "t": 60
        },
        "template": {
         "data": {
          "bar": [
           {
            "error_x": {
             "color": "#2a3f5f"
            },
            "error_y": {
             "color": "#2a3f5f"
            },
            "marker": {
             "line": {
              "color": "#E5ECF6",
              "width": 0.5
             },
             "pattern": {
              "fillmode": "overlay",
              "size": 10,
              "solidity": 0.2
             }
            },
            "type": "bar"
           }
          ],
          "barpolar": [
           {
            "marker": {
             "line": {
              "color": "#E5ECF6",
              "width": 0.5
             },
             "pattern": {
              "fillmode": "overlay",
              "size": 10,
              "solidity": 0.2
             }
            },
            "type": "barpolar"
           }
          ],
          "carpet": [
           {
            "aaxis": {
             "endlinecolor": "#2a3f5f",
             "gridcolor": "white",
             "linecolor": "white",
             "minorgridcolor": "white",
             "startlinecolor": "#2a3f5f"
            },
            "baxis": {
             "endlinecolor": "#2a3f5f",
             "gridcolor": "white",
             "linecolor": "white",
             "minorgridcolor": "white",
             "startlinecolor": "#2a3f5f"
            },
            "type": "carpet"
           }
          ],
          "choropleth": [
           {
            "colorbar": {
             "outlinewidth": 0,
             "ticks": ""
            },
            "type": "choropleth"
           }
          ],
          "contour": [
           {
            "colorbar": {
             "outlinewidth": 0,
             "ticks": ""
            },
            "colorscale": [
             [
              0,
              "#0d0887"
             ],
             [
              0.1111111111111111,
              "#46039f"
             ],
             [
              0.2222222222222222,
              "#7201a8"
             ],
             [
              0.3333333333333333,
              "#9c179e"
             ],
             [
              0.4444444444444444,
              "#bd3786"
             ],
             [
              0.5555555555555556,
              "#d8576b"
             ],
             [
              0.6666666666666666,
              "#ed7953"
             ],
             [
              0.7777777777777778,
              "#fb9f3a"
             ],
             [
              0.8888888888888888,
              "#fdca26"
             ],
             [
              1,
              "#f0f921"
             ]
            ],
            "type": "contour"
           }
          ],
          "contourcarpet": [
           {
            "colorbar": {
             "outlinewidth": 0,
             "ticks": ""
            },
            "type": "contourcarpet"
           }
          ],
          "heatmap": [
           {
            "colorbar": {
             "outlinewidth": 0,
             "ticks": ""
            },
            "colorscale": [
             [
              0,
              "#0d0887"
             ],
             [
              0.1111111111111111,
              "#46039f"
             ],
             [
              0.2222222222222222,
              "#7201a8"
             ],
             [
              0.3333333333333333,
              "#9c179e"
             ],
             [
              0.4444444444444444,
              "#bd3786"
             ],
             [
              0.5555555555555556,
              "#d8576b"
             ],
             [
              0.6666666666666666,
              "#ed7953"
             ],
             [
              0.7777777777777778,
              "#fb9f3a"
             ],
             [
              0.8888888888888888,
              "#fdca26"
             ],
             [
              1,
              "#f0f921"
             ]
            ],
            "type": "heatmap"
           }
          ],
          "histogram": [
           {
            "marker": {
             "pattern": {
              "fillmode": "overlay",
              "size": 10,
              "solidity": 0.2
             }
            },
            "type": "histogram"
           }
          ],
          "histogram2d": [
           {
            "colorbar": {
             "outlinewidth": 0,
             "ticks": ""
            },
            "colorscale": [
             [
              0,
              "#0d0887"
             ],
             [
              0.1111111111111111,
              "#46039f"
             ],
             [
              0.2222222222222222,
              "#7201a8"
             ],
             [
              0.3333333333333333,
              "#9c179e"
             ],
             [
              0.4444444444444444,
              "#bd3786"
             ],
             [
              0.5555555555555556,
              "#d8576b"
             ],
             [
              0.6666666666666666,
              "#ed7953"
             ],
             [
              0.7777777777777778,
              "#fb9f3a"
             ],
             [
              0.8888888888888888,
              "#fdca26"
             ],
             [
              1,
              "#f0f921"
             ]
            ],
            "type": "histogram2d"
           }
          ],
          "histogram2dcontour": [
           {
            "colorbar": {
             "outlinewidth": 0,
             "ticks": ""
            },
            "colorscale": [
             [
              0,
              "#0d0887"
             ],
             [
              0.1111111111111111,
              "#46039f"
             ],
             [
              0.2222222222222222,
              "#7201a8"
             ],
             [
              0.3333333333333333,
              "#9c179e"
             ],
             [
              0.4444444444444444,
              "#bd3786"
             ],
             [
              0.5555555555555556,
              "#d8576b"
             ],
             [
              0.6666666666666666,
              "#ed7953"
             ],
             [
              0.7777777777777778,
              "#fb9f3a"
             ],
             [
              0.8888888888888888,
              "#fdca26"
             ],
             [
              1,
              "#f0f921"
             ]
            ],
            "type": "histogram2dcontour"
           }
          ],
          "mesh3d": [
           {
            "colorbar": {
             "outlinewidth": 0,
             "ticks": ""
            },
            "type": "mesh3d"
           }
          ],
          "parcoords": [
           {
            "line": {
             "colorbar": {
              "outlinewidth": 0,
              "ticks": ""
             }
            },
            "type": "parcoords"
           }
          ],
          "pie": [
           {
            "automargin": true,
            "type": "pie"
           }
          ],
          "scatter": [
           {
            "fillpattern": {
             "fillmode": "overlay",
             "size": 10,
             "solidity": 0.2
            },
            "type": "scatter"
           }
          ],
          "scatter3d": [
           {
            "line": {
             "colorbar": {
              "outlinewidth": 0,
              "ticks": ""
             }
            },
            "marker": {
             "colorbar": {
              "outlinewidth": 0,
              "ticks": ""
             }
            },
            "type": "scatter3d"
           }
          ],
          "scattercarpet": [
           {
            "marker": {
             "colorbar": {
              "outlinewidth": 0,
              "ticks": ""
             }
            },
            "type": "scattercarpet"
           }
          ],
          "scattergeo": [
           {
            "marker": {
             "colorbar": {
              "outlinewidth": 0,
              "ticks": ""
             }
            },
            "type": "scattergeo"
           }
          ],
          "scattergl": [
           {
            "marker": {
             "colorbar": {
              "outlinewidth": 0,
              "ticks": ""
             }
            },
            "type": "scattergl"
           }
          ],
          "scattermap": [
           {
            "marker": {
             "colorbar": {
              "outlinewidth": 0,
              "ticks": ""
             }
            },
            "type": "scattermap"
           }
          ],
          "scattermapbox": [
           {
            "marker": {
             "colorbar": {
              "outlinewidth": 0,
              "ticks": ""
             }
            },
            "type": "scattermapbox"
           }
          ],
          "scatterpolar": [
           {
            "marker": {
             "colorbar": {
              "outlinewidth": 0,
              "ticks": ""
             }
            },
            "type": "scatterpolar"
           }
          ],
          "scatterpolargl": [
           {
            "marker": {
             "colorbar": {
              "outlinewidth": 0,
              "ticks": ""
             }
            },
            "type": "scatterpolargl"
           }
          ],
          "scatterternary": [
           {
            "marker": {
             "colorbar": {
              "outlinewidth": 0,
              "ticks": ""
             }
            },
            "type": "scatterternary"
           }
          ],
          "surface": [
           {
            "colorbar": {
             "outlinewidth": 0,
             "ticks": ""
            },
            "colorscale": [
             [
              0,
              "#0d0887"
             ],
             [
              0.1111111111111111,
              "#46039f"
             ],
             [
              0.2222222222222222,
              "#7201a8"
             ],
             [
              0.3333333333333333,
              "#9c179e"
             ],
             [
              0.4444444444444444,
              "#bd3786"
             ],
             [
              0.5555555555555556,
              "#d8576b"
             ],
             [
              0.6666666666666666,
              "#ed7953"
             ],
             [
              0.7777777777777778,
              "#fb9f3a"
             ],
             [
              0.8888888888888888,
              "#fdca26"
             ],
             [
              1,
              "#f0f921"
             ]
            ],
            "type": "surface"
           }
          ],
          "table": [
           {
            "cells": {
             "fill": {
              "color": "#EBF0F8"
             },
             "line": {
              "color": "white"
             }
            },
            "header": {
             "fill": {
              "color": "#C8D4E3"
             },
             "line": {
              "color": "white"
             }
            },
            "type": "table"
           }
          ]
         },
         "layout": {
          "annotationdefaults": {
           "arrowcolor": "#2a3f5f",
           "arrowhead": 0,
           "arrowwidth": 1
          },
          "autotypenumbers": "strict",
          "coloraxis": {
           "colorbar": {
            "outlinewidth": 0,
            "ticks": ""
           }
          },
          "colorscale": {
           "diverging": [
            [
             0,
             "#8e0152"
            ],
            [
             0.1,
             "#c51b7d"
            ],
            [
             0.2,
             "#de77ae"
            ],
            [
             0.3,
             "#f1b6da"
            ],
            [
             0.4,
             "#fde0ef"
            ],
            [
             0.5,
             "#f7f7f7"
            ],
            [
             0.6,
             "#e6f5d0"
            ],
            [
             0.7,
             "#b8e186"
            ],
            [
             0.8,
             "#7fbc41"
            ],
            [
             0.9,
             "#4d9221"
            ],
            [
             1,
             "#276419"
            ]
           ],
           "sequential": [
            [
             0,
             "#0d0887"
            ],
            [
             0.1111111111111111,
             "#46039f"
            ],
            [
             0.2222222222222222,
             "#7201a8"
            ],
            [
             0.3333333333333333,
             "#9c179e"
            ],
            [
             0.4444444444444444,
             "#bd3786"
            ],
            [
             0.5555555555555556,
             "#d8576b"
            ],
            [
             0.6666666666666666,
             "#ed7953"
            ],
            [
             0.7777777777777778,
             "#fb9f3a"
            ],
            [
             0.8888888888888888,
             "#fdca26"
            ],
            [
             1,
             "#f0f921"
            ]
           ],
           "sequentialminus": [
            [
             0,
             "#0d0887"
            ],
            [
             0.1111111111111111,
             "#46039f"
            ],
            [
             0.2222222222222222,
             "#7201a8"
            ],
            [
             0.3333333333333333,
             "#9c179e"
            ],
            [
             0.4444444444444444,
             "#bd3786"
            ],
            [
             0.5555555555555556,
             "#d8576b"
            ],
            [
             0.6666666666666666,
             "#ed7953"
            ],
            [
             0.7777777777777778,
             "#fb9f3a"
            ],
            [
             0.8888888888888888,
             "#fdca26"
            ],
            [
             1,
             "#f0f921"
            ]
           ]
          },
          "colorway": [
           "#636efa",
           "#EF553B",
           "#00cc96",
           "#ab63fa",
           "#FFA15A",
           "#19d3f3",
           "#FF6692",
           "#B6E880",
           "#FF97FF",
           "#FECB52"
          ],
          "font": {
           "color": "#2a3f5f"
          },
          "geo": {
           "bgcolor": "white",
           "lakecolor": "white",
           "landcolor": "#E5ECF6",
           "showlakes": true,
           "showland": true,
           "subunitcolor": "white"
          },
          "hoverlabel": {
           "align": "left"
          },
          "hovermode": "closest",
          "mapbox": {
           "style": "light"
          },
          "paper_bgcolor": "white",
          "plot_bgcolor": "#E5ECF6",
          "polar": {
           "angularaxis": {
            "gridcolor": "white",
            "linecolor": "white",
            "ticks": ""
           },
           "bgcolor": "#E5ECF6",
           "radialaxis": {
            "gridcolor": "white",
            "linecolor": "white",
            "ticks": ""
           }
          },
          "scene": {
           "xaxis": {
            "backgroundcolor": "#E5ECF6",
            "gridcolor": "white",
            "gridwidth": 2,
            "linecolor": "white",
            "showbackground": true,
            "ticks": "",
            "zerolinecolor": "white"
           },
           "yaxis": {
            "backgroundcolor": "#E5ECF6",
            "gridcolor": "white",
            "gridwidth": 2,
            "linecolor": "white",
            "showbackground": true,
            "ticks": "",
            "zerolinecolor": "white"
           },
           "zaxis": {
            "backgroundcolor": "#E5ECF6",
            "gridcolor": "white",
            "gridwidth": 2,
            "linecolor": "white",
            "showbackground": true,
            "ticks": "",
            "zerolinecolor": "white"
           }
          },
          "shapedefaults": {
           "line": {
            "color": "#2a3f5f"
           }
          },
          "ternary": {
           "aaxis": {
            "gridcolor": "white",
            "linecolor": "white",
            "ticks": ""
           },
           "baxis": {
            "gridcolor": "white",
            "linecolor": "white",
            "ticks": ""
           },
           "bgcolor": "#E5ECF6",
           "caxis": {
            "gridcolor": "white",
            "linecolor": "white",
            "ticks": ""
           }
          },
          "title": {
           "x": 0.05
          },
          "xaxis": {
           "automargin": true,
           "gridcolor": "white",
           "linecolor": "white",
           "ticks": "",
           "title": {
            "standoff": 15
           },
           "zerolinecolor": "white",
           "zerolinewidth": 2
          },
          "yaxis": {
           "automargin": true,
           "gridcolor": "white",
           "linecolor": "white",
           "ticks": "",
           "title": {
            "standoff": 15
           },
           "zerolinecolor": "white",
           "zerolinewidth": 2
          }
         }
        }
       }
      }
     },
     "metadata": {},
     "output_type": "display_data"
    }
   ],
   "source": [
    "px.sunburst(df , path = ['price_range' , 'm_dep'])"
   ]
  },
  {
   "cell_type": "code",
   "execution_count": 26,
   "id": "85a3d6c3",
   "metadata": {},
   "outputs": [
    {
     "data": {
      "application/vnd.plotly.v1+json": {
       "config": {
        "plotlyServerURL": "https://plot.ly"
       },
       "data": [
        {
         "branchvalues": "total",
         "domain": {
          "x": [
           0,
           1
          ],
          "y": [
           0,
           1
          ]
         },
         "hovertemplate": "labels=%{label}<br>count=%{value}<br>parent=%{parent}<br>id=%{id}<extra></extra>",
         "ids": [
          "1/188",
          "2/136",
          "2/145",
          "2/131",
          "1/141",
          "1/164",
          "3/139",
          "0/187",
          "0/174",
          "0/93",
          "3/182",
          "3/177",
          "1/159",
          "2/198",
          "0/185",
          "0/159",
          "3/196",
          "3/121",
          "1/101",
          "1/121",
          "3/81",
          "3/156",
          "1/199",
          "0/114",
          "1/111",
          "2/114",
          "3/132",
          "3/143",
          "2/96",
          "0/200",
          "3/88",
          "0/150",
          "1/107",
          "3/100",
          "0/157",
          "1/160",
          "3/119",
          "2/87",
          "2/159",
          "2/132",
          "3/185",
          "1/152",
          "1/166",
          "0/110",
          "1/118",
          "3/164",
          "1/196",
          "0/162",
          "3/111",
          "2/127",
          "3/109",
          "1/102",
          "2/104",
          "0/148",
          "3/107",
          "1/180",
          "2/128",
          "1/134",
          "0/144",
          "2/168",
          "2/141",
          "3/155",
          "0/165",
          "3/80",
          "3/138",
          "0/142",
          "3/141",
          "0/90",
          "0/197",
          "0/172",
          "3/116",
          "3/85",
          "2/199",
          "3/180",
          "1/114",
          "1/163",
          "1/96",
          "0/182",
          "3/178",
          "2/155",
          "2/100",
          "2/171",
          "0/103",
          "0/83",
          "1/140",
          "0/132",
          "2/194",
          "0/141",
          "1/156",
          "3/146",
          "1/119",
          "1/192",
          "0/199",
          "0/121",
          "1/103",
          "3/172",
          "3/198",
          "3/83",
          "3/163",
          "1/106",
          "0/135",
          "3/153",
          "3/89",
          "2/82",
          "3/130",
          "3/200",
          "2/88",
          "1/189",
          "3/181",
          "0/100",
          "3/99",
          "1/184",
          "2/197",
          "1/195",
          "2/89",
          "2/108",
          "1/133",
          "3/179",
          "0/155",
          "2/134",
          "0/147",
          "3/137",
          "0/134",
          "1/148",
          "1/147",
          "3/190",
          "1/176",
          "2/84",
          "0/166",
          "1/139",
          "0/97",
          "0/109",
          "1/142",
          "2/152",
          "0/124",
          "2/118",
          "3/183",
          "1/150",
          "2/160",
          "3/157",
          "1/110",
          "3/101",
          "2/183",
          "3/189",
          "2/143",
          "1/165",
          "0/113",
          "0/178",
          "3/84",
          "0/92",
          "2/95",
          "3/103",
          "1/151",
          "3/150",
          "2/190",
          "3/117",
          "2/163",
          "2/117",
          "2/94",
          "3/106",
          "1/93",
          "0/192",
          "1/173",
          "2/105",
          "2/115",
          "1/182",
          "3/110",
          "3/142",
          "2/111",
          "0/91",
          "0/181",
          "1/194",
          "1/112",
          "0/133",
          "0/111",
          "2/123",
          "3/166",
          "2/138",
          "3/127",
          "3/112",
          "3/105",
          "2/142",
          "0/129",
          "1/183",
          "0/107",
          "2/139",
          "2/187",
          "2/110",
          "3/129",
          "1/99",
          "0/105",
          "2/93",
          "0/101",
          "0/131",
          "0/154",
          "0/168",
          "3/162",
          "1/178",
          "1/88",
          "0/191",
          "0/175",
          "1/100",
          "3/86",
          "1/136",
          "0/89",
          "1/98",
          "2/133",
          "2/125",
          "3/126",
          "1/144",
          "0/177",
          "1/200",
          "2/158",
          "3/102",
          "3/170",
          "1/84",
          "3/134",
          "3/151",
          "0/108",
          "1/181",
          "0/80",
          "1/105",
          "1/87",
          "2/178",
          "2/185",
          "2/80",
          "3/199",
          "0/184",
          "3/165",
          "1/170",
          "0/94",
          "1/161",
          "0/160",
          "0/115",
          "2/189",
          "1/129",
          "1/193",
          "1/138",
          "1/191",
          "1/143",
          "1/126",
          "2/140",
          "2/106",
          "3/91",
          "2/182",
          "2/169",
          "2/109",
          "2/193",
          "3/120",
          "0/86",
          "2/184",
          "2/149",
          "1/117",
          "3/123",
          "2/148",
          "0/194",
          "1/91",
          "3/171",
          "0/195",
          "2/162",
          "1/185",
          "1/131",
          "3/115",
          "0/151",
          "1/97",
          "3/145",
          "2/174",
          "2/191",
          "3/187",
          "1/146",
          "2/144",
          "0/173",
          "3/169",
          "3/93",
          "3/95",
          "0/171",
          "2/101",
          "3/131",
          "2/186",
          "2/166",
          "0/158",
          "0/186",
          "1/149",
          "1/116",
          "1/153",
          "3/82",
          "1/130",
          "0/123",
          "0/198",
          "0/183",
          "2/195",
          "1/158",
          "3/98",
          "3/154",
          "1/95",
          "2/170",
          "0/122",
          "3/118",
          "3/176",
          "0/153",
          "3/87",
          "1/174",
          "0/104",
          "2/120",
          "3/159",
          "3/128",
          "3/148",
          "1/186",
          "1/155",
          "3/124",
          "2/172",
          "3/104",
          "1/109",
          "0/176",
          "0/119",
          "2/83",
          "3/160",
          "2/90",
          "1/135",
          "2/129",
          "0/193",
          "0/161",
          "1/137",
          "2/146",
          "2/192",
          "1/83",
          "1/190",
          "1/113",
          "2/180",
          "2/200",
          "2/102",
          "0/169",
          "3/90",
          "0/112",
          "0/82",
          "3/92",
          "0/88",
          "0/196",
          "2/181",
          "1/175",
          "2/151",
          "1/169",
          "1/128",
          "2/81",
          "0/188",
          "0/179",
          "3/184",
          "0/125",
          "2/196",
          "2/126",
          "1/197",
          "1/154",
          "2/147",
          "1/167",
          "0/95",
          "2/167",
          "2/107",
          "0/81",
          "1/132",
          "0/128",
          "1/168",
          "1/104",
          "0/190",
          "1/89",
          "1/108",
          "2/154",
          "0/85",
          "1/81",
          "2/119",
          "3/135",
          "2/112",
          "3/108",
          "2/150",
          "3/114",
          "3/140",
          "3/192",
          "1/122",
          "3/113",
          "3/158",
          "0/98",
          "3/96",
          "2/157",
          "2/122",
          "0/164",
          "3/144",
          "0/145",
          "3/161",
          "2/97",
          "0/146",
          "3/188",
          "2/92",
          "1/125",
          "1/123",
          "3/175",
          "1/124",
          "3/122",
          "3/191",
          "1/120",
          "1/177",
          "2/173",
          "1/85",
          "0/127",
          "2/177",
          "0/136",
          "0/143",
          "0/156",
          "1/187",
          "3/136",
          "2/153",
          "1/157",
          "3/133",
          "3/125",
          "0/87",
          "3/193",
          "1/90",
          "1/94",
          "2/130",
          "3/147",
          "2/91",
          "1/162",
          "1/82",
          "2/188",
          "3/173",
          "3/97",
          "0/99",
          "1/172",
          "2/175",
          "0/137",
          "2/179",
          "0/118",
          "0/138",
          "0/139",
          "2/86",
          "2/135",
          "0/167",
          "2/121",
          "0/116",
          "3/186",
          "0/140",
          "2/85",
          "2/156",
          "2/164",
          "0/126",
          "0/84",
          "2/137",
          "1/80",
          "1/198",
          "3/152",
          "3/149",
          "1/86",
          "2/98",
          "3/94",
          "1/145",
          "1/92",
          "2/161",
          "2/99",
          "0/120",
          "1/171",
          "1/115",
          "0/180",
          "1/127",
          "0/130",
          "2/176",
          "3/197",
          "2/165",
          "0/117",
          "0/106",
          "1/179",
          "0/152",
          "0/189",
          "2/116",
          "0/163",
          "0/102",
          "3/168",
          "1",
          "2",
          "3",
          "0"
         ],
         "labels": [
          "188",
          "136",
          "145",
          "131",
          "141",
          "164",
          "139",
          "187",
          "174",
          "93",
          "182",
          "177",
          "159",
          "198",
          "185",
          "159",
          "196",
          "121",
          "101",
          "121",
          "81",
          "156",
          "199",
          "114",
          "111",
          "114",
          "132",
          "143",
          "96",
          "200",
          "88",
          "150",
          "107",
          "100",
          "157",
          "160",
          "119",
          "87",
          "159",
          "132",
          "185",
          "152",
          "166",
          "110",
          "118",
          "164",
          "196",
          "162",
          "111",
          "127",
          "109",
          "102",
          "104",
          "148",
          "107",
          "180",
          "128",
          "134",
          "144",
          "168",
          "141",
          "155",
          "165",
          "80",
          "138",
          "142",
          "141",
          "90",
          "197",
          "172",
          "116",
          "85",
          "199",
          "180",
          "114",
          "163",
          "96",
          "182",
          "178",
          "155",
          "100",
          "171",
          "103",
          "83",
          "140",
          "132",
          "194",
          "141",
          "156",
          "146",
          "119",
          "192",
          "199",
          "121",
          "103",
          "172",
          "198",
          "83",
          "163",
          "106",
          "135",
          "153",
          "89",
          "82",
          "130",
          "200",
          "88",
          "189",
          "181",
          "100",
          "99",
          "184",
          "197",
          "195",
          "89",
          "108",
          "133",
          "179",
          "155",
          "134",
          "147",
          "137",
          "134",
          "148",
          "147",
          "190",
          "176",
          "84",
          "166",
          "139",
          "97",
          "109",
          "142",
          "152",
          "124",
          "118",
          "183",
          "150",
          "160",
          "157",
          "110",
          "101",
          "183",
          "189",
          "143",
          "165",
          "113",
          "178",
          "84",
          "92",
          "95",
          "103",
          "151",
          "150",
          "190",
          "117",
          "163",
          "117",
          "94",
          "106",
          "93",
          "192",
          "173",
          "105",
          "115",
          "182",
          "110",
          "142",
          "111",
          "91",
          "181",
          "194",
          "112",
          "133",
          "111",
          "123",
          "166",
          "138",
          "127",
          "112",
          "105",
          "142",
          "129",
          "183",
          "107",
          "139",
          "187",
          "110",
          "129",
          "99",
          "105",
          "93",
          "101",
          "131",
          "154",
          "168",
          "162",
          "178",
          "88",
          "191",
          "175",
          "100",
          "86",
          "136",
          "89",
          "98",
          "133",
          "125",
          "126",
          "144",
          "177",
          "200",
          "158",
          "102",
          "170",
          "84",
          "134",
          "151",
          "108",
          "181",
          "80",
          "105",
          "87",
          "178",
          "185",
          "80",
          "199",
          "184",
          "165",
          "170",
          "94",
          "161",
          "160",
          "115",
          "189",
          "129",
          "193",
          "138",
          "191",
          "143",
          "126",
          "140",
          "106",
          "91",
          "182",
          "169",
          "109",
          "193",
          "120",
          "86",
          "184",
          "149",
          "117",
          "123",
          "148",
          "194",
          "91",
          "171",
          "195",
          "162",
          "185",
          "131",
          "115",
          "151",
          "97",
          "145",
          "174",
          "191",
          "187",
          "146",
          "144",
          "173",
          "169",
          "93",
          "95",
          "171",
          "101",
          "131",
          "186",
          "166",
          "158",
          "186",
          "149",
          "116",
          "153",
          "82",
          "130",
          "123",
          "198",
          "183",
          "195",
          "158",
          "98",
          "154",
          "95",
          "170",
          "122",
          "118",
          "176",
          "153",
          "87",
          "174",
          "104",
          "120",
          "159",
          "128",
          "148",
          "186",
          "155",
          "124",
          "172",
          "104",
          "109",
          "176",
          "119",
          "83",
          "160",
          "90",
          "135",
          "129",
          "193",
          "161",
          "137",
          "146",
          "192",
          "83",
          "190",
          "113",
          "180",
          "200",
          "102",
          "169",
          "90",
          "112",
          "82",
          "92",
          "88",
          "196",
          "181",
          "175",
          "151",
          "169",
          "128",
          "81",
          "188",
          "179",
          "184",
          "125",
          "196",
          "126",
          "197",
          "154",
          "147",
          "167",
          "95",
          "167",
          "107",
          "81",
          "132",
          "128",
          "168",
          "104",
          "190",
          "89",
          "108",
          "154",
          "85",
          "81",
          "119",
          "135",
          "112",
          "108",
          "150",
          "114",
          "140",
          "192",
          "122",
          "113",
          "158",
          "98",
          "96",
          "157",
          "122",
          "164",
          "144",
          "145",
          "161",
          "97",
          "146",
          "188",
          "92",
          "125",
          "123",
          "175",
          "124",
          "122",
          "191",
          "120",
          "177",
          "173",
          "85",
          "127",
          "177",
          "136",
          "143",
          "156",
          "187",
          "136",
          "153",
          "157",
          "133",
          "125",
          "87",
          "193",
          "90",
          "94",
          "130",
          "147",
          "91",
          "162",
          "82",
          "188",
          "173",
          "97",
          "99",
          "172",
          "175",
          "137",
          "179",
          "118",
          "138",
          "139",
          "86",
          "135",
          "167",
          "121",
          "116",
          "186",
          "140",
          "85",
          "156",
          "164",
          "126",
          "84",
          "137",
          "80",
          "198",
          "152",
          "149",
          "86",
          "98",
          "94",
          "145",
          "92",
          "161",
          "99",
          "120",
          "171",
          "115",
          "180",
          "127",
          "130",
          "176",
          "197",
          "165",
          "117",
          "106",
          "179",
          "152",
          "189",
          "116",
          "163",
          "102",
          "168",
          "1",
          "2",
          "3",
          "0"
         ],
         "name": "",
         "parents": [
          "1",
          "2",
          "2",
          "2",
          "1",
          "1",
          "3",
          "0",
          "0",
          "0",
          "3",
          "3",
          "1",
          "2",
          "0",
          "0",
          "3",
          "3",
          "1",
          "1",
          "3",
          "3",
          "1",
          "0",
          "1",
          "2",
          "3",
          "3",
          "2",
          "0",
          "3",
          "0",
          "1",
          "3",
          "0",
          "1",
          "3",
          "2",
          "2",
          "2",
          "3",
          "1",
          "1",
          "0",
          "1",
          "3",
          "1",
          "0",
          "3",
          "2",
          "3",
          "1",
          "2",
          "0",
          "3",
          "1",
          "2",
          "1",
          "0",
          "2",
          "2",
          "3",
          "0",
          "3",
          "3",
          "0",
          "3",
          "0",
          "0",
          "0",
          "3",
          "3",
          "2",
          "3",
          "1",
          "1",
          "1",
          "0",
          "3",
          "2",
          "2",
          "2",
          "0",
          "0",
          "1",
          "0",
          "2",
          "0",
          "1",
          "3",
          "1",
          "1",
          "0",
          "0",
          "1",
          "3",
          "3",
          "3",
          "3",
          "1",
          "0",
          "3",
          "3",
          "2",
          "3",
          "3",
          "2",
          "1",
          "3",
          "0",
          "3",
          "1",
          "2",
          "1",
          "2",
          "2",
          "1",
          "3",
          "0",
          "2",
          "0",
          "3",
          "0",
          "1",
          "1",
          "3",
          "1",
          "2",
          "0",
          "1",
          "0",
          "0",
          "1",
          "2",
          "0",
          "2",
          "3",
          "1",
          "2",
          "3",
          "1",
          "3",
          "2",
          "3",
          "2",
          "1",
          "0",
          "0",
          "3",
          "0",
          "2",
          "3",
          "1",
          "3",
          "2",
          "3",
          "2",
          "2",
          "2",
          "3",
          "1",
          "0",
          "1",
          "2",
          "2",
          "1",
          "3",
          "3",
          "2",
          "0",
          "0",
          "1",
          "1",
          "0",
          "0",
          "2",
          "3",
          "2",
          "3",
          "3",
          "3",
          "2",
          "0",
          "1",
          "0",
          "2",
          "2",
          "2",
          "3",
          "1",
          "0",
          "2",
          "0",
          "0",
          "0",
          "0",
          "3",
          "1",
          "1",
          "0",
          "0",
          "1",
          "3",
          "1",
          "0",
          "1",
          "2",
          "2",
          "3",
          "1",
          "0",
          "1",
          "2",
          "3",
          "3",
          "1",
          "3",
          "3",
          "0",
          "1",
          "0",
          "1",
          "1",
          "2",
          "2",
          "2",
          "3",
          "0",
          "3",
          "1",
          "0",
          "1",
          "0",
          "0",
          "2",
          "1",
          "1",
          "1",
          "1",
          "1",
          "1",
          "2",
          "2",
          "3",
          "2",
          "2",
          "2",
          "2",
          "3",
          "0",
          "2",
          "2",
          "1",
          "3",
          "2",
          "0",
          "1",
          "3",
          "0",
          "2",
          "1",
          "1",
          "3",
          "0",
          "1",
          "3",
          "2",
          "2",
          "3",
          "1",
          "2",
          "0",
          "3",
          "3",
          "3",
          "0",
          "2",
          "3",
          "2",
          "2",
          "0",
          "0",
          "1",
          "1",
          "1",
          "3",
          "1",
          "0",
          "0",
          "0",
          "2",
          "1",
          "3",
          "3",
          "1",
          "2",
          "0",
          "3",
          "3",
          "0",
          "3",
          "1",
          "0",
          "2",
          "3",
          "3",
          "3",
          "1",
          "1",
          "3",
          "2",
          "3",
          "1",
          "0",
          "0",
          "2",
          "3",
          "2",
          "1",
          "2",
          "0",
          "0",
          "1",
          "2",
          "2",
          "1",
          "1",
          "1",
          "2",
          "2",
          "2",
          "0",
          "3",
          "0",
          "0",
          "3",
          "0",
          "0",
          "2",
          "1",
          "2",
          "1",
          "1",
          "2",
          "0",
          "0",
          "3",
          "0",
          "2",
          "2",
          "1",
          "1",
          "2",
          "1",
          "0",
          "2",
          "2",
          "0",
          "1",
          "0",
          "1",
          "1",
          "0",
          "1",
          "1",
          "2",
          "0",
          "1",
          "2",
          "3",
          "2",
          "3",
          "2",
          "3",
          "3",
          "3",
          "1",
          "3",
          "3",
          "0",
          "3",
          "2",
          "2",
          "0",
          "3",
          "0",
          "3",
          "2",
          "0",
          "3",
          "2",
          "1",
          "1",
          "3",
          "1",
          "3",
          "3",
          "1",
          "1",
          "2",
          "1",
          "0",
          "2",
          "0",
          "0",
          "0",
          "1",
          "3",
          "2",
          "1",
          "3",
          "3",
          "0",
          "3",
          "1",
          "1",
          "2",
          "3",
          "2",
          "1",
          "1",
          "2",
          "3",
          "3",
          "0",
          "1",
          "2",
          "0",
          "2",
          "0",
          "0",
          "0",
          "2",
          "2",
          "0",
          "2",
          "0",
          "3",
          "0",
          "2",
          "2",
          "2",
          "0",
          "0",
          "2",
          "1",
          "1",
          "3",
          "3",
          "1",
          "2",
          "3",
          "1",
          "1",
          "2",
          "2",
          "0",
          "1",
          "1",
          "0",
          "1",
          "0",
          "2",
          "3",
          "2",
          "0",
          "0",
          "1",
          "0",
          "0",
          "2",
          "0",
          "0",
          "3",
          "",
          "",
          "",
          ""
         ],
         "type": "sunburst",
         "values": {
          "bdata": "AwAEAAsABgADAAMABAADAAMABAAGAAQABgAGAAoABQAFAAcABwAGAAIAAwAKAAYABAAGAAQABAADAAYACgADAAYACQADAAcAAgADAAUABQAEAAMAAwAFAAYABgAGAAUABgAFAAMACAAFAAIAAwABAAcABAADAAcABAABAAUABQAGAAQACQAGAAMABAAFAAYABgAEAAgABQAEAAoABAAGAAMABAAEAAkAAgAFAAYAAwAFAAYABwAEAAQAAgAGAAYABgACAAUABQAJAAgABwADAAUABQACAAQABQAGAAQABQAHAAUABQABAAIABgAEAAUABwAEAAQABAAEAAUAAwAFAAcABAAFAAYABAAHAAsAAwAFAAMACAAJAAUACAAFAAIABAAFAAUABgAHAAMAAwAJAAUABQAEAAcABQAFAAQAAwAFAAYAAgAKAAUACAABAAIABgAHAAUABgADAAQABQAGAAQACgADAAQAAwAFAAMAAgADAAUACAADAAQAAgAFAAQACAAEAAUABQAFAAEACAAFAAQAAgAGAAQABgAEAAIABQAFAAYABAAEAAUABAAJAAQACQAFAAIABgAGAAcAAwAGAAcABgAGAAUABQADAAQABgAGAAMABgAFAAMAAwAEAAMAAwAEAAUABAAEAAgABAAEAAIABwACAAYAAwAEAAYABAADAAIAAwAEAAYABwAEAAYABQADAAcABAAFAAcABAAEAAMABAAGAAMABAAGAAUAAgAFAAYAAgADAAIABgAIAAUACgABAAMABQACAAQAAwAFAAUAAwADAAMABwAEAAYAAwADAAMABAAFAAcABQAEAAcABQADAAIAAwACAAIAAwAEAAUAAwACAAQAAwAFAAMABQAEAAQABwAFAAMABgACAAQABQADAAEAAwACAAYAAgACAAIABAACAAMABgADAAgABAACAAIAAwAFAAYABQADAAMAAwAEAAUABgACAAIABAAEAAMAAgAEAAUACAADAAEAAgABAAcABQAEAAIAAgADAAIAAgAFAAUAAwAJAAQABAADAAQAAgAFAAQAAgACAAIABgABAAIAAwADAAEABgAGAAUABQAEAAMAAgACAAMAAgAEAAMAAgABAAMABAADAAQAAQAFAAQAAgADAAEAAgADAAIAAwADAAQAAQABAAIAAgACAAIABAADAAEAAQAEAAMAAQABAAMAAgABAAQAAgABAAIAAgACAAIAAwACAAEAAQABAAEAAQACAAEAAQABAAEAAgABAAEA9AH0AfQB9AE=",
          "dtype": "i2"
         }
        }
       ],
       "layout": {
        "legend": {
         "tracegroupgap": 0
        },
        "margin": {
         "t": 60
        },
        "template": {
         "data": {
          "bar": [
           {
            "error_x": {
             "color": "#2a3f5f"
            },
            "error_y": {
             "color": "#2a3f5f"
            },
            "marker": {
             "line": {
              "color": "#E5ECF6",
              "width": 0.5
             },
             "pattern": {
              "fillmode": "overlay",
              "size": 10,
              "solidity": 0.2
             }
            },
            "type": "bar"
           }
          ],
          "barpolar": [
           {
            "marker": {
             "line": {
              "color": "#E5ECF6",
              "width": 0.5
             },
             "pattern": {
              "fillmode": "overlay",
              "size": 10,
              "solidity": 0.2
             }
            },
            "type": "barpolar"
           }
          ],
          "carpet": [
           {
            "aaxis": {
             "endlinecolor": "#2a3f5f",
             "gridcolor": "white",
             "linecolor": "white",
             "minorgridcolor": "white",
             "startlinecolor": "#2a3f5f"
            },
            "baxis": {
             "endlinecolor": "#2a3f5f",
             "gridcolor": "white",
             "linecolor": "white",
             "minorgridcolor": "white",
             "startlinecolor": "#2a3f5f"
            },
            "type": "carpet"
           }
          ],
          "choropleth": [
           {
            "colorbar": {
             "outlinewidth": 0,
             "ticks": ""
            },
            "type": "choropleth"
           }
          ],
          "contour": [
           {
            "colorbar": {
             "outlinewidth": 0,
             "ticks": ""
            },
            "colorscale": [
             [
              0,
              "#0d0887"
             ],
             [
              0.1111111111111111,
              "#46039f"
             ],
             [
              0.2222222222222222,
              "#7201a8"
             ],
             [
              0.3333333333333333,
              "#9c179e"
             ],
             [
              0.4444444444444444,
              "#bd3786"
             ],
             [
              0.5555555555555556,
              "#d8576b"
             ],
             [
              0.6666666666666666,
              "#ed7953"
             ],
             [
              0.7777777777777778,
              "#fb9f3a"
             ],
             [
              0.8888888888888888,
              "#fdca26"
             ],
             [
              1,
              "#f0f921"
             ]
            ],
            "type": "contour"
           }
          ],
          "contourcarpet": [
           {
            "colorbar": {
             "outlinewidth": 0,
             "ticks": ""
            },
            "type": "contourcarpet"
           }
          ],
          "heatmap": [
           {
            "colorbar": {
             "outlinewidth": 0,
             "ticks": ""
            },
            "colorscale": [
             [
              0,
              "#0d0887"
             ],
             [
              0.1111111111111111,
              "#46039f"
             ],
             [
              0.2222222222222222,
              "#7201a8"
             ],
             [
              0.3333333333333333,
              "#9c179e"
             ],
             [
              0.4444444444444444,
              "#bd3786"
             ],
             [
              0.5555555555555556,
              "#d8576b"
             ],
             [
              0.6666666666666666,
              "#ed7953"
             ],
             [
              0.7777777777777778,
              "#fb9f3a"
             ],
             [
              0.8888888888888888,
              "#fdca26"
             ],
             [
              1,
              "#f0f921"
             ]
            ],
            "type": "heatmap"
           }
          ],
          "histogram": [
           {
            "marker": {
             "pattern": {
              "fillmode": "overlay",
              "size": 10,
              "solidity": 0.2
             }
            },
            "type": "histogram"
           }
          ],
          "histogram2d": [
           {
            "colorbar": {
             "outlinewidth": 0,
             "ticks": ""
            },
            "colorscale": [
             [
              0,
              "#0d0887"
             ],
             [
              0.1111111111111111,
              "#46039f"
             ],
             [
              0.2222222222222222,
              "#7201a8"
             ],
             [
              0.3333333333333333,
              "#9c179e"
             ],
             [
              0.4444444444444444,
              "#bd3786"
             ],
             [
              0.5555555555555556,
              "#d8576b"
             ],
             [
              0.6666666666666666,
              "#ed7953"
             ],
             [
              0.7777777777777778,
              "#fb9f3a"
             ],
             [
              0.8888888888888888,
              "#fdca26"
             ],
             [
              1,
              "#f0f921"
             ]
            ],
            "type": "histogram2d"
           }
          ],
          "histogram2dcontour": [
           {
            "colorbar": {
             "outlinewidth": 0,
             "ticks": ""
            },
            "colorscale": [
             [
              0,
              "#0d0887"
             ],
             [
              0.1111111111111111,
              "#46039f"
             ],
             [
              0.2222222222222222,
              "#7201a8"
             ],
             [
              0.3333333333333333,
              "#9c179e"
             ],
             [
              0.4444444444444444,
              "#bd3786"
             ],
             [
              0.5555555555555556,
              "#d8576b"
             ],
             [
              0.6666666666666666,
              "#ed7953"
             ],
             [
              0.7777777777777778,
              "#fb9f3a"
             ],
             [
              0.8888888888888888,
              "#fdca26"
             ],
             [
              1,
              "#f0f921"
             ]
            ],
            "type": "histogram2dcontour"
           }
          ],
          "mesh3d": [
           {
            "colorbar": {
             "outlinewidth": 0,
             "ticks": ""
            },
            "type": "mesh3d"
           }
          ],
          "parcoords": [
           {
            "line": {
             "colorbar": {
              "outlinewidth": 0,
              "ticks": ""
             }
            },
            "type": "parcoords"
           }
          ],
          "pie": [
           {
            "automargin": true,
            "type": "pie"
           }
          ],
          "scatter": [
           {
            "fillpattern": {
             "fillmode": "overlay",
             "size": 10,
             "solidity": 0.2
            },
            "type": "scatter"
           }
          ],
          "scatter3d": [
           {
            "line": {
             "colorbar": {
              "outlinewidth": 0,
              "ticks": ""
             }
            },
            "marker": {
             "colorbar": {
              "outlinewidth": 0,
              "ticks": ""
             }
            },
            "type": "scatter3d"
           }
          ],
          "scattercarpet": [
           {
            "marker": {
             "colorbar": {
              "outlinewidth": 0,
              "ticks": ""
             }
            },
            "type": "scattercarpet"
           }
          ],
          "scattergeo": [
           {
            "marker": {
             "colorbar": {
              "outlinewidth": 0,
              "ticks": ""
             }
            },
            "type": "scattergeo"
           }
          ],
          "scattergl": [
           {
            "marker": {
             "colorbar": {
              "outlinewidth": 0,
              "ticks": ""
             }
            },
            "type": "scattergl"
           }
          ],
          "scattermap": [
           {
            "marker": {
             "colorbar": {
              "outlinewidth": 0,
              "ticks": ""
             }
            },
            "type": "scattermap"
           }
          ],
          "scattermapbox": [
           {
            "marker": {
             "colorbar": {
              "outlinewidth": 0,
              "ticks": ""
             }
            },
            "type": "scattermapbox"
           }
          ],
          "scatterpolar": [
           {
            "marker": {
             "colorbar": {
              "outlinewidth": 0,
              "ticks": ""
             }
            },
            "type": "scatterpolar"
           }
          ],
          "scatterpolargl": [
           {
            "marker": {
             "colorbar": {
              "outlinewidth": 0,
              "ticks": ""
             }
            },
            "type": "scatterpolargl"
           }
          ],
          "scatterternary": [
           {
            "marker": {
             "colorbar": {
              "outlinewidth": 0,
              "ticks": ""
             }
            },
            "type": "scatterternary"
           }
          ],
          "surface": [
           {
            "colorbar": {
             "outlinewidth": 0,
             "ticks": ""
            },
            "colorscale": [
             [
              0,
              "#0d0887"
             ],
             [
              0.1111111111111111,
              "#46039f"
             ],
             [
              0.2222222222222222,
              "#7201a8"
             ],
             [
              0.3333333333333333,
              "#9c179e"
             ],
             [
              0.4444444444444444,
              "#bd3786"
             ],
             [
              0.5555555555555556,
              "#d8576b"
             ],
             [
              0.6666666666666666,
              "#ed7953"
             ],
             [
              0.7777777777777778,
              "#fb9f3a"
             ],
             [
              0.8888888888888888,
              "#fdca26"
             ],
             [
              1,
              "#f0f921"
             ]
            ],
            "type": "surface"
           }
          ],
          "table": [
           {
            "cells": {
             "fill": {
              "color": "#EBF0F8"
             },
             "line": {
              "color": "white"
             }
            },
            "header": {
             "fill": {
              "color": "#C8D4E3"
             },
             "line": {
              "color": "white"
             }
            },
            "type": "table"
           }
          ]
         },
         "layout": {
          "annotationdefaults": {
           "arrowcolor": "#2a3f5f",
           "arrowhead": 0,
           "arrowwidth": 1
          },
          "autotypenumbers": "strict",
          "coloraxis": {
           "colorbar": {
            "outlinewidth": 0,
            "ticks": ""
           }
          },
          "colorscale": {
           "diverging": [
            [
             0,
             "#8e0152"
            ],
            [
             0.1,
             "#c51b7d"
            ],
            [
             0.2,
             "#de77ae"
            ],
            [
             0.3,
             "#f1b6da"
            ],
            [
             0.4,
             "#fde0ef"
            ],
            [
             0.5,
             "#f7f7f7"
            ],
            [
             0.6,
             "#e6f5d0"
            ],
            [
             0.7,
             "#b8e186"
            ],
            [
             0.8,
             "#7fbc41"
            ],
            [
             0.9,
             "#4d9221"
            ],
            [
             1,
             "#276419"
            ]
           ],
           "sequential": [
            [
             0,
             "#0d0887"
            ],
            [
             0.1111111111111111,
             "#46039f"
            ],
            [
             0.2222222222222222,
             "#7201a8"
            ],
            [
             0.3333333333333333,
             "#9c179e"
            ],
            [
             0.4444444444444444,
             "#bd3786"
            ],
            [
             0.5555555555555556,
             "#d8576b"
            ],
            [
             0.6666666666666666,
             "#ed7953"
            ],
            [
             0.7777777777777778,
             "#fb9f3a"
            ],
            [
             0.8888888888888888,
             "#fdca26"
            ],
            [
             1,
             "#f0f921"
            ]
           ],
           "sequentialminus": [
            [
             0,
             "#0d0887"
            ],
            [
             0.1111111111111111,
             "#46039f"
            ],
            [
             0.2222222222222222,
             "#7201a8"
            ],
            [
             0.3333333333333333,
             "#9c179e"
            ],
            [
             0.4444444444444444,
             "#bd3786"
            ],
            [
             0.5555555555555556,
             "#d8576b"
            ],
            [
             0.6666666666666666,
             "#ed7953"
            ],
            [
             0.7777777777777778,
             "#fb9f3a"
            ],
            [
             0.8888888888888888,
             "#fdca26"
            ],
            [
             1,
             "#f0f921"
            ]
           ]
          },
          "colorway": [
           "#636efa",
           "#EF553B",
           "#00cc96",
           "#ab63fa",
           "#FFA15A",
           "#19d3f3",
           "#FF6692",
           "#B6E880",
           "#FF97FF",
           "#FECB52"
          ],
          "font": {
           "color": "#2a3f5f"
          },
          "geo": {
           "bgcolor": "white",
           "lakecolor": "white",
           "landcolor": "#E5ECF6",
           "showlakes": true,
           "showland": true,
           "subunitcolor": "white"
          },
          "hoverlabel": {
           "align": "left"
          },
          "hovermode": "closest",
          "mapbox": {
           "style": "light"
          },
          "paper_bgcolor": "white",
          "plot_bgcolor": "#E5ECF6",
          "polar": {
           "angularaxis": {
            "gridcolor": "white",
            "linecolor": "white",
            "ticks": ""
           },
           "bgcolor": "#E5ECF6",
           "radialaxis": {
            "gridcolor": "white",
            "linecolor": "white",
            "ticks": ""
           }
          },
          "scene": {
           "xaxis": {
            "backgroundcolor": "#E5ECF6",
            "gridcolor": "white",
            "gridwidth": 2,
            "linecolor": "white",
            "showbackground": true,
            "ticks": "",
            "zerolinecolor": "white"
           },
           "yaxis": {
            "backgroundcolor": "#E5ECF6",
            "gridcolor": "white",
            "gridwidth": 2,
            "linecolor": "white",
            "showbackground": true,
            "ticks": "",
            "zerolinecolor": "white"
           },
           "zaxis": {
            "backgroundcolor": "#E5ECF6",
            "gridcolor": "white",
            "gridwidth": 2,
            "linecolor": "white",
            "showbackground": true,
            "ticks": "",
            "zerolinecolor": "white"
           }
          },
          "shapedefaults": {
           "line": {
            "color": "#2a3f5f"
           }
          },
          "ternary": {
           "aaxis": {
            "gridcolor": "white",
            "linecolor": "white",
            "ticks": ""
           },
           "baxis": {
            "gridcolor": "white",
            "linecolor": "white",
            "ticks": ""
           },
           "bgcolor": "#E5ECF6",
           "caxis": {
            "gridcolor": "white",
            "linecolor": "white",
            "ticks": ""
           }
          },
          "title": {
           "x": 0.05
          },
          "xaxis": {
           "automargin": true,
           "gridcolor": "white",
           "linecolor": "white",
           "ticks": "",
           "title": {
            "standoff": 15
           },
           "zerolinecolor": "white",
           "zerolinewidth": 2
          },
          "yaxis": {
           "automargin": true,
           "gridcolor": "white",
           "linecolor": "white",
           "ticks": "",
           "title": {
            "standoff": 15
           },
           "zerolinecolor": "white",
           "zerolinewidth": 2
          }
         }
        }
       }
      }
     },
     "metadata": {},
     "output_type": "display_data"
    }
   ],
   "source": [
    "px.sunburst(df , path = ['price_range' , 'mobile_wt'])"
   ]
  },
  {
   "cell_type": "code",
   "execution_count": 27,
   "id": "4dc16378",
   "metadata": {},
   "outputs": [
    {
     "data": {
      "application/vnd.plotly.v1+json": {
       "config": {
        "plotlyServerURL": "https://plot.ly"
       },
       "data": [
        {
         "branchvalues": "total",
         "domain": {
          "x": [
           0,
           1
          ],
          "y": [
           0,
           1
          ]
         },
         "hovertemplate": "labels=%{label}<br>count=%{value}<br>parent=%{parent}<br>id=%{id}<extra></extra>",
         "ids": [
          "1/2",
          "2/3",
          "2/5",
          "2/6",
          "1/1",
          "3/8",
          "0/4",
          "0/7",
          "0/5",
          "3/5",
          "1/4",
          "2/4",
          "0/1",
          "0/2",
          "3/3",
          "1/5",
          "3/7",
          "3/2",
          "0/3",
          "1/3",
          "2/8",
          "3/4",
          "2/2",
          "0/8",
          "1/8",
          "2/1",
          "1/7",
          "2/7",
          "1/6",
          "3/1",
          "0/6",
          "3/6",
          "1",
          "2",
          "3",
          "0"
         ],
         "labels": [
          "2",
          "3",
          "5",
          "6",
          "1",
          "8",
          "4",
          "7",
          "5",
          "5",
          "4",
          "4",
          "1",
          "2",
          "3",
          "5",
          "7",
          "2",
          "3",
          "3",
          "8",
          "4",
          "2",
          "8",
          "8",
          "1",
          "7",
          "7",
          "6",
          "1",
          "6",
          "6",
          "1",
          "2",
          "3",
          "0"
         ],
         "name": "",
         "parents": [
          "1",
          "2",
          "2",
          "2",
          "1",
          "3",
          "0",
          "0",
          "0",
          "3",
          "1",
          "2",
          "0",
          "0",
          "3",
          "1",
          "3",
          "3",
          "0",
          "1",
          "2",
          "3",
          "2",
          "0",
          "1",
          "2",
          "1",
          "2",
          "1",
          "3",
          "0",
          "3",
          "",
          "",
          "",
          ""
         ],
         "type": "sunburst",
         "values": {
          "bdata": "OwA4AEIAOQBMADsAQwBCADsARgBMAEkAMQBFADsAMwBFAD4APgBFAEYAOgA5AEMAPAA0ADcARQA2AEEAPQA6APQB9AH0AfQB",
          "dtype": "i2"
         }
        }
       ],
       "layout": {
        "legend": {
         "tracegroupgap": 0
        },
        "margin": {
         "t": 60
        },
        "template": {
         "data": {
          "bar": [
           {
            "error_x": {
             "color": "#2a3f5f"
            },
            "error_y": {
             "color": "#2a3f5f"
            },
            "marker": {
             "line": {
              "color": "#E5ECF6",
              "width": 0.5
             },
             "pattern": {
              "fillmode": "overlay",
              "size": 10,
              "solidity": 0.2
             }
            },
            "type": "bar"
           }
          ],
          "barpolar": [
           {
            "marker": {
             "line": {
              "color": "#E5ECF6",
              "width": 0.5
             },
             "pattern": {
              "fillmode": "overlay",
              "size": 10,
              "solidity": 0.2
             }
            },
            "type": "barpolar"
           }
          ],
          "carpet": [
           {
            "aaxis": {
             "endlinecolor": "#2a3f5f",
             "gridcolor": "white",
             "linecolor": "white",
             "minorgridcolor": "white",
             "startlinecolor": "#2a3f5f"
            },
            "baxis": {
             "endlinecolor": "#2a3f5f",
             "gridcolor": "white",
             "linecolor": "white",
             "minorgridcolor": "white",
             "startlinecolor": "#2a3f5f"
            },
            "type": "carpet"
           }
          ],
          "choropleth": [
           {
            "colorbar": {
             "outlinewidth": 0,
             "ticks": ""
            },
            "type": "choropleth"
           }
          ],
          "contour": [
           {
            "colorbar": {
             "outlinewidth": 0,
             "ticks": ""
            },
            "colorscale": [
             [
              0,
              "#0d0887"
             ],
             [
              0.1111111111111111,
              "#46039f"
             ],
             [
              0.2222222222222222,
              "#7201a8"
             ],
             [
              0.3333333333333333,
              "#9c179e"
             ],
             [
              0.4444444444444444,
              "#bd3786"
             ],
             [
              0.5555555555555556,
              "#d8576b"
             ],
             [
              0.6666666666666666,
              "#ed7953"
             ],
             [
              0.7777777777777778,
              "#fb9f3a"
             ],
             [
              0.8888888888888888,
              "#fdca26"
             ],
             [
              1,
              "#f0f921"
             ]
            ],
            "type": "contour"
           }
          ],
          "contourcarpet": [
           {
            "colorbar": {
             "outlinewidth": 0,
             "ticks": ""
            },
            "type": "contourcarpet"
           }
          ],
          "heatmap": [
           {
            "colorbar": {
             "outlinewidth": 0,
             "ticks": ""
            },
            "colorscale": [
             [
              0,
              "#0d0887"
             ],
             [
              0.1111111111111111,
              "#46039f"
             ],
             [
              0.2222222222222222,
              "#7201a8"
             ],
             [
              0.3333333333333333,
              "#9c179e"
             ],
             [
              0.4444444444444444,
              "#bd3786"
             ],
             [
              0.5555555555555556,
              "#d8576b"
             ],
             [
              0.6666666666666666,
              "#ed7953"
             ],
             [
              0.7777777777777778,
              "#fb9f3a"
             ],
             [
              0.8888888888888888,
              "#fdca26"
             ],
             [
              1,
              "#f0f921"
             ]
            ],
            "type": "heatmap"
           }
          ],
          "histogram": [
           {
            "marker": {
             "pattern": {
              "fillmode": "overlay",
              "size": 10,
              "solidity": 0.2
             }
            },
            "type": "histogram"
           }
          ],
          "histogram2d": [
           {
            "colorbar": {
             "outlinewidth": 0,
             "ticks": ""
            },
            "colorscale": [
             [
              0,
              "#0d0887"
             ],
             [
              0.1111111111111111,
              "#46039f"
             ],
             [
              0.2222222222222222,
              "#7201a8"
             ],
             [
              0.3333333333333333,
              "#9c179e"
             ],
             [
              0.4444444444444444,
              "#bd3786"
             ],
             [
              0.5555555555555556,
              "#d8576b"
             ],
             [
              0.6666666666666666,
              "#ed7953"
             ],
             [
              0.7777777777777778,
              "#fb9f3a"
             ],
             [
              0.8888888888888888,
              "#fdca26"
             ],
             [
              1,
              "#f0f921"
             ]
            ],
            "type": "histogram2d"
           }
          ],
          "histogram2dcontour": [
           {
            "colorbar": {
             "outlinewidth": 0,
             "ticks": ""
            },
            "colorscale": [
             [
              0,
              "#0d0887"
             ],
             [
              0.1111111111111111,
              "#46039f"
             ],
             [
              0.2222222222222222,
              "#7201a8"
             ],
             [
              0.3333333333333333,
              "#9c179e"
             ],
             [
              0.4444444444444444,
              "#bd3786"
             ],
             [
              0.5555555555555556,
              "#d8576b"
             ],
             [
              0.6666666666666666,
              "#ed7953"
             ],
             [
              0.7777777777777778,
              "#fb9f3a"
             ],
             [
              0.8888888888888888,
              "#fdca26"
             ],
             [
              1,
              "#f0f921"
             ]
            ],
            "type": "histogram2dcontour"
           }
          ],
          "mesh3d": [
           {
            "colorbar": {
             "outlinewidth": 0,
             "ticks": ""
            },
            "type": "mesh3d"
           }
          ],
          "parcoords": [
           {
            "line": {
             "colorbar": {
              "outlinewidth": 0,
              "ticks": ""
             }
            },
            "type": "parcoords"
           }
          ],
          "pie": [
           {
            "automargin": true,
            "type": "pie"
           }
          ],
          "scatter": [
           {
            "fillpattern": {
             "fillmode": "overlay",
             "size": 10,
             "solidity": 0.2
            },
            "type": "scatter"
           }
          ],
          "scatter3d": [
           {
            "line": {
             "colorbar": {
              "outlinewidth": 0,
              "ticks": ""
             }
            },
            "marker": {
             "colorbar": {
              "outlinewidth": 0,
              "ticks": ""
             }
            },
            "type": "scatter3d"
           }
          ],
          "scattercarpet": [
           {
            "marker": {
             "colorbar": {
              "outlinewidth": 0,
              "ticks": ""
             }
            },
            "type": "scattercarpet"
           }
          ],
          "scattergeo": [
           {
            "marker": {
             "colorbar": {
              "outlinewidth": 0,
              "ticks": ""
             }
            },
            "type": "scattergeo"
           }
          ],
          "scattergl": [
           {
            "marker": {
             "colorbar": {
              "outlinewidth": 0,
              "ticks": ""
             }
            },
            "type": "scattergl"
           }
          ],
          "scattermap": [
           {
            "marker": {
             "colorbar": {
              "outlinewidth": 0,
              "ticks": ""
             }
            },
            "type": "scattermap"
           }
          ],
          "scattermapbox": [
           {
            "marker": {
             "colorbar": {
              "outlinewidth": 0,
              "ticks": ""
             }
            },
            "type": "scattermapbox"
           }
          ],
          "scatterpolar": [
           {
            "marker": {
             "colorbar": {
              "outlinewidth": 0,
              "ticks": ""
             }
            },
            "type": "scatterpolar"
           }
          ],
          "scatterpolargl": [
           {
            "marker": {
             "colorbar": {
              "outlinewidth": 0,
              "ticks": ""
             }
            },
            "type": "scatterpolargl"
           }
          ],
          "scatterternary": [
           {
            "marker": {
             "colorbar": {
              "outlinewidth": 0,
              "ticks": ""
             }
            },
            "type": "scatterternary"
           }
          ],
          "surface": [
           {
            "colorbar": {
             "outlinewidth": 0,
             "ticks": ""
            },
            "colorscale": [
             [
              0,
              "#0d0887"
             ],
             [
              0.1111111111111111,
              "#46039f"
             ],
             [
              0.2222222222222222,
              "#7201a8"
             ],
             [
              0.3333333333333333,
              "#9c179e"
             ],
             [
              0.4444444444444444,
              "#bd3786"
             ],
             [
              0.5555555555555556,
              "#d8576b"
             ],
             [
              0.6666666666666666,
              "#ed7953"
             ],
             [
              0.7777777777777778,
              "#fb9f3a"
             ],
             [
              0.8888888888888888,
              "#fdca26"
             ],
             [
              1,
              "#f0f921"
             ]
            ],
            "type": "surface"
           }
          ],
          "table": [
           {
            "cells": {
             "fill": {
              "color": "#EBF0F8"
             },
             "line": {
              "color": "white"
             }
            },
            "header": {
             "fill": {
              "color": "#C8D4E3"
             },
             "line": {
              "color": "white"
             }
            },
            "type": "table"
           }
          ]
         },
         "layout": {
          "annotationdefaults": {
           "arrowcolor": "#2a3f5f",
           "arrowhead": 0,
           "arrowwidth": 1
          },
          "autotypenumbers": "strict",
          "coloraxis": {
           "colorbar": {
            "outlinewidth": 0,
            "ticks": ""
           }
          },
          "colorscale": {
           "diverging": [
            [
             0,
             "#8e0152"
            ],
            [
             0.1,
             "#c51b7d"
            ],
            [
             0.2,
             "#de77ae"
            ],
            [
             0.3,
             "#f1b6da"
            ],
            [
             0.4,
             "#fde0ef"
            ],
            [
             0.5,
             "#f7f7f7"
            ],
            [
             0.6,
             "#e6f5d0"
            ],
            [
             0.7,
             "#b8e186"
            ],
            [
             0.8,
             "#7fbc41"
            ],
            [
             0.9,
             "#4d9221"
            ],
            [
             1,
             "#276419"
            ]
           ],
           "sequential": [
            [
             0,
             "#0d0887"
            ],
            [
             0.1111111111111111,
             "#46039f"
            ],
            [
             0.2222222222222222,
             "#7201a8"
            ],
            [
             0.3333333333333333,
             "#9c179e"
            ],
            [
             0.4444444444444444,
             "#bd3786"
            ],
            [
             0.5555555555555556,
             "#d8576b"
            ],
            [
             0.6666666666666666,
             "#ed7953"
            ],
            [
             0.7777777777777778,
             "#fb9f3a"
            ],
            [
             0.8888888888888888,
             "#fdca26"
            ],
            [
             1,
             "#f0f921"
            ]
           ],
           "sequentialminus": [
            [
             0,
             "#0d0887"
            ],
            [
             0.1111111111111111,
             "#46039f"
            ],
            [
             0.2222222222222222,
             "#7201a8"
            ],
            [
             0.3333333333333333,
             "#9c179e"
            ],
            [
             0.4444444444444444,
             "#bd3786"
            ],
            [
             0.5555555555555556,
             "#d8576b"
            ],
            [
             0.6666666666666666,
             "#ed7953"
            ],
            [
             0.7777777777777778,
             "#fb9f3a"
            ],
            [
             0.8888888888888888,
             "#fdca26"
            ],
            [
             1,
             "#f0f921"
            ]
           ]
          },
          "colorway": [
           "#636efa",
           "#EF553B",
           "#00cc96",
           "#ab63fa",
           "#FFA15A",
           "#19d3f3",
           "#FF6692",
           "#B6E880",
           "#FF97FF",
           "#FECB52"
          ],
          "font": {
           "color": "#2a3f5f"
          },
          "geo": {
           "bgcolor": "white",
           "lakecolor": "white",
           "landcolor": "#E5ECF6",
           "showlakes": true,
           "showland": true,
           "subunitcolor": "white"
          },
          "hoverlabel": {
           "align": "left"
          },
          "hovermode": "closest",
          "mapbox": {
           "style": "light"
          },
          "paper_bgcolor": "white",
          "plot_bgcolor": "#E5ECF6",
          "polar": {
           "angularaxis": {
            "gridcolor": "white",
            "linecolor": "white",
            "ticks": ""
           },
           "bgcolor": "#E5ECF6",
           "radialaxis": {
            "gridcolor": "white",
            "linecolor": "white",
            "ticks": ""
           }
          },
          "scene": {
           "xaxis": {
            "backgroundcolor": "#E5ECF6",
            "gridcolor": "white",
            "gridwidth": 2,
            "linecolor": "white",
            "showbackground": true,
            "ticks": "",
            "zerolinecolor": "white"
           },
           "yaxis": {
            "backgroundcolor": "#E5ECF6",
            "gridcolor": "white",
            "gridwidth": 2,
            "linecolor": "white",
            "showbackground": true,
            "ticks": "",
            "zerolinecolor": "white"
           },
           "zaxis": {
            "backgroundcolor": "#E5ECF6",
            "gridcolor": "white",
            "gridwidth": 2,
            "linecolor": "white",
            "showbackground": true,
            "ticks": "",
            "zerolinecolor": "white"
           }
          },
          "shapedefaults": {
           "line": {
            "color": "#2a3f5f"
           }
          },
          "ternary": {
           "aaxis": {
            "gridcolor": "white",
            "linecolor": "white",
            "ticks": ""
           },
           "baxis": {
            "gridcolor": "white",
            "linecolor": "white",
            "ticks": ""
           },
           "bgcolor": "#E5ECF6",
           "caxis": {
            "gridcolor": "white",
            "linecolor": "white",
            "ticks": ""
           }
          },
          "title": {
           "x": 0.05
          },
          "xaxis": {
           "automargin": true,
           "gridcolor": "white",
           "linecolor": "white",
           "ticks": "",
           "title": {
            "standoff": 15
           },
           "zerolinecolor": "white",
           "zerolinewidth": 2
          },
          "yaxis": {
           "automargin": true,
           "gridcolor": "white",
           "linecolor": "white",
           "ticks": "",
           "title": {
            "standoff": 15
           },
           "zerolinecolor": "white",
           "zerolinewidth": 2
          }
         }
        }
       }
      }
     },
     "metadata": {},
     "output_type": "display_data"
    }
   ],
   "source": [
    "px.sunburst(df , path = ['price_range' , 'n_cores'])"
   ]
  },
  {
   "cell_type": "code",
   "execution_count": 28,
   "id": "e021bb95",
   "metadata": {},
   "outputs": [
    {
     "data": {
      "application/vnd.plotly.v1+json": {
       "config": {
        "plotlyServerURL": "https://plot.ly"
       },
       "data": [
        {
         "branchvalues": "total",
         "domain": {
          "x": [
           0,
           1
          ],
          "y": [
           0,
           1
          ]
         },
         "hovertemplate": "labels=%{label}<br>count=%{value}<br>parent=%{parent}<br>id=%{id}<extra></extra>",
         "ids": [
          "1/2",
          "2/6",
          "2/9",
          "1/14",
          "1/7",
          "3/10",
          "0/0",
          "0/14",
          "0/15",
          "3/1",
          "3/18",
          "1/17",
          "2/11",
          "0/17",
          "0/16",
          "3/4",
          "3/17",
          "1/18",
          "1/11",
          "3/14",
          "3/2",
          "0/20",
          "1/13",
          "2/3",
          "3/19",
          "3/6",
          "2/18",
          "0/7",
          "3/9",
          "3/0",
          "0/3",
          "1/10",
          "2/17",
          "2/20",
          "2/14",
          "1/19",
          "1/1",
          "0/8",
          "3/15",
          "2/19",
          "2/0",
          "0/19",
          "2/4",
          "1/5",
          "0/6",
          "0/1",
          "3/11",
          "3/5",
          "1/20",
          "3/20",
          "1/8",
          "3/7",
          "3/3",
          "1/15",
          "0/5",
          "2/13",
          "1/9",
          "3/13",
          "1/4",
          "0/10",
          "1/3",
          "3/16",
          "0/12",
          "1/0",
          "2/7",
          "2/1",
          "2/10",
          "1/12",
          "2/5",
          "0/2",
          "0/4",
          "0/11",
          "1/6",
          "0/18",
          "1/16",
          "2/16",
          "3/8",
          "2/8",
          "2/15",
          "3/12",
          "0/13",
          "0/9",
          "2/2",
          "2/12",
          "1",
          "2",
          "3",
          "0"
         ],
         "labels": [
          "2",
          "6",
          "9",
          "14",
          "7",
          "10",
          "0",
          "14",
          "15",
          "1",
          "18",
          "17",
          "11",
          "17",
          "16",
          "4",
          "17",
          "18",
          "11",
          "14",
          "2",
          "20",
          "13",
          "3",
          "19",
          "6",
          "18",
          "7",
          "9",
          "0",
          "3",
          "10",
          "17",
          "20",
          "14",
          "19",
          "1",
          "8",
          "15",
          "19",
          "0",
          "19",
          "4",
          "5",
          "6",
          "1",
          "11",
          "5",
          "20",
          "20",
          "8",
          "7",
          "3",
          "15",
          "5",
          "13",
          "9",
          "13",
          "4",
          "10",
          "3",
          "16",
          "12",
          "0",
          "7",
          "1",
          "10",
          "12",
          "5",
          "2",
          "4",
          "11",
          "6",
          "18",
          "16",
          "16",
          "8",
          "8",
          "15",
          "12",
          "13",
          "9",
          "2",
          "12",
          "1",
          "2",
          "3",
          "0"
         ],
         "name": "",
         "parents": [
          "1",
          "2",
          "2",
          "1",
          "1",
          "3",
          "0",
          "0",
          "0",
          "3",
          "3",
          "1",
          "2",
          "0",
          "0",
          "3",
          "3",
          "1",
          "1",
          "3",
          "3",
          "0",
          "1",
          "2",
          "3",
          "3",
          "2",
          "0",
          "3",
          "3",
          "0",
          "1",
          "2",
          "2",
          "2",
          "1",
          "1",
          "0",
          "3",
          "2",
          "2",
          "0",
          "2",
          "1",
          "0",
          "0",
          "3",
          "3",
          "1",
          "3",
          "1",
          "3",
          "3",
          "1",
          "0",
          "2",
          "1",
          "3",
          "1",
          "0",
          "1",
          "3",
          "0",
          "1",
          "2",
          "2",
          "2",
          "1",
          "2",
          "0",
          "0",
          "0",
          "1",
          "0",
          "1",
          "2",
          "3",
          "2",
          "2",
          "3",
          "0",
          "0",
          "2",
          "2",
          "",
          "",
          "",
          ""
         ],
         "type": "sunburst",
         "values": {
          "bdata": "FwAZABsAGwAdABkAIQAcABoAFwAXABgAFQAcABAAFQAdABYAEgAaABsAHgATABkAHQAeABcAGgAcABUAFgAkABIAFQAXABUAEwAdABEAFQAUAAwAEQAPAA8AIAAWABMAIwAYABQAHgAVABIADQAYABoAEQAhAB0AGQAaABgAGwAiAB4AIAAYAAwAGQAYABIAGQAOAA4AIAATABUAHwAXABkAHwAYABMA9AH0AfQB9AE=",
          "dtype": "i2"
         }
        }
       ],
       "layout": {
        "legend": {
         "tracegroupgap": 0
        },
        "margin": {
         "t": 60
        },
        "template": {
         "data": {
          "bar": [
           {
            "error_x": {
             "color": "#2a3f5f"
            },
            "error_y": {
             "color": "#2a3f5f"
            },
            "marker": {
             "line": {
              "color": "#E5ECF6",
              "width": 0.5
             },
             "pattern": {
              "fillmode": "overlay",
              "size": 10,
              "solidity": 0.2
             }
            },
            "type": "bar"
           }
          ],
          "barpolar": [
           {
            "marker": {
             "line": {
              "color": "#E5ECF6",
              "width": 0.5
             },
             "pattern": {
              "fillmode": "overlay",
              "size": 10,
              "solidity": 0.2
             }
            },
            "type": "barpolar"
           }
          ],
          "carpet": [
           {
            "aaxis": {
             "endlinecolor": "#2a3f5f",
             "gridcolor": "white",
             "linecolor": "white",
             "minorgridcolor": "white",
             "startlinecolor": "#2a3f5f"
            },
            "baxis": {
             "endlinecolor": "#2a3f5f",
             "gridcolor": "white",
             "linecolor": "white",
             "minorgridcolor": "white",
             "startlinecolor": "#2a3f5f"
            },
            "type": "carpet"
           }
          ],
          "choropleth": [
           {
            "colorbar": {
             "outlinewidth": 0,
             "ticks": ""
            },
            "type": "choropleth"
           }
          ],
          "contour": [
           {
            "colorbar": {
             "outlinewidth": 0,
             "ticks": ""
            },
            "colorscale": [
             [
              0,
              "#0d0887"
             ],
             [
              0.1111111111111111,
              "#46039f"
             ],
             [
              0.2222222222222222,
              "#7201a8"
             ],
             [
              0.3333333333333333,
              "#9c179e"
             ],
             [
              0.4444444444444444,
              "#bd3786"
             ],
             [
              0.5555555555555556,
              "#d8576b"
             ],
             [
              0.6666666666666666,
              "#ed7953"
             ],
             [
              0.7777777777777778,
              "#fb9f3a"
             ],
             [
              0.8888888888888888,
              "#fdca26"
             ],
             [
              1,
              "#f0f921"
             ]
            ],
            "type": "contour"
           }
          ],
          "contourcarpet": [
           {
            "colorbar": {
             "outlinewidth": 0,
             "ticks": ""
            },
            "type": "contourcarpet"
           }
          ],
          "heatmap": [
           {
            "colorbar": {
             "outlinewidth": 0,
             "ticks": ""
            },
            "colorscale": [
             [
              0,
              "#0d0887"
             ],
             [
              0.1111111111111111,
              "#46039f"
             ],
             [
              0.2222222222222222,
              "#7201a8"
             ],
             [
              0.3333333333333333,
              "#9c179e"
             ],
             [
              0.4444444444444444,
              "#bd3786"
             ],
             [
              0.5555555555555556,
              "#d8576b"
             ],
             [
              0.6666666666666666,
              "#ed7953"
             ],
             [
              0.7777777777777778,
              "#fb9f3a"
             ],
             [
              0.8888888888888888,
              "#fdca26"
             ],
             [
              1,
              "#f0f921"
             ]
            ],
            "type": "heatmap"
           }
          ],
          "histogram": [
           {
            "marker": {
             "pattern": {
              "fillmode": "overlay",
              "size": 10,
              "solidity": 0.2
             }
            },
            "type": "histogram"
           }
          ],
          "histogram2d": [
           {
            "colorbar": {
             "outlinewidth": 0,
             "ticks": ""
            },
            "colorscale": [
             [
              0,
              "#0d0887"
             ],
             [
              0.1111111111111111,
              "#46039f"
             ],
             [
              0.2222222222222222,
              "#7201a8"
             ],
             [
              0.3333333333333333,
              "#9c179e"
             ],
             [
              0.4444444444444444,
              "#bd3786"
             ],
             [
              0.5555555555555556,
              "#d8576b"
             ],
             [
              0.6666666666666666,
              "#ed7953"
             ],
             [
              0.7777777777777778,
              "#fb9f3a"
             ],
             [
              0.8888888888888888,
              "#fdca26"
             ],
             [
              1,
              "#f0f921"
             ]
            ],
            "type": "histogram2d"
           }
          ],
          "histogram2dcontour": [
           {
            "colorbar": {
             "outlinewidth": 0,
             "ticks": ""
            },
            "colorscale": [
             [
              0,
              "#0d0887"
             ],
             [
              0.1111111111111111,
              "#46039f"
             ],
             [
              0.2222222222222222,
              "#7201a8"
             ],
             [
              0.3333333333333333,
              "#9c179e"
             ],
             [
              0.4444444444444444,
              "#bd3786"
             ],
             [
              0.5555555555555556,
              "#d8576b"
             ],
             [
              0.6666666666666666,
              "#ed7953"
             ],
             [
              0.7777777777777778,
              "#fb9f3a"
             ],
             [
              0.8888888888888888,
              "#fdca26"
             ],
             [
              1,
              "#f0f921"
             ]
            ],
            "type": "histogram2dcontour"
           }
          ],
          "mesh3d": [
           {
            "colorbar": {
             "outlinewidth": 0,
             "ticks": ""
            },
            "type": "mesh3d"
           }
          ],
          "parcoords": [
           {
            "line": {
             "colorbar": {
              "outlinewidth": 0,
              "ticks": ""
             }
            },
            "type": "parcoords"
           }
          ],
          "pie": [
           {
            "automargin": true,
            "type": "pie"
           }
          ],
          "scatter": [
           {
            "fillpattern": {
             "fillmode": "overlay",
             "size": 10,
             "solidity": 0.2
            },
            "type": "scatter"
           }
          ],
          "scatter3d": [
           {
            "line": {
             "colorbar": {
              "outlinewidth": 0,
              "ticks": ""
             }
            },
            "marker": {
             "colorbar": {
              "outlinewidth": 0,
              "ticks": ""
             }
            },
            "type": "scatter3d"
           }
          ],
          "scattercarpet": [
           {
            "marker": {
             "colorbar": {
              "outlinewidth": 0,
              "ticks": ""
             }
            },
            "type": "scattercarpet"
           }
          ],
          "scattergeo": [
           {
            "marker": {
             "colorbar": {
              "outlinewidth": 0,
              "ticks": ""
             }
            },
            "type": "scattergeo"
           }
          ],
          "scattergl": [
           {
            "marker": {
             "colorbar": {
              "outlinewidth": 0,
              "ticks": ""
             }
            },
            "type": "scattergl"
           }
          ],
          "scattermap": [
           {
            "marker": {
             "colorbar": {
              "outlinewidth": 0,
              "ticks": ""
             }
            },
            "type": "scattermap"
           }
          ],
          "scattermapbox": [
           {
            "marker": {
             "colorbar": {
              "outlinewidth": 0,
              "ticks": ""
             }
            },
            "type": "scattermapbox"
           }
          ],
          "scatterpolar": [
           {
            "marker": {
             "colorbar": {
              "outlinewidth": 0,
              "ticks": ""
             }
            },
            "type": "scatterpolar"
           }
          ],
          "scatterpolargl": [
           {
            "marker": {
             "colorbar": {
              "outlinewidth": 0,
              "ticks": ""
             }
            },
            "type": "scatterpolargl"
           }
          ],
          "scatterternary": [
           {
            "marker": {
             "colorbar": {
              "outlinewidth": 0,
              "ticks": ""
             }
            },
            "type": "scatterternary"
           }
          ],
          "surface": [
           {
            "colorbar": {
             "outlinewidth": 0,
             "ticks": ""
            },
            "colorscale": [
             [
              0,
              "#0d0887"
             ],
             [
              0.1111111111111111,
              "#46039f"
             ],
             [
              0.2222222222222222,
              "#7201a8"
             ],
             [
              0.3333333333333333,
              "#9c179e"
             ],
             [
              0.4444444444444444,
              "#bd3786"
             ],
             [
              0.5555555555555556,
              "#d8576b"
             ],
             [
              0.6666666666666666,
              "#ed7953"
             ],
             [
              0.7777777777777778,
              "#fb9f3a"
             ],
             [
              0.8888888888888888,
              "#fdca26"
             ],
             [
              1,
              "#f0f921"
             ]
            ],
            "type": "surface"
           }
          ],
          "table": [
           {
            "cells": {
             "fill": {
              "color": "#EBF0F8"
             },
             "line": {
              "color": "white"
             }
            },
            "header": {
             "fill": {
              "color": "#C8D4E3"
             },
             "line": {
              "color": "white"
             }
            },
            "type": "table"
           }
          ]
         },
         "layout": {
          "annotationdefaults": {
           "arrowcolor": "#2a3f5f",
           "arrowhead": 0,
           "arrowwidth": 1
          },
          "autotypenumbers": "strict",
          "coloraxis": {
           "colorbar": {
            "outlinewidth": 0,
            "ticks": ""
           }
          },
          "colorscale": {
           "diverging": [
            [
             0,
             "#8e0152"
            ],
            [
             0.1,
             "#c51b7d"
            ],
            [
             0.2,
             "#de77ae"
            ],
            [
             0.3,
             "#f1b6da"
            ],
            [
             0.4,
             "#fde0ef"
            ],
            [
             0.5,
             "#f7f7f7"
            ],
            [
             0.6,
             "#e6f5d0"
            ],
            [
             0.7,
             "#b8e186"
            ],
            [
             0.8,
             "#7fbc41"
            ],
            [
             0.9,
             "#4d9221"
            ],
            [
             1,
             "#276419"
            ]
           ],
           "sequential": [
            [
             0,
             "#0d0887"
            ],
            [
             0.1111111111111111,
             "#46039f"
            ],
            [
             0.2222222222222222,
             "#7201a8"
            ],
            [
             0.3333333333333333,
             "#9c179e"
            ],
            [
             0.4444444444444444,
             "#bd3786"
            ],
            [
             0.5555555555555556,
             "#d8576b"
            ],
            [
             0.6666666666666666,
             "#ed7953"
            ],
            [
             0.7777777777777778,
             "#fb9f3a"
            ],
            [
             0.8888888888888888,
             "#fdca26"
            ],
            [
             1,
             "#f0f921"
            ]
           ],
           "sequentialminus": [
            [
             0,
             "#0d0887"
            ],
            [
             0.1111111111111111,
             "#46039f"
            ],
            [
             0.2222222222222222,
             "#7201a8"
            ],
            [
             0.3333333333333333,
             "#9c179e"
            ],
            [
             0.4444444444444444,
             "#bd3786"
            ],
            [
             0.5555555555555556,
             "#d8576b"
            ],
            [
             0.6666666666666666,
             "#ed7953"
            ],
            [
             0.7777777777777778,
             "#fb9f3a"
            ],
            [
             0.8888888888888888,
             "#fdca26"
            ],
            [
             1,
             "#f0f921"
            ]
           ]
          },
          "colorway": [
           "#636efa",
           "#EF553B",
           "#00cc96",
           "#ab63fa",
           "#FFA15A",
           "#19d3f3",
           "#FF6692",
           "#B6E880",
           "#FF97FF",
           "#FECB52"
          ],
          "font": {
           "color": "#2a3f5f"
          },
          "geo": {
           "bgcolor": "white",
           "lakecolor": "white",
           "landcolor": "#E5ECF6",
           "showlakes": true,
           "showland": true,
           "subunitcolor": "white"
          },
          "hoverlabel": {
           "align": "left"
          },
          "hovermode": "closest",
          "mapbox": {
           "style": "light"
          },
          "paper_bgcolor": "white",
          "plot_bgcolor": "#E5ECF6",
          "polar": {
           "angularaxis": {
            "gridcolor": "white",
            "linecolor": "white",
            "ticks": ""
           },
           "bgcolor": "#E5ECF6",
           "radialaxis": {
            "gridcolor": "white",
            "linecolor": "white",
            "ticks": ""
           }
          },
          "scene": {
           "xaxis": {
            "backgroundcolor": "#E5ECF6",
            "gridcolor": "white",
            "gridwidth": 2,
            "linecolor": "white",
            "showbackground": true,
            "ticks": "",
            "zerolinecolor": "white"
           },
           "yaxis": {
            "backgroundcolor": "#E5ECF6",
            "gridcolor": "white",
            "gridwidth": 2,
            "linecolor": "white",
            "showbackground": true,
            "ticks": "",
            "zerolinecolor": "white"
           },
           "zaxis": {
            "backgroundcolor": "#E5ECF6",
            "gridcolor": "white",
            "gridwidth": 2,
            "linecolor": "white",
            "showbackground": true,
            "ticks": "",
            "zerolinecolor": "white"
           }
          },
          "shapedefaults": {
           "line": {
            "color": "#2a3f5f"
           }
          },
          "ternary": {
           "aaxis": {
            "gridcolor": "white",
            "linecolor": "white",
            "ticks": ""
           },
           "baxis": {
            "gridcolor": "white",
            "linecolor": "white",
            "ticks": ""
           },
           "bgcolor": "#E5ECF6",
           "caxis": {
            "gridcolor": "white",
            "linecolor": "white",
            "ticks": ""
           }
          },
          "title": {
           "x": 0.05
          },
          "xaxis": {
           "automargin": true,
           "gridcolor": "white",
           "linecolor": "white",
           "ticks": "",
           "title": {
            "standoff": 15
           },
           "zerolinecolor": "white",
           "zerolinewidth": 2
          },
          "yaxis": {
           "automargin": true,
           "gridcolor": "white",
           "linecolor": "white",
           "ticks": "",
           "title": {
            "standoff": 15
           },
           "zerolinecolor": "white",
           "zerolinewidth": 2
          }
         }
        }
       }
      }
     },
     "metadata": {},
     "output_type": "display_data"
    }
   ],
   "source": [
    "px.sunburst(df , path = ['price_range' , 'pc'])"
   ]
  },
  {
   "cell_type": "code",
   "execution_count": 29,
   "id": "950d5395",
   "metadata": {},
   "outputs": [
    {
     "data": {
      "application/vnd.plotly.v1+json": {
       "config": {
        "plotlyServerURL": "https://plot.ly"
       },
       "data": [
        {
         "bingroup": "x",
         "hovertemplate": "price_range=1<br>px_height=%{x}<br>count=%{y}<extra></extra>",
         "legendgroup": "1",
         "marker": {
          "color": "#636efa",
          "pattern": {
           "shape": ""
          }
         },
         "name": "1",
         "orientation": "v",
         "showlegend": true,
         "type": "histogram",
         "x": {
          "bdata": "FAC4BOwDXwKSAoYDlwHJAFUAbgStAa0CcAO6ABsA9QMJAZQDUwHeAzUEoAMEArEA0QQ4A4cBfQCuBAADQgGlBesEbgIKAl0CgwGMAM8DogI3AcIBLQD6AYoCUQO5A6oDOQP5BLICNwApA+cA2gIKBeoBsQROAKgDegcOAhAGSQQFBS8BTgLbAR4EXwKpAmgAOAAdBPoBTQe5AIEEowGJAnAF6QPIAqIBgAFNAbMGOgDUBK0FZQThAU0AxANkAXUB5wKiALYCSQEkAhMCNwOJAsYDDgGiAawFoAQABxUCLgKpAiIF8gIaASQBgQM/AwYCSAMwAFICUwBsAbIDlAXvAnQCBgGFAZgDAwQPAXEBQQWQA+wAeABYAj0GtwOyAKsBdgPRBDABbwUkBDAB+AGnA64DnwB4AuoD4ARsACwBCQaxAFgA/waYAyUBxQIfAloE1wEmA1AARADSArEBugC+BIkCwQC4BU8CqQJfBFUEsgF8BXcB9QL+AeABcgJdAZgBjQL5AmcB4AB+AUQE4gPSAF8B9gJ9ASMBQwSBASMGFAGgAIoAEwH6BZgAHQD1Ae8CSAKgAGQCxQIPBTkDTACiBv8CAAI4AI8CZgFpAx0CaQFPAWYGcATdAewAiQHBAiYAgwEqBhgBYgRSAgYClwJzAUoCmQG6AbgD1QbAAukB7gUhAioAowCKBEkBvAHjAAEFLgBZANkBzQHBAMYBowFVA9sBLQOtABUCkAOCAL8CbwPsBDUFLgSnA7gA7gCeAtUCsQM3AYUEnQOhBKoGQwavAdMAmwJgA2YDYwW/AREBJQZxABwD/QPWBAUAywKkAToB4wLDAzcC3QSqAmgFEQDXA50DmQElAYAB9QESAp4CfgUxA4UDSQFFA7ACBwGBAq0GlwP2AjgBfwCOAIsBgwLAA3UCPwOHA5sDtQLiBHgBaQCTAuIBngAlBlcBIQGnBosDHASaAdYGwwUsBxsC6wMIAR8CXARPAXMARACDAjgAFwCKAY0FUwCqAzUETAEJB50GAgBFA2QBmwCqBJ0A8wGwA2ACcgCgAR4FCgMRAxYBOABCAWgEjQGCAdYAcQLkATQBbABaAEwCBASBA/ID6gCzAnUA/gLbBb4ABgJSBmIAiwEGA/UAqQOpA64B/gBpAHsE7wH4AskEbwHOBKgBXQKRAmYAOgJ8AVECKQF3BXoGKQIuADIDigA/AwQFFwSfAxEEZwAYAigEXAHkAacCtAOqAW8CBADpA44BKgHUAC4ANAWsARUDogKEAR8BowKZApYCAACVAjACWACWAngDkAQDAHQGOQTHAfcBIwGtAPkDugLOAOYCWwHxAA==",
          "dtype": "i2"
         },
         "xaxis": "x",
         "yaxis": "y"
        },
        {
         "bingroup": "x",
         "hovertemplate": "price_range=2<br>px_height=%{x}<br>count=%{y}<extra></extra>",
         "legendgroup": "2",
         "marker": {
          "color": "#EF553B",
          "pattern": {
           "shape": ""
          }
         },
         "name": "2",
         "orientation": "v",
         "showlegend": true,
         "type": "histogram",
         "x": {
          "bdata": "iQPvBMAEWAEjAbsAWwGoBbIBEgRmBbICmwJ/APEC+AGUBHUFmgItAsoEJAZ1AHsCJgI7ALMARwE5AeIANgb7ATwHawP+AXQAKgJBAscEewIVBIoCmATaA1UFggLGAs4CTARUA8YC/QSBANUAWAQ3ACoA/gObAT4CEQL5BJIEoQGZBMkBdAFCB5MBKwImB6oAYgMzBQgCnwBsBHcAcwIOAOkC/QB1AgECDQDbBCwBEwGwAFABzwGLBagAMQJ6An8CfwCvAR4DWgFpBg0B+wF7AUMCOwFgAEkDFQDrACIEUAIqA7MDxQHNAF0DSwF8Aj8D6QCdAJEB1gOJA/kAIwPLAboAxgIHAWEAQAFFAw0D+wDqBKEBrgGoALsF+gIeAdYAZAKtBA4FsgGJAOwBtwBYAFAAYwInArQBqAKvAtkAdASWALUBIgRRAjsATwSuA6YFIAb1AZMEzwClAHkB2QIOAiECcABiBFIAsQIWAFEBFgDiAeUArABjAx4BDgKfAlgDVQAeAdkDEQGxBkQAugJ3BcYAwQDzAFoGeAKWBk0BZwDYASYDBgIYA1sDFwIFAusBDAGQANkCvADGBEsBmgTXALEDIgJIBD8CgAduBNEC5QGBAloAcQLaBFcAiALZA+EDaQFoAGoCwAOpADMDfgDIBfMDKQG6A6oE1wEzAFIDXQHCApgFkQBPAyMA8APXA/QAswRPBKgAzwJKAbwDdASnBO8AjgJVA5QFZgJRBOABygWaADoBDwJqA6ICkQK5BA8AyQH9BHoBTQElA20HJQZiABEBVQTTABQCGwXxARgA9wELAZUAngD5AIwAUQATBLwBygCUAboDEgEJA8YB1AFyAnAD/QJmAlsBtwQ+AB8EdAAOArkE2ASOAWYB0wA+ALcBlQC/Ac0CowaMAcEATgPxATIA1AByA3YASgIyA6oBHgTFBFQBWgISATcFBQZ+ARABpQBqAWcAEgAjBn8AygU9BDYEuAHMANMBLQVkAQoAdwXsAbsCOgLmAvgC5gHKAFoAVgDCALgBowDAAAgEOgBmAqACQATzATMCfgDLABUB4QCiA8wB4QAtBq4AGgHkBF4CugOGABkB4AAKA1YBdQP3A5YBfAAWAdwDWQPIAvQD2gLNA4sFcQb+BmMDtQDyACEGjgMaAAcCoQA4BEcAtQEjAroFcwHYAqMB1gCXBDgAOQEoAWYBVAWoBygDfAG9AJQAGgQLAI8DfwLwAA0C7gQjAiADWwHIBN8AHgLOAqIF0QALAk4BxQGhAYUCWwVxAzIFPQGSAwUDLQUcATAC1gGSACMFlQByAMkAVwKTBNADowJGA2IC3wCTAw==",
          "dtype": "i2"
         },
         "xaxis": "x",
         "yaxis": "y"
        },
        {
         "bingroup": "x",
         "hovertemplate": "price_range=3<br>px_height=%{x}<br>count=%{y}<extra></extra>",
         "legendgroup": "3",
         "marker": {
          "color": "#00cc96",
          "pattern": {
           "shape": ""
          }
         },
         "name": "3",
         "orientation": "v",
         "showlegend": true,
         "type": "histogram",
         "x": {
          "bdata": "fQH4AJcA2AO5ASIFzgMmAv8BTgWyAGECvQbKAHUDIgJFAosCHQZsAM0AOgIEAJAEPwHEAgEERQauA0QDTgPqBiUBYQaGBB8E2gRVAhoCMwOMAQYBtAJHA/QC8QRBAkwGlAJVBCsBiQFHAzECQQBrAmMCiQX3ADsAvQI1ARwEygb3Ao0BxAPpALoD+AWgATQCmwKpAGkAswBhAyICUgIgAGUB9gBQBY4AfQKaASIDWAHABlYDLAAFBXIAOAETAD4EwwJTBM0AFQW/BYIAgwWjBJUERwBvAOsCmAFSBdsBvwEqAFsB1wK0APoAogTOBe8BHgGUBA0DQwSiAqMC+QOYBGECEwG/AaQAdwIoBG4CvQPsAP0GqgCLAd4BvwRIAjwGTQZnBLMCCgdbA7sAzgCJBjMFvQDKBGUCnwCZBJIBQQI0AGwBpgPKANkCNwSiBpoBDgMABBQBKQLVA7gEHAUzBeoAvwFzAQ8BogY+BIQEzQEwAcwAYQIPBM0FzgFoBd4FOwUSBXUFagIYAbICQwWFA8sCwwETBdkAVwTaAl4CUQYDB+cACACaAFwDbQDBA5ABvgCvBV8ARAIpARMCNAKbBKECnAHRA8oCSwM0AQoCbAEHAtYAVgF2ANsDWwFBAHEDRASHAk4EVgFgAaUAjAEJA7AAAAFyAdcDGQN4AFUBKwDuBC8DNANwAowEPQPHAAcCxgaDAc4BBAScBgMB7ACKAp0HBQXEBP8B6AV5BGcHAQY1A9IBqgG3BaABZAPVBmsDsQHfA+0EcwDrA/0AggMOAloBiQDKBHABrgLgA3MAEwEHAx4DyQDWAwcFIgR6A0cBSAGLBPgEIANSBSwDvAO0AlME5wWzAKcBIANRAKYCUwbXBdwAVwROAusEcAWPArQC3ASTATQERwGHACUCRgOeBVUGEwB3A0gCAQHDAJkAXwG9BPMCIgeZATAFSwQPAw8EegBjBEkFmgCKAW8EnAMSAOsBHwEABGIAjAEbAVsBAAAhBTIAVAIpAyIByQIbBgkDUwDLAIwFSgTlBpwEjABMBBsGhgOhAPQBiQJDA5gCCQC1AdMDjwJEAJoDUgf7AFIFIgJPAXkEWAIVABcFlgB3BV0EfAFbApcEogJzASgECQM+AqYCUgBIBJ0A9AWeBRgF0gPVAnUA/AL/Bl4CCwFzARMFuwH/BJcDwQOvAYcCdACUBsUEWAKnBIEEzwDJAg8CfQCXA64CawcCAVMGDgNbAFoGSgBOAWgC5AKeApAAIwFIBV0DqwXBBI8CDwGfAMEBdwAAAQoGfANvAX0G9QIVApgC6wIIA4wCrASeBrEFBAB4AxACZAPjAQ==",
          "dtype": "i2"
         },
         "xaxis": "x",
         "yaxis": "y"
        },
        {
         "bingroup": "x",
         "hovertemplate": "price_range=0<br>px_height=%{x}<br>count=%{y}<extra></extra>",
         "legendgroup": "0",
         "marker": {
          "color": "#ab63fa",
          "pattern": {
           "shape": ""
          }
         },
         "name": "0",
         "orientation": "v",
         "showlegend": true,
         "type": "histogram",
         "x": {
          "bdata": "AAKCAXEEZAFeA9IBkwSdATcBLAYBBDYDaQFCAcsBoAD7AhAEpgBgAAEDkwGLAtwBQAFFAUYAEwHJAmoFMAHlALQBRwJlBOsCKwPaArEB2gA0AqQBHgEnAccAzgQdApQBBgF+ApQAeAIZA/YAQwHDAmQBkAOcAFgB2gQuAesAdgI3Ad0APwCiAbIAxgHlAtoBJwBIAs8AawHRAMMAIgWGAFwE8gMUA7wABARPAGAA7QEeAE0ACAG/AMMAiQV+AOQAjgHBAbEA9QP9AmsCggDuARkBBgAMAf0B7gHUA4YD1QJ2BEUCqwIYAqIBgQC9BD8E/wKaAroAoAGzAEYFGwD6AFcEowBpAVIBHARUBNkB0AHiBIEB8AD4AzkCawRAA74BgQNAAScBTwC1AlsAOgC1AB8FwgJnAzIEQQPlAbYAwAApAn0CcQCWBTMFHwQiAU0C0ADNAmUCJwAMBEcBCgN9ATIC0QDlA1sAvQHmAesB+gLAAbYBxQMUAs0BewABACQCtwObAhcEfgSBAgUCEQPDAMkCrAAcAhIARwFSAJYASwDsATIHKwWXBD8BBwKvAsoBHgO/AD0ClQAqAAkCugEJAjMGigDuAggAqwAaAtkDygNOAkICWABAAFoDfQXtAFUEbwBCAXUCjAA5BBMB5QIjApIAqQCQAQYDHAHRAbcDswCNAvsA3QFBAMwChgCzACQDEwN7AVcDMgNyAtkADwFYAE4BqAB2AKMEbgKOAeECuwSsACUBnAErAXICaAEUAJcDIgE6Am0C2wDUAdcFzgAwANMAuwQTAp4FpgXeAdkA5QErAEIBmwImA2sEnQOVAacDowFJBDIBLAFjBOMDJQH3AsIA5QD/AQMA8AHUAm8A+AB4Am4BrgD0AyYBlwC+A2IBwgDuAGQAVwL6BD4AOwFWBz4BPgJWAMMDcwEUA1YDTgPUAUYEQgDMADsE5QBrAyMAqAAWAh0BXQJ/BN8DQwGNAWsDKAJRAgwBfgG7AUACqwInBG8CBQMfAHcD1QEoAJsEaQXlATsCrwFyBA8AwQN2ApQB+AC7AgcACAWRA80BfQDuAccACAOLAuECeAFJAI4BLQO0A4kE8gKVAZECJwFMAYkC6AJzAAgDNQARAcECVABBAwIBCwJ3AKgBtgMyAV4AmgE0ASMAQwDpBHkDewCWAZcBDQOnBH4C8AGkBNoCbgFMAacAcQPnAXgAegKjA5kDJQMhBFgB0wBPAHcDfwEKASgABgG4A0EBGATWASQAVQCnAGkCEgNSAboEhgFuAP0AtwA0AP4BlQHjAN8B4wC5AUAAvAPUAr4AuwQqADIBTwLnAkACxgRQAQ==",
          "dtype": "i2"
         },
         "xaxis": "x",
         "yaxis": "y"
        }
       ],
       "layout": {
        "barmode": "relative",
        "legend": {
         "title": {
          "text": "price_range"
         },
         "tracegroupgap": 0
        },
        "margin": {
         "t": 60
        },
        "template": {
         "data": {
          "bar": [
           {
            "error_x": {
             "color": "#2a3f5f"
            },
            "error_y": {
             "color": "#2a3f5f"
            },
            "marker": {
             "line": {
              "color": "#E5ECF6",
              "width": 0.5
             },
             "pattern": {
              "fillmode": "overlay",
              "size": 10,
              "solidity": 0.2
             }
            },
            "type": "bar"
           }
          ],
          "barpolar": [
           {
            "marker": {
             "line": {
              "color": "#E5ECF6",
              "width": 0.5
             },
             "pattern": {
              "fillmode": "overlay",
              "size": 10,
              "solidity": 0.2
             }
            },
            "type": "barpolar"
           }
          ],
          "carpet": [
           {
            "aaxis": {
             "endlinecolor": "#2a3f5f",
             "gridcolor": "white",
             "linecolor": "white",
             "minorgridcolor": "white",
             "startlinecolor": "#2a3f5f"
            },
            "baxis": {
             "endlinecolor": "#2a3f5f",
             "gridcolor": "white",
             "linecolor": "white",
             "minorgridcolor": "white",
             "startlinecolor": "#2a3f5f"
            },
            "type": "carpet"
           }
          ],
          "choropleth": [
           {
            "colorbar": {
             "outlinewidth": 0,
             "ticks": ""
            },
            "type": "choropleth"
           }
          ],
          "contour": [
           {
            "colorbar": {
             "outlinewidth": 0,
             "ticks": ""
            },
            "colorscale": [
             [
              0,
              "#0d0887"
             ],
             [
              0.1111111111111111,
              "#46039f"
             ],
             [
              0.2222222222222222,
              "#7201a8"
             ],
             [
              0.3333333333333333,
              "#9c179e"
             ],
             [
              0.4444444444444444,
              "#bd3786"
             ],
             [
              0.5555555555555556,
              "#d8576b"
             ],
             [
              0.6666666666666666,
              "#ed7953"
             ],
             [
              0.7777777777777778,
              "#fb9f3a"
             ],
             [
              0.8888888888888888,
              "#fdca26"
             ],
             [
              1,
              "#f0f921"
             ]
            ],
            "type": "contour"
           }
          ],
          "contourcarpet": [
           {
            "colorbar": {
             "outlinewidth": 0,
             "ticks": ""
            },
            "type": "contourcarpet"
           }
          ],
          "heatmap": [
           {
            "colorbar": {
             "outlinewidth": 0,
             "ticks": ""
            },
            "colorscale": [
             [
              0,
              "#0d0887"
             ],
             [
              0.1111111111111111,
              "#46039f"
             ],
             [
              0.2222222222222222,
              "#7201a8"
             ],
             [
              0.3333333333333333,
              "#9c179e"
             ],
             [
              0.4444444444444444,
              "#bd3786"
             ],
             [
              0.5555555555555556,
              "#d8576b"
             ],
             [
              0.6666666666666666,
              "#ed7953"
             ],
             [
              0.7777777777777778,
              "#fb9f3a"
             ],
             [
              0.8888888888888888,
              "#fdca26"
             ],
             [
              1,
              "#f0f921"
             ]
            ],
            "type": "heatmap"
           }
          ],
          "histogram": [
           {
            "marker": {
             "pattern": {
              "fillmode": "overlay",
              "size": 10,
              "solidity": 0.2
             }
            },
            "type": "histogram"
           }
          ],
          "histogram2d": [
           {
            "colorbar": {
             "outlinewidth": 0,
             "ticks": ""
            },
            "colorscale": [
             [
              0,
              "#0d0887"
             ],
             [
              0.1111111111111111,
              "#46039f"
             ],
             [
              0.2222222222222222,
              "#7201a8"
             ],
             [
              0.3333333333333333,
              "#9c179e"
             ],
             [
              0.4444444444444444,
              "#bd3786"
             ],
             [
              0.5555555555555556,
              "#d8576b"
             ],
             [
              0.6666666666666666,
              "#ed7953"
             ],
             [
              0.7777777777777778,
              "#fb9f3a"
             ],
             [
              0.8888888888888888,
              "#fdca26"
             ],
             [
              1,
              "#f0f921"
             ]
            ],
            "type": "histogram2d"
           }
          ],
          "histogram2dcontour": [
           {
            "colorbar": {
             "outlinewidth": 0,
             "ticks": ""
            },
            "colorscale": [
             [
              0,
              "#0d0887"
             ],
             [
              0.1111111111111111,
              "#46039f"
             ],
             [
              0.2222222222222222,
              "#7201a8"
             ],
             [
              0.3333333333333333,
              "#9c179e"
             ],
             [
              0.4444444444444444,
              "#bd3786"
             ],
             [
              0.5555555555555556,
              "#d8576b"
             ],
             [
              0.6666666666666666,
              "#ed7953"
             ],
             [
              0.7777777777777778,
              "#fb9f3a"
             ],
             [
              0.8888888888888888,
              "#fdca26"
             ],
             [
              1,
              "#f0f921"
             ]
            ],
            "type": "histogram2dcontour"
           }
          ],
          "mesh3d": [
           {
            "colorbar": {
             "outlinewidth": 0,
             "ticks": ""
            },
            "type": "mesh3d"
           }
          ],
          "parcoords": [
           {
            "line": {
             "colorbar": {
              "outlinewidth": 0,
              "ticks": ""
             }
            },
            "type": "parcoords"
           }
          ],
          "pie": [
           {
            "automargin": true,
            "type": "pie"
           }
          ],
          "scatter": [
           {
            "fillpattern": {
             "fillmode": "overlay",
             "size": 10,
             "solidity": 0.2
            },
            "type": "scatter"
           }
          ],
          "scatter3d": [
           {
            "line": {
             "colorbar": {
              "outlinewidth": 0,
              "ticks": ""
             }
            },
            "marker": {
             "colorbar": {
              "outlinewidth": 0,
              "ticks": ""
             }
            },
            "type": "scatter3d"
           }
          ],
          "scattercarpet": [
           {
            "marker": {
             "colorbar": {
              "outlinewidth": 0,
              "ticks": ""
             }
            },
            "type": "scattercarpet"
           }
          ],
          "scattergeo": [
           {
            "marker": {
             "colorbar": {
              "outlinewidth": 0,
              "ticks": ""
             }
            },
            "type": "scattergeo"
           }
          ],
          "scattergl": [
           {
            "marker": {
             "colorbar": {
              "outlinewidth": 0,
              "ticks": ""
             }
            },
            "type": "scattergl"
           }
          ],
          "scattermap": [
           {
            "marker": {
             "colorbar": {
              "outlinewidth": 0,
              "ticks": ""
             }
            },
            "type": "scattermap"
           }
          ],
          "scattermapbox": [
           {
            "marker": {
             "colorbar": {
              "outlinewidth": 0,
              "ticks": ""
             }
            },
            "type": "scattermapbox"
           }
          ],
          "scatterpolar": [
           {
            "marker": {
             "colorbar": {
              "outlinewidth": 0,
              "ticks": ""
             }
            },
            "type": "scatterpolar"
           }
          ],
          "scatterpolargl": [
           {
            "marker": {
             "colorbar": {
              "outlinewidth": 0,
              "ticks": ""
             }
            },
            "type": "scatterpolargl"
           }
          ],
          "scatterternary": [
           {
            "marker": {
             "colorbar": {
              "outlinewidth": 0,
              "ticks": ""
             }
            },
            "type": "scatterternary"
           }
          ],
          "surface": [
           {
            "colorbar": {
             "outlinewidth": 0,
             "ticks": ""
            },
            "colorscale": [
             [
              0,
              "#0d0887"
             ],
             [
              0.1111111111111111,
              "#46039f"
             ],
             [
              0.2222222222222222,
              "#7201a8"
             ],
             [
              0.3333333333333333,
              "#9c179e"
             ],
             [
              0.4444444444444444,
              "#bd3786"
             ],
             [
              0.5555555555555556,
              "#d8576b"
             ],
             [
              0.6666666666666666,
              "#ed7953"
             ],
             [
              0.7777777777777778,
              "#fb9f3a"
             ],
             [
              0.8888888888888888,
              "#fdca26"
             ],
             [
              1,
              "#f0f921"
             ]
            ],
            "type": "surface"
           }
          ],
          "table": [
           {
            "cells": {
             "fill": {
              "color": "#EBF0F8"
             },
             "line": {
              "color": "white"
             }
            },
            "header": {
             "fill": {
              "color": "#C8D4E3"
             },
             "line": {
              "color": "white"
             }
            },
            "type": "table"
           }
          ]
         },
         "layout": {
          "annotationdefaults": {
           "arrowcolor": "#2a3f5f",
           "arrowhead": 0,
           "arrowwidth": 1
          },
          "autotypenumbers": "strict",
          "coloraxis": {
           "colorbar": {
            "outlinewidth": 0,
            "ticks": ""
           }
          },
          "colorscale": {
           "diverging": [
            [
             0,
             "#8e0152"
            ],
            [
             0.1,
             "#c51b7d"
            ],
            [
             0.2,
             "#de77ae"
            ],
            [
             0.3,
             "#f1b6da"
            ],
            [
             0.4,
             "#fde0ef"
            ],
            [
             0.5,
             "#f7f7f7"
            ],
            [
             0.6,
             "#e6f5d0"
            ],
            [
             0.7,
             "#b8e186"
            ],
            [
             0.8,
             "#7fbc41"
            ],
            [
             0.9,
             "#4d9221"
            ],
            [
             1,
             "#276419"
            ]
           ],
           "sequential": [
            [
             0,
             "#0d0887"
            ],
            [
             0.1111111111111111,
             "#46039f"
            ],
            [
             0.2222222222222222,
             "#7201a8"
            ],
            [
             0.3333333333333333,
             "#9c179e"
            ],
            [
             0.4444444444444444,
             "#bd3786"
            ],
            [
             0.5555555555555556,
             "#d8576b"
            ],
            [
             0.6666666666666666,
             "#ed7953"
            ],
            [
             0.7777777777777778,
             "#fb9f3a"
            ],
            [
             0.8888888888888888,
             "#fdca26"
            ],
            [
             1,
             "#f0f921"
            ]
           ],
           "sequentialminus": [
            [
             0,
             "#0d0887"
            ],
            [
             0.1111111111111111,
             "#46039f"
            ],
            [
             0.2222222222222222,
             "#7201a8"
            ],
            [
             0.3333333333333333,
             "#9c179e"
            ],
            [
             0.4444444444444444,
             "#bd3786"
            ],
            [
             0.5555555555555556,
             "#d8576b"
            ],
            [
             0.6666666666666666,
             "#ed7953"
            ],
            [
             0.7777777777777778,
             "#fb9f3a"
            ],
            [
             0.8888888888888888,
             "#fdca26"
            ],
            [
             1,
             "#f0f921"
            ]
           ]
          },
          "colorway": [
           "#636efa",
           "#EF553B",
           "#00cc96",
           "#ab63fa",
           "#FFA15A",
           "#19d3f3",
           "#FF6692",
           "#B6E880",
           "#FF97FF",
           "#FECB52"
          ],
          "font": {
           "color": "#2a3f5f"
          },
          "geo": {
           "bgcolor": "white",
           "lakecolor": "white",
           "landcolor": "#E5ECF6",
           "showlakes": true,
           "showland": true,
           "subunitcolor": "white"
          },
          "hoverlabel": {
           "align": "left"
          },
          "hovermode": "closest",
          "mapbox": {
           "style": "light"
          },
          "paper_bgcolor": "white",
          "plot_bgcolor": "#E5ECF6",
          "polar": {
           "angularaxis": {
            "gridcolor": "white",
            "linecolor": "white",
            "ticks": ""
           },
           "bgcolor": "#E5ECF6",
           "radialaxis": {
            "gridcolor": "white",
            "linecolor": "white",
            "ticks": ""
           }
          },
          "scene": {
           "xaxis": {
            "backgroundcolor": "#E5ECF6",
            "gridcolor": "white",
            "gridwidth": 2,
            "linecolor": "white",
            "showbackground": true,
            "ticks": "",
            "zerolinecolor": "white"
           },
           "yaxis": {
            "backgroundcolor": "#E5ECF6",
            "gridcolor": "white",
            "gridwidth": 2,
            "linecolor": "white",
            "showbackground": true,
            "ticks": "",
            "zerolinecolor": "white"
           },
           "zaxis": {
            "backgroundcolor": "#E5ECF6",
            "gridcolor": "white",
            "gridwidth": 2,
            "linecolor": "white",
            "showbackground": true,
            "ticks": "",
            "zerolinecolor": "white"
           }
          },
          "shapedefaults": {
           "line": {
            "color": "#2a3f5f"
           }
          },
          "ternary": {
           "aaxis": {
            "gridcolor": "white",
            "linecolor": "white",
            "ticks": ""
           },
           "baxis": {
            "gridcolor": "white",
            "linecolor": "white",
            "ticks": ""
           },
           "bgcolor": "#E5ECF6",
           "caxis": {
            "gridcolor": "white",
            "linecolor": "white",
            "ticks": ""
           }
          },
          "title": {
           "x": 0.05
          },
          "xaxis": {
           "automargin": true,
           "gridcolor": "white",
           "linecolor": "white",
           "ticks": "",
           "title": {
            "standoff": 15
           },
           "zerolinecolor": "white",
           "zerolinewidth": 2
          },
          "yaxis": {
           "automargin": true,
           "gridcolor": "white",
           "linecolor": "white",
           "ticks": "",
           "title": {
            "standoff": 15
           },
           "zerolinecolor": "white",
           "zerolinewidth": 2
          }
         }
        },
        "xaxis": {
         "anchor": "y",
         "domain": [
          0,
          1
         ],
         "title": {
          "text": "px_height"
         }
        },
        "yaxis": {
         "anchor": "x",
         "domain": [
          0,
          1
         ],
         "title": {
          "text": "count"
         }
        }
       }
      }
     },
     "metadata": {},
     "output_type": "display_data"
    }
   ],
   "source": [
    "px.histogram(df , x = 'px_height' , color = 'price_range')"
   ]
  },
  {
   "cell_type": "code",
   "execution_count": 30,
   "id": "8f33340b",
   "metadata": {},
   "outputs": [
    {
     "data": {
      "application/vnd.plotly.v1+json": {
       "config": {
        "plotlyServerURL": "https://plot.ly"
       },
       "data": [
        {
         "bingroup": "x",
         "hovertemplate": "price_range=1<br>px_width=%{x}<br>count=%{y}<extra></extra>",
         "legendgroup": "1",
         "marker": {
          "color": "#636efa",
          "pattern": {
           "shape": ""
          }
         },
         "name": "1",
         "orientation": "v",
         "showlegend": true,
         "type": "histogram",
         "x": {
          "bdata": "9AK8BHYG7AJuAygENgPdBIAE4QQvA8oCsAUSBwYDBwXJAskD2gTOBWIEGQRmB8YHJQVxA9gD4AW/BWoDAwOiB60HGAMgBJ0C9QQgA8wHhQcJBhIGlgdzAm8DggPYA5wHBgZBBUQDRwKmB68CBwahBXYDzQWOAnYFiAf5BTwGxgRRBsoCugPVBYkHRASrAoAG5QOyBQcClgcIA1QHegdQBAMHyASiBf8DUQWVBWoH5QQABb4GqwTtAgEE0QRvB54D2QZrAnIDHQRaA/YCUARdBrcHIQI9BdAGtwY6B3IDuAQaBFwH2QVOBbcCGAXMBVAC1gOEAjkFBQMFBLgDIwcuBngCMwbjAsMD5AXoAyACiAU8BlkDVgdVBIAHCQZbB6wCEAY+B30C+wayB6cEQQT1BqUGdgKgBOgE5wUVBw8CPAYCBQQCagfUBocEMgOqA14FIAP4Ay8FzgL+AnoGzgfuBIsD0gQ7BkEE0wLWBMoEOwWQBbwG7gUKAsoFpAMbBEYHnwI4BXMFDwPMBH4F3AUCBIcEjQSzBDMCDQU/A6QHAgQEAiYDrwLQBsoChgb6AWEF1wMLBc8CewcQB7QHjQRVB98GuQX4AvYG9gZyBTcDEAa3BXYHFQcRBvAFSAQSB5IGOwarBwMH0gZABD4DDQcdAtIChgI3BKcE5wY2A8YCWwcUBe4EagP7BZACEwYEA2gHLQQCBj4CmgTdA+IGLALJBvQBYQUzBx0DEwR3A/MDgAP8Bi4HNwTbBeQCJwMkAzcFgwcEB58H5ARrBV4Higd4BLMDHgPzA00GvQUzAyYEngb0BRwEpgeKBdAGiwQQA3gF5gbwBdoDHQV4A64FPAS6BLYEWwK4A1YHgALYBRAG7QWtAwEHDwSeBDcGQQWEBPUGNAR7A2AF+wEPBAME9wWFBxMFsQaOA98GUgObBaUHTALaAkoEeQZnBpcF1AJYB50DaQcPBkEHxAdRB9gEBAUHAr8CvAanAnwCSAIWAw8COgNRA7cFMAPKBJ8EYgODB/4GlAJ9BUwClwK/BvsCQgTrA7IHOQd6BowFTwZeBG8CiwfGAqYGewMWBLIH+QLHArgEqwctAhEHrARPBJQGmwcEBKkCbQOgB3EHXgV8B/MCPQerAz0DOwSMBLcEugNLBHEFCwS6BrUG8ATvBAgElQWqA6sE/QOqAtwClgN/BgIHagOMA+4DWwWtBmsG/gVvBJYF4AZ4BsEH2gLWBM8EtQRdBgEDRwWYBNQCDQRvAjICFgfmBLsErwVdAlECiwTOAuUD4gOfB2EGxQJqA7oFmwR1Ar8HuwcZAtoDiwLDBAkF+gOPBOcDvQNWAw==",
          "dtype": "i2"
         },
         "xaxis": "x",
         "yaxis": "y"
        },
        {
         "bingroup": "x",
         "hovertemplate": "price_range=2<br>px_width=%{x}<br>count=%{y}<extra></extra>",
         "legendgroup": "2",
         "marker": {
          "color": "#EF553B",
          "pattern": {
           "shape": ""
          }
         },
         "name": "2",
         "orientation": "v",
         "showlegend": true,
         "type": "histogram",
         "x": {
          "bdata": "xAe0BvoGoAWaBR8F2gJNBscDKAdnBSQDDASrAkkFIgbBBFAGswR6BdoElAYBAs0DOgWzBBIDRALwBOAEhgehBq8HAQT1A/0FbQIvBEsGSgPJBswGxASnBKIG/QWbBO8C2QWeBBwElQVpA8ECggb8AxAEGAbKBH0C8QPaBgcGsgO2BRgHtAKPB40H/AKrBzQCvARsBfIC1AKeBIwCpwPoBFQF+gaqAp4FtwUwBiME2gMFBIIDDgSAB9UD5gWCAtEChgYmAjEDvAWCBgIEzQPHBFQC3gNIBRgFMgJJAi0FBAPPBmsEqQJ0A+sEFgPrBJ8F8Qa0AzIGhQQhBTkHTQbrBI4CqwNQAwsHgwNqBrcF9QNbBvcCkgLXBG0HSAeTBK4GAQfDBzkFjgPdBZgELwKSBo8CswZXAhYFlQQwA00Edgb+AZsHjQWgAj8CVAVzBtoGKAe5BWcFigTgAiUCzgNcBFUGWgOmBkUGuwIHAmgFYgZqA0QGjgPnAxQFgwKlBXMDJgPMBe0DqAZJB/oDPQMcBiAEoQRqBoQGlAJhB7gDLwYxBI8FgASdBGMDuQLLBxICQAOgAvMEoANmBfMDiQdlBHkHPAODBGoCjQe9BeoFGwdmBjYF/QK1B+AC+wOMBe0F/wEdAqwDxwamBM0HugLDBu8EjQLBB7gElwLjAu0DpAJXBnEGbwd9Ax0F3gY/BFEFmAVlBiwE8wKaBQwFvwdDBWQGcgP1BtwFvARCBtgC0gUmAkYG3gLwBGAD9gODBQ0CjAJIBe8CfwIMB4AHLQb/Af4E3wSsAt8E5wZqAvcCJwIxB2wD6wIKAgADCAamBuMCXAeCA0kGWwIIBMEF5QJuBHkEawenAsUFAwYgAsoGVgLABo4Giwf4BRcDgQVOAxoFBQU4ArYEOgdiBXcDVwNzAkwF9QSrBPwCEAYjB2EDcQUMB8AGhAQ3BFEHUwaLBGYDTwTiBIYC7AO1BmwCNwZuBBwGMwL9A6MCmQd/BR8GlAYyA9QFbQY1A6wHCAT7Bk4GCgZ8AzkC8wMfBfAGwwNRBkAEtga3Ah8EJwbrBoME0gS/By8GCQaxBpcExgKrB7ACygOtBIcEygdMA2kGEwebBwwEQQNIAt8F3QO+BhAEfARhBqIGJQfEB+oErwRnBOMGHgb8ARUCBQQJBZYGWQS9A7UGpgYyA+ACpwIyBn4EyAJHA2YCOwerB+0FbQODBeYCvgb8A8QEPwSGBcAC8AU8B68FAQKMBvEGpgJVBHAH1QIeAoADwwMIAvsEjQZmBZYGDQfTA0kFCAcMBJkEBwM2A64G/gMzA0YCEwWJBkkF5gJ1A50F4QKtBw==",
          "dtype": "i2"
         },
         "xaxis": "x",
         "yaxis": "y"
        },
        {
         "bingroup": "x",
         "hovertemplate": "price_range=3<br>px_width=%{x}<br>count=%{y}<extra></extra>",
         "legendgroup": "3",
         "marker": {
          "color": "#00cc96",
          "pattern": {
           "shape": ""
          }
         },
         "name": "3",
         "orientation": "v",
         "showlegend": true,
         "type": "histogram",
         "x": {
          "bdata": "+gNqA+0DOgcqAz4HaQWFAjMEywZ/BxsFjAf/Bj4HdQI0A1IGQgf1BlsCvAZ+AhAGtgTYBl4EhAebBMsGYgYEBzYHTQfcBH0GsAZfA2AFhgPEBj0DlgZrBBIDEgVPBb8HzgORB00DrwRwBF8GTAITBWUFuAUbAr8ExgW0BewFywd8Ba0FjQYFArAEbwYcBdQDXANUBKECFwbNBhwG5wblBQ8CNANjB6MG+wI8AtEFjwLnBpAEXgS2Bb4GdgeDB0EFrwSiBRMFggdKB6oGrwa2BxYHuwJyBGYEcwTiBdYCGgOJBJQCqQbEBQkE+QUFBz4CMwQGB3kGswTkAgUFVgXIBFoFXgP5BtgClAc6BugEdwfwBLQHUgQrBhsCwAV/BA8HfAeEBywGlgfSBAUCfQffBrcFdwQXB0AEKgYRB8QD1QQ6BDwD2QSfB6gGaQfrBgoC+wYuB84E1wJIBNAExwd9B+MCmwXoA8UF0waKBdYG4wSKBvUBKgMmBXcG9QNbB0YHFgaCBtMFYwd/AzUGxQaKBHAGMwNhBt8CFAdnB2MEiwamB4cGgANdAjIFdQfwAzcDLgW+B30DiwRNAhcDbwVmBrICgwJ8BrgEeQSRBDMCUAUpBvMFBgNEAjkENATeAtIEEgZUBwEHngI8BLsGvAdfBBQGcgWtBM4EhgaBBQYDfwYCBoIGVgWVA3QHuQesBaIDsAefAhgFpQVuBxAEqAdgA8oHkwVEBWgCtAZMBbgH4QaTA+gGrAfIBx8EbQP1BtYDfQZmBmcF/wYjB+QGlwYsBcYDTgNtBV8CGQWZBUgFrgdHBooFkAILBWQHVQT7A4UCQgcSBr0FQQRiBbAFuwYhBHgG3AZlAo0DaQNtBYwGcwaYBi4HUgXlA9IG9wY8A9MD4AVOBsAFkwZkB2cFKgSDB+0G9QH6BKQCdgYVArgC6QZqBQQFLAeEArIHEQbLBPkErgKtBnsHrQMVBYMHVQeHA+IFcwJTBdEDcAakAtcCwwczBVEEpwLEByQDzgacBssHLwKTAwMGXQX6BkYFFgSdBQsHyQOHArEGfwOXBA4HmAd+AqYEswUSBCwHuAdXAj0HkAXxA88FEgRAAxYHjQZuBjIFDgbLBSoGXwWZAgQGQgSTBF4GAAIiBgIDOAcoB4kGwgdaB1sEUQdoByQFiQT/A48HxAIBB8oFBgS/BjkHmAXSBocFuwRaBxkHmQQ+B3EFywQ/BYoFcAcVA6oHtwMlBXkHYQM3BJADSAOABIADJgXvBmAHvQWGBucE6QbKBhYD+wU3A1cHQwbBBywHeAegBscC3wR1BY0HcwYGB38H5wJLBIgFYAbyAg==",
          "dtype": "i2"
         },
         "xaxis": "x",
         "yaxis": "y"
        },
        {
         "bingroup": "x",
         "hovertemplate": "price_range=0<br>px_width=%{x}<br>count=%{y}<extra></extra>",
         "legendgroup": "0",
         "marker": {
          "color": "#ab63fa",
          "pattern": {
           "shape": ""
          }
         },
         "name": "0",
         "orientation": "v",
         "showlegend": true,
         "type": "histogram",
         "x": {
          "bdata": "fQREA8gEMwJIBxQD7wSOAnEDdAaZBakFzwMjAskEAgSFBS8ECgPlAiIDUQR7A8EDCAKGA7YH3QN2BQMGEgRoAhgCTgLFBzoD+ATBBogCKQQ/A/QB0wRNAjUE0wTbBYICmgRPBkYGZwXeBg4ERAZaB/0CvAe4A+0FIwbfBJYCeAMOBdsENgIDAnIDtwdqBMUCLQIHA1oF4gM2BAwFmAarA2UFHQYzBeADogSpAi4D3wRGBS8CvAPXBbUEoQUxAyIEbQR5A3EHhgSDA2MD5gPFBx8DGQM2BCQCcQbuBEIEZgNxBe4CfwZdA+MGkwNKBaoFgQb4AkwEpAIVB50HugYhArcFTAQpAxoFAAblBf4DDQMFBUcCiANnBYoDIwUJBIUDHAXrAqcDdAYHBMYFSQWnBo8H0QIYBFEHXgZZAw0F9QLhBd8DQQLTBvwFDgUrAxUFzgYHB4oCHAZLBpoDCwWsBVEDswNFBnwHgQWKB00CWwM1AzYD8QOoBZ4CzQSeA2kGwgO5AiAFvQXAAikDfwQfA+kFLAMPA5YC6QOeAmkHsAJ7BbAHyQUhBlcFCQapA+8EmwVUBGYCLgL7AaYE4ASiAnsGMgUEA8ME+wHaAgQFzgOVAncE7QSDBjcGdgd6A3AF/gFrA3sCbgLnBjoCvwXBAooDfAd3AksDBwKABJoEBAOFBQkHOwIfBFoGCQLfBBwG6wWkA3kFQgREBVcGZQMWBFICKAWSBDsGxQLvBK8FzQTXBK8HNQJqA6sEkAPpAkAFBQOOBRYGDQQ7AisGbAL0A/sBYgXDAjkGxAfFBVIEmgNzAmkFxwJcA88GvQUHAnsE7QS1BTQCJAVWBh4FygNCB50F7ANtAn4GzgMaA48EdAOKBGUCBgLKBNEEbQTHAxICcQVlB6wGMQQ8BUUCBAe9Bz8D8wSRBiYEqgLvA6cDeAS2AtgFqAVsBNQFwQUkBd8DHAJXAwACqQS7BgsH0gMgA50DCgcvBfIDVAV8A3QDRQW1BDADcQMABu8GVQObBe4E9AZ3BTEDHgLTBawEngfiAs4G8wJTAw4FXAWVBUEDowL9AacC3wS8At8GCAVHAu8GnATvAwgF/AXmAnkG9wH8AgoF3ARXBO0D4AV7A3EHGQOhBWEHNQIRAmcGywYaAjYFawZPAv4BhAeDBWMGxQWpAhACVAUvBycHDAecB+8C0gTKA40DaQTSApUFNwQTB0cFvAOLBw8GSAZnAn0D4QSCAh8FnAW+Bk4HYwRMA4ICqwXeA2oFaAMWAsUH9AIlBU4ClQIbAtQDdQRiAj8D/QG5BukC8gNnBJECdAUnAy4C1AKSBREHYgeeAg==",
          "dtype": "i2"
         },
         "xaxis": "x",
         "yaxis": "y"
        }
       ],
       "layout": {
        "barmode": "relative",
        "legend": {
         "title": {
          "text": "price_range"
         },
         "tracegroupgap": 0
        },
        "margin": {
         "t": 60
        },
        "template": {
         "data": {
          "bar": [
           {
            "error_x": {
             "color": "#2a3f5f"
            },
            "error_y": {
             "color": "#2a3f5f"
            },
            "marker": {
             "line": {
              "color": "#E5ECF6",
              "width": 0.5
             },
             "pattern": {
              "fillmode": "overlay",
              "size": 10,
              "solidity": 0.2
             }
            },
            "type": "bar"
           }
          ],
          "barpolar": [
           {
            "marker": {
             "line": {
              "color": "#E5ECF6",
              "width": 0.5
             },
             "pattern": {
              "fillmode": "overlay",
              "size": 10,
              "solidity": 0.2
             }
            },
            "type": "barpolar"
           }
          ],
          "carpet": [
           {
            "aaxis": {
             "endlinecolor": "#2a3f5f",
             "gridcolor": "white",
             "linecolor": "white",
             "minorgridcolor": "white",
             "startlinecolor": "#2a3f5f"
            },
            "baxis": {
             "endlinecolor": "#2a3f5f",
             "gridcolor": "white",
             "linecolor": "white",
             "minorgridcolor": "white",
             "startlinecolor": "#2a3f5f"
            },
            "type": "carpet"
           }
          ],
          "choropleth": [
           {
            "colorbar": {
             "outlinewidth": 0,
             "ticks": ""
            },
            "type": "choropleth"
           }
          ],
          "contour": [
           {
            "colorbar": {
             "outlinewidth": 0,
             "ticks": ""
            },
            "colorscale": [
             [
              0,
              "#0d0887"
             ],
             [
              0.1111111111111111,
              "#46039f"
             ],
             [
              0.2222222222222222,
              "#7201a8"
             ],
             [
              0.3333333333333333,
              "#9c179e"
             ],
             [
              0.4444444444444444,
              "#bd3786"
             ],
             [
              0.5555555555555556,
              "#d8576b"
             ],
             [
              0.6666666666666666,
              "#ed7953"
             ],
             [
              0.7777777777777778,
              "#fb9f3a"
             ],
             [
              0.8888888888888888,
              "#fdca26"
             ],
             [
              1,
              "#f0f921"
             ]
            ],
            "type": "contour"
           }
          ],
          "contourcarpet": [
           {
            "colorbar": {
             "outlinewidth": 0,
             "ticks": ""
            },
            "type": "contourcarpet"
           }
          ],
          "heatmap": [
           {
            "colorbar": {
             "outlinewidth": 0,
             "ticks": ""
            },
            "colorscale": [
             [
              0,
              "#0d0887"
             ],
             [
              0.1111111111111111,
              "#46039f"
             ],
             [
              0.2222222222222222,
              "#7201a8"
             ],
             [
              0.3333333333333333,
              "#9c179e"
             ],
             [
              0.4444444444444444,
              "#bd3786"
             ],
             [
              0.5555555555555556,
              "#d8576b"
             ],
             [
              0.6666666666666666,
              "#ed7953"
             ],
             [
              0.7777777777777778,
              "#fb9f3a"
             ],
             [
              0.8888888888888888,
              "#fdca26"
             ],
             [
              1,
              "#f0f921"
             ]
            ],
            "type": "heatmap"
           }
          ],
          "histogram": [
           {
            "marker": {
             "pattern": {
              "fillmode": "overlay",
              "size": 10,
              "solidity": 0.2
             }
            },
            "type": "histogram"
           }
          ],
          "histogram2d": [
           {
            "colorbar": {
             "outlinewidth": 0,
             "ticks": ""
            },
            "colorscale": [
             [
              0,
              "#0d0887"
             ],
             [
              0.1111111111111111,
              "#46039f"
             ],
             [
              0.2222222222222222,
              "#7201a8"
             ],
             [
              0.3333333333333333,
              "#9c179e"
             ],
             [
              0.4444444444444444,
              "#bd3786"
             ],
             [
              0.5555555555555556,
              "#d8576b"
             ],
             [
              0.6666666666666666,
              "#ed7953"
             ],
             [
              0.7777777777777778,
              "#fb9f3a"
             ],
             [
              0.8888888888888888,
              "#fdca26"
             ],
             [
              1,
              "#f0f921"
             ]
            ],
            "type": "histogram2d"
           }
          ],
          "histogram2dcontour": [
           {
            "colorbar": {
             "outlinewidth": 0,
             "ticks": ""
            },
            "colorscale": [
             [
              0,
              "#0d0887"
             ],
             [
              0.1111111111111111,
              "#46039f"
             ],
             [
              0.2222222222222222,
              "#7201a8"
             ],
             [
              0.3333333333333333,
              "#9c179e"
             ],
             [
              0.4444444444444444,
              "#bd3786"
             ],
             [
              0.5555555555555556,
              "#d8576b"
             ],
             [
              0.6666666666666666,
              "#ed7953"
             ],
             [
              0.7777777777777778,
              "#fb9f3a"
             ],
             [
              0.8888888888888888,
              "#fdca26"
             ],
             [
              1,
              "#f0f921"
             ]
            ],
            "type": "histogram2dcontour"
           }
          ],
          "mesh3d": [
           {
            "colorbar": {
             "outlinewidth": 0,
             "ticks": ""
            },
            "type": "mesh3d"
           }
          ],
          "parcoords": [
           {
            "line": {
             "colorbar": {
              "outlinewidth": 0,
              "ticks": ""
             }
            },
            "type": "parcoords"
           }
          ],
          "pie": [
           {
            "automargin": true,
            "type": "pie"
           }
          ],
          "scatter": [
           {
            "fillpattern": {
             "fillmode": "overlay",
             "size": 10,
             "solidity": 0.2
            },
            "type": "scatter"
           }
          ],
          "scatter3d": [
           {
            "line": {
             "colorbar": {
              "outlinewidth": 0,
              "ticks": ""
             }
            },
            "marker": {
             "colorbar": {
              "outlinewidth": 0,
              "ticks": ""
             }
            },
            "type": "scatter3d"
           }
          ],
          "scattercarpet": [
           {
            "marker": {
             "colorbar": {
              "outlinewidth": 0,
              "ticks": ""
             }
            },
            "type": "scattercarpet"
           }
          ],
          "scattergeo": [
           {
            "marker": {
             "colorbar": {
              "outlinewidth": 0,
              "ticks": ""
             }
            },
            "type": "scattergeo"
           }
          ],
          "scattergl": [
           {
            "marker": {
             "colorbar": {
              "outlinewidth": 0,
              "ticks": ""
             }
            },
            "type": "scattergl"
           }
          ],
          "scattermap": [
           {
            "marker": {
             "colorbar": {
              "outlinewidth": 0,
              "ticks": ""
             }
            },
            "type": "scattermap"
           }
          ],
          "scattermapbox": [
           {
            "marker": {
             "colorbar": {
              "outlinewidth": 0,
              "ticks": ""
             }
            },
            "type": "scattermapbox"
           }
          ],
          "scatterpolar": [
           {
            "marker": {
             "colorbar": {
              "outlinewidth": 0,
              "ticks": ""
             }
            },
            "type": "scatterpolar"
           }
          ],
          "scatterpolargl": [
           {
            "marker": {
             "colorbar": {
              "outlinewidth": 0,
              "ticks": ""
             }
            },
            "type": "scatterpolargl"
           }
          ],
          "scatterternary": [
           {
            "marker": {
             "colorbar": {
              "outlinewidth": 0,
              "ticks": ""
             }
            },
            "type": "scatterternary"
           }
          ],
          "surface": [
           {
            "colorbar": {
             "outlinewidth": 0,
             "ticks": ""
            },
            "colorscale": [
             [
              0,
              "#0d0887"
             ],
             [
              0.1111111111111111,
              "#46039f"
             ],
             [
              0.2222222222222222,
              "#7201a8"
             ],
             [
              0.3333333333333333,
              "#9c179e"
             ],
             [
              0.4444444444444444,
              "#bd3786"
             ],
             [
              0.5555555555555556,
              "#d8576b"
             ],
             [
              0.6666666666666666,
              "#ed7953"
             ],
             [
              0.7777777777777778,
              "#fb9f3a"
             ],
             [
              0.8888888888888888,
              "#fdca26"
             ],
             [
              1,
              "#f0f921"
             ]
            ],
            "type": "surface"
           }
          ],
          "table": [
           {
            "cells": {
             "fill": {
              "color": "#EBF0F8"
             },
             "line": {
              "color": "white"
             }
            },
            "header": {
             "fill": {
              "color": "#C8D4E3"
             },
             "line": {
              "color": "white"
             }
            },
            "type": "table"
           }
          ]
         },
         "layout": {
          "annotationdefaults": {
           "arrowcolor": "#2a3f5f",
           "arrowhead": 0,
           "arrowwidth": 1
          },
          "autotypenumbers": "strict",
          "coloraxis": {
           "colorbar": {
            "outlinewidth": 0,
            "ticks": ""
           }
          },
          "colorscale": {
           "diverging": [
            [
             0,
             "#8e0152"
            ],
            [
             0.1,
             "#c51b7d"
            ],
            [
             0.2,
             "#de77ae"
            ],
            [
             0.3,
             "#f1b6da"
            ],
            [
             0.4,
             "#fde0ef"
            ],
            [
             0.5,
             "#f7f7f7"
            ],
            [
             0.6,
             "#e6f5d0"
            ],
            [
             0.7,
             "#b8e186"
            ],
            [
             0.8,
             "#7fbc41"
            ],
            [
             0.9,
             "#4d9221"
            ],
            [
             1,
             "#276419"
            ]
           ],
           "sequential": [
            [
             0,
             "#0d0887"
            ],
            [
             0.1111111111111111,
             "#46039f"
            ],
            [
             0.2222222222222222,
             "#7201a8"
            ],
            [
             0.3333333333333333,
             "#9c179e"
            ],
            [
             0.4444444444444444,
             "#bd3786"
            ],
            [
             0.5555555555555556,
             "#d8576b"
            ],
            [
             0.6666666666666666,
             "#ed7953"
            ],
            [
             0.7777777777777778,
             "#fb9f3a"
            ],
            [
             0.8888888888888888,
             "#fdca26"
            ],
            [
             1,
             "#f0f921"
            ]
           ],
           "sequentialminus": [
            [
             0,
             "#0d0887"
            ],
            [
             0.1111111111111111,
             "#46039f"
            ],
            [
             0.2222222222222222,
             "#7201a8"
            ],
            [
             0.3333333333333333,
             "#9c179e"
            ],
            [
             0.4444444444444444,
             "#bd3786"
            ],
            [
             0.5555555555555556,
             "#d8576b"
            ],
            [
             0.6666666666666666,
             "#ed7953"
            ],
            [
             0.7777777777777778,
             "#fb9f3a"
            ],
            [
             0.8888888888888888,
             "#fdca26"
            ],
            [
             1,
             "#f0f921"
            ]
           ]
          },
          "colorway": [
           "#636efa",
           "#EF553B",
           "#00cc96",
           "#ab63fa",
           "#FFA15A",
           "#19d3f3",
           "#FF6692",
           "#B6E880",
           "#FF97FF",
           "#FECB52"
          ],
          "font": {
           "color": "#2a3f5f"
          },
          "geo": {
           "bgcolor": "white",
           "lakecolor": "white",
           "landcolor": "#E5ECF6",
           "showlakes": true,
           "showland": true,
           "subunitcolor": "white"
          },
          "hoverlabel": {
           "align": "left"
          },
          "hovermode": "closest",
          "mapbox": {
           "style": "light"
          },
          "paper_bgcolor": "white",
          "plot_bgcolor": "#E5ECF6",
          "polar": {
           "angularaxis": {
            "gridcolor": "white",
            "linecolor": "white",
            "ticks": ""
           },
           "bgcolor": "#E5ECF6",
           "radialaxis": {
            "gridcolor": "white",
            "linecolor": "white",
            "ticks": ""
           }
          },
          "scene": {
           "xaxis": {
            "backgroundcolor": "#E5ECF6",
            "gridcolor": "white",
            "gridwidth": 2,
            "linecolor": "white",
            "showbackground": true,
            "ticks": "",
            "zerolinecolor": "white"
           },
           "yaxis": {
            "backgroundcolor": "#E5ECF6",
            "gridcolor": "white",
            "gridwidth": 2,
            "linecolor": "white",
            "showbackground": true,
            "ticks": "",
            "zerolinecolor": "white"
           },
           "zaxis": {
            "backgroundcolor": "#E5ECF6",
            "gridcolor": "white",
            "gridwidth": 2,
            "linecolor": "white",
            "showbackground": true,
            "ticks": "",
            "zerolinecolor": "white"
           }
          },
          "shapedefaults": {
           "line": {
            "color": "#2a3f5f"
           }
          },
          "ternary": {
           "aaxis": {
            "gridcolor": "white",
            "linecolor": "white",
            "ticks": ""
           },
           "baxis": {
            "gridcolor": "white",
            "linecolor": "white",
            "ticks": ""
           },
           "bgcolor": "#E5ECF6",
           "caxis": {
            "gridcolor": "white",
            "linecolor": "white",
            "ticks": ""
           }
          },
          "title": {
           "x": 0.05
          },
          "xaxis": {
           "automargin": true,
           "gridcolor": "white",
           "linecolor": "white",
           "ticks": "",
           "title": {
            "standoff": 15
           },
           "zerolinecolor": "white",
           "zerolinewidth": 2
          },
          "yaxis": {
           "automargin": true,
           "gridcolor": "white",
           "linecolor": "white",
           "ticks": "",
           "title": {
            "standoff": 15
           },
           "zerolinecolor": "white",
           "zerolinewidth": 2
          }
         }
        },
        "xaxis": {
         "anchor": "y",
         "domain": [
          0,
          1
         ],
         "title": {
          "text": "px_width"
         }
        },
        "yaxis": {
         "anchor": "x",
         "domain": [
          0,
          1
         ],
         "title": {
          "text": "count"
         }
        }
       }
      }
     },
     "metadata": {},
     "output_type": "display_data"
    }
   ],
   "source": [
    "px.histogram(df , x = 'px_width' , color = 'price_range')"
   ]
  },
  {
   "cell_type": "code",
   "execution_count": 31,
   "id": "f13d3cb1",
   "metadata": {},
   "outputs": [
    {
     "data": {
      "application/vnd.plotly.v1+json": {
       "config": {
        "plotlyServerURL": "https://plot.ly"
       },
       "data": [
        {
         "bingroup": "x",
         "hovertemplate": "price_range=1<br>ram=%{x}<br>count=%{y}<extra></extra>",
         "legendgroup": "1",
         "marker": {
          "color": "#636efa",
          "pattern": {
           "shape": ""
          }
         },
         "name": "1",
         "orientation": "v",
         "showlegend": true,
         "type": "histogram",
         "x": {
          "bdata": "9QmDBSsEygUrByEJmQUXCrMILgVBCFYHXQaABPgIoAUICLEFFgctB9kHAAhFA4oFnAYcBW0JBwfgB6UImQe+BNgFVgVfCbsIlAglCUoFcgU2BE4I7AReB1EGCQbJCUoHBwWhBVIFTQebBLMIsQXFBucGNgd5CKYGAwT3B14CiwZpBDsGOwefA/wHxQVEBqMIdAbMBNsFuwNVBGICvQYqBU8GTQjeAzsGvQQ/CAwEFQqtA/oE2wTVCJkJ3gQ4CTUI3AJkB3UEGgnECDsHMwYFB7IFKgf9BNkDLgSXBLwGjghsB1ME+gdOBsMGrQexBmUEsgeECGADNQVRCJwHUwaaBa8GYwf7CqUGPQeNCe8IvgZSAxQFgwa+BJkCOAWfBD4JyAU/BIEF9AVIAm8FKgksBYMCOAjiBtwGmAVUBmgHtQcmClgGvgE7B80I6wdzCeUFUQkVBXcItQT3B2IFCwcEB0YKZAWxBIcGxgigBAIEPgQXBRkI7wU3CLwG/gZ5B7EGdAZKBWYIGwrNCZgHnAU2BS8JBQVZBcMFngfkB14CdQaVCBII7gXjBMQGYgiHB+cFEAcZBhkIeQW4BTsE+wVZAtEFKgU2B9kEpAWYB+MHMwZOB0gFygLNBGEFowZxBmoHpQV6BSUIgwYCCNoGcAeRCloFxgRYClgF1AI3BtIJCAT7BxgHXwXEBv0ItwabB/MEyQabCZgI7wU7CAIFGgizCC4IYwdqBeYHtAbyCFoHXwl8A4QFQQfaBpAHTQctCQYDXwcGBj4CuAUgB2wDkwLmCPQHagYQCHYEJASsCUYH/QRxB1QEcgfCBCYITAVUCDAI+QRWA9YF0QfOBVUHTAjFBCwEigckBc4GzQiZBRkH/QS4BUsFXgdAA/QG3wS4BVwGIAb8BHsIvAbEBIcJ/ghZAx0FmwSxBn8GaAVEBWYFRQeOCAAFGwkaA4IGbQisBDYGnQZjBYwEjAP7A74FBwbBCmwIvgT1CD4IOQlkBfEIPwl/BzcGmAmgBXMHfAWQBW0EPQd6BB8JjgVbBE4KkAi4BD4G4QQOBm4GzgdNBxUH3Qc/CngF8Qf5A5YGeAaXBl0G6QXACDQDUweEBQQGSgaZCJsIrAODBAYHHwbTBZ0G/AZpBg8J6gQHBmUGcQWdBHsGzwepBN4ESgkCB+4GVQUBCH8IeAUECcYGKggdBAcHEAaSB/gINwnSB1MCOQUSCO0HIggDB9QHbwfpBrMFBAgcBdMG1QltBYEIRQc/CWkGLQS2B+oI/gVbCiAHsAWLBkEGpgdvBn4Etge1BAQIdAVPB1gEgwGnCGwI0AYoB+AHFAWoCDoHVAYgCg==",
          "dtype": "i2"
         },
         "xaxis": "x",
         "yaxis": "y"
        },
        {
         "bingroup": "x",
         "hovertemplate": "price_range=2<br>ram=%{x}<br>count=%{y}<extra></extra>",
         "legendgroup": "2",
         "marker": {
          "color": "#EF553B",
          "pattern": {
           "shape": ""
          }
         },
         "name": "2",
         "orientation": "v",
         "showlegend": true,
         "type": "histogram",
         "x": {
          "bdata": "RworCtEKeAreCkUJYQxmCLQJCwgFCFwL+AleC2QIiwuQCCEKugoeCbMHQQZuDHMMJgq4CS8LkgsiCYwKLAVWCdwIlQtjCIELpQsNCQII+wwMCIEIGgshCZcGwwgcC7MIgQbICXUKwwioCwsKOwgcC20KSQmaCbgM6A0HCbUGqgtaCaELigocCR0KHgmzBJkLdwbuBtAKtAwQC8QJ8QpDDJIHcQxBCXoLJwunCp0LAwofDegIbws4Cn4K2wmbCxQJMQzZDk8L5An5BWMJ9gq/CM8Jrgq8CUoIfQ7NC8UGxAo0CjoJMgofCRMJ2wzNCiQIAAgcDKgKuAmgCDIKAwujB6ILcgogCX4JKAuPCYcLRQ7TBwsOLgpgCyMJaQfFDEUL2QqhBGEM8QpRDF0NlwpgCLYLyQgNDjwM3QzbC3MKTgmFCRALMAoACc4MhwioBg4K5gVBDa8KcQ2WCvoIZgkeCAgJ+QiICWgMqQmfDXIH5AeJCw4KEQplCTENlQu8COgLtA73CLUH9Qk2CgoLwAl8CLcJ5AkEDOkFvgs1BboLTQtfCnYLSQvJB8YIpQwNCXYMIglJDiAIBgz4CRsNsAfzCa8Kfgv8CqkNMQWbB84HeAY2C4IN3AnkBAANngmFCaULTAwNC0UJfQi9Ca8Lkw6ACw8Mmww+CnUG2gsxCtkI1wo2Cu4HjgvwCh4M3Ah9CLoKygV2CKUJDwp0CvUGyAhVCQUMRAkOCoYJcgrWCA0LDQp2CjML9wuvCVoJ/goLCdcJvAyrCL8JgAs5CfcGEAtMDzELnwrEC1EJPgghDBkP8AruCFgJ6QxLCgMKRQ2hC0IIsQntDaYHlgkCCkgK+gmhC1IITgoDC5IKSgmMDE0JagxMCt4HlgWYCTgJPAonDgwJwQyMCkMIIwYXCmML5goJDgcJTgnyCvoL1glbCp4L2AlMB24LcgrCCqsIIwY7CO4NBQsUB0QN4AmNCFQKGAhDClkI+wjDC00KyAiBB3cJegaGCIgIsgqiCm8Mpw1YClcKLAd2CngJBgwACTAIvgrmCOEIMwkYCUUNMgxxCwQIEQqKBx4J0gghB3YKSA2MCjcM1gnTCWoKnwa2DQsM9wbgCSUJ4QofDloH0wfXBiYLKwxMBs4HJwthBtkJYgqOCM8GGAewC7EMqgylCpYJnAlBCooK9Al8C8UKFgwjCdUMEgkgDB8L0AhWBlwLmwq4CW8LUwjyDKIJqQkjCGUKogmECwwKwwxhBmIJhAtJCqYHFw2wDNoJXQcyCicJ4wq/CVcJ3gpbCnEHJQdICYYKkwjKCRkIEQlpDWwKlAnCCZcK5wc2CQkJsAzwBw==",
          "dtype": "i2"
         },
         "xaxis": "x",
         "yaxis": "y"
        },
        {
         "bingroup": "x",
         "hovertemplate": "price_range=3<br>ram=%{x}<br>count=%{y}<extra></extra>",
         "legendgroup": "3",
         "marker": {
          "color": "#00cc96",
          "pattern": {
           "shape": ""
          }
         },
         "name": "3",
         "orientation": "v",
         "showlegend": true,
         "type": "histogram",
         "x": {
          "bdata": "lAxqD/IO4g2oDgML0wyzDtYMzA0FD2UNCw0DDqYMKAx7DyYN/Av6DpkPMg19DngNiA2cDYoMBgsgDigKdAolCtULJwmQDTcLqgzODWINtwzZDtcO8Q5lDuQN1w7lDXYOeA6eCboOVg+uCX0PbQ58C/oOEA6DDxsNLQ7nDS0MBA/8Do4L1ws8Dc4K7gvPDqsOBg94DtgOGA3HDNEJDgywDvgNaQ9ZDEwO7g5SDwYLGA75DFcPog0fDpsOGQ/zC3sNKQ6CChkPcw5jC8AMsQvuCU0PBQ2TDUQOGQxODx0PZA6BDzsMjwz7DFsNQA4yD/4OYQ8UDdcKigx1DlMNSw/pDqYLRA5zDxQPLg7IDKANeQ91DjwOWA4zDhgP7g1YDdsOhA5+DcEOmAqADzcNzgyCD9gKLg9DDHAPZQw5DK0NhQ2GDIUOTQ/XCu0MFw6IDpsNLQ0pDwAMEA9ZDuEOQQxPDkcOJg7hDrsOyg7NDQMOKw20DUoPmgwmD04Ndw93DoIOUAu2DMUJsg7HC4QM7wq8DjYLIw6BDtYOKgs7DXcNqw4gD8wKTA8+D0oPoQz8DpkNlw+iDmUPgg9VD4wO+w5ICW4NIQ3PDbAKfQsIDdQORg7zDM4NXQyNDJ4NHg1VDhwO7AkdD1QNmw0IDvUN8A3mDCwPNA85D1wOeQ0ODscMLww/Dp4P9Qy0DkULgg3LC9INjg5ID8UMZQ9GDBcPsg2QD50LKA7AChwP4wxRCoYJoA7ADdQOoQ6ZCXkOvQ7RDVoM4Aq6ClgO+Q6+DIUKSgtnDREOngw+DhYPKQtHDH0MpwrOC/UMZA+NDeQMFAuYC7IO2QthDlEMNQ58D94LQA13DhMPvAxsDWANIQxRDIkNPA8tDCYNAAqgDSYOdw7wCx0PRgx0Dr4OTw0+D/MNiQw+DjoMyA4tD50Lqw1LD0gMDA2UDKANsAosDUENMgqJDpANXw1sD3sOvg1yDXUPVQ8wDmQLew75DXAOuw5lDkYMbA4BDHYPBw80DzgL4Ax1C1IMHw7rDfYIyQ5bDjYPgAtgDW8KRA2+DR4NhgxvDqMMag8vDx4O8wrsDUYOWg+UDaoMbg2mDdIMLQ47D7gMsQ4aDtALCg2RDSAPJgpBD/oMuwyXD+MNUw3VDW0N+AtYCdQMAg3sDZ4Otw1+D5wNXQ+pDKkNZA4CDoQMigyWDy0MlwvTCGkLPAwiDTQMggxfDJgN8gycDwUPww5ADzANew3BDQMK2Qt+Dd4LmA5nD0cP4QxFDDMJhgz/DhYOVw+sDogM8A0BDnMJog5TDCsP3A23DkYOIAxmDaYJCw9FC0YM+w16D4oP8QtPDw==",
          "dtype": "i2"
         },
         "xaxis": "x",
         "yaxis": "y"
        },
        {
         "bingroup": "x",
         "hovertemplate": "price_range=0<br>ram=%{x}<br>count=%{y}<extra></extra>",
         "legendgroup": "0",
         "marker": {
          "color": "#ab63fa",
          "pattern": {
           "shape": ""
          }
         },
         "name": "0",
         "orientation": "v",
         "showlegend": true,
         "type": "histogram",
         "x": {
          "bdata": "vAJLBAECdQE4Ag0E3gH8Ae4E+AH2BIkDrwHWARoEiAFOAosDqQVWA4IFXQFwA4QFFwS0BBYD6AGaAhwBkwWOARYB+QF2AfoB6gEYAtgCwAX8Ah0DFgSyAv4DxwLSA1ECTAJxAsMC0AIWAT0DnQQ/AhQCMgTNAQ8C1AG6BKEBJgG/AZoCtgS4AzcB1QLKAssClwJCA4sCHAMRA7EEGwSUAzsD2QFsAb4FGgTCAlABogGGBbYHRgIoA2IEcALJAbYBHASXBC0B6QETBD8FcgRcAgIBKgSzBZYDTgLPAa0BxwRXAYMEZQNPAj4CewPYAi4DvQKmBc8C3AMEBL0BMQRdA/kD1APpBPcC2wFiBMECNQI8AcABzgGNBPACGQVeAjQEDwN3BsEDAgKlAzgD5gS2AxEBYgTDAu8CxAGLBckDxwbjA3kEcgIpAZsBmQLkAlEBzQQIAt4DsQGCAwIDMQFoAqMB+AGIATQDewUuAZQBUwJ/BkYExgOJA2sBHgL9ARoBqAEEBRUB5QGiAX4FdQKkAh4BCAPMAqgBgwJJBk4CAwauA1wCAwKOAv0BawLVAqEEjwOQAlwD+gNQBb8CRgKUBDwB5wNNAp4CSAL7BDUBQwGhAZsC+gOmA1wBJgLLAzoCIgK5BLMDzAVbAQQEoQO7BP8BhgVQAUcERQHHBGQBCwLNBEsCMANrApADGQMwAjgBIQJ9AzMDzQShApkDhwG5AV4HrwJ3A44BbQIvAzgCOAQzBN8CrgXNAdYBowNABfUCUgLTAVkBagPhAjsBiwW/A4AD5QFJAwYBEgIDAbACOwKSAW4DxgHHAZEBqQL9AVEEOwUdAd0C9ALRAVMDFAVqAbUBuAKoBnABvwUpBUEC7wK0AdICMwSTAS0EkQIuBUMB+wIYAwIBDAPIAvQDPgF1AokEewUZBdcBUgLtAzsEUQIEBSECvARcAdQDRgN6AY0DXAGXAsEDEwLWAq0CPgXnA0sBpgGwAYAEFwUdAyoBOwHOATkGRAErArMBvgIXBcgBrQMuAkEFqQELARoEcAKcAVMCBwF/ArQBMQMfAl4DvQM5AX0EmANpATUEAAIjAQwC0AHSBCQBSwJvAzICOgU7AUoCJAMPBXUDFARlBg8DAAFjA2ECYgE6BFkE2AMNBI8E3AQcBIgGFgU/ArgBtgX3AcQCNAEoAlICsgIJAYkFPgTjBYECRwbZBHEDAQMzA7MBSgKKAuMCrgJJA58EDQTfA+8F7QHAArkDoAPpASsBVAEfA70BAgPSBFQBKgHIA7gC8wI9BQUDSQOLBhUFGQdoA98FVwGxBccDewI4A+8BkAUoAZwEnAJlAw==",
          "dtype": "i2"
         },
         "xaxis": "x",
         "yaxis": "y"
        }
       ],
       "layout": {
        "barmode": "relative",
        "legend": {
         "title": {
          "text": "price_range"
         },
         "tracegroupgap": 0
        },
        "margin": {
         "t": 60
        },
        "template": {
         "data": {
          "bar": [
           {
            "error_x": {
             "color": "#2a3f5f"
            },
            "error_y": {
             "color": "#2a3f5f"
            },
            "marker": {
             "line": {
              "color": "#E5ECF6",
              "width": 0.5
             },
             "pattern": {
              "fillmode": "overlay",
              "size": 10,
              "solidity": 0.2
             }
            },
            "type": "bar"
           }
          ],
          "barpolar": [
           {
            "marker": {
             "line": {
              "color": "#E5ECF6",
              "width": 0.5
             },
             "pattern": {
              "fillmode": "overlay",
              "size": 10,
              "solidity": 0.2
             }
            },
            "type": "barpolar"
           }
          ],
          "carpet": [
           {
            "aaxis": {
             "endlinecolor": "#2a3f5f",
             "gridcolor": "white",
             "linecolor": "white",
             "minorgridcolor": "white",
             "startlinecolor": "#2a3f5f"
            },
            "baxis": {
             "endlinecolor": "#2a3f5f",
             "gridcolor": "white",
             "linecolor": "white",
             "minorgridcolor": "white",
             "startlinecolor": "#2a3f5f"
            },
            "type": "carpet"
           }
          ],
          "choropleth": [
           {
            "colorbar": {
             "outlinewidth": 0,
             "ticks": ""
            },
            "type": "choropleth"
           }
          ],
          "contour": [
           {
            "colorbar": {
             "outlinewidth": 0,
             "ticks": ""
            },
            "colorscale": [
             [
              0,
              "#0d0887"
             ],
             [
              0.1111111111111111,
              "#46039f"
             ],
             [
              0.2222222222222222,
              "#7201a8"
             ],
             [
              0.3333333333333333,
              "#9c179e"
             ],
             [
              0.4444444444444444,
              "#bd3786"
             ],
             [
              0.5555555555555556,
              "#d8576b"
             ],
             [
              0.6666666666666666,
              "#ed7953"
             ],
             [
              0.7777777777777778,
              "#fb9f3a"
             ],
             [
              0.8888888888888888,
              "#fdca26"
             ],
             [
              1,
              "#f0f921"
             ]
            ],
            "type": "contour"
           }
          ],
          "contourcarpet": [
           {
            "colorbar": {
             "outlinewidth": 0,
             "ticks": ""
            },
            "type": "contourcarpet"
           }
          ],
          "heatmap": [
           {
            "colorbar": {
             "outlinewidth": 0,
             "ticks": ""
            },
            "colorscale": [
             [
              0,
              "#0d0887"
             ],
             [
              0.1111111111111111,
              "#46039f"
             ],
             [
              0.2222222222222222,
              "#7201a8"
             ],
             [
              0.3333333333333333,
              "#9c179e"
             ],
             [
              0.4444444444444444,
              "#bd3786"
             ],
             [
              0.5555555555555556,
              "#d8576b"
             ],
             [
              0.6666666666666666,
              "#ed7953"
             ],
             [
              0.7777777777777778,
              "#fb9f3a"
             ],
             [
              0.8888888888888888,
              "#fdca26"
             ],
             [
              1,
              "#f0f921"
             ]
            ],
            "type": "heatmap"
           }
          ],
          "histogram": [
           {
            "marker": {
             "pattern": {
              "fillmode": "overlay",
              "size": 10,
              "solidity": 0.2
             }
            },
            "type": "histogram"
           }
          ],
          "histogram2d": [
           {
            "colorbar": {
             "outlinewidth": 0,
             "ticks": ""
            },
            "colorscale": [
             [
              0,
              "#0d0887"
             ],
             [
              0.1111111111111111,
              "#46039f"
             ],
             [
              0.2222222222222222,
              "#7201a8"
             ],
             [
              0.3333333333333333,
              "#9c179e"
             ],
             [
              0.4444444444444444,
              "#bd3786"
             ],
             [
              0.5555555555555556,
              "#d8576b"
             ],
             [
              0.6666666666666666,
              "#ed7953"
             ],
             [
              0.7777777777777778,
              "#fb9f3a"
             ],
             [
              0.8888888888888888,
              "#fdca26"
             ],
             [
              1,
              "#f0f921"
             ]
            ],
            "type": "histogram2d"
           }
          ],
          "histogram2dcontour": [
           {
            "colorbar": {
             "outlinewidth": 0,
             "ticks": ""
            },
            "colorscale": [
             [
              0,
              "#0d0887"
             ],
             [
              0.1111111111111111,
              "#46039f"
             ],
             [
              0.2222222222222222,
              "#7201a8"
             ],
             [
              0.3333333333333333,
              "#9c179e"
             ],
             [
              0.4444444444444444,
              "#bd3786"
             ],
             [
              0.5555555555555556,
              "#d8576b"
             ],
             [
              0.6666666666666666,
              "#ed7953"
             ],
             [
              0.7777777777777778,
              "#fb9f3a"
             ],
             [
              0.8888888888888888,
              "#fdca26"
             ],
             [
              1,
              "#f0f921"
             ]
            ],
            "type": "histogram2dcontour"
           }
          ],
          "mesh3d": [
           {
            "colorbar": {
             "outlinewidth": 0,
             "ticks": ""
            },
            "type": "mesh3d"
           }
          ],
          "parcoords": [
           {
            "line": {
             "colorbar": {
              "outlinewidth": 0,
              "ticks": ""
             }
            },
            "type": "parcoords"
           }
          ],
          "pie": [
           {
            "automargin": true,
            "type": "pie"
           }
          ],
          "scatter": [
           {
            "fillpattern": {
             "fillmode": "overlay",
             "size": 10,
             "solidity": 0.2
            },
            "type": "scatter"
           }
          ],
          "scatter3d": [
           {
            "line": {
             "colorbar": {
              "outlinewidth": 0,
              "ticks": ""
             }
            },
            "marker": {
             "colorbar": {
              "outlinewidth": 0,
              "ticks": ""
             }
            },
            "type": "scatter3d"
           }
          ],
          "scattercarpet": [
           {
            "marker": {
             "colorbar": {
              "outlinewidth": 0,
              "ticks": ""
             }
            },
            "type": "scattercarpet"
           }
          ],
          "scattergeo": [
           {
            "marker": {
             "colorbar": {
              "outlinewidth": 0,
              "ticks": ""
             }
            },
            "type": "scattergeo"
           }
          ],
          "scattergl": [
           {
            "marker": {
             "colorbar": {
              "outlinewidth": 0,
              "ticks": ""
             }
            },
            "type": "scattergl"
           }
          ],
          "scattermap": [
           {
            "marker": {
             "colorbar": {
              "outlinewidth": 0,
              "ticks": ""
             }
            },
            "type": "scattermap"
           }
          ],
          "scattermapbox": [
           {
            "marker": {
             "colorbar": {
              "outlinewidth": 0,
              "ticks": ""
             }
            },
            "type": "scattermapbox"
           }
          ],
          "scatterpolar": [
           {
            "marker": {
             "colorbar": {
              "outlinewidth": 0,
              "ticks": ""
             }
            },
            "type": "scatterpolar"
           }
          ],
          "scatterpolargl": [
           {
            "marker": {
             "colorbar": {
              "outlinewidth": 0,
              "ticks": ""
             }
            },
            "type": "scatterpolargl"
           }
          ],
          "scatterternary": [
           {
            "marker": {
             "colorbar": {
              "outlinewidth": 0,
              "ticks": ""
             }
            },
            "type": "scatterternary"
           }
          ],
          "surface": [
           {
            "colorbar": {
             "outlinewidth": 0,
             "ticks": ""
            },
            "colorscale": [
             [
              0,
              "#0d0887"
             ],
             [
              0.1111111111111111,
              "#46039f"
             ],
             [
              0.2222222222222222,
              "#7201a8"
             ],
             [
              0.3333333333333333,
              "#9c179e"
             ],
             [
              0.4444444444444444,
              "#bd3786"
             ],
             [
              0.5555555555555556,
              "#d8576b"
             ],
             [
              0.6666666666666666,
              "#ed7953"
             ],
             [
              0.7777777777777778,
              "#fb9f3a"
             ],
             [
              0.8888888888888888,
              "#fdca26"
             ],
             [
              1,
              "#f0f921"
             ]
            ],
            "type": "surface"
           }
          ],
          "table": [
           {
            "cells": {
             "fill": {
              "color": "#EBF0F8"
             },
             "line": {
              "color": "white"
             }
            },
            "header": {
             "fill": {
              "color": "#C8D4E3"
             },
             "line": {
              "color": "white"
             }
            },
            "type": "table"
           }
          ]
         },
         "layout": {
          "annotationdefaults": {
           "arrowcolor": "#2a3f5f",
           "arrowhead": 0,
           "arrowwidth": 1
          },
          "autotypenumbers": "strict",
          "coloraxis": {
           "colorbar": {
            "outlinewidth": 0,
            "ticks": ""
           }
          },
          "colorscale": {
           "diverging": [
            [
             0,
             "#8e0152"
            ],
            [
             0.1,
             "#c51b7d"
            ],
            [
             0.2,
             "#de77ae"
            ],
            [
             0.3,
             "#f1b6da"
            ],
            [
             0.4,
             "#fde0ef"
            ],
            [
             0.5,
             "#f7f7f7"
            ],
            [
             0.6,
             "#e6f5d0"
            ],
            [
             0.7,
             "#b8e186"
            ],
            [
             0.8,
             "#7fbc41"
            ],
            [
             0.9,
             "#4d9221"
            ],
            [
             1,
             "#276419"
            ]
           ],
           "sequential": [
            [
             0,
             "#0d0887"
            ],
            [
             0.1111111111111111,
             "#46039f"
            ],
            [
             0.2222222222222222,
             "#7201a8"
            ],
            [
             0.3333333333333333,
             "#9c179e"
            ],
            [
             0.4444444444444444,
             "#bd3786"
            ],
            [
             0.5555555555555556,
             "#d8576b"
            ],
            [
             0.6666666666666666,
             "#ed7953"
            ],
            [
             0.7777777777777778,
             "#fb9f3a"
            ],
            [
             0.8888888888888888,
             "#fdca26"
            ],
            [
             1,
             "#f0f921"
            ]
           ],
           "sequentialminus": [
            [
             0,
             "#0d0887"
            ],
            [
             0.1111111111111111,
             "#46039f"
            ],
            [
             0.2222222222222222,
             "#7201a8"
            ],
            [
             0.3333333333333333,
             "#9c179e"
            ],
            [
             0.4444444444444444,
             "#bd3786"
            ],
            [
             0.5555555555555556,
             "#d8576b"
            ],
            [
             0.6666666666666666,
             "#ed7953"
            ],
            [
             0.7777777777777778,
             "#fb9f3a"
            ],
            [
             0.8888888888888888,
             "#fdca26"
            ],
            [
             1,
             "#f0f921"
            ]
           ]
          },
          "colorway": [
           "#636efa",
           "#EF553B",
           "#00cc96",
           "#ab63fa",
           "#FFA15A",
           "#19d3f3",
           "#FF6692",
           "#B6E880",
           "#FF97FF",
           "#FECB52"
          ],
          "font": {
           "color": "#2a3f5f"
          },
          "geo": {
           "bgcolor": "white",
           "lakecolor": "white",
           "landcolor": "#E5ECF6",
           "showlakes": true,
           "showland": true,
           "subunitcolor": "white"
          },
          "hoverlabel": {
           "align": "left"
          },
          "hovermode": "closest",
          "mapbox": {
           "style": "light"
          },
          "paper_bgcolor": "white",
          "plot_bgcolor": "#E5ECF6",
          "polar": {
           "angularaxis": {
            "gridcolor": "white",
            "linecolor": "white",
            "ticks": ""
           },
           "bgcolor": "#E5ECF6",
           "radialaxis": {
            "gridcolor": "white",
            "linecolor": "white",
            "ticks": ""
           }
          },
          "scene": {
           "xaxis": {
            "backgroundcolor": "#E5ECF6",
            "gridcolor": "white",
            "gridwidth": 2,
            "linecolor": "white",
            "showbackground": true,
            "ticks": "",
            "zerolinecolor": "white"
           },
           "yaxis": {
            "backgroundcolor": "#E5ECF6",
            "gridcolor": "white",
            "gridwidth": 2,
            "linecolor": "white",
            "showbackground": true,
            "ticks": "",
            "zerolinecolor": "white"
           },
           "zaxis": {
            "backgroundcolor": "#E5ECF6",
            "gridcolor": "white",
            "gridwidth": 2,
            "linecolor": "white",
            "showbackground": true,
            "ticks": "",
            "zerolinecolor": "white"
           }
          },
          "shapedefaults": {
           "line": {
            "color": "#2a3f5f"
           }
          },
          "ternary": {
           "aaxis": {
            "gridcolor": "white",
            "linecolor": "white",
            "ticks": ""
           },
           "baxis": {
            "gridcolor": "white",
            "linecolor": "white",
            "ticks": ""
           },
           "bgcolor": "#E5ECF6",
           "caxis": {
            "gridcolor": "white",
            "linecolor": "white",
            "ticks": ""
           }
          },
          "title": {
           "x": 0.05
          },
          "xaxis": {
           "automargin": true,
           "gridcolor": "white",
           "linecolor": "white",
           "ticks": "",
           "title": {
            "standoff": 15
           },
           "zerolinecolor": "white",
           "zerolinewidth": 2
          },
          "yaxis": {
           "automargin": true,
           "gridcolor": "white",
           "linecolor": "white",
           "ticks": "",
           "title": {
            "standoff": 15
           },
           "zerolinecolor": "white",
           "zerolinewidth": 2
          }
         }
        },
        "xaxis": {
         "anchor": "y",
         "domain": [
          0,
          1
         ],
         "title": {
          "text": "ram"
         }
        },
        "yaxis": {
         "anchor": "x",
         "domain": [
          0,
          1
         ],
         "title": {
          "text": "count"
         }
        }
       }
      }
     },
     "metadata": {},
     "output_type": "display_data"
    }
   ],
   "source": [
    "px.histogram(df , x = 'ram' , color = 'price_range')"
   ]
  },
  {
   "cell_type": "code",
   "execution_count": 32,
   "id": "59acf967",
   "metadata": {},
   "outputs": [
    {
     "data": {
      "application/vnd.plotly.v1+json": {
       "config": {
        "plotlyServerURL": "https://plot.ly"
       },
       "data": [
        {
         "branchvalues": "total",
         "domain": {
          "x": [
           0,
           1
          ],
          "y": [
           0,
           1
          ]
         },
         "hovertemplate": "labels=%{label}<br>count=%{value}<br>parent=%{parent}<br>id=%{id}<extra></extra>",
         "ids": [
          "1/9",
          "2/17",
          "2/11",
          "2/16",
          "1/8",
          "1/17",
          "3/13",
          "0/16",
          "0/17",
          "0/19",
          "3/5",
          "3/14",
          "1/18",
          "2/7",
          "0/14",
          "3/10",
          "1/19",
          "1/11",
          "3/17",
          "0/8",
          "2/18",
          "3/16",
          "2/10",
          "0/12",
          "0/5",
          "3/7",
          "1/10",
          "1/13",
          "3/6",
          "2/6",
          "3/18",
          "1/15",
          "0/9",
          "1/16",
          "0/15",
          "2/5",
          "2/19",
          "3/12",
          "2/14",
          "3/9",
          "1/7",
          "2/15",
          "1/14",
          "0/7",
          "0/11",
          "2/9",
          "3/11",
          "1/5",
          "0/10",
          "3/19",
          "1/6",
          "0/13",
          "2/8",
          "2/12",
          "2/13",
          "1/12",
          "0/18",
          "3/15",
          "0/6",
          "3/8",
          "1",
          "2",
          "3",
          "0"
         ],
         "labels": [
          "9",
          "17",
          "11",
          "16",
          "8",
          "17",
          "13",
          "16",
          "17",
          "19",
          "5",
          "14",
          "18",
          "7",
          "14",
          "10",
          "19",
          "11",
          "17",
          "8",
          "18",
          "16",
          "10",
          "12",
          "5",
          "7",
          "10",
          "13",
          "6",
          "6",
          "18",
          "15",
          "9",
          "16",
          "15",
          "5",
          "19",
          "12",
          "14",
          "9",
          "7",
          "15",
          "14",
          "7",
          "11",
          "9",
          "11",
          "5",
          "10",
          "19",
          "6",
          "13",
          "8",
          "12",
          "13",
          "12",
          "18",
          "15",
          "6",
          "8",
          "1",
          "2",
          "3",
          "0"
         ],
         "name": "",
         "parents": [
          "1",
          "2",
          "2",
          "2",
          "1",
          "1",
          "3",
          "0",
          "0",
          "0",
          "3",
          "3",
          "1",
          "2",
          "0",
          "3",
          "1",
          "1",
          "3",
          "0",
          "2",
          "3",
          "2",
          "0",
          "0",
          "3",
          "1",
          "1",
          "3",
          "2",
          "3",
          "1",
          "0",
          "1",
          "0",
          "2",
          "2",
          "3",
          "2",
          "3",
          "1",
          "2",
          "1",
          "0",
          "0",
          "2",
          "3",
          "1",
          "0",
          "3",
          "1",
          "0",
          "2",
          "2",
          "2",
          "1",
          "0",
          "3",
          "0",
          "3",
          "",
          "",
          "",
          ""
         ],
         "type": "sunburst",
         "values": {
          "bdata": "HQApABsAGwAiADEALQAlACkAJgAYACQAIQAuADAAGgAXAB8APgAaAB0AJgAmACQAGAAgABwAHQAYAB8AIQAnAB4AKQAgABYAIgAiACAAHgAnAB4AGwAiACgAIwAcABsAIQAdABwAGQAgACwAIAArABkAIgAfABkA9AH0AfQB9AE=",
          "dtype": "i2"
         }
        }
       ],
       "layout": {
        "legend": {
         "tracegroupgap": 0
        },
        "margin": {
         "t": 60
        },
        "template": {
         "data": {
          "bar": [
           {
            "error_x": {
             "color": "#2a3f5f"
            },
            "error_y": {
             "color": "#2a3f5f"
            },
            "marker": {
             "line": {
              "color": "#E5ECF6",
              "width": 0.5
             },
             "pattern": {
              "fillmode": "overlay",
              "size": 10,
              "solidity": 0.2
             }
            },
            "type": "bar"
           }
          ],
          "barpolar": [
           {
            "marker": {
             "line": {
              "color": "#E5ECF6",
              "width": 0.5
             },
             "pattern": {
              "fillmode": "overlay",
              "size": 10,
              "solidity": 0.2
             }
            },
            "type": "barpolar"
           }
          ],
          "carpet": [
           {
            "aaxis": {
             "endlinecolor": "#2a3f5f",
             "gridcolor": "white",
             "linecolor": "white",
             "minorgridcolor": "white",
             "startlinecolor": "#2a3f5f"
            },
            "baxis": {
             "endlinecolor": "#2a3f5f",
             "gridcolor": "white",
             "linecolor": "white",
             "minorgridcolor": "white",
             "startlinecolor": "#2a3f5f"
            },
            "type": "carpet"
           }
          ],
          "choropleth": [
           {
            "colorbar": {
             "outlinewidth": 0,
             "ticks": ""
            },
            "type": "choropleth"
           }
          ],
          "contour": [
           {
            "colorbar": {
             "outlinewidth": 0,
             "ticks": ""
            },
            "colorscale": [
             [
              0,
              "#0d0887"
             ],
             [
              0.1111111111111111,
              "#46039f"
             ],
             [
              0.2222222222222222,
              "#7201a8"
             ],
             [
              0.3333333333333333,
              "#9c179e"
             ],
             [
              0.4444444444444444,
              "#bd3786"
             ],
             [
              0.5555555555555556,
              "#d8576b"
             ],
             [
              0.6666666666666666,
              "#ed7953"
             ],
             [
              0.7777777777777778,
              "#fb9f3a"
             ],
             [
              0.8888888888888888,
              "#fdca26"
             ],
             [
              1,
              "#f0f921"
             ]
            ],
            "type": "contour"
           }
          ],
          "contourcarpet": [
           {
            "colorbar": {
             "outlinewidth": 0,
             "ticks": ""
            },
            "type": "contourcarpet"
           }
          ],
          "heatmap": [
           {
            "colorbar": {
             "outlinewidth": 0,
             "ticks": ""
            },
            "colorscale": [
             [
              0,
              "#0d0887"
             ],
             [
              0.1111111111111111,
              "#46039f"
             ],
             [
              0.2222222222222222,
              "#7201a8"
             ],
             [
              0.3333333333333333,
              "#9c179e"
             ],
             [
              0.4444444444444444,
              "#bd3786"
             ],
             [
              0.5555555555555556,
              "#d8576b"
             ],
             [
              0.6666666666666666,
              "#ed7953"
             ],
             [
              0.7777777777777778,
              "#fb9f3a"
             ],
             [
              0.8888888888888888,
              "#fdca26"
             ],
             [
              1,
              "#f0f921"
             ]
            ],
            "type": "heatmap"
           }
          ],
          "histogram": [
           {
            "marker": {
             "pattern": {
              "fillmode": "overlay",
              "size": 10,
              "solidity": 0.2
             }
            },
            "type": "histogram"
           }
          ],
          "histogram2d": [
           {
            "colorbar": {
             "outlinewidth": 0,
             "ticks": ""
            },
            "colorscale": [
             [
              0,
              "#0d0887"
             ],
             [
              0.1111111111111111,
              "#46039f"
             ],
             [
              0.2222222222222222,
              "#7201a8"
             ],
             [
              0.3333333333333333,
              "#9c179e"
             ],
             [
              0.4444444444444444,
              "#bd3786"
             ],
             [
              0.5555555555555556,
              "#d8576b"
             ],
             [
              0.6666666666666666,
              "#ed7953"
             ],
             [
              0.7777777777777778,
              "#fb9f3a"
             ],
             [
              0.8888888888888888,
              "#fdca26"
             ],
             [
              1,
              "#f0f921"
             ]
            ],
            "type": "histogram2d"
           }
          ],
          "histogram2dcontour": [
           {
            "colorbar": {
             "outlinewidth": 0,
             "ticks": ""
            },
            "colorscale": [
             [
              0,
              "#0d0887"
             ],
             [
              0.1111111111111111,
              "#46039f"
             ],
             [
              0.2222222222222222,
              "#7201a8"
             ],
             [
              0.3333333333333333,
              "#9c179e"
             ],
             [
              0.4444444444444444,
              "#bd3786"
             ],
             [
              0.5555555555555556,
              "#d8576b"
             ],
             [
              0.6666666666666666,
              "#ed7953"
             ],
             [
              0.7777777777777778,
              "#fb9f3a"
             ],
             [
              0.8888888888888888,
              "#fdca26"
             ],
             [
              1,
              "#f0f921"
             ]
            ],
            "type": "histogram2dcontour"
           }
          ],
          "mesh3d": [
           {
            "colorbar": {
             "outlinewidth": 0,
             "ticks": ""
            },
            "type": "mesh3d"
           }
          ],
          "parcoords": [
           {
            "line": {
             "colorbar": {
              "outlinewidth": 0,
              "ticks": ""
             }
            },
            "type": "parcoords"
           }
          ],
          "pie": [
           {
            "automargin": true,
            "type": "pie"
           }
          ],
          "scatter": [
           {
            "fillpattern": {
             "fillmode": "overlay",
             "size": 10,
             "solidity": 0.2
            },
            "type": "scatter"
           }
          ],
          "scatter3d": [
           {
            "line": {
             "colorbar": {
              "outlinewidth": 0,
              "ticks": ""
             }
            },
            "marker": {
             "colorbar": {
              "outlinewidth": 0,
              "ticks": ""
             }
            },
            "type": "scatter3d"
           }
          ],
          "scattercarpet": [
           {
            "marker": {
             "colorbar": {
              "outlinewidth": 0,
              "ticks": ""
             }
            },
            "type": "scattercarpet"
           }
          ],
          "scattergeo": [
           {
            "marker": {
             "colorbar": {
              "outlinewidth": 0,
              "ticks": ""
             }
            },
            "type": "scattergeo"
           }
          ],
          "scattergl": [
           {
            "marker": {
             "colorbar": {
              "outlinewidth": 0,
              "ticks": ""
             }
            },
            "type": "scattergl"
           }
          ],
          "scattermap": [
           {
            "marker": {
             "colorbar": {
              "outlinewidth": 0,
              "ticks": ""
             }
            },
            "type": "scattermap"
           }
          ],
          "scattermapbox": [
           {
            "marker": {
             "colorbar": {
              "outlinewidth": 0,
              "ticks": ""
             }
            },
            "type": "scattermapbox"
           }
          ],
          "scatterpolar": [
           {
            "marker": {
             "colorbar": {
              "outlinewidth": 0,
              "ticks": ""
             }
            },
            "type": "scatterpolar"
           }
          ],
          "scatterpolargl": [
           {
            "marker": {
             "colorbar": {
              "outlinewidth": 0,
              "ticks": ""
             }
            },
            "type": "scatterpolargl"
           }
          ],
          "scatterternary": [
           {
            "marker": {
             "colorbar": {
              "outlinewidth": 0,
              "ticks": ""
             }
            },
            "type": "scatterternary"
           }
          ],
          "surface": [
           {
            "colorbar": {
             "outlinewidth": 0,
             "ticks": ""
            },
            "colorscale": [
             [
              0,
              "#0d0887"
             ],
             [
              0.1111111111111111,
              "#46039f"
             ],
             [
              0.2222222222222222,
              "#7201a8"
             ],
             [
              0.3333333333333333,
              "#9c179e"
             ],
             [
              0.4444444444444444,
              "#bd3786"
             ],
             [
              0.5555555555555556,
              "#d8576b"
             ],
             [
              0.6666666666666666,
              "#ed7953"
             ],
             [
              0.7777777777777778,
              "#fb9f3a"
             ],
             [
              0.8888888888888888,
              "#fdca26"
             ],
             [
              1,
              "#f0f921"
             ]
            ],
            "type": "surface"
           }
          ],
          "table": [
           {
            "cells": {
             "fill": {
              "color": "#EBF0F8"
             },
             "line": {
              "color": "white"
             }
            },
            "header": {
             "fill": {
              "color": "#C8D4E3"
             },
             "line": {
              "color": "white"
             }
            },
            "type": "table"
           }
          ]
         },
         "layout": {
          "annotationdefaults": {
           "arrowcolor": "#2a3f5f",
           "arrowhead": 0,
           "arrowwidth": 1
          },
          "autotypenumbers": "strict",
          "coloraxis": {
           "colorbar": {
            "outlinewidth": 0,
            "ticks": ""
           }
          },
          "colorscale": {
           "diverging": [
            [
             0,
             "#8e0152"
            ],
            [
             0.1,
             "#c51b7d"
            ],
            [
             0.2,
             "#de77ae"
            ],
            [
             0.3,
             "#f1b6da"
            ],
            [
             0.4,
             "#fde0ef"
            ],
            [
             0.5,
             "#f7f7f7"
            ],
            [
             0.6,
             "#e6f5d0"
            ],
            [
             0.7,
             "#b8e186"
            ],
            [
             0.8,
             "#7fbc41"
            ],
            [
             0.9,
             "#4d9221"
            ],
            [
             1,
             "#276419"
            ]
           ],
           "sequential": [
            [
             0,
             "#0d0887"
            ],
            [
             0.1111111111111111,
             "#46039f"
            ],
            [
             0.2222222222222222,
             "#7201a8"
            ],
            [
             0.3333333333333333,
             "#9c179e"
            ],
            [
             0.4444444444444444,
             "#bd3786"
            ],
            [
             0.5555555555555556,
             "#d8576b"
            ],
            [
             0.6666666666666666,
             "#ed7953"
            ],
            [
             0.7777777777777778,
             "#fb9f3a"
            ],
            [
             0.8888888888888888,
             "#fdca26"
            ],
            [
             1,
             "#f0f921"
            ]
           ],
           "sequentialminus": [
            [
             0,
             "#0d0887"
            ],
            [
             0.1111111111111111,
             "#46039f"
            ],
            [
             0.2222222222222222,
             "#7201a8"
            ],
            [
             0.3333333333333333,
             "#9c179e"
            ],
            [
             0.4444444444444444,
             "#bd3786"
            ],
            [
             0.5555555555555556,
             "#d8576b"
            ],
            [
             0.6666666666666666,
             "#ed7953"
            ],
            [
             0.7777777777777778,
             "#fb9f3a"
            ],
            [
             0.8888888888888888,
             "#fdca26"
            ],
            [
             1,
             "#f0f921"
            ]
           ]
          },
          "colorway": [
           "#636efa",
           "#EF553B",
           "#00cc96",
           "#ab63fa",
           "#FFA15A",
           "#19d3f3",
           "#FF6692",
           "#B6E880",
           "#FF97FF",
           "#FECB52"
          ],
          "font": {
           "color": "#2a3f5f"
          },
          "geo": {
           "bgcolor": "white",
           "lakecolor": "white",
           "landcolor": "#E5ECF6",
           "showlakes": true,
           "showland": true,
           "subunitcolor": "white"
          },
          "hoverlabel": {
           "align": "left"
          },
          "hovermode": "closest",
          "mapbox": {
           "style": "light"
          },
          "paper_bgcolor": "white",
          "plot_bgcolor": "#E5ECF6",
          "polar": {
           "angularaxis": {
            "gridcolor": "white",
            "linecolor": "white",
            "ticks": ""
           },
           "bgcolor": "#E5ECF6",
           "radialaxis": {
            "gridcolor": "white",
            "linecolor": "white",
            "ticks": ""
           }
          },
          "scene": {
           "xaxis": {
            "backgroundcolor": "#E5ECF6",
            "gridcolor": "white",
            "gridwidth": 2,
            "linecolor": "white",
            "showbackground": true,
            "ticks": "",
            "zerolinecolor": "white"
           },
           "yaxis": {
            "backgroundcolor": "#E5ECF6",
            "gridcolor": "white",
            "gridwidth": 2,
            "linecolor": "white",
            "showbackground": true,
            "ticks": "",
            "zerolinecolor": "white"
           },
           "zaxis": {
            "backgroundcolor": "#E5ECF6",
            "gridcolor": "white",
            "gridwidth": 2,
            "linecolor": "white",
            "showbackground": true,
            "ticks": "",
            "zerolinecolor": "white"
           }
          },
          "shapedefaults": {
           "line": {
            "color": "#2a3f5f"
           }
          },
          "ternary": {
           "aaxis": {
            "gridcolor": "white",
            "linecolor": "white",
            "ticks": ""
           },
           "baxis": {
            "gridcolor": "white",
            "linecolor": "white",
            "ticks": ""
           },
           "bgcolor": "#E5ECF6",
           "caxis": {
            "gridcolor": "white",
            "linecolor": "white",
            "ticks": ""
           }
          },
          "title": {
           "x": 0.05
          },
          "xaxis": {
           "automargin": true,
           "gridcolor": "white",
           "linecolor": "white",
           "ticks": "",
           "title": {
            "standoff": 15
           },
           "zerolinecolor": "white",
           "zerolinewidth": 2
          },
          "yaxis": {
           "automargin": true,
           "gridcolor": "white",
           "linecolor": "white",
           "ticks": "",
           "title": {
            "standoff": 15
           },
           "zerolinecolor": "white",
           "zerolinewidth": 2
          }
         }
        }
       }
      }
     },
     "metadata": {},
     "output_type": "display_data"
    }
   ],
   "source": [
    "px.sunburst(df , path = ['price_range' , 'sc_h'])"
   ]
  },
  {
   "cell_type": "code",
   "execution_count": 33,
   "id": "979a879d",
   "metadata": {},
   "outputs": [
    {
     "data": {
      "application/vnd.plotly.v1+json": {
       "config": {
        "plotlyServerURL": "https://plot.ly"
       },
       "data": [
        {
         "branchvalues": "total",
         "domain": {
          "x": [
           0,
           1
          ],
          "y": [
           0,
           1
          ]
         },
         "hovertemplate": "labels=%{label}<br>count=%{value}<br>parent=%{parent}<br>id=%{id}<extra></extra>",
         "ids": [
          "1/7",
          "2/3",
          "2/2",
          "2/8",
          "1/2",
          "1/1",
          "3/8",
          "0/3",
          "0/1",
          "0/10",
          "3/2",
          "3/9",
          "1/0",
          "2/1",
          "0/9",
          "0/15",
          "1/13",
          "3/15",
          "3/1",
          "1/5",
          "0/7",
          "2/9",
          "3/11",
          "3/0",
          "1/4",
          "3/5",
          "2/12",
          "3/10",
          "1/12",
          "1/3",
          "3/13",
          "2/0",
          "1/8",
          "2/7",
          "0/11",
          "3/4",
          "2/13",
          "0/6",
          "0/0",
          "2/4",
          "0/2",
          "2/11",
          "3/6",
          "1/9",
          "3/3",
          "2/5",
          "1/17",
          "0/4",
          "2/17",
          "1/14",
          "3/17",
          "3/14",
          "3/7",
          "3/12",
          "1/6",
          "2/10",
          "1/10",
          "2/6",
          "0/14",
          "3/16",
          "0/8",
          "0/12",
          "2/15",
          "0/5",
          "0/17",
          "2/16",
          "1/15",
          "0/13",
          "1/11",
          "2/14",
          "1/18",
          "1/16",
          "3/18",
          "0/18",
          "0/16",
          "1",
          "2",
          "3",
          "0"
         ],
         "labels": [
          "7",
          "3",
          "2",
          "8",
          "2",
          "1",
          "8",
          "3",
          "1",
          "10",
          "2",
          "9",
          "0",
          "1",
          "9",
          "15",
          "13",
          "15",
          "1",
          "5",
          "7",
          "9",
          "11",
          "0",
          "4",
          "5",
          "12",
          "10",
          "12",
          "3",
          "13",
          "0",
          "8",
          "7",
          "11",
          "4",
          "13",
          "6",
          "0",
          "4",
          "2",
          "11",
          "6",
          "9",
          "3",
          "5",
          "17",
          "4",
          "17",
          "14",
          "17",
          "14",
          "7",
          "12",
          "6",
          "10",
          "10",
          "6",
          "14",
          "16",
          "8",
          "12",
          "15",
          "5",
          "17",
          "16",
          "15",
          "13",
          "11",
          "14",
          "18",
          "16",
          "18",
          "18",
          "16",
          "1",
          "2",
          "3",
          "0"
         ],
         "name": "",
         "parents": [
          "1",
          "2",
          "2",
          "2",
          "1",
          "1",
          "3",
          "0",
          "0",
          "0",
          "3",
          "3",
          "1",
          "2",
          "0",
          "0",
          "1",
          "3",
          "3",
          "1",
          "0",
          "2",
          "3",
          "3",
          "1",
          "3",
          "2",
          "3",
          "1",
          "1",
          "3",
          "2",
          "1",
          "2",
          "0",
          "3",
          "2",
          "0",
          "0",
          "2",
          "0",
          "2",
          "3",
          "1",
          "3",
          "2",
          "1",
          "0",
          "2",
          "1",
          "3",
          "3",
          "3",
          "3",
          "1",
          "2",
          "1",
          "2",
          "0",
          "3",
          "0",
          "0",
          "2",
          "0",
          "0",
          "2",
          "1",
          "0",
          "1",
          "2",
          "1",
          "1",
          "3",
          "0",
          "0",
          "",
          "",
          "",
          ""
         ],
         "type": "sunburst",
         "values": {
          "bdata": "HgAvACkAGwApADIAIwA2AC8AIwApABUAMAAwABUABwAPAAkAQQAxACYAGgAiACcANgAgABIAHQAQADIADAAsAB4AKwAUACQADAAqADEALgAhABQAGwAdADAALwABAC4ABwAJAAgADAAVABEAGQARABoAJAAHAAwAIQARAAcAIQADAAkACAAKAAoABQACAAcAAgAEAAEA9AH0AfQB9AE=",
          "dtype": "i2"
         }
        }
       ],
       "layout": {
        "legend": {
         "tracegroupgap": 0
        },
        "margin": {
         "t": 60
        },
        "template": {
         "data": {
          "bar": [
           {
            "error_x": {
             "color": "#2a3f5f"
            },
            "error_y": {
             "color": "#2a3f5f"
            },
            "marker": {
             "line": {
              "color": "#E5ECF6",
              "width": 0.5
             },
             "pattern": {
              "fillmode": "overlay",
              "size": 10,
              "solidity": 0.2
             }
            },
            "type": "bar"
           }
          ],
          "barpolar": [
           {
            "marker": {
             "line": {
              "color": "#E5ECF6",
              "width": 0.5
             },
             "pattern": {
              "fillmode": "overlay",
              "size": 10,
              "solidity": 0.2
             }
            },
            "type": "barpolar"
           }
          ],
          "carpet": [
           {
            "aaxis": {
             "endlinecolor": "#2a3f5f",
             "gridcolor": "white",
             "linecolor": "white",
             "minorgridcolor": "white",
             "startlinecolor": "#2a3f5f"
            },
            "baxis": {
             "endlinecolor": "#2a3f5f",
             "gridcolor": "white",
             "linecolor": "white",
             "minorgridcolor": "white",
             "startlinecolor": "#2a3f5f"
            },
            "type": "carpet"
           }
          ],
          "choropleth": [
           {
            "colorbar": {
             "outlinewidth": 0,
             "ticks": ""
            },
            "type": "choropleth"
           }
          ],
          "contour": [
           {
            "colorbar": {
             "outlinewidth": 0,
             "ticks": ""
            },
            "colorscale": [
             [
              0,
              "#0d0887"
             ],
             [
              0.1111111111111111,
              "#46039f"
             ],
             [
              0.2222222222222222,
              "#7201a8"
             ],
             [
              0.3333333333333333,
              "#9c179e"
             ],
             [
              0.4444444444444444,
              "#bd3786"
             ],
             [
              0.5555555555555556,
              "#d8576b"
             ],
             [
              0.6666666666666666,
              "#ed7953"
             ],
             [
              0.7777777777777778,
              "#fb9f3a"
             ],
             [
              0.8888888888888888,
              "#fdca26"
             ],
             [
              1,
              "#f0f921"
             ]
            ],
            "type": "contour"
           }
          ],
          "contourcarpet": [
           {
            "colorbar": {
             "outlinewidth": 0,
             "ticks": ""
            },
            "type": "contourcarpet"
           }
          ],
          "heatmap": [
           {
            "colorbar": {
             "outlinewidth": 0,
             "ticks": ""
            },
            "colorscale": [
             [
              0,
              "#0d0887"
             ],
             [
              0.1111111111111111,
              "#46039f"
             ],
             [
              0.2222222222222222,
              "#7201a8"
             ],
             [
              0.3333333333333333,
              "#9c179e"
             ],
             [
              0.4444444444444444,
              "#bd3786"
             ],
             [
              0.5555555555555556,
              "#d8576b"
             ],
             [
              0.6666666666666666,
              "#ed7953"
             ],
             [
              0.7777777777777778,
              "#fb9f3a"
             ],
             [
              0.8888888888888888,
              "#fdca26"
             ],
             [
              1,
              "#f0f921"
             ]
            ],
            "type": "heatmap"
           }
          ],
          "histogram": [
           {
            "marker": {
             "pattern": {
              "fillmode": "overlay",
              "size": 10,
              "solidity": 0.2
             }
            },
            "type": "histogram"
           }
          ],
          "histogram2d": [
           {
            "colorbar": {
             "outlinewidth": 0,
             "ticks": ""
            },
            "colorscale": [
             [
              0,
              "#0d0887"
             ],
             [
              0.1111111111111111,
              "#46039f"
             ],
             [
              0.2222222222222222,
              "#7201a8"
             ],
             [
              0.3333333333333333,
              "#9c179e"
             ],
             [
              0.4444444444444444,
              "#bd3786"
             ],
             [
              0.5555555555555556,
              "#d8576b"
             ],
             [
              0.6666666666666666,
              "#ed7953"
             ],
             [
              0.7777777777777778,
              "#fb9f3a"
             ],
             [
              0.8888888888888888,
              "#fdca26"
             ],
             [
              1,
              "#f0f921"
             ]
            ],
            "type": "histogram2d"
           }
          ],
          "histogram2dcontour": [
           {
            "colorbar": {
             "outlinewidth": 0,
             "ticks": ""
            },
            "colorscale": [
             [
              0,
              "#0d0887"
             ],
             [
              0.1111111111111111,
              "#46039f"
             ],
             [
              0.2222222222222222,
              "#7201a8"
             ],
             [
              0.3333333333333333,
              "#9c179e"
             ],
             [
              0.4444444444444444,
              "#bd3786"
             ],
             [
              0.5555555555555556,
              "#d8576b"
             ],
             [
              0.6666666666666666,
              "#ed7953"
             ],
             [
              0.7777777777777778,
              "#fb9f3a"
             ],
             [
              0.8888888888888888,
              "#fdca26"
             ],
             [
              1,
              "#f0f921"
             ]
            ],
            "type": "histogram2dcontour"
           }
          ],
          "mesh3d": [
           {
            "colorbar": {
             "outlinewidth": 0,
             "ticks": ""
            },
            "type": "mesh3d"
           }
          ],
          "parcoords": [
           {
            "line": {
             "colorbar": {
              "outlinewidth": 0,
              "ticks": ""
             }
            },
            "type": "parcoords"
           }
          ],
          "pie": [
           {
            "automargin": true,
            "type": "pie"
           }
          ],
          "scatter": [
           {
            "fillpattern": {
             "fillmode": "overlay",
             "size": 10,
             "solidity": 0.2
            },
            "type": "scatter"
           }
          ],
          "scatter3d": [
           {
            "line": {
             "colorbar": {
              "outlinewidth": 0,
              "ticks": ""
             }
            },
            "marker": {
             "colorbar": {
              "outlinewidth": 0,
              "ticks": ""
             }
            },
            "type": "scatter3d"
           }
          ],
          "scattercarpet": [
           {
            "marker": {
             "colorbar": {
              "outlinewidth": 0,
              "ticks": ""
             }
            },
            "type": "scattercarpet"
           }
          ],
          "scattergeo": [
           {
            "marker": {
             "colorbar": {
              "outlinewidth": 0,
              "ticks": ""
             }
            },
            "type": "scattergeo"
           }
          ],
          "scattergl": [
           {
            "marker": {
             "colorbar": {
              "outlinewidth": 0,
              "ticks": ""
             }
            },
            "type": "scattergl"
           }
          ],
          "scattermap": [
           {
            "marker": {
             "colorbar": {
              "outlinewidth": 0,
              "ticks": ""
             }
            },
            "type": "scattermap"
           }
          ],
          "scattermapbox": [
           {
            "marker": {
             "colorbar": {
              "outlinewidth": 0,
              "ticks": ""
             }
            },
            "type": "scattermapbox"
           }
          ],
          "scatterpolar": [
           {
            "marker": {
             "colorbar": {
              "outlinewidth": 0,
              "ticks": ""
             }
            },
            "type": "scatterpolar"
           }
          ],
          "scatterpolargl": [
           {
            "marker": {
             "colorbar": {
              "outlinewidth": 0,
              "ticks": ""
             }
            },
            "type": "scatterpolargl"
           }
          ],
          "scatterternary": [
           {
            "marker": {
             "colorbar": {
              "outlinewidth": 0,
              "ticks": ""
             }
            },
            "type": "scatterternary"
           }
          ],
          "surface": [
           {
            "colorbar": {
             "outlinewidth": 0,
             "ticks": ""
            },
            "colorscale": [
             [
              0,
              "#0d0887"
             ],
             [
              0.1111111111111111,
              "#46039f"
             ],
             [
              0.2222222222222222,
              "#7201a8"
             ],
             [
              0.3333333333333333,
              "#9c179e"
             ],
             [
              0.4444444444444444,
              "#bd3786"
             ],
             [
              0.5555555555555556,
              "#d8576b"
             ],
             [
              0.6666666666666666,
              "#ed7953"
             ],
             [
              0.7777777777777778,
              "#fb9f3a"
             ],
             [
              0.8888888888888888,
              "#fdca26"
             ],
             [
              1,
              "#f0f921"
             ]
            ],
            "type": "surface"
           }
          ],
          "table": [
           {
            "cells": {
             "fill": {
              "color": "#EBF0F8"
             },
             "line": {
              "color": "white"
             }
            },
            "header": {
             "fill": {
              "color": "#C8D4E3"
             },
             "line": {
              "color": "white"
             }
            },
            "type": "table"
           }
          ]
         },
         "layout": {
          "annotationdefaults": {
           "arrowcolor": "#2a3f5f",
           "arrowhead": 0,
           "arrowwidth": 1
          },
          "autotypenumbers": "strict",
          "coloraxis": {
           "colorbar": {
            "outlinewidth": 0,
            "ticks": ""
           }
          },
          "colorscale": {
           "diverging": [
            [
             0,
             "#8e0152"
            ],
            [
             0.1,
             "#c51b7d"
            ],
            [
             0.2,
             "#de77ae"
            ],
            [
             0.3,
             "#f1b6da"
            ],
            [
             0.4,
             "#fde0ef"
            ],
            [
             0.5,
             "#f7f7f7"
            ],
            [
             0.6,
             "#e6f5d0"
            ],
            [
             0.7,
             "#b8e186"
            ],
            [
             0.8,
             "#7fbc41"
            ],
            [
             0.9,
             "#4d9221"
            ],
            [
             1,
             "#276419"
            ]
           ],
           "sequential": [
            [
             0,
             "#0d0887"
            ],
            [
             0.1111111111111111,
             "#46039f"
            ],
            [
             0.2222222222222222,
             "#7201a8"
            ],
            [
             0.3333333333333333,
             "#9c179e"
            ],
            [
             0.4444444444444444,
             "#bd3786"
            ],
            [
             0.5555555555555556,
             "#d8576b"
            ],
            [
             0.6666666666666666,
             "#ed7953"
            ],
            [
             0.7777777777777778,
             "#fb9f3a"
            ],
            [
             0.8888888888888888,
             "#fdca26"
            ],
            [
             1,
             "#f0f921"
            ]
           ],
           "sequentialminus": [
            [
             0,
             "#0d0887"
            ],
            [
             0.1111111111111111,
             "#46039f"
            ],
            [
             0.2222222222222222,
             "#7201a8"
            ],
            [
             0.3333333333333333,
             "#9c179e"
            ],
            [
             0.4444444444444444,
             "#bd3786"
            ],
            [
             0.5555555555555556,
             "#d8576b"
            ],
            [
             0.6666666666666666,
             "#ed7953"
            ],
            [
             0.7777777777777778,
             "#fb9f3a"
            ],
            [
             0.8888888888888888,
             "#fdca26"
            ],
            [
             1,
             "#f0f921"
            ]
           ]
          },
          "colorway": [
           "#636efa",
           "#EF553B",
           "#00cc96",
           "#ab63fa",
           "#FFA15A",
           "#19d3f3",
           "#FF6692",
           "#B6E880",
           "#FF97FF",
           "#FECB52"
          ],
          "font": {
           "color": "#2a3f5f"
          },
          "geo": {
           "bgcolor": "white",
           "lakecolor": "white",
           "landcolor": "#E5ECF6",
           "showlakes": true,
           "showland": true,
           "subunitcolor": "white"
          },
          "hoverlabel": {
           "align": "left"
          },
          "hovermode": "closest",
          "mapbox": {
           "style": "light"
          },
          "paper_bgcolor": "white",
          "plot_bgcolor": "#E5ECF6",
          "polar": {
           "angularaxis": {
            "gridcolor": "white",
            "linecolor": "white",
            "ticks": ""
           },
           "bgcolor": "#E5ECF6",
           "radialaxis": {
            "gridcolor": "white",
            "linecolor": "white",
            "ticks": ""
           }
          },
          "scene": {
           "xaxis": {
            "backgroundcolor": "#E5ECF6",
            "gridcolor": "white",
            "gridwidth": 2,
            "linecolor": "white",
            "showbackground": true,
            "ticks": "",
            "zerolinecolor": "white"
           },
           "yaxis": {
            "backgroundcolor": "#E5ECF6",
            "gridcolor": "white",
            "gridwidth": 2,
            "linecolor": "white",
            "showbackground": true,
            "ticks": "",
            "zerolinecolor": "white"
           },
           "zaxis": {
            "backgroundcolor": "#E5ECF6",
            "gridcolor": "white",
            "gridwidth": 2,
            "linecolor": "white",
            "showbackground": true,
            "ticks": "",
            "zerolinecolor": "white"
           }
          },
          "shapedefaults": {
           "line": {
            "color": "#2a3f5f"
           }
          },
          "ternary": {
           "aaxis": {
            "gridcolor": "white",
            "linecolor": "white",
            "ticks": ""
           },
           "baxis": {
            "gridcolor": "white",
            "linecolor": "white",
            "ticks": ""
           },
           "bgcolor": "#E5ECF6",
           "caxis": {
            "gridcolor": "white",
            "linecolor": "white",
            "ticks": ""
           }
          },
          "title": {
           "x": 0.05
          },
          "xaxis": {
           "automargin": true,
           "gridcolor": "white",
           "linecolor": "white",
           "ticks": "",
           "title": {
            "standoff": 15
           },
           "zerolinecolor": "white",
           "zerolinewidth": 2
          },
          "yaxis": {
           "automargin": true,
           "gridcolor": "white",
           "linecolor": "white",
           "ticks": "",
           "title": {
            "standoff": 15
           },
           "zerolinecolor": "white",
           "zerolinewidth": 2
          }
         }
        }
       }
      }
     },
     "metadata": {},
     "output_type": "display_data"
    }
   ],
   "source": [
    "px.sunburst(df , path = ['price_range' , 'sc_w'])"
   ]
  },
  {
   "cell_type": "code",
   "execution_count": 34,
   "id": "d56a43c2",
   "metadata": {},
   "outputs": [
    {
     "data": {
      "application/vnd.plotly.v1+json": {
       "config": {
        "plotlyServerURL": "https://plot.ly"
       },
       "data": [
        {
         "bingroup": "x",
         "hovertemplate": "price_range=1<br>talk_time=%{x}<br>count=%{y}<extra></extra>",
         "legendgroup": "1",
         "marker": {
          "color": "#636efa",
          "pattern": {
           "shape": ""
          }
         },
         "name": "1",
         "orientation": "v",
         "showlegend": true,
         "type": "histogram",
         "x": {
          "bdata": "Ew8KAhASFAwDDwIEDhQMDAQUDRALEQQMBwsPCxIHCg4HFAcEExQTBgoHERQTCg8OEA0MEBQUFAsLBwcFBQwEDgYJCRICBgkSFAYTBxMGCQcNDwIMEAINDwkDBRARAhICDg8GFBMCFAQPFBMHDgYOBBMFEwMGBgoJDxACCwwSCgsJDAcEDAYIEwQSEQ8FDxECEQ4DBw0MAgwIEAYRCQwUEAgJDxAHCwQSExMHDhMEBw0JDRIJAwIUDRQKCAcTDwYEDg0HEgsMDwIKCQYHBhICEQkRCBINAgYJDREJCwwGBwQDDwMJFAkQExILAg4PAw4DDAMIDBEJDQoTBxIRCQIHCA4PEwsIEg8UChAPBQwLBQ4KBwgEDwwOERQUBQkJBBQGCw8SFAMFDRIKAwYIBAoCBRIHBRETEBMCBgoMDBMLDA8IBAgPCREQEBAOERMCEBQGExESCBQMCgYOEhMOAgcIEBAQFAkUEgUOBRATBg8MExEGEAIGBw4TDxQUBxMFDw0KEhECDxINCREIBAMGEQcUEBANAgkIDwULAgUDCAUDEAwPDwwKBw4SDQwEEAoLBBILAhQUBBMKEAUOAwkODRAHCgUFAwUTDg8MDAQJDhACBgIOBwgREQoNBxIREQQOFAkMBwMHDQMOCQQPAxENCgsQAgYIEwM=",
          "dtype": "i1"
         },
         "xaxis": "x",
         "yaxis": "y"
        },
        {
         "bingroup": "x",
         "hovertemplate": "price_range=2<br>talk_time=%{x}<br>count=%{y}<extra></extra>",
         "legendgroup": "2",
         "marker": {
          "color": "#EF553B",
          "pattern": {
           "shape": ""
          }
         },
         "name": "2",
         "orientation": "v",
         "showlegend": true,
         "type": "histogram",
         "x": {
          "bdata": "BwkLBAcKAgsLDxASDQkFEw0QCAsODgUEBg8SBBQJEQUEDwsQBwcMBwwNAhESBhIDDA8IBBENCgoNDQMGEAcQBgcCEQ4PBBIRDwoMCA8LDA4QDxIFEwgSEw4ECwoSCQwQEAIQBAMJBw0REAoCChIIBBATCgcHDQoSEg0RDgoPCQ8SCgcGFAMKDw4TDA8RDwoODhQGBQwFAwwNBAkGBxMPEwkIAhINCwIFEQgJBQgCFAsSCAoCAgsNEA0OCBAGDgwCBBAIBA4CBQMQDxIHAwIHCQQOCwUPCQwUDxMMEgoNCQUNEBELBwYPEQoLBxMKEQIOBg0UCA0EDwIECAUGCBMUAw8GExACBBMHEQQHBwcRDQ8RAgURCQQDEg0PBA8OEwIQBgwJAhMNFAUJCQ8QEAUHDA0TAgQOAhQTCwgECAMPDAUPDgUSAgcFCgYKCg0TDQ8GDggSAg0GCgMSBwoTAwkTCwYJBQgPDhAMERMHEBALEw8MCQwDDwMGFBEUDBAEBxMUEg4JBhIDDgIIAgIRBBEKBQ8OCgQIDRMLBQQUERILCggQEA0KAxQMAhEEBwQQEwkJBxEMFAcNEgwGBQ8PFAoRBwsEExALEAgDBgYSCRQEBQUQEwUOAwkCEwYCBwsPBxADEQMTDQsTBAsEFAoTCAgICA8LBBA=",
          "dtype": "i1"
         },
         "xaxis": "x",
         "yaxis": "y"
        },
        {
         "bingroup": "x",
         "hovertemplate": "price_range=3<br>talk_time=%{x}<br>count=%{y}<extra></extra>",
         "legendgroup": "3",
         "marker": {
          "color": "#00cc96",
          "pattern": {
           "shape": ""
          }
         },
         "name": "3",
         "orientation": "v",
         "showlegend": true,
         "type": "histogram",
         "x": {
          "bdata": "EgcNExIDDwQMDAwEEwMKChQNBAgHAgwKBgsEEAwUCw4JDhQNBAYRCQcHAhEQBAwTCwoNFBQGEAINBwoEBgYIBAsCBhAHEwYIAwsOAw8QBQ0JEgMFEggLEA4PDQYNEgoLDAkLDQoNFAgIBwMTEggKEgYHFAYFEAoHBxAOAggPAgkMCRIQEREDDggGAxILDQgQCxQNBgMCAhIOBwwDEQIDChAKEhEDBgQPEAkFEhQFCw4UFBEMDA8UCQUIBQQLERQKEBAEDA8GDxIRBwgIEgMTCAsHDAMNBA4ICgUNCwcUCxMNDRAIEQ4NDw4LDQ8SEwoEDw4QEAYUEhQUEwoFDgwIDwkNEwoFCRMPDxMIDREJDAgPEAcHEAcKBwcMBAcNBgMDFAoPERAHDA0QCQsJAhQGCxMIFAYUBAMFEQ8LEAwSBQkREQUNCgUGAgkLCAoRCwYUEwcSFAMLCBACBA4UEwgOEAYLEwoHDQQMEw8SBwUGChMSEwQDCRIGEAgTDAQLDgsHCQMUDgwJEQkMEggMChIKDgcJBgIKEhEEFA4SBQYFDAkUCwQHAwQUDhMTEgQCAw8IDxENDwIQBwsSBggJCAwCBxMRAgsNDhQREREEBwcHEQkPEQIOBQQIEAsGBAsFBwwEAwoTBQcFBRAQFBMDDgIFFAUDBQI=",
          "dtype": "i1"
         },
         "xaxis": "x",
         "yaxis": "y"
        },
        {
         "bingroup": "x",
         "hovertemplate": "price_range=0<br>talk_time=%{x}<br>count=%{y}<extra></extra>",
         "legendgroup": "0",
         "marker": {
          "color": "#ab63fa",
          "pattern": {
           "shape": ""
          }
         },
         "name": "0",
         "orientation": "v",
         "showlegend": true,
         "type": "histogram",
         "x": {
          "bdata": "BRQMAwsUCgYPDAURBg8EBAYRBgcFAggSEggDCQ0ECQUKAwgLBAQEBw8PDQYNCgcKEg0TCwsKDwwKDwgPBgQJCwwFCBATEw0UBwUHDgUEDwwGFAcOCBAEEAcMBAUQExACAwgNCAsJCgsEEBMMBgsOEhIUCQkTCQgTDwgKCQgOCAYJERAOBgoGCREOBQQRAxIEFAkFDQUNCQkDAgUDDhIHDRIHBA8CBBIFBBIGBg0UEBMDCggLAggTDxEPDQwRDgMODwIMBxEUCwQRCA4EEwMGEw4IEgYTEhQGCRIODwsHDxEECQQIBgwKAwYOEAkOBgoTBwwQCAwREgcHEw0NBgcTBAMEAwgGEQoICQ0KAgwSCAsJFAUDDgoIBgMOCAQQFAUQBAUOCgsLEAYOBBAUCAQPEQ4RBgYKEwwTDgMOBgQEDQYRDxQMCwYMCAsKAgwOAgMHEQ0JBQoNExQFBgQUEA4QEhEQDBIQEgkHEwUTDQMHBAsHDwoDAgsRFAsCAgsCDwQSFA0LCxADDwIDCAMPEBIUCxMSCgoEBgsEEBIGDQgIBQcTEBEOCwYLAgMFDQoGCQ8TEAsTDQcNDQURBwsUDwwTAwQIChARAwQDBAoCCwsIDwcCCgQUCQIKEAkKDw4ECgIDCQwCAhEMBgQNAxQODwcOBwcEExM=",
          "dtype": "i1"
         },
         "xaxis": "x",
         "yaxis": "y"
        }
       ],
       "layout": {
        "barmode": "relative",
        "legend": {
         "title": {
          "text": "price_range"
         },
         "tracegroupgap": 0
        },
        "margin": {
         "t": 60
        },
        "template": {
         "data": {
          "bar": [
           {
            "error_x": {
             "color": "#2a3f5f"
            },
            "error_y": {
             "color": "#2a3f5f"
            },
            "marker": {
             "line": {
              "color": "#E5ECF6",
              "width": 0.5
             },
             "pattern": {
              "fillmode": "overlay",
              "size": 10,
              "solidity": 0.2
             }
            },
            "type": "bar"
           }
          ],
          "barpolar": [
           {
            "marker": {
             "line": {
              "color": "#E5ECF6",
              "width": 0.5
             },
             "pattern": {
              "fillmode": "overlay",
              "size": 10,
              "solidity": 0.2
             }
            },
            "type": "barpolar"
           }
          ],
          "carpet": [
           {
            "aaxis": {
             "endlinecolor": "#2a3f5f",
             "gridcolor": "white",
             "linecolor": "white",
             "minorgridcolor": "white",
             "startlinecolor": "#2a3f5f"
            },
            "baxis": {
             "endlinecolor": "#2a3f5f",
             "gridcolor": "white",
             "linecolor": "white",
             "minorgridcolor": "white",
             "startlinecolor": "#2a3f5f"
            },
            "type": "carpet"
           }
          ],
          "choropleth": [
           {
            "colorbar": {
             "outlinewidth": 0,
             "ticks": ""
            },
            "type": "choropleth"
           }
          ],
          "contour": [
           {
            "colorbar": {
             "outlinewidth": 0,
             "ticks": ""
            },
            "colorscale": [
             [
              0,
              "#0d0887"
             ],
             [
              0.1111111111111111,
              "#46039f"
             ],
             [
              0.2222222222222222,
              "#7201a8"
             ],
             [
              0.3333333333333333,
              "#9c179e"
             ],
             [
              0.4444444444444444,
              "#bd3786"
             ],
             [
              0.5555555555555556,
              "#d8576b"
             ],
             [
              0.6666666666666666,
              "#ed7953"
             ],
             [
              0.7777777777777778,
              "#fb9f3a"
             ],
             [
              0.8888888888888888,
              "#fdca26"
             ],
             [
              1,
              "#f0f921"
             ]
            ],
            "type": "contour"
           }
          ],
          "contourcarpet": [
           {
            "colorbar": {
             "outlinewidth": 0,
             "ticks": ""
            },
            "type": "contourcarpet"
           }
          ],
          "heatmap": [
           {
            "colorbar": {
             "outlinewidth": 0,
             "ticks": ""
            },
            "colorscale": [
             [
              0,
              "#0d0887"
             ],
             [
              0.1111111111111111,
              "#46039f"
             ],
             [
              0.2222222222222222,
              "#7201a8"
             ],
             [
              0.3333333333333333,
              "#9c179e"
             ],
             [
              0.4444444444444444,
              "#bd3786"
             ],
             [
              0.5555555555555556,
              "#d8576b"
             ],
             [
              0.6666666666666666,
              "#ed7953"
             ],
             [
              0.7777777777777778,
              "#fb9f3a"
             ],
             [
              0.8888888888888888,
              "#fdca26"
             ],
             [
              1,
              "#f0f921"
             ]
            ],
            "type": "heatmap"
           }
          ],
          "histogram": [
           {
            "marker": {
             "pattern": {
              "fillmode": "overlay",
              "size": 10,
              "solidity": 0.2
             }
            },
            "type": "histogram"
           }
          ],
          "histogram2d": [
           {
            "colorbar": {
             "outlinewidth": 0,
             "ticks": ""
            },
            "colorscale": [
             [
              0,
              "#0d0887"
             ],
             [
              0.1111111111111111,
              "#46039f"
             ],
             [
              0.2222222222222222,
              "#7201a8"
             ],
             [
              0.3333333333333333,
              "#9c179e"
             ],
             [
              0.4444444444444444,
              "#bd3786"
             ],
             [
              0.5555555555555556,
              "#d8576b"
             ],
             [
              0.6666666666666666,
              "#ed7953"
             ],
             [
              0.7777777777777778,
              "#fb9f3a"
             ],
             [
              0.8888888888888888,
              "#fdca26"
             ],
             [
              1,
              "#f0f921"
             ]
            ],
            "type": "histogram2d"
           }
          ],
          "histogram2dcontour": [
           {
            "colorbar": {
             "outlinewidth": 0,
             "ticks": ""
            },
            "colorscale": [
             [
              0,
              "#0d0887"
             ],
             [
              0.1111111111111111,
              "#46039f"
             ],
             [
              0.2222222222222222,
              "#7201a8"
             ],
             [
              0.3333333333333333,
              "#9c179e"
             ],
             [
              0.4444444444444444,
              "#bd3786"
             ],
             [
              0.5555555555555556,
              "#d8576b"
             ],
             [
              0.6666666666666666,
              "#ed7953"
             ],
             [
              0.7777777777777778,
              "#fb9f3a"
             ],
             [
              0.8888888888888888,
              "#fdca26"
             ],
             [
              1,
              "#f0f921"
             ]
            ],
            "type": "histogram2dcontour"
           }
          ],
          "mesh3d": [
           {
            "colorbar": {
             "outlinewidth": 0,
             "ticks": ""
            },
            "type": "mesh3d"
           }
          ],
          "parcoords": [
           {
            "line": {
             "colorbar": {
              "outlinewidth": 0,
              "ticks": ""
             }
            },
            "type": "parcoords"
           }
          ],
          "pie": [
           {
            "automargin": true,
            "type": "pie"
           }
          ],
          "scatter": [
           {
            "fillpattern": {
             "fillmode": "overlay",
             "size": 10,
             "solidity": 0.2
            },
            "type": "scatter"
           }
          ],
          "scatter3d": [
           {
            "line": {
             "colorbar": {
              "outlinewidth": 0,
              "ticks": ""
             }
            },
            "marker": {
             "colorbar": {
              "outlinewidth": 0,
              "ticks": ""
             }
            },
            "type": "scatter3d"
           }
          ],
          "scattercarpet": [
           {
            "marker": {
             "colorbar": {
              "outlinewidth": 0,
              "ticks": ""
             }
            },
            "type": "scattercarpet"
           }
          ],
          "scattergeo": [
           {
            "marker": {
             "colorbar": {
              "outlinewidth": 0,
              "ticks": ""
             }
            },
            "type": "scattergeo"
           }
          ],
          "scattergl": [
           {
            "marker": {
             "colorbar": {
              "outlinewidth": 0,
              "ticks": ""
             }
            },
            "type": "scattergl"
           }
          ],
          "scattermap": [
           {
            "marker": {
             "colorbar": {
              "outlinewidth": 0,
              "ticks": ""
             }
            },
            "type": "scattermap"
           }
          ],
          "scattermapbox": [
           {
            "marker": {
             "colorbar": {
              "outlinewidth": 0,
              "ticks": ""
             }
            },
            "type": "scattermapbox"
           }
          ],
          "scatterpolar": [
           {
            "marker": {
             "colorbar": {
              "outlinewidth": 0,
              "ticks": ""
             }
            },
            "type": "scatterpolar"
           }
          ],
          "scatterpolargl": [
           {
            "marker": {
             "colorbar": {
              "outlinewidth": 0,
              "ticks": ""
             }
            },
            "type": "scatterpolargl"
           }
          ],
          "scatterternary": [
           {
            "marker": {
             "colorbar": {
              "outlinewidth": 0,
              "ticks": ""
             }
            },
            "type": "scatterternary"
           }
          ],
          "surface": [
           {
            "colorbar": {
             "outlinewidth": 0,
             "ticks": ""
            },
            "colorscale": [
             [
              0,
              "#0d0887"
             ],
             [
              0.1111111111111111,
              "#46039f"
             ],
             [
              0.2222222222222222,
              "#7201a8"
             ],
             [
              0.3333333333333333,
              "#9c179e"
             ],
             [
              0.4444444444444444,
              "#bd3786"
             ],
             [
              0.5555555555555556,
              "#d8576b"
             ],
             [
              0.6666666666666666,
              "#ed7953"
             ],
             [
              0.7777777777777778,
              "#fb9f3a"
             ],
             [
              0.8888888888888888,
              "#fdca26"
             ],
             [
              1,
              "#f0f921"
             ]
            ],
            "type": "surface"
           }
          ],
          "table": [
           {
            "cells": {
             "fill": {
              "color": "#EBF0F8"
             },
             "line": {
              "color": "white"
             }
            },
            "header": {
             "fill": {
              "color": "#C8D4E3"
             },
             "line": {
              "color": "white"
             }
            },
            "type": "table"
           }
          ]
         },
         "layout": {
          "annotationdefaults": {
           "arrowcolor": "#2a3f5f",
           "arrowhead": 0,
           "arrowwidth": 1
          },
          "autotypenumbers": "strict",
          "coloraxis": {
           "colorbar": {
            "outlinewidth": 0,
            "ticks": ""
           }
          },
          "colorscale": {
           "diverging": [
            [
             0,
             "#8e0152"
            ],
            [
             0.1,
             "#c51b7d"
            ],
            [
             0.2,
             "#de77ae"
            ],
            [
             0.3,
             "#f1b6da"
            ],
            [
             0.4,
             "#fde0ef"
            ],
            [
             0.5,
             "#f7f7f7"
            ],
            [
             0.6,
             "#e6f5d0"
            ],
            [
             0.7,
             "#b8e186"
            ],
            [
             0.8,
             "#7fbc41"
            ],
            [
             0.9,
             "#4d9221"
            ],
            [
             1,
             "#276419"
            ]
           ],
           "sequential": [
            [
             0,
             "#0d0887"
            ],
            [
             0.1111111111111111,
             "#46039f"
            ],
            [
             0.2222222222222222,
             "#7201a8"
            ],
            [
             0.3333333333333333,
             "#9c179e"
            ],
            [
             0.4444444444444444,
             "#bd3786"
            ],
            [
             0.5555555555555556,
             "#d8576b"
            ],
            [
             0.6666666666666666,
             "#ed7953"
            ],
            [
             0.7777777777777778,
             "#fb9f3a"
            ],
            [
             0.8888888888888888,
             "#fdca26"
            ],
            [
             1,
             "#f0f921"
            ]
           ],
           "sequentialminus": [
            [
             0,
             "#0d0887"
            ],
            [
             0.1111111111111111,
             "#46039f"
            ],
            [
             0.2222222222222222,
             "#7201a8"
            ],
            [
             0.3333333333333333,
             "#9c179e"
            ],
            [
             0.4444444444444444,
             "#bd3786"
            ],
            [
             0.5555555555555556,
             "#d8576b"
            ],
            [
             0.6666666666666666,
             "#ed7953"
            ],
            [
             0.7777777777777778,
             "#fb9f3a"
            ],
            [
             0.8888888888888888,
             "#fdca26"
            ],
            [
             1,
             "#f0f921"
            ]
           ]
          },
          "colorway": [
           "#636efa",
           "#EF553B",
           "#00cc96",
           "#ab63fa",
           "#FFA15A",
           "#19d3f3",
           "#FF6692",
           "#B6E880",
           "#FF97FF",
           "#FECB52"
          ],
          "font": {
           "color": "#2a3f5f"
          },
          "geo": {
           "bgcolor": "white",
           "lakecolor": "white",
           "landcolor": "#E5ECF6",
           "showlakes": true,
           "showland": true,
           "subunitcolor": "white"
          },
          "hoverlabel": {
           "align": "left"
          },
          "hovermode": "closest",
          "mapbox": {
           "style": "light"
          },
          "paper_bgcolor": "white",
          "plot_bgcolor": "#E5ECF6",
          "polar": {
           "angularaxis": {
            "gridcolor": "white",
            "linecolor": "white",
            "ticks": ""
           },
           "bgcolor": "#E5ECF6",
           "radialaxis": {
            "gridcolor": "white",
            "linecolor": "white",
            "ticks": ""
           }
          },
          "scene": {
           "xaxis": {
            "backgroundcolor": "#E5ECF6",
            "gridcolor": "white",
            "gridwidth": 2,
            "linecolor": "white",
            "showbackground": true,
            "ticks": "",
            "zerolinecolor": "white"
           },
           "yaxis": {
            "backgroundcolor": "#E5ECF6",
            "gridcolor": "white",
            "gridwidth": 2,
            "linecolor": "white",
            "showbackground": true,
            "ticks": "",
            "zerolinecolor": "white"
           },
           "zaxis": {
            "backgroundcolor": "#E5ECF6",
            "gridcolor": "white",
            "gridwidth": 2,
            "linecolor": "white",
            "showbackground": true,
            "ticks": "",
            "zerolinecolor": "white"
           }
          },
          "shapedefaults": {
           "line": {
            "color": "#2a3f5f"
           }
          },
          "ternary": {
           "aaxis": {
            "gridcolor": "white",
            "linecolor": "white",
            "ticks": ""
           },
           "baxis": {
            "gridcolor": "white",
            "linecolor": "white",
            "ticks": ""
           },
           "bgcolor": "#E5ECF6",
           "caxis": {
            "gridcolor": "white",
            "linecolor": "white",
            "ticks": ""
           }
          },
          "title": {
           "x": 0.05
          },
          "xaxis": {
           "automargin": true,
           "gridcolor": "white",
           "linecolor": "white",
           "ticks": "",
           "title": {
            "standoff": 15
           },
           "zerolinecolor": "white",
           "zerolinewidth": 2
          },
          "yaxis": {
           "automargin": true,
           "gridcolor": "white",
           "linecolor": "white",
           "ticks": "",
           "title": {
            "standoff": 15
           },
           "zerolinecolor": "white",
           "zerolinewidth": 2
          }
         }
        },
        "xaxis": {
         "anchor": "y",
         "domain": [
          0,
          1
         ],
         "title": {
          "text": "talk_time"
         }
        },
        "yaxis": {
         "anchor": "x",
         "domain": [
          0,
          1
         ],
         "title": {
          "text": "count"
         }
        }
       }
      }
     },
     "metadata": {},
     "output_type": "display_data"
    }
   ],
   "source": [
    "px.histogram(df , x = 'talk_time' , color = 'price_range')"
   ]
  },
  {
   "cell_type": "code",
   "execution_count": 35,
   "id": "5e39e71e",
   "metadata": {},
   "outputs": [
    {
     "data": {
      "application/vnd.plotly.v1+json": {
       "config": {
        "plotlyServerURL": "https://plot.ly"
       },
       "data": [
        {
         "bingroup": "x",
         "hovertemplate": "price_range=1<br>three_g=%{x}<br>count=%{y}<extra></extra>",
         "legendgroup": "1",
         "marker": {
          "color": "#636efa",
          "pattern": {
           "shape": ""
          }
         },
         "name": "1",
         "orientation": "v",
         "showlegend": true,
         "type": "histogram",
         "x": {
          "bdata": "AAEBAQEAAAEBAQEBAQABAQABAQABAQAAAQEBAQEAAQEBAQEBAAEBAQABAQEAAQEBAQEAAQEBAQEBAQEBAQEBAQABAQEBAQEAAQEBAQEBAQAAAAEBAQEBAQEAAQEBAAAAAQEAAAEBAQEBAAEBAQAAAQEAAQEAAQEAAQEBAAEBAQEBAAEBAQEBAQEBAAAAAQABAQEAAQEBAQABAQEBAQEBAAEBAQEBAQEBAQABAQABAQAAAAEBAQEBAQABAQEBAQEAAQEAAQABAQABAQAAAAEBAQABAQAAAQAAAAABAQEAAAEBAQEBAQEBAAEAAQEBAQABAQABAAEBAQEBAAEBAQEBAQABAQEBAQEBAQEAAQEBAQEBAQEBAAEAAQAAAQEBAQEBAQEBAQEBAQEAAAEBAQEBAQEBAQABAQEBAQEBAQEAAQEBAQEBAAABAQEBAQEBAQEAAQAAAAABAAEBAAABAAEAAAEBAQABAQABAAEBAAEBAQEBAQABAQEBAQEBAQEBAQEAAAEBAQEBAQEAAQABAAEBAQABAQEBAQEBAQEBAQABAQEBAQABAQEBAQEAAQABAQEBAQEAAQEBAQEAAAEAAQEAAQEBAAEBAAABAQEBAAEBAQEAAQEAAQEBAQEBAQABAQEBAQEBAAEBAQEBAAEBAQEBAAEBAAA=",
          "dtype": "i1"
         },
         "xaxis": "x",
         "yaxis": "y"
        },
        {
         "bingroup": "x",
         "hovertemplate": "price_range=2<br>three_g=%{x}<br>count=%{y}<extra></extra>",
         "legendgroup": "2",
         "marker": {
          "color": "#EF553B",
          "pattern": {
           "shape": ""
          }
         },
         "name": "2",
         "orientation": "v",
         "showlegend": true,
         "type": "histogram",
         "x": {
          "bdata": "AQEBAQEBAQEBAQAAAQEBAQEBAQEBAQEBAAEBAQAAAQEAAQEBAQEBAQEBAQABAQEBAQEBAQEBAQEBAAEBAQEBAAABAQEBAQEAAQAAAAAAAAEBAQEBAQEAAQEAAQEBAQEBAQEBAQEBAQEAAQEBAAEBAQEBAQEAAQEBAQEBAQEAAAEAAQEBAQEAAQABAQEAAQABAQAAAQEBAQEBAQAAAQEBAQEBAAAAAQEBAQEBAQEBAQEBAAEBAQEAAQEBAQEBAQEAAAABAQEBAAEBAQABAQAAAAEBAAEAAQEBAAEBAQEAAQEBAAABAQEBAQEBAQEBAQEBAQEBAQEAAAEBAQABAAEBAAEBAAAAAQEBAAEBAQEBAQAAAQEBAQABAQEAAAEBAQEBAQEBAQEAAQEBAQEBAQABAQEBAQEBAQABAAEBAQEAAAEBAQEBAQEBAQEBAAEBAQEAAQEAAQEBAQABAQEBAQEBAQEBAQEBAAEBAQEBAAAAAAEBAQEBAQEBAQEBAQEBAQEAAQEBAQEAAAEBAQEBAAEBAQAAAQEBAAEBAAEBAQEBAQAAAQEBAQEBAQEAAQEBAQEAAAEAAAABAQEBAQEBAAEBAQABAAEAAAEBAQEAAQABAQABAQEBAQEBAAEBAQEBAQABAQEBAQAAAQEBAQEAAQABAQEAAAE=",
          "dtype": "i1"
         },
         "xaxis": "x",
         "yaxis": "y"
        },
        {
         "bingroup": "x",
         "hovertemplate": "price_range=3<br>three_g=%{x}<br>count=%{y}<extra></extra>",
         "legendgroup": "3",
         "marker": {
          "color": "#00cc96",
          "pattern": {
           "shape": ""
          }
         },
         "name": "3",
         "orientation": "v",
         "showlegend": true,
         "type": "histogram",
         "x": {
          "bdata": "AQABAQEBAQEBAAEBAQEAAQEBAQABAQEBAQABAQEBAAEBAQEBAQABAAEBAQEBAQAAAQEBAQEBAQEBAQEBAQEBAAAAAQEAAAABAQEBAQEBAQEBAQABAAABAAEAAAEBAQABAAABAAEAAQEBAQEBAAABAQEBAQEBAAEBAQEBAQEAAQEBAQEAAAEAAQEBAQABAQEAAQABAQEAAQEBAQEAAAABAQEBAQEBAQABAQEBAAEBAQABAQEBAQEBAQABAAEAAQEAAQEBAQABAQAAAQABAQEBAQEBAQEBAQEBAQEBAQABAQABAQEAAAEBAAEBAQEBAQEBAQEBAQEBAQEAAQEBAQEBAQEBAQABAQEBAQABAQABAQEBAQEAAAABAAEAAAEBAAEBAQEBAAEAAAAAAQEAAQABAQABAAEBAQEBAQEBAAEBAQAAAAABAQEBAQEBAQEAAQEBAQEBAQEBAQEBAQEBAQABAQEBAQEBAQABAQEBAQEBAQEAAAEBAQABAQEBAQEBAAABAQABAQABAQEAAQEBAQEBAQEBAQEBAQEBAAABAAEBAQAAAQAAAQEAAQEBAQEBAQEBAQEBAQEBAQEAAQABAQEBAQAAAQEBAQEBAAEBAQEAAQEBAAEBAQEAAQEBAAEBAQEBAAEAAQEBAAABAQEAAQEBAQEBAQE=",
          "dtype": "i1"
         },
         "xaxis": "x",
         "yaxis": "y"
        },
        {
         "bingroup": "x",
         "hovertemplate": "price_range=0<br>three_g=%{x}<br>count=%{y}<extra></extra>",
         "legendgroup": "0",
         "marker": {
          "color": "#ab63fa",
          "pattern": {
           "shape": ""
          }
         },
         "name": "0",
         "orientation": "v",
         "showlegend": true,
         "type": "histogram",
         "x": {
          "bdata": "AQEBAQEBAQEBAQEBAQEBAQABAAABAQEAAQEBAAEBAAEBAAEBAQEAAQEBAQEAAQEBAQEBAQABAQABAQEAAQEBAAEAAAEBAAEBAQEBAQABAAABAQEAAQABAAEBAQEAAQEBAAABAAEBAAEBAQEAAQABAQAAAQEBAQEBAQEBAAEAAQEAAQEBAQEAAAEBAAEAAQEBAQABAQEBAQEBAQEAAAABAQAAAQABAQEBAQEAAQEAAAEBAQEBAQEBAQEBAAAAAQEBAQABAAABAQEBAAABAQABAAEBAQEBAAEBAAABAQEAAAEBAQEBAQEAAQEAAQABAQEAAQEAAQEBAAEBAQEAAAEAAAEBAQEAAQEAAAEBAAEBAQEBAQABAQEAAAEBAQEBAQEBAQEBAQABAQAAAQEBAQEAAQEBAQEBAQEAAAEBAAEBAQEBAQEBAAABAQEBAAABAQEBAAEBAAABAQEBAQEAAQEBAQAAAQEAAAEBAQABAQEBAQEBAQEBAQEBAQEBAQEBAQEBAQEBAQEBAQEAAAABAQABAQEBAQABAAEAAQEBAAEBAQEBAAEBAQEBAQEBAQEAAQEBAAEBAAEBAQEAAQABAQEBAQABAQEAAQEAAAEBAQABAQEAAQEAAAEAAQEBAAEBAQEBAQEBAQEBAAEAAAEBAQEBAQEBAQE=",
          "dtype": "i1"
         },
         "xaxis": "x",
         "yaxis": "y"
        }
       ],
       "layout": {
        "barmode": "relative",
        "legend": {
         "title": {
          "text": "price_range"
         },
         "tracegroupgap": 0
        },
        "margin": {
         "t": 60
        },
        "template": {
         "data": {
          "bar": [
           {
            "error_x": {
             "color": "#2a3f5f"
            },
            "error_y": {
             "color": "#2a3f5f"
            },
            "marker": {
             "line": {
              "color": "#E5ECF6",
              "width": 0.5
             },
             "pattern": {
              "fillmode": "overlay",
              "size": 10,
              "solidity": 0.2
             }
            },
            "type": "bar"
           }
          ],
          "barpolar": [
           {
            "marker": {
             "line": {
              "color": "#E5ECF6",
              "width": 0.5
             },
             "pattern": {
              "fillmode": "overlay",
              "size": 10,
              "solidity": 0.2
             }
            },
            "type": "barpolar"
           }
          ],
          "carpet": [
           {
            "aaxis": {
             "endlinecolor": "#2a3f5f",
             "gridcolor": "white",
             "linecolor": "white",
             "minorgridcolor": "white",
             "startlinecolor": "#2a3f5f"
            },
            "baxis": {
             "endlinecolor": "#2a3f5f",
             "gridcolor": "white",
             "linecolor": "white",
             "minorgridcolor": "white",
             "startlinecolor": "#2a3f5f"
            },
            "type": "carpet"
           }
          ],
          "choropleth": [
           {
            "colorbar": {
             "outlinewidth": 0,
             "ticks": ""
            },
            "type": "choropleth"
           }
          ],
          "contour": [
           {
            "colorbar": {
             "outlinewidth": 0,
             "ticks": ""
            },
            "colorscale": [
             [
              0,
              "#0d0887"
             ],
             [
              0.1111111111111111,
              "#46039f"
             ],
             [
              0.2222222222222222,
              "#7201a8"
             ],
             [
              0.3333333333333333,
              "#9c179e"
             ],
             [
              0.4444444444444444,
              "#bd3786"
             ],
             [
              0.5555555555555556,
              "#d8576b"
             ],
             [
              0.6666666666666666,
              "#ed7953"
             ],
             [
              0.7777777777777778,
              "#fb9f3a"
             ],
             [
              0.8888888888888888,
              "#fdca26"
             ],
             [
              1,
              "#f0f921"
             ]
            ],
            "type": "contour"
           }
          ],
          "contourcarpet": [
           {
            "colorbar": {
             "outlinewidth": 0,
             "ticks": ""
            },
            "type": "contourcarpet"
           }
          ],
          "heatmap": [
           {
            "colorbar": {
             "outlinewidth": 0,
             "ticks": ""
            },
            "colorscale": [
             [
              0,
              "#0d0887"
             ],
             [
              0.1111111111111111,
              "#46039f"
             ],
             [
              0.2222222222222222,
              "#7201a8"
             ],
             [
              0.3333333333333333,
              "#9c179e"
             ],
             [
              0.4444444444444444,
              "#bd3786"
             ],
             [
              0.5555555555555556,
              "#d8576b"
             ],
             [
              0.6666666666666666,
              "#ed7953"
             ],
             [
              0.7777777777777778,
              "#fb9f3a"
             ],
             [
              0.8888888888888888,
              "#fdca26"
             ],
             [
              1,
              "#f0f921"
             ]
            ],
            "type": "heatmap"
           }
          ],
          "histogram": [
           {
            "marker": {
             "pattern": {
              "fillmode": "overlay",
              "size": 10,
              "solidity": 0.2
             }
            },
            "type": "histogram"
           }
          ],
          "histogram2d": [
           {
            "colorbar": {
             "outlinewidth": 0,
             "ticks": ""
            },
            "colorscale": [
             [
              0,
              "#0d0887"
             ],
             [
              0.1111111111111111,
              "#46039f"
             ],
             [
              0.2222222222222222,
              "#7201a8"
             ],
             [
              0.3333333333333333,
              "#9c179e"
             ],
             [
              0.4444444444444444,
              "#bd3786"
             ],
             [
              0.5555555555555556,
              "#d8576b"
             ],
             [
              0.6666666666666666,
              "#ed7953"
             ],
             [
              0.7777777777777778,
              "#fb9f3a"
             ],
             [
              0.8888888888888888,
              "#fdca26"
             ],
             [
              1,
              "#f0f921"
             ]
            ],
            "type": "histogram2d"
           }
          ],
          "histogram2dcontour": [
           {
            "colorbar": {
             "outlinewidth": 0,
             "ticks": ""
            },
            "colorscale": [
             [
              0,
              "#0d0887"
             ],
             [
              0.1111111111111111,
              "#46039f"
             ],
             [
              0.2222222222222222,
              "#7201a8"
             ],
             [
              0.3333333333333333,
              "#9c179e"
             ],
             [
              0.4444444444444444,
              "#bd3786"
             ],
             [
              0.5555555555555556,
              "#d8576b"
             ],
             [
              0.6666666666666666,
              "#ed7953"
             ],
             [
              0.7777777777777778,
              "#fb9f3a"
             ],
             [
              0.8888888888888888,
              "#fdca26"
             ],
             [
              1,
              "#f0f921"
             ]
            ],
            "type": "histogram2dcontour"
           }
          ],
          "mesh3d": [
           {
            "colorbar": {
             "outlinewidth": 0,
             "ticks": ""
            },
            "type": "mesh3d"
           }
          ],
          "parcoords": [
           {
            "line": {
             "colorbar": {
              "outlinewidth": 0,
              "ticks": ""
             }
            },
            "type": "parcoords"
           }
          ],
          "pie": [
           {
            "automargin": true,
            "type": "pie"
           }
          ],
          "scatter": [
           {
            "fillpattern": {
             "fillmode": "overlay",
             "size": 10,
             "solidity": 0.2
            },
            "type": "scatter"
           }
          ],
          "scatter3d": [
           {
            "line": {
             "colorbar": {
              "outlinewidth": 0,
              "ticks": ""
             }
            },
            "marker": {
             "colorbar": {
              "outlinewidth": 0,
              "ticks": ""
             }
            },
            "type": "scatter3d"
           }
          ],
          "scattercarpet": [
           {
            "marker": {
             "colorbar": {
              "outlinewidth": 0,
              "ticks": ""
             }
            },
            "type": "scattercarpet"
           }
          ],
          "scattergeo": [
           {
            "marker": {
             "colorbar": {
              "outlinewidth": 0,
              "ticks": ""
             }
            },
            "type": "scattergeo"
           }
          ],
          "scattergl": [
           {
            "marker": {
             "colorbar": {
              "outlinewidth": 0,
              "ticks": ""
             }
            },
            "type": "scattergl"
           }
          ],
          "scattermap": [
           {
            "marker": {
             "colorbar": {
              "outlinewidth": 0,
              "ticks": ""
             }
            },
            "type": "scattermap"
           }
          ],
          "scattermapbox": [
           {
            "marker": {
             "colorbar": {
              "outlinewidth": 0,
              "ticks": ""
             }
            },
            "type": "scattermapbox"
           }
          ],
          "scatterpolar": [
           {
            "marker": {
             "colorbar": {
              "outlinewidth": 0,
              "ticks": ""
             }
            },
            "type": "scatterpolar"
           }
          ],
          "scatterpolargl": [
           {
            "marker": {
             "colorbar": {
              "outlinewidth": 0,
              "ticks": ""
             }
            },
            "type": "scatterpolargl"
           }
          ],
          "scatterternary": [
           {
            "marker": {
             "colorbar": {
              "outlinewidth": 0,
              "ticks": ""
             }
            },
            "type": "scatterternary"
           }
          ],
          "surface": [
           {
            "colorbar": {
             "outlinewidth": 0,
             "ticks": ""
            },
            "colorscale": [
             [
              0,
              "#0d0887"
             ],
             [
              0.1111111111111111,
              "#46039f"
             ],
             [
              0.2222222222222222,
              "#7201a8"
             ],
             [
              0.3333333333333333,
              "#9c179e"
             ],
             [
              0.4444444444444444,
              "#bd3786"
             ],
             [
              0.5555555555555556,
              "#d8576b"
             ],
             [
              0.6666666666666666,
              "#ed7953"
             ],
             [
              0.7777777777777778,
              "#fb9f3a"
             ],
             [
              0.8888888888888888,
              "#fdca26"
             ],
             [
              1,
              "#f0f921"
             ]
            ],
            "type": "surface"
           }
          ],
          "table": [
           {
            "cells": {
             "fill": {
              "color": "#EBF0F8"
             },
             "line": {
              "color": "white"
             }
            },
            "header": {
             "fill": {
              "color": "#C8D4E3"
             },
             "line": {
              "color": "white"
             }
            },
            "type": "table"
           }
          ]
         },
         "layout": {
          "annotationdefaults": {
           "arrowcolor": "#2a3f5f",
           "arrowhead": 0,
           "arrowwidth": 1
          },
          "autotypenumbers": "strict",
          "coloraxis": {
           "colorbar": {
            "outlinewidth": 0,
            "ticks": ""
           }
          },
          "colorscale": {
           "diverging": [
            [
             0,
             "#8e0152"
            ],
            [
             0.1,
             "#c51b7d"
            ],
            [
             0.2,
             "#de77ae"
            ],
            [
             0.3,
             "#f1b6da"
            ],
            [
             0.4,
             "#fde0ef"
            ],
            [
             0.5,
             "#f7f7f7"
            ],
            [
             0.6,
             "#e6f5d0"
            ],
            [
             0.7,
             "#b8e186"
            ],
            [
             0.8,
             "#7fbc41"
            ],
            [
             0.9,
             "#4d9221"
            ],
            [
             1,
             "#276419"
            ]
           ],
           "sequential": [
            [
             0,
             "#0d0887"
            ],
            [
             0.1111111111111111,
             "#46039f"
            ],
            [
             0.2222222222222222,
             "#7201a8"
            ],
            [
             0.3333333333333333,
             "#9c179e"
            ],
            [
             0.4444444444444444,
             "#bd3786"
            ],
            [
             0.5555555555555556,
             "#d8576b"
            ],
            [
             0.6666666666666666,
             "#ed7953"
            ],
            [
             0.7777777777777778,
             "#fb9f3a"
            ],
            [
             0.8888888888888888,
             "#fdca26"
            ],
            [
             1,
             "#f0f921"
            ]
           ],
           "sequentialminus": [
            [
             0,
             "#0d0887"
            ],
            [
             0.1111111111111111,
             "#46039f"
            ],
            [
             0.2222222222222222,
             "#7201a8"
            ],
            [
             0.3333333333333333,
             "#9c179e"
            ],
            [
             0.4444444444444444,
             "#bd3786"
            ],
            [
             0.5555555555555556,
             "#d8576b"
            ],
            [
             0.6666666666666666,
             "#ed7953"
            ],
            [
             0.7777777777777778,
             "#fb9f3a"
            ],
            [
             0.8888888888888888,
             "#fdca26"
            ],
            [
             1,
             "#f0f921"
            ]
           ]
          },
          "colorway": [
           "#636efa",
           "#EF553B",
           "#00cc96",
           "#ab63fa",
           "#FFA15A",
           "#19d3f3",
           "#FF6692",
           "#B6E880",
           "#FF97FF",
           "#FECB52"
          ],
          "font": {
           "color": "#2a3f5f"
          },
          "geo": {
           "bgcolor": "white",
           "lakecolor": "white",
           "landcolor": "#E5ECF6",
           "showlakes": true,
           "showland": true,
           "subunitcolor": "white"
          },
          "hoverlabel": {
           "align": "left"
          },
          "hovermode": "closest",
          "mapbox": {
           "style": "light"
          },
          "paper_bgcolor": "white",
          "plot_bgcolor": "#E5ECF6",
          "polar": {
           "angularaxis": {
            "gridcolor": "white",
            "linecolor": "white",
            "ticks": ""
           },
           "bgcolor": "#E5ECF6",
           "radialaxis": {
            "gridcolor": "white",
            "linecolor": "white",
            "ticks": ""
           }
          },
          "scene": {
           "xaxis": {
            "backgroundcolor": "#E5ECF6",
            "gridcolor": "white",
            "gridwidth": 2,
            "linecolor": "white",
            "showbackground": true,
            "ticks": "",
            "zerolinecolor": "white"
           },
           "yaxis": {
            "backgroundcolor": "#E5ECF6",
            "gridcolor": "white",
            "gridwidth": 2,
            "linecolor": "white",
            "showbackground": true,
            "ticks": "",
            "zerolinecolor": "white"
           },
           "zaxis": {
            "backgroundcolor": "#E5ECF6",
            "gridcolor": "white",
            "gridwidth": 2,
            "linecolor": "white",
            "showbackground": true,
            "ticks": "",
            "zerolinecolor": "white"
           }
          },
          "shapedefaults": {
           "line": {
            "color": "#2a3f5f"
           }
          },
          "ternary": {
           "aaxis": {
            "gridcolor": "white",
            "linecolor": "white",
            "ticks": ""
           },
           "baxis": {
            "gridcolor": "white",
            "linecolor": "white",
            "ticks": ""
           },
           "bgcolor": "#E5ECF6",
           "caxis": {
            "gridcolor": "white",
            "linecolor": "white",
            "ticks": ""
           }
          },
          "title": {
           "x": 0.05
          },
          "xaxis": {
           "automargin": true,
           "gridcolor": "white",
           "linecolor": "white",
           "ticks": "",
           "title": {
            "standoff": 15
           },
           "zerolinecolor": "white",
           "zerolinewidth": 2
          },
          "yaxis": {
           "automargin": true,
           "gridcolor": "white",
           "linecolor": "white",
           "ticks": "",
           "title": {
            "standoff": 15
           },
           "zerolinecolor": "white",
           "zerolinewidth": 2
          }
         }
        },
        "xaxis": {
         "anchor": "y",
         "domain": [
          0,
          1
         ],
         "title": {
          "text": "three_g"
         }
        },
        "yaxis": {
         "anchor": "x",
         "domain": [
          0,
          1
         ],
         "title": {
          "text": "count"
         }
        }
       }
      }
     },
     "metadata": {},
     "output_type": "display_data"
    }
   ],
   "source": [
    "px.histogram(df , x = 'three_g' , color = 'price_range')"
   ]
  },
  {
   "cell_type": "code",
   "execution_count": 36,
   "id": "65770ee5",
   "metadata": {},
   "outputs": [
    {
     "data": {
      "application/vnd.plotly.v1+json": {
       "config": {
        "plotlyServerURL": "https://plot.ly"
       },
       "data": [
        {
         "bingroup": "x",
         "hovertemplate": "price_range=1<br>touch_screen=%{x}<br>count=%{y}<extra></extra>",
         "legendgroup": "1",
         "marker": {
          "color": "#636efa",
          "pattern": {
           "shape": ""
          }
         },
         "name": "1",
         "orientation": "v",
         "showlegend": true,
         "type": "histogram",
         "x": {
          "bdata": "AAEAAAEBAAABAAABAQEAAAABAAEAAQABAAAAAAEAAQABAQEAAQEAAQAAAAEAAQEBAAEAAQABAAABAAEBAAEBAQEAAQAAAAAAAAAAAQEBAAEBAQABAQAAAAEAAQEBAAEBAQEAAQEBAAEAAQABAQEBAQAAAQEAAQEAAQAAAQABAQAAAQAAAQEBAAEBAAEAAAABAAAAAQEAAAEAAQEBAQABAQEBAQABAAABAAAAAAEBAAEAAQEAAQAAAAEAAAAAAAEBAQEBAAEAAAABAQEAAQEBAAEBAAEBAAAAAQAAAQAAAAABAAAAAAEBAAABAAABAQEBAQEAAAEAAQEAAAEAAAABAQAAAAAAAQEBAAEBAAABAQAAAAEAAAEAAQEBAQABAQABAQABAQEBAQEBAQAAAQAAAAEAAAEBAAAAAAABAQAAAQABAAEAAAAAAAEBAAAAAAEBAAEAAAEBAQEAAAAAAQEBAQEAAAEBAAAAAQABAAEAAQABAQEBAAABAAEBAAAAAQABAAEAAQABAQEBAQEBAAEBAQABAQAAAQEBAAEBAQABAAABAQEAAQAAAAEAAAAAAQEBAAABAAEAAAEAAAEAAQEBAQABAAEAAQABAAEBAQABAAEBAQEBAQAAAAEBAAABAQABAQAAAQEBAQABAQEBAAABAAAAAQA=",
          "dtype": "i1"
         },
         "xaxis": "x",
         "yaxis": "y"
        },
        {
         "bingroup": "x",
         "hovertemplate": "price_range=2<br>touch_screen=%{x}<br>count=%{y}<extra></extra>",
         "legendgroup": "2",
         "marker": {
          "color": "#EF553B",
          "pattern": {
           "shape": ""
          }
         },
         "name": "2",
         "orientation": "v",
         "showlegend": true,
         "type": "histogram",
         "x": {
          "bdata": "AQEAAAEBAAEAAAEBAAEBAAABAQABAAEAAQAAAQAAAAABAAEBAQABAQABAAEAAAEBAQAAAAAAAAEAAQABAQABAQAAAQEBAAEAAAAAAAEAAQEBAAEBAAAAAAAAAAEBAAEAAQABAQABAAAAAAEAAAABAAABAAEAAQAAAQEBAAABAAAAAAABAQEBAQEBAAEBAAEBAQEAAQABAQEBAQABAAABAAAAAAAAAQAAAQABAAEBAAEAAQEAAAEBAQEBAQABAQAAAQAAAQEAAQEBAAEBAAAAAAAAAAAAAAEBAQEAAAEAAAEAAQABAQABAAAAAAEBAAEAAQABAQEAAAEBAAAAAAABAQAAAQEAAQEAAQABAQAAAAAAAQEAAAEBAAABAQEBAAEAAAABAQAAAQABAQAAAAEAAAAAAAAAAAEBAAABAQAAAQEBAQABAAAAAAEAAAEAAAEAAAEAAAEBAQEBAAEBAQAAAAABAAEBAAEAAAEAAAEBAQAAAQEAAQEAAQEAAAABAQEBAAEBAAEAAQAAAQAAAAABAQEBAAAAAQAAAQABAAABAQEAAAAAAAAAAAEAAQAAAAABAAEAAQABAAEAAAABAAEBAAAAAQEAAQAAAAEBAAEBAAAAAAEBAQAAAAAAAQEAAAABAAEBAAEAAAABAQEAAAABAQEBAQE=",
          "dtype": "i1"
         },
         "xaxis": "x",
         "yaxis": "y"
        },
        {
         "bingroup": "x",
         "hovertemplate": "price_range=3<br>touch_screen=%{x}<br>count=%{y}<extra></extra>",
         "legendgroup": "3",
         "marker": {
          "color": "#00cc96",
          "pattern": {
           "shape": ""
          }
         },
         "name": "3",
         "orientation": "v",
         "showlegend": true,
         "type": "histogram",
         "x": {
          "bdata": "AAABAAEBAAABAAEBAQAAAQABAQABAQEAAQEAAQEAAQABAQABAQEBAAAAAQEAAAEAAAABAAAAAQEBAQEAAQEBAQAAAQEBAAEBAAAAAQABAQEAAAABAQABAQEBAQAAAAEBAQAAAQEBAQAAAAAAAQEBAAEBAQABAAEAAAEAAQEAAAEBAAEAAQEAAAEAAQAAAAEAAQABAAAAAAABAAEAAAAAAQEBAAAAAQEAAQABAQAAAQABAAEAAAEAAAAAAQAAAQEBAAAAAAAAAAEAAQABAQAAAAEBAQAAAAAAAAABAAEBAAAAAAEAAQABAQEBAAEBAAAAAQAAAAABAAEBAQEAAAABAQABAQABAQAAAAEBAAEBAQEAAQEBAAABAAABAQAAAQAAAQEAAQABAAEAAQEAAQEAAAABAQAAAAEAAQEBAAEAAQABAAEBAAEBAAAAAAEBAQABAAEAAAABAQAAAQEBAQAAAQEBAQEAAQEBAAEBAQEAAQEBAAEAAAAAAQEBAAEAAAEAAAAAAAABAAEBAAEBAQAAAQAAAQEBAQEAAAABAQABAAAAAQAAAAAAAAAAAAAAAAAAAAABAQEAAAEBAAAAAQEAAQEBAQAAAAEBAAEBAQEBAQAAAQAAAAEAAAEBAAABAAEAAAAAAQEAAQABAAEAAAABAQEBAQE=",
          "dtype": "i1"
         },
         "xaxis": "x",
         "yaxis": "y"
        },
        {
         "bingroup": "x",
         "hovertemplate": "price_range=0<br>touch_screen=%{x}<br>count=%{y}<extra></extra>",
         "legendgroup": "0",
         "marker": {
          "color": "#ab63fa",
          "pattern": {
           "shape": ""
          }
         },
         "name": "0",
         "orientation": "v",
         "showlegend": true,
         "type": "histogram",
         "x": {
          "bdata": "AQAAAAEAAAEAAQABAQEAAAEBAAEBAAEBAQEBAQEBAQABAQABAQAAAAABAAAAAQAAAQABAQAAAQABAQABAQEAAAEBAQAAAAEAAAEBAAEBAAEAAQEBAQEAAAEAAQEBAQEAAQAAAAEBAQABAQEAAAABAAEAAQEAAQEBAAEBAQEAAQAAAAABAAEBAAAAAAEAAAABAAABAAEAAQABAQEAAQEAAAEAAQEBAQEBAQABAAEBAAEBAQEAAQAAAAEAAAEBAQEBAQEAAQEAAQAAAAEBAAABAAEBAQAAAQABAAAAAAAAAAEAAQEAAAAAAQAAAAEAAQABAQEBAAAAAQABAAEBAAAAAQEBAAEBAQEAAQEBAQAAAQEBAQABAQEAAAEAAQAAAQABAQEAAQEBAQEAAQABAAEBAQABAQAAAQABAAABAAEBAAEAAQEAAQEBAAABAQAAAQEAAQAAAAABAAAAAAAAAAABAQAAAAAAAQEAAQEAAQEBAQEAAAEAAAEBAAEAAQABAQEBAAAAAQEBAAAAAAABAQAAAQEBAQEAAAEAAAEBAQABAQEAAQABAAABAAEAAQAAAAAAAQABAAAAAAEBAQAAAAAAAQAAAQABAAABAQABAQEAAAAAAQEBAAABAAABAAAAAQABAAABAAEBAQEAAQAAAAABAQABAQE=",
          "dtype": "i1"
         },
         "xaxis": "x",
         "yaxis": "y"
        }
       ],
       "layout": {
        "barmode": "relative",
        "legend": {
         "title": {
          "text": "price_range"
         },
         "tracegroupgap": 0
        },
        "margin": {
         "t": 60
        },
        "template": {
         "data": {
          "bar": [
           {
            "error_x": {
             "color": "#2a3f5f"
            },
            "error_y": {
             "color": "#2a3f5f"
            },
            "marker": {
             "line": {
              "color": "#E5ECF6",
              "width": 0.5
             },
             "pattern": {
              "fillmode": "overlay",
              "size": 10,
              "solidity": 0.2
             }
            },
            "type": "bar"
           }
          ],
          "barpolar": [
           {
            "marker": {
             "line": {
              "color": "#E5ECF6",
              "width": 0.5
             },
             "pattern": {
              "fillmode": "overlay",
              "size": 10,
              "solidity": 0.2
             }
            },
            "type": "barpolar"
           }
          ],
          "carpet": [
           {
            "aaxis": {
             "endlinecolor": "#2a3f5f",
             "gridcolor": "white",
             "linecolor": "white",
             "minorgridcolor": "white",
             "startlinecolor": "#2a3f5f"
            },
            "baxis": {
             "endlinecolor": "#2a3f5f",
             "gridcolor": "white",
             "linecolor": "white",
             "minorgridcolor": "white",
             "startlinecolor": "#2a3f5f"
            },
            "type": "carpet"
           }
          ],
          "choropleth": [
           {
            "colorbar": {
             "outlinewidth": 0,
             "ticks": ""
            },
            "type": "choropleth"
           }
          ],
          "contour": [
           {
            "colorbar": {
             "outlinewidth": 0,
             "ticks": ""
            },
            "colorscale": [
             [
              0,
              "#0d0887"
             ],
             [
              0.1111111111111111,
              "#46039f"
             ],
             [
              0.2222222222222222,
              "#7201a8"
             ],
             [
              0.3333333333333333,
              "#9c179e"
             ],
             [
              0.4444444444444444,
              "#bd3786"
             ],
             [
              0.5555555555555556,
              "#d8576b"
             ],
             [
              0.6666666666666666,
              "#ed7953"
             ],
             [
              0.7777777777777778,
              "#fb9f3a"
             ],
             [
              0.8888888888888888,
              "#fdca26"
             ],
             [
              1,
              "#f0f921"
             ]
            ],
            "type": "contour"
           }
          ],
          "contourcarpet": [
           {
            "colorbar": {
             "outlinewidth": 0,
             "ticks": ""
            },
            "type": "contourcarpet"
           }
          ],
          "heatmap": [
           {
            "colorbar": {
             "outlinewidth": 0,
             "ticks": ""
            },
            "colorscale": [
             [
              0,
              "#0d0887"
             ],
             [
              0.1111111111111111,
              "#46039f"
             ],
             [
              0.2222222222222222,
              "#7201a8"
             ],
             [
              0.3333333333333333,
              "#9c179e"
             ],
             [
              0.4444444444444444,
              "#bd3786"
             ],
             [
              0.5555555555555556,
              "#d8576b"
             ],
             [
              0.6666666666666666,
              "#ed7953"
             ],
             [
              0.7777777777777778,
              "#fb9f3a"
             ],
             [
              0.8888888888888888,
              "#fdca26"
             ],
             [
              1,
              "#f0f921"
             ]
            ],
            "type": "heatmap"
           }
          ],
          "histogram": [
           {
            "marker": {
             "pattern": {
              "fillmode": "overlay",
              "size": 10,
              "solidity": 0.2
             }
            },
            "type": "histogram"
           }
          ],
          "histogram2d": [
           {
            "colorbar": {
             "outlinewidth": 0,
             "ticks": ""
            },
            "colorscale": [
             [
              0,
              "#0d0887"
             ],
             [
              0.1111111111111111,
              "#46039f"
             ],
             [
              0.2222222222222222,
              "#7201a8"
             ],
             [
              0.3333333333333333,
              "#9c179e"
             ],
             [
              0.4444444444444444,
              "#bd3786"
             ],
             [
              0.5555555555555556,
              "#d8576b"
             ],
             [
              0.6666666666666666,
              "#ed7953"
             ],
             [
              0.7777777777777778,
              "#fb9f3a"
             ],
             [
              0.8888888888888888,
              "#fdca26"
             ],
             [
              1,
              "#f0f921"
             ]
            ],
            "type": "histogram2d"
           }
          ],
          "histogram2dcontour": [
           {
            "colorbar": {
             "outlinewidth": 0,
             "ticks": ""
            },
            "colorscale": [
             [
              0,
              "#0d0887"
             ],
             [
              0.1111111111111111,
              "#46039f"
             ],
             [
              0.2222222222222222,
              "#7201a8"
             ],
             [
              0.3333333333333333,
              "#9c179e"
             ],
             [
              0.4444444444444444,
              "#bd3786"
             ],
             [
              0.5555555555555556,
              "#d8576b"
             ],
             [
              0.6666666666666666,
              "#ed7953"
             ],
             [
              0.7777777777777778,
              "#fb9f3a"
             ],
             [
              0.8888888888888888,
              "#fdca26"
             ],
             [
              1,
              "#f0f921"
             ]
            ],
            "type": "histogram2dcontour"
           }
          ],
          "mesh3d": [
           {
            "colorbar": {
             "outlinewidth": 0,
             "ticks": ""
            },
            "type": "mesh3d"
           }
          ],
          "parcoords": [
           {
            "line": {
             "colorbar": {
              "outlinewidth": 0,
              "ticks": ""
             }
            },
            "type": "parcoords"
           }
          ],
          "pie": [
           {
            "automargin": true,
            "type": "pie"
           }
          ],
          "scatter": [
           {
            "fillpattern": {
             "fillmode": "overlay",
             "size": 10,
             "solidity": 0.2
            },
            "type": "scatter"
           }
          ],
          "scatter3d": [
           {
            "line": {
             "colorbar": {
              "outlinewidth": 0,
              "ticks": ""
             }
            },
            "marker": {
             "colorbar": {
              "outlinewidth": 0,
              "ticks": ""
             }
            },
            "type": "scatter3d"
           }
          ],
          "scattercarpet": [
           {
            "marker": {
             "colorbar": {
              "outlinewidth": 0,
              "ticks": ""
             }
            },
            "type": "scattercarpet"
           }
          ],
          "scattergeo": [
           {
            "marker": {
             "colorbar": {
              "outlinewidth": 0,
              "ticks": ""
             }
            },
            "type": "scattergeo"
           }
          ],
          "scattergl": [
           {
            "marker": {
             "colorbar": {
              "outlinewidth": 0,
              "ticks": ""
             }
            },
            "type": "scattergl"
           }
          ],
          "scattermap": [
           {
            "marker": {
             "colorbar": {
              "outlinewidth": 0,
              "ticks": ""
             }
            },
            "type": "scattermap"
           }
          ],
          "scattermapbox": [
           {
            "marker": {
             "colorbar": {
              "outlinewidth": 0,
              "ticks": ""
             }
            },
            "type": "scattermapbox"
           }
          ],
          "scatterpolar": [
           {
            "marker": {
             "colorbar": {
              "outlinewidth": 0,
              "ticks": ""
             }
            },
            "type": "scatterpolar"
           }
          ],
          "scatterpolargl": [
           {
            "marker": {
             "colorbar": {
              "outlinewidth": 0,
              "ticks": ""
             }
            },
            "type": "scatterpolargl"
           }
          ],
          "scatterternary": [
           {
            "marker": {
             "colorbar": {
              "outlinewidth": 0,
              "ticks": ""
             }
            },
            "type": "scatterternary"
           }
          ],
          "surface": [
           {
            "colorbar": {
             "outlinewidth": 0,
             "ticks": ""
            },
            "colorscale": [
             [
              0,
              "#0d0887"
             ],
             [
              0.1111111111111111,
              "#46039f"
             ],
             [
              0.2222222222222222,
              "#7201a8"
             ],
             [
              0.3333333333333333,
              "#9c179e"
             ],
             [
              0.4444444444444444,
              "#bd3786"
             ],
             [
              0.5555555555555556,
              "#d8576b"
             ],
             [
              0.6666666666666666,
              "#ed7953"
             ],
             [
              0.7777777777777778,
              "#fb9f3a"
             ],
             [
              0.8888888888888888,
              "#fdca26"
             ],
             [
              1,
              "#f0f921"
             ]
            ],
            "type": "surface"
           }
          ],
          "table": [
           {
            "cells": {
             "fill": {
              "color": "#EBF0F8"
             },
             "line": {
              "color": "white"
             }
            },
            "header": {
             "fill": {
              "color": "#C8D4E3"
             },
             "line": {
              "color": "white"
             }
            },
            "type": "table"
           }
          ]
         },
         "layout": {
          "annotationdefaults": {
           "arrowcolor": "#2a3f5f",
           "arrowhead": 0,
           "arrowwidth": 1
          },
          "autotypenumbers": "strict",
          "coloraxis": {
           "colorbar": {
            "outlinewidth": 0,
            "ticks": ""
           }
          },
          "colorscale": {
           "diverging": [
            [
             0,
             "#8e0152"
            ],
            [
             0.1,
             "#c51b7d"
            ],
            [
             0.2,
             "#de77ae"
            ],
            [
             0.3,
             "#f1b6da"
            ],
            [
             0.4,
             "#fde0ef"
            ],
            [
             0.5,
             "#f7f7f7"
            ],
            [
             0.6,
             "#e6f5d0"
            ],
            [
             0.7,
             "#b8e186"
            ],
            [
             0.8,
             "#7fbc41"
            ],
            [
             0.9,
             "#4d9221"
            ],
            [
             1,
             "#276419"
            ]
           ],
           "sequential": [
            [
             0,
             "#0d0887"
            ],
            [
             0.1111111111111111,
             "#46039f"
            ],
            [
             0.2222222222222222,
             "#7201a8"
            ],
            [
             0.3333333333333333,
             "#9c179e"
            ],
            [
             0.4444444444444444,
             "#bd3786"
            ],
            [
             0.5555555555555556,
             "#d8576b"
            ],
            [
             0.6666666666666666,
             "#ed7953"
            ],
            [
             0.7777777777777778,
             "#fb9f3a"
            ],
            [
             0.8888888888888888,
             "#fdca26"
            ],
            [
             1,
             "#f0f921"
            ]
           ],
           "sequentialminus": [
            [
             0,
             "#0d0887"
            ],
            [
             0.1111111111111111,
             "#46039f"
            ],
            [
             0.2222222222222222,
             "#7201a8"
            ],
            [
             0.3333333333333333,
             "#9c179e"
            ],
            [
             0.4444444444444444,
             "#bd3786"
            ],
            [
             0.5555555555555556,
             "#d8576b"
            ],
            [
             0.6666666666666666,
             "#ed7953"
            ],
            [
             0.7777777777777778,
             "#fb9f3a"
            ],
            [
             0.8888888888888888,
             "#fdca26"
            ],
            [
             1,
             "#f0f921"
            ]
           ]
          },
          "colorway": [
           "#636efa",
           "#EF553B",
           "#00cc96",
           "#ab63fa",
           "#FFA15A",
           "#19d3f3",
           "#FF6692",
           "#B6E880",
           "#FF97FF",
           "#FECB52"
          ],
          "font": {
           "color": "#2a3f5f"
          },
          "geo": {
           "bgcolor": "white",
           "lakecolor": "white",
           "landcolor": "#E5ECF6",
           "showlakes": true,
           "showland": true,
           "subunitcolor": "white"
          },
          "hoverlabel": {
           "align": "left"
          },
          "hovermode": "closest",
          "mapbox": {
           "style": "light"
          },
          "paper_bgcolor": "white",
          "plot_bgcolor": "#E5ECF6",
          "polar": {
           "angularaxis": {
            "gridcolor": "white",
            "linecolor": "white",
            "ticks": ""
           },
           "bgcolor": "#E5ECF6",
           "radialaxis": {
            "gridcolor": "white",
            "linecolor": "white",
            "ticks": ""
           }
          },
          "scene": {
           "xaxis": {
            "backgroundcolor": "#E5ECF6",
            "gridcolor": "white",
            "gridwidth": 2,
            "linecolor": "white",
            "showbackground": true,
            "ticks": "",
            "zerolinecolor": "white"
           },
           "yaxis": {
            "backgroundcolor": "#E5ECF6",
            "gridcolor": "white",
            "gridwidth": 2,
            "linecolor": "white",
            "showbackground": true,
            "ticks": "",
            "zerolinecolor": "white"
           },
           "zaxis": {
            "backgroundcolor": "#E5ECF6",
            "gridcolor": "white",
            "gridwidth": 2,
            "linecolor": "white",
            "showbackground": true,
            "ticks": "",
            "zerolinecolor": "white"
           }
          },
          "shapedefaults": {
           "line": {
            "color": "#2a3f5f"
           }
          },
          "ternary": {
           "aaxis": {
            "gridcolor": "white",
            "linecolor": "white",
            "ticks": ""
           },
           "baxis": {
            "gridcolor": "white",
            "linecolor": "white",
            "ticks": ""
           },
           "bgcolor": "#E5ECF6",
           "caxis": {
            "gridcolor": "white",
            "linecolor": "white",
            "ticks": ""
           }
          },
          "title": {
           "x": 0.05
          },
          "xaxis": {
           "automargin": true,
           "gridcolor": "white",
           "linecolor": "white",
           "ticks": "",
           "title": {
            "standoff": 15
           },
           "zerolinecolor": "white",
           "zerolinewidth": 2
          },
          "yaxis": {
           "automargin": true,
           "gridcolor": "white",
           "linecolor": "white",
           "ticks": "",
           "title": {
            "standoff": 15
           },
           "zerolinecolor": "white",
           "zerolinewidth": 2
          }
         }
        },
        "xaxis": {
         "anchor": "y",
         "domain": [
          0,
          1
         ],
         "title": {
          "text": "touch_screen"
         }
        },
        "yaxis": {
         "anchor": "x",
         "domain": [
          0,
          1
         ],
         "title": {
          "text": "count"
         }
        }
       }
      }
     },
     "metadata": {},
     "output_type": "display_data"
    }
   ],
   "source": [
    "px.histogram(df , x = 'touch_screen' , color = 'price_range')"
   ]
  },
  {
   "cell_type": "code",
   "execution_count": 37,
   "id": "768cde9f",
   "metadata": {},
   "outputs": [
    {
     "data": {
      "application/vnd.plotly.v1+json": {
       "config": {
        "plotlyServerURL": "https://plot.ly"
       },
       "data": [
        {
         "bingroup": "x",
         "hovertemplate": "price_range=1<br>wifi=%{x}<br>count=%{y}<extra></extra>",
         "legendgroup": "1",
         "marker": {
          "color": "#636efa",
          "pattern": {
           "shape": ""
          }
         },
         "name": "1",
         "orientation": "v",
         "showlegend": true,
         "type": "histogram",
         "x": {
          "bdata": "AQAAAAABAQABAAEAAAEBAQAAAQEAAQEAAAEAAQAAAAABAQEAAQEAAAAAAAABAAABAAEBAQEAAQEAAQEBAAEBAQABAAEBAAEBAAEBAQAAAQEAAQEAAQEAAQAAAQEAAQEAAAEBAAAAAQEBAQAAAQABAQEAAAEAAAEAAAEBAQEBAQABAAEBAQEAAQEAAQEAAAEBAAAAAQABAQEBAAABAQABAQAAAQAAAAEBAAEBAAABAAEBAAEBAAEBAAEBAQAAAQABAAEBAAEAAAAAAAEAAQABAAEBAQEBAAEAAAEBAAEAAAABAAEBAAABAAAAAQABAQAAAQAAAAABAQABAAEBAQEBAQABAAEAAQEAAQAAAQABAAEAAQEBAAAAAQABAQEBAQEAAQEAAQAAAQAAAQABAQABAAEBAAABAQEAAAEBAQABAAEAAQAAAAAAAQEAAQAAAAAAAAABAQABAQAAAQABAQEAAAABAQEBAAEAAAEAAQAAAAEBAAABAAABAQAAAAAAAQEAAQABAAEBAQAAAAAAAAEBAAAAAAABAQEAAQABAQEAAAABAAEAAAABAQAAAAEBAQAAAQEAAAEAAQABAQABAAEAAAEAAAABAAABAAEBAAAAAQAAAQEAAQEAAAAAAAABAAEBAAAAAQABAQEBAAEAAAABAQAAAQA=",
          "dtype": "i1"
         },
         "xaxis": "x",
         "yaxis": "y"
        },
        {
         "bingroup": "x",
         "hovertemplate": "price_range=2<br>wifi=%{x}<br>count=%{y}<extra></extra>",
         "legendgroup": "2",
         "marker": {
          "color": "#EF553B",
          "pattern": {
           "shape": ""
          }
         },
         "name": "2",
         "orientation": "v",
         "showlegend": true,
         "type": "histogram",
         "x": {
          "bdata": "AAAAAQEBAQABAQAAAAEBAAEAAQEAAAAAAAABAQABAQEBAAABAQEBAQABAAEAAAAAAQAAAQEBAQAAAAEAAQABAQAAAAEBAAEBAAABAAEBAAABAAABAQABAAAAAQEBAQEBAQAAAQEBAQEAAQAAAAAAAAAAAQEBAQEAAQABAAEBAQEAAAABAQEAAQEBAAABAAABAAAAAQABAQEAAQABAQEAAQABAQEAAAEBAAAAAAAAAQEAAAEBAAEBAAABAAEBAAEBAQEBAAEAAQEBAQEAAAEBAQEBAQAAAQEBAAABAQEAAAABAQAAAAEAAQEBAAEBAQEAAAEAAAEBAAEBAAEAAAABAQAAAAEAAAABAAABAQAAAAEAAAAAAQABAQEAAAAAAAABAAEBAQEBAQEBAQAAAQEBAQABAAEAAAEBAAEBAQABAAEAAQEAAAEAAQAAAAEAAAABAAEAAAEBAAAAAQAAAAEBAQABAQEBAAABAQEAAAABAAEBAQAAAQAAAQABAAABAAAAAAEAAQAAAAABAQABAQAAAAAAAAEAAQAAAQEAAQEBAAABAAEBAAEBAAAAAQAAAAEAAQABAAAAAAAAAQEAAAAAAQABAQEBAAAAAQEBAQEAAAEBAAEBAAAAAQEBAAEAAQEBAAEBAAABAQAAAAAAAAEAAAAAAQE=",
          "dtype": "i1"
         },
         "xaxis": "x",
         "yaxis": "y"
        },
        {
         "bingroup": "x",
         "hovertemplate": "price_range=3<br>wifi=%{x}<br>count=%{y}<extra></extra>",
         "legendgroup": "3",
         "marker": {
          "color": "#00cc96",
          "pattern": {
           "shape": ""
          }
         },
         "name": "3",
         "orientation": "v",
         "showlegend": true,
         "type": "histogram",
         "x": {
          "bdata": "AQABAQAAAAEAAQAAAAAAAAEAAAAAAQEBAQEAAAEAAQABAQEBAAABAQEBAQEAAAEAAQAAAAAAAAEBAQEBAQABAAAAAQEBAAEBAAAAAQEAAQEAAQAAAQEBAAABAAEAAAAAAQEAAQABAQABAAAAAAABAAEBAQEAAAEBAQABAQABAQEAAAEAAAABAQABAQAAAQABAAEBAQEAAQEBAAEBAQAAAQAAAQABAQABAAEAAQEBAQAAAQAAAAEAAQEBAAABAAABAQAAAQAAAQEAAQABAQABAAABAAEAAQEBAAABAQABAAEAAAEBAAEAAQEBAAAAAAEAAQEAAAAAAQEBAAEBAAEAAAEAAAABAQEBAAEAAAEBAAEBAAEBAQABAQABAAEAAQEAAQABAAABAAEAAAEAAQABAAEBAQEAAAAAAQEAAQABAQEAAQEAAAAAAQEBAAEBAAABAQAAAAABAQEBAAABAQEAAQAAAAAAAAEBAAEAAQAAAQABAQABAQABAAEAAQEBAAAAAAABAQAAAQABAAEBAAABAQEAAQABAQABAAEBAQEAAAEBAQEBAAABAQAAAAEAAAEBAQAAAQEAAQAAAAEBAQEAAQEAAQAAAAABAQEBAQEAAQABAAEAAAAAAAEBAAEBAAEAAQAAAAEBAQEAAAEAAQEBAAEAAAE=",
          "dtype": "i1"
         },
         "xaxis": "x",
         "yaxis": "y"
        },
        {
         "bingroup": "x",
         "hovertemplate": "price_range=0<br>wifi=%{x}<br>count=%{y}<extra></extra>",
         "legendgroup": "0",
         "marker": {
          "color": "#ab63fa",
          "pattern": {
           "shape": ""
          }
         },
         "name": "0",
         "orientation": "v",
         "showlegend": true,
         "type": "histogram",
         "x": {
          "bdata": "AQAAAQEAAQEAAAEBAQABAAAAAQEBAQAAAAEAAAAAAAAAAQEBAQEBAAAAAQEAAAEBAQAAAQEAAQABAAAAAAEBAQAAAQEAAQABAAAAAQEAAQEBAAAAAAABAQAAAQABAQEAAAAAAQAAAAABAAAAAQEBAQABAQEAAAABAQABAQEBAAEBAAAAAQEBAQAAAAEBAQABAAAAAAABAQABAQEAAAAAAQEBAQABAAAAAAEBAAAAAQEBAAEBAAABAQEAAQAAAAEBAQEBAAEBAAEBAAAAAAABAAEBAAAAAQABAAEBAAABAAEAAAAAAAEBAQEAAAABAAAAAQABAAEAAQEAAQEAAQAAAQEBAAEAAAABAQABAAAAAQABAQABAQEAAQABAAEAAAABAQEAAAAAAQAAAQAAAQEAAAEBAAEBAQABAQEAAAABAQEAAQEAAAEAAQAAAAAAAAABAQEAAAABAAAAAAEBAQEAAQEAAAEBAAABAQEBAQABAQAAAAEAAQAAAAEBAQEAAQEAAQABAQABAAAAAAEBAQEAAAAAAQABAAEAAQABAQABAQABAQEAAAEAAQABAQEBAQEAAAAAAAEAAQABAQEBAAABAAEBAQABAQABAQEAAAAAAAABAAEBAQEAAAEAAQEBAAAAAQAAAAAAAAEAAQEBAAABAAABAAE=",
          "dtype": "i1"
         },
         "xaxis": "x",
         "yaxis": "y"
        }
       ],
       "layout": {
        "barmode": "relative",
        "legend": {
         "title": {
          "text": "price_range"
         },
         "tracegroupgap": 0
        },
        "margin": {
         "t": 60
        },
        "template": {
         "data": {
          "bar": [
           {
            "error_x": {
             "color": "#2a3f5f"
            },
            "error_y": {
             "color": "#2a3f5f"
            },
            "marker": {
             "line": {
              "color": "#E5ECF6",
              "width": 0.5
             },
             "pattern": {
              "fillmode": "overlay",
              "size": 10,
              "solidity": 0.2
             }
            },
            "type": "bar"
           }
          ],
          "barpolar": [
           {
            "marker": {
             "line": {
              "color": "#E5ECF6",
              "width": 0.5
             },
             "pattern": {
              "fillmode": "overlay",
              "size": 10,
              "solidity": 0.2
             }
            },
            "type": "barpolar"
           }
          ],
          "carpet": [
           {
            "aaxis": {
             "endlinecolor": "#2a3f5f",
             "gridcolor": "white",
             "linecolor": "white",
             "minorgridcolor": "white",
             "startlinecolor": "#2a3f5f"
            },
            "baxis": {
             "endlinecolor": "#2a3f5f",
             "gridcolor": "white",
             "linecolor": "white",
             "minorgridcolor": "white",
             "startlinecolor": "#2a3f5f"
            },
            "type": "carpet"
           }
          ],
          "choropleth": [
           {
            "colorbar": {
             "outlinewidth": 0,
             "ticks": ""
            },
            "type": "choropleth"
           }
          ],
          "contour": [
           {
            "colorbar": {
             "outlinewidth": 0,
             "ticks": ""
            },
            "colorscale": [
             [
              0,
              "#0d0887"
             ],
             [
              0.1111111111111111,
              "#46039f"
             ],
             [
              0.2222222222222222,
              "#7201a8"
             ],
             [
              0.3333333333333333,
              "#9c179e"
             ],
             [
              0.4444444444444444,
              "#bd3786"
             ],
             [
              0.5555555555555556,
              "#d8576b"
             ],
             [
              0.6666666666666666,
              "#ed7953"
             ],
             [
              0.7777777777777778,
              "#fb9f3a"
             ],
             [
              0.8888888888888888,
              "#fdca26"
             ],
             [
              1,
              "#f0f921"
             ]
            ],
            "type": "contour"
           }
          ],
          "contourcarpet": [
           {
            "colorbar": {
             "outlinewidth": 0,
             "ticks": ""
            },
            "type": "contourcarpet"
           }
          ],
          "heatmap": [
           {
            "colorbar": {
             "outlinewidth": 0,
             "ticks": ""
            },
            "colorscale": [
             [
              0,
              "#0d0887"
             ],
             [
              0.1111111111111111,
              "#46039f"
             ],
             [
              0.2222222222222222,
              "#7201a8"
             ],
             [
              0.3333333333333333,
              "#9c179e"
             ],
             [
              0.4444444444444444,
              "#bd3786"
             ],
             [
              0.5555555555555556,
              "#d8576b"
             ],
             [
              0.6666666666666666,
              "#ed7953"
             ],
             [
              0.7777777777777778,
              "#fb9f3a"
             ],
             [
              0.8888888888888888,
              "#fdca26"
             ],
             [
              1,
              "#f0f921"
             ]
            ],
            "type": "heatmap"
           }
          ],
          "histogram": [
           {
            "marker": {
             "pattern": {
              "fillmode": "overlay",
              "size": 10,
              "solidity": 0.2
             }
            },
            "type": "histogram"
           }
          ],
          "histogram2d": [
           {
            "colorbar": {
             "outlinewidth": 0,
             "ticks": ""
            },
            "colorscale": [
             [
              0,
              "#0d0887"
             ],
             [
              0.1111111111111111,
              "#46039f"
             ],
             [
              0.2222222222222222,
              "#7201a8"
             ],
             [
              0.3333333333333333,
              "#9c179e"
             ],
             [
              0.4444444444444444,
              "#bd3786"
             ],
             [
              0.5555555555555556,
              "#d8576b"
             ],
             [
              0.6666666666666666,
              "#ed7953"
             ],
             [
              0.7777777777777778,
              "#fb9f3a"
             ],
             [
              0.8888888888888888,
              "#fdca26"
             ],
             [
              1,
              "#f0f921"
             ]
            ],
            "type": "histogram2d"
           }
          ],
          "histogram2dcontour": [
           {
            "colorbar": {
             "outlinewidth": 0,
             "ticks": ""
            },
            "colorscale": [
             [
              0,
              "#0d0887"
             ],
             [
              0.1111111111111111,
              "#46039f"
             ],
             [
              0.2222222222222222,
              "#7201a8"
             ],
             [
              0.3333333333333333,
              "#9c179e"
             ],
             [
              0.4444444444444444,
              "#bd3786"
             ],
             [
              0.5555555555555556,
              "#d8576b"
             ],
             [
              0.6666666666666666,
              "#ed7953"
             ],
             [
              0.7777777777777778,
              "#fb9f3a"
             ],
             [
              0.8888888888888888,
              "#fdca26"
             ],
             [
              1,
              "#f0f921"
             ]
            ],
            "type": "histogram2dcontour"
           }
          ],
          "mesh3d": [
           {
            "colorbar": {
             "outlinewidth": 0,
             "ticks": ""
            },
            "type": "mesh3d"
           }
          ],
          "parcoords": [
           {
            "line": {
             "colorbar": {
              "outlinewidth": 0,
              "ticks": ""
             }
            },
            "type": "parcoords"
           }
          ],
          "pie": [
           {
            "automargin": true,
            "type": "pie"
           }
          ],
          "scatter": [
           {
            "fillpattern": {
             "fillmode": "overlay",
             "size": 10,
             "solidity": 0.2
            },
            "type": "scatter"
           }
          ],
          "scatter3d": [
           {
            "line": {
             "colorbar": {
              "outlinewidth": 0,
              "ticks": ""
             }
            },
            "marker": {
             "colorbar": {
              "outlinewidth": 0,
              "ticks": ""
             }
            },
            "type": "scatter3d"
           }
          ],
          "scattercarpet": [
           {
            "marker": {
             "colorbar": {
              "outlinewidth": 0,
              "ticks": ""
             }
            },
            "type": "scattercarpet"
           }
          ],
          "scattergeo": [
           {
            "marker": {
             "colorbar": {
              "outlinewidth": 0,
              "ticks": ""
             }
            },
            "type": "scattergeo"
           }
          ],
          "scattergl": [
           {
            "marker": {
             "colorbar": {
              "outlinewidth": 0,
              "ticks": ""
             }
            },
            "type": "scattergl"
           }
          ],
          "scattermap": [
           {
            "marker": {
             "colorbar": {
              "outlinewidth": 0,
              "ticks": ""
             }
            },
            "type": "scattermap"
           }
          ],
          "scattermapbox": [
           {
            "marker": {
             "colorbar": {
              "outlinewidth": 0,
              "ticks": ""
             }
            },
            "type": "scattermapbox"
           }
          ],
          "scatterpolar": [
           {
            "marker": {
             "colorbar": {
              "outlinewidth": 0,
              "ticks": ""
             }
            },
            "type": "scatterpolar"
           }
          ],
          "scatterpolargl": [
           {
            "marker": {
             "colorbar": {
              "outlinewidth": 0,
              "ticks": ""
             }
            },
            "type": "scatterpolargl"
           }
          ],
          "scatterternary": [
           {
            "marker": {
             "colorbar": {
              "outlinewidth": 0,
              "ticks": ""
             }
            },
            "type": "scatterternary"
           }
          ],
          "surface": [
           {
            "colorbar": {
             "outlinewidth": 0,
             "ticks": ""
            },
            "colorscale": [
             [
              0,
              "#0d0887"
             ],
             [
              0.1111111111111111,
              "#46039f"
             ],
             [
              0.2222222222222222,
              "#7201a8"
             ],
             [
              0.3333333333333333,
              "#9c179e"
             ],
             [
              0.4444444444444444,
              "#bd3786"
             ],
             [
              0.5555555555555556,
              "#d8576b"
             ],
             [
              0.6666666666666666,
              "#ed7953"
             ],
             [
              0.7777777777777778,
              "#fb9f3a"
             ],
             [
              0.8888888888888888,
              "#fdca26"
             ],
             [
              1,
              "#f0f921"
             ]
            ],
            "type": "surface"
           }
          ],
          "table": [
           {
            "cells": {
             "fill": {
              "color": "#EBF0F8"
             },
             "line": {
              "color": "white"
             }
            },
            "header": {
             "fill": {
              "color": "#C8D4E3"
             },
             "line": {
              "color": "white"
             }
            },
            "type": "table"
           }
          ]
         },
         "layout": {
          "annotationdefaults": {
           "arrowcolor": "#2a3f5f",
           "arrowhead": 0,
           "arrowwidth": 1
          },
          "autotypenumbers": "strict",
          "coloraxis": {
           "colorbar": {
            "outlinewidth": 0,
            "ticks": ""
           }
          },
          "colorscale": {
           "diverging": [
            [
             0,
             "#8e0152"
            ],
            [
             0.1,
             "#c51b7d"
            ],
            [
             0.2,
             "#de77ae"
            ],
            [
             0.3,
             "#f1b6da"
            ],
            [
             0.4,
             "#fde0ef"
            ],
            [
             0.5,
             "#f7f7f7"
            ],
            [
             0.6,
             "#e6f5d0"
            ],
            [
             0.7,
             "#b8e186"
            ],
            [
             0.8,
             "#7fbc41"
            ],
            [
             0.9,
             "#4d9221"
            ],
            [
             1,
             "#276419"
            ]
           ],
           "sequential": [
            [
             0,
             "#0d0887"
            ],
            [
             0.1111111111111111,
             "#46039f"
            ],
            [
             0.2222222222222222,
             "#7201a8"
            ],
            [
             0.3333333333333333,
             "#9c179e"
            ],
            [
             0.4444444444444444,
             "#bd3786"
            ],
            [
             0.5555555555555556,
             "#d8576b"
            ],
            [
             0.6666666666666666,
             "#ed7953"
            ],
            [
             0.7777777777777778,
             "#fb9f3a"
            ],
            [
             0.8888888888888888,
             "#fdca26"
            ],
            [
             1,
             "#f0f921"
            ]
           ],
           "sequentialminus": [
            [
             0,
             "#0d0887"
            ],
            [
             0.1111111111111111,
             "#46039f"
            ],
            [
             0.2222222222222222,
             "#7201a8"
            ],
            [
             0.3333333333333333,
             "#9c179e"
            ],
            [
             0.4444444444444444,
             "#bd3786"
            ],
            [
             0.5555555555555556,
             "#d8576b"
            ],
            [
             0.6666666666666666,
             "#ed7953"
            ],
            [
             0.7777777777777778,
             "#fb9f3a"
            ],
            [
             0.8888888888888888,
             "#fdca26"
            ],
            [
             1,
             "#f0f921"
            ]
           ]
          },
          "colorway": [
           "#636efa",
           "#EF553B",
           "#00cc96",
           "#ab63fa",
           "#FFA15A",
           "#19d3f3",
           "#FF6692",
           "#B6E880",
           "#FF97FF",
           "#FECB52"
          ],
          "font": {
           "color": "#2a3f5f"
          },
          "geo": {
           "bgcolor": "white",
           "lakecolor": "white",
           "landcolor": "#E5ECF6",
           "showlakes": true,
           "showland": true,
           "subunitcolor": "white"
          },
          "hoverlabel": {
           "align": "left"
          },
          "hovermode": "closest",
          "mapbox": {
           "style": "light"
          },
          "paper_bgcolor": "white",
          "plot_bgcolor": "#E5ECF6",
          "polar": {
           "angularaxis": {
            "gridcolor": "white",
            "linecolor": "white",
            "ticks": ""
           },
           "bgcolor": "#E5ECF6",
           "radialaxis": {
            "gridcolor": "white",
            "linecolor": "white",
            "ticks": ""
           }
          },
          "scene": {
           "xaxis": {
            "backgroundcolor": "#E5ECF6",
            "gridcolor": "white",
            "gridwidth": 2,
            "linecolor": "white",
            "showbackground": true,
            "ticks": "",
            "zerolinecolor": "white"
           },
           "yaxis": {
            "backgroundcolor": "#E5ECF6",
            "gridcolor": "white",
            "gridwidth": 2,
            "linecolor": "white",
            "showbackground": true,
            "ticks": "",
            "zerolinecolor": "white"
           },
           "zaxis": {
            "backgroundcolor": "#E5ECF6",
            "gridcolor": "white",
            "gridwidth": 2,
            "linecolor": "white",
            "showbackground": true,
            "ticks": "",
            "zerolinecolor": "white"
           }
          },
          "shapedefaults": {
           "line": {
            "color": "#2a3f5f"
           }
          },
          "ternary": {
           "aaxis": {
            "gridcolor": "white",
            "linecolor": "white",
            "ticks": ""
           },
           "baxis": {
            "gridcolor": "white",
            "linecolor": "white",
            "ticks": ""
           },
           "bgcolor": "#E5ECF6",
           "caxis": {
            "gridcolor": "white",
            "linecolor": "white",
            "ticks": ""
           }
          },
          "title": {
           "x": 0.05
          },
          "xaxis": {
           "automargin": true,
           "gridcolor": "white",
           "linecolor": "white",
           "ticks": "",
           "title": {
            "standoff": 15
           },
           "zerolinecolor": "white",
           "zerolinewidth": 2
          },
          "yaxis": {
           "automargin": true,
           "gridcolor": "white",
           "linecolor": "white",
           "ticks": "",
           "title": {
            "standoff": 15
           },
           "zerolinecolor": "white",
           "zerolinewidth": 2
          }
         }
        },
        "xaxis": {
         "anchor": "y",
         "domain": [
          0,
          1
         ],
         "title": {
          "text": "wifi"
         }
        },
        "yaxis": {
         "anchor": "x",
         "domain": [
          0,
          1
         ],
         "title": {
          "text": "count"
         }
        }
       }
      }
     },
     "metadata": {},
     "output_type": "display_data"
    }
   ],
   "source": [
    "px.histogram(df , x = 'wifi' , color = 'price_range')"
   ]
  },
  {
   "cell_type": "markdown",
   "id": "decc4cb8",
   "metadata": {},
   "source": [
    "# MODEL TRAINING"
   ]
  },
  {
   "cell_type": "code",
   "execution_count": 38,
   "id": "115395fe",
   "metadata": {},
   "outputs": [],
   "source": [
    "from sklearn.model_selection import train_test_split    \n",
    "x_train , x_test , y_train , y_test = train_test_split(\n",
    "    df.drop('price_range' , axis = 1),\n",
    "    df['price_range'],\n",
    "    test_size = 0.2,\n",
    "    random_state = 42,\n",
    "    stratify = df['price_range']    \n",
    ")"
   ]
  },
  {
   "cell_type": "markdown",
   "id": "5ca8d1de",
   "metadata": {},
   "source": [
    "# LOGISITC REGRESSION"
   ]
  },
  {
   "cell_type": "code",
   "execution_count": 39,
   "id": "1272b2f5",
   "metadata": {},
   "outputs": [
    {
     "name": "stdout",
     "output_type": "stream",
     "text": [
      "newton-cg\n",
      "Logisitic Regression accuracy : 0.9725\n"
     ]
    }
   ],
   "source": [
    "from sklearn.linear_model import LogisticRegression\n",
    "from sklearn.metrics import accuracy_score\n",
    "\n",
    "solver = ['lbfgs' , 'liblinear' , 'newton-cg' , 'sag' , 'saga']\n",
    "best_solver = ''\n",
    "test_score = np.zeros(6) #this will create an array of zeros with length 6\n",
    "for i , n in enumerate(solver):\n",
    "    lr = LogisticRegression(solver = n).fit(x_train , y_train)\n",
    "    test_score[i] = lr.score(x_test , y_test)   \n",
    "    if lr.score(x_test , y_test) == test_score.max():\n",
    "        best_solver = n\n",
    "print(best_solver)\n",
    "lr = LogisticRegression(solver = best_solver)\n",
    "lr.fit(x_train , y_train)\n",
    "y_pred = lr.predict(x_test)\n",
    "print(f'Logisitic Regression accuracy : {accuracy_score(y_test , y_pred)}')"
   ]
  },
  {
   "cell_type": "markdown",
   "id": "9fbda25c",
   "metadata": {},
   "source": [
    "# SUPPORT VECTOR MACHINE"
   ]
  },
  {
   "cell_type": "code",
   "execution_count": 40,
   "id": "5590aca3",
   "metadata": {},
   "outputs": [
    {
     "name": "stdout",
     "output_type": "stream",
     "text": [
      "linear\n",
      "Support Vector Machine accuracy : 0.9825456660795122\n"
     ]
    }
   ],
   "source": [
    "from sklearn.svm import SVC\n",
    "from sklearn.metrics import f1_score\n",
    "\n",
    "kernels = ['linear', 'poly', 'rbf', 'sigmoid']\n",
    "scores = {}\n",
    "best = ''\n",
    "for k in kernels:\n",
    "    svm = SVC(kernel=k)\n",
    "    svm.fit(x_train, y_train)\n",
    "    y_pred = svm.predict(x_test)\n",
    "    scores[k] = f1_score(y_test, y_pred, average=\"weighted\")\n",
    "best = max(scores, key=scores.get)\n",
    "print(best)\n",
    "svm = SVC(kernel=best)\n",
    "svm.fit(x_train, y_train)\n",
    "y_pred = svm.predict(x_test)\n",
    "print(f'Support Vector Machine accuracy : {f1_score(y_test, y_pred, average=\"weighted\")}')"
   ]
  },
  {
   "cell_type": "markdown",
   "id": "00942d49",
   "metadata": {},
   "source": [
    "# DECISION TREE CLASSIFIER  "
   ]
  },
  {
   "cell_type": "code",
   "execution_count": 41,
   "id": "5a22bec3",
   "metadata": {},
   "outputs": [
    {
     "name": "stdout",
     "output_type": "stream",
     "text": [
      "Decision Tree's accuracy:  0.8375\n"
     ]
    }
   ],
   "source": [
    "from sklearn.tree import DecisionTreeClassifier\n",
    "from sklearn.model_selection import GridSearchCV\n",
    "\n",
    "dtree = DecisionTreeClassifier(class_weight='balanced')\n",
    "param_grid = {\n",
    "    'max_depth': [3, 4, 5, 6, 7, 8, None],\n",
    "    'min_samples_split': [2, 3, 4],\n",
    "    'min_samples_leaf': [1, 2, 3, 4],\n",
    "    'random_state': [0, 42]\n",
    "}\n",
    "\n",
    "grid_search = GridSearchCV(dtree, param_grid, cv=5)\n",
    "grid_search.fit(x_train, y_train)\n",
    "\n",
    "# Train final model with best params\n",
    "Ctree = DecisionTreeClassifier(**grid_search.best_params_, class_weight='balanced')\n",
    "Ctree.fit(x_train, y_train)\n",
    "\n",
    "dtc_pred = Ctree.predict(x_test)\n",
    "print(\"Decision Tree's accuracy: \", accuracy_score(y_test, dtc_pred))"
   ]
  },
  {
   "cell_type": "markdown",
   "id": "1ae12631",
   "metadata": {},
   "source": [
    "# RANDOM FOREST CLASSIFIER"
   ]
  },
  {
   "cell_type": "code",
   "execution_count": 42,
   "id": "6037fbf6",
   "metadata": {},
   "outputs": [
    {
     "name": "stdout",
     "output_type": "stream",
     "text": [
      "Random Forest Classifier's Accuracy:  0.84\n"
     ]
    }
   ],
   "source": [
    "from sklearn.ensemble import RandomForestClassifier\n",
    "from sklearn.model_selection import GridSearchCV\n",
    "rfc = RandomForestClassifier()\n",
    "param_grid = {\n",
    "    'n_estimators': [50,100,150,200],\n",
    "    'max_features': ['sqrt', 'log2' , None],\n",
    "    'max_depth' : [3,6,9,19],\n",
    "            'max_leaf_nodes' : [3,6,9],\n",
    "}\n",
    "grid_search = GridSearchCV(rfc , param_grid)\n",
    "grid_search.fit(x_train , y_train)\n",
    "rfctree = RandomForestClassifier(**grid_search.best_params_)\n",
    "rfctree.fit(x_train , y_train)\n",
    "rfc_pred = rfctree.predict(x_test)\n",
    "print(\"Random Forest Classifier's Accuracy: \", accuracy_score(y_test , rfc_pred))"
   ]
  },
  {
   "cell_type": "code",
   "execution_count": 43,
   "id": "8f1c3ecf",
   "metadata": {},
   "outputs": [],
   "source": [
    "import pickle \n",
    "file = open(\"LR.pkl\" , \"wb\")\n",
    "pickle.dump(lr , file)"
   ]
  },
  {
   "cell_type": "code",
   "execution_count": 44,
   "id": "22c6a3ca",
   "metadata": {},
   "outputs": [],
   "source": [
    "import pickle \n",
    "file = open(\"SVM.pkl\" , \"wb\")\n",
    "pickle.dump(svm , file)"
   ]
  },
  {
   "cell_type": "code",
   "execution_count": 45,
   "id": "82f9f6bc",
   "metadata": {},
   "outputs": [],
   "source": [
    "import pickle\n",
    "file = open(\"DTree.pkl\" , \"wb\")\n",
    "pickle.dump(Ctree , file)"
   ]
  },
  {
   "cell_type": "code",
   "execution_count": 46,
   "id": "0c9befb5",
   "metadata": {},
   "outputs": [],
   "source": [
    "import pickle \n",
    "file = open(\"RandomForest.pkl\" , \"wb\")\n",
    "pickle.dump(rfctree , file)"
   ]
  }
 ],
 "metadata": {
  "kernelspec": {
   "display_name": "base",
   "language": "python",
   "name": "python3"
  },
  "language_info": {
   "codemirror_mode": {
    "name": "ipython",
    "version": 3
   },
   "file_extension": ".py",
   "mimetype": "text/x-python",
   "name": "python",
   "nbconvert_exporter": "python",
   "pygments_lexer": "ipython3",
   "version": "3.13.5"
  }
 },
 "nbformat": 4,
 "nbformat_minor": 5
}
